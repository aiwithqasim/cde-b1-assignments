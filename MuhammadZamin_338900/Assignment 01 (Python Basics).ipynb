{
 "cells": [
  {
   "cell_type": "markdown",
   "metadata": {},
   "source": [
    "# Part -1 Python Basics (Variables)"
   ]
  },
  {
   "cell_type": "markdown",
   "metadata": {},
   "source": [
    "1. Print Your Name with your Father name and Date of birth using suitable escape sequence charactor"
   ]
  },
  {
   "cell_type": "code",
   "execution_count": 25,
   "metadata": {},
   "outputs": [
    {
     "data": {
      "text/plain": [
       "('Muhammad Zamin', '11/4/2002', 'Saleem ud din')"
      ]
     },
     "execution_count": 25,
     "metadata": {},
     "output_type": "execute_result"
    }
   ],
   "source": [
    "# Write your code here\n",
    "name = \"Muhammad Zamin\"\n",
    "date_of_birth = \"11/4/2002\"\n",
    "fa_name=\"Saleem ud din\"\n",
    "name, date_of_birth, fa_name"
   ]
  },
  {
   "cell_type": "markdown",
   "metadata": {},
   "source": [
    "2. Write your small bio using variables and print it using print function"
   ]
  },
  {
   "cell_type": "code",
   "execution_count": 31,
   "metadata": {},
   "outputs": [
    {
     "data": {
      "text/plain": [
       "' My name is Muhammad Zamin , I am 22 Year old, Curruntly i am UI/UX Designer and Exploring Data Engineering'"
      ]
     },
     "execution_count": 31,
     "metadata": {},
     "output_type": "execute_result"
    }
   ],
   "source": [
    "small_bio= (\" My name is Muhammad Zamin , I am 22 Year old, Curruntly i am UI/UX Designer and Exploring Data Engineering\")\n",
    "small_bio"
   ]
  },
  {
   "cell_type": "markdown",
   "metadata": {},
   "source": [
    "3. Write a program in which use all the operators we can use in Python"
   ]
  },
  {
   "cell_type": "code",
   "execution_count": 40,
   "metadata": {},
   "outputs": [
    {
     "data": {
      "text/plain": [
       "(12, 8, 20, 5.0)"
      ]
     },
     "execution_count": 40,
     "metadata": {},
     "output_type": "execute_result"
    }
   ],
   "source": [
    "# Write your code here\n",
    "num1= 10\n",
    "num2= 2\n",
    "num1+num2, num1-num2, num1*num2, num1/num2, "
   ]
  },
  {
   "cell_type": "markdown",
   "metadata": {},
   "source": [
    "4. Completes the following steps of small task:\n",
    "    - Mention Marks of English , Islamiat and Maths out of 100 in 3 different variables\n",
    "    - Mention Variable of Total Marks and assign 300 to it\n",
    "    - Calculate Percentage"
   ]
  },
  {
   "cell_type": "code",
   "execution_count": 43,
   "metadata": {},
   "outputs": [
    {
     "data": {
      "text/plain": [
       "77.33333333333333"
      ]
     },
     "execution_count": 43,
     "metadata": {},
     "output_type": "execute_result"
    }
   ],
   "source": [
    "# Write your code here\n",
    "eng= 70\n",
    "isl= 92\n",
    "Mat= 70\n",
    "Total_marks= 300\n",
    "gain_marks= eng+isl+Mat\n",
    "(gain_marks/Total_marks)*100"
   ]
  },
  {
   "cell_type": "markdown",
   "metadata": {},
   "source": [
    "# Part -2 Python Basics (Conditional Statements)"
   ]
  },
  {
   "cell_type": "markdown",
   "metadata": {},
   "source": [
    "1) A company decided to give bonus of 5% to employee if his/her year of service is more than 5 years.\n",
    "Ask user for their salary and year of service and print the net bonus amount."
   ]
  },
  {
   "cell_type": "code",
   "execution_count": 1,
   "metadata": {},
   "outputs": [
    {
     "name": "stdout",
     "output_type": "stream",
     "text": [
      "577777\n",
      "your bonous will be 28888.850000000002\n"
     ]
    }
   ],
   "source": [
    "#Type your code here\n",
    "year_ser=int(input(\"Enter your Service year: \"))\n",
    "salary=int(input(\"Enter your Salary: \"))\n",
    "\n",
    "if year_ser > 5:\n",
    "    print(salary)\n",
    "    print(\"your bonous will be\",0.05 * salary)\n",
    "else:\n",
    "    print(\"You are not elegible\")"
   ]
  },
  {
   "cell_type": "markdown",
   "metadata": {},
   "source": [
    "\n",
    "2) Write a program to check whether a person is eligible for voting or not. (accept age from user) if age is greater than 17 eligible otherwise not eligible"
   ]
  },
  {
   "cell_type": "code",
   "execution_count": 2,
   "metadata": {},
   "outputs": [
    {
     "name": "stdout",
     "output_type": "stream",
     "text": [
      "You can cast a vote\n"
     ]
    }
   ],
   "source": [
    "adult_age = int(input(\"Enter your age: \")) \n",
    "if adult_age > 17:\n",
    "    print(\"You can cast a vote\")\n",
    "else:\n",
    "    print(\"You are not eligible\") "
   ]
  },
  {
   "cell_type": "markdown",
   "metadata": {},
   "source": [
    "\n",
    "3) Write a program to check whether a number entered by user is even or odd."
   ]
  },
  {
   "cell_type": "code",
   "execution_count": null,
   "metadata": {},
   "outputs": [
    {
     "name": "stdout",
     "output_type": "stream",
     "text": [
      "Numbebr is even\n"
     ]
    }
   ],
   "source": [
    "#Type your code here\n",
    "ch_num=int(input(\"enter the number: \"))\n",
    "if ch_num / 2:\n",
    "    print(\"Number is even\")\n",
    "else:\n",
    "    print(\"this is odd num\")"
   ]
  },
  {
   "cell_type": "markdown",
   "metadata": {},
   "source": [
    "4) Write a program to check whether a number is divisible by 7 or not.\n",
    "Show Answer"
   ]
  },
  {
   "cell_type": "code",
   "execution_count": 5,
   "metadata": {},
   "outputs": [
    {
     "name": "stdout",
     "output_type": "stream",
     "text": [
      "Its div by 7\n"
     ]
    }
   ],
   "source": [
    "#Type your code here\n",
    "dv_num=int(input(\"enter the number: \"))\n",
    "if dv_num / 7:\n",
    "    print(\"Its div by 7\")\n",
    "else:\n",
    "    print(\"its not div\")"
   ]
  },
  {
   "cell_type": "markdown",
   "metadata": {},
   "source": [
    "5) Write a program to display \n",
    "\"Hello\" if a number entered by user is a multiple of five , otherwise print \"Bye\"."
   ]
  },
  {
   "cell_type": "code",
   "execution_count": 6,
   "metadata": {},
   "outputs": [
    {
     "name": "stdout",
     "output_type": "stream",
     "text": [
      "Hello\n"
     ]
    }
   ],
   "source": [
    "#Type your code here\n",
    "mof_num=int(input(\"enter the number: \"))\n",
    "if mof_num * 5:\n",
    "    print(\"Hello\")\n",
    "else:\n",
    "    print(\"Bye\")"
   ]
  },
  {
   "cell_type": "markdown",
   "metadata": {},
   "source": [
    "7) Write a program to display the last digit of a number.\n"
   ]
  },
  {
   "cell_type": "code",
   "execution_count": 12,
   "metadata": {},
   "outputs": [],
   "source": [
    "#Type your code here"
   ]
  },
  {
   "cell_type": "markdown",
   "metadata": {},
   "source": [
    "9) Take values of length and breadth of a rectangle from user and print if it is square or rectangle."
   ]
  },
  {
   "cell_type": "code",
   "execution_count": 7,
   "metadata": {},
   "outputs": [
    {
     "name": "stdout",
     "output_type": "stream",
     "text": [
      "its a rectangle\n"
     ]
    }
   ],
   "source": [
    "#Type your code here \n",
    "l_value=int(input(\"Enter value: \"))\n",
    "b_value=int(input(\"Enter value: \"))\n",
    "if l_value==b_value:\n",
    "    print(\"its a Square\")\n",
    "else:\n",
    "    print(\"its a rectangle\")"
   ]
  },
  {
   "cell_type": "markdown",
   "metadata": {},
   "source": [
    "10) Take two int values from user and print greatest among them."
   ]
  },
  {
   "cell_type": "code",
   "execution_count": null,
   "metadata": {},
   "outputs": [
    {
     "name": "stdout",
     "output_type": "stream",
     "text": [
      "the second number 78 is greater than first 46 78\n"
     ]
    }
   ],
   "source": [
    "# Type your code here\n",
    "f_int=int(input(\"Enter value: \"))\n",
    "s_int=int(input(\"Enter value: \"))\n",
    "if f_int > s_int:\n",
    "    print(f\"the first number {f_int} is greater than second{s_int}\",f_int)\n",
    "elif s_int > f_int:\n",
    "    print(f\"the second number {s_int} is greater than first {f_int}\",s_int)\n",
    "else:\n",
    "    print(\"nothing\")\n",
    "\n"
   ]
  },
  {
   "cell_type": "markdown",
   "metadata": {},
   "source": [
    "11) A shop will give discount of 10% if the cost of purchased quantity is more than 1000.\n",
    "Ask user for quantity\n",
    "Suppose, one unit will cost 100.\n",
    "Judge and print total cost for user."
   ]
  },
  {
   "cell_type": "code",
   "execution_count": 26,
   "metadata": {},
   "outputs": [
    {
     "name": "stdout",
     "output_type": "stream",
     "text": [
      "Total cost after 10% discount: 760860.0\n"
     ]
    }
   ],
   "source": [
    "quantity = int(input(\"Enter the quantity of items: \"))\n",
    "unit_cost = 100\n",
    "total_cost = quantity * unit_cost\n",
    "if total_cost > 1000:\n",
    "    discount = 0.10 * total_cost\n",
    "    total_cost -= discount\n",
    "    print(f\"Total cost after 10% discount: {total_cost}\")\n",
    "else:\n",
    "    print(f\"Total cost without discount: {total_cost}\")\n"
   ]
  },
  {
   "cell_type": "markdown",
   "metadata": {},
   "source": [
    "12) A school has following rules for grading system:\n",
    "\n",
    "a. Below 25 - F\n",
    "\n",
    "b. 25 to 45 - E\n",
    "\n",
    "c. 45 to 50 - D\n",
    "\n",
    "d. 50 to 60 - C\n",
    "\n",
    "e. 60 to 80 - B\n",
    "\n",
    "f. Above 80 - A\n",
    "\n",
    "Ask user to enter marks and print the corresponding grade."
   ]
  },
  {
   "cell_type": "code",
   "execution_count": 22,
   "metadata": {},
   "outputs": [
    {
     "name": "stdout",
     "output_type": "stream",
     "text": [
      "A grade\n"
     ]
    }
   ],
   "source": [
    "#Type your code here\n",
    "percentage=int(input(\"Enter the percentage\"))\n",
    "\n",
    "if percentage > 80 and percentage< 100:\n",
    "    print(\"A grade\")\n",
    "elif percentage > 60 and percentage< 80:\n",
    "    print(\"B grade\")\n",
    "elif percentage > 50 and percentage< 60:\n",
    "    print(\"c grade\")\n",
    "elif percentage > 45 and percentage< 50:\n",
    "    print(\"D grade\")\n",
    "elif percentage > 25 and percentage< 45:\n",
    "    print(\"E grade\")\n",
    "elif percentage > 0 and percentage< 25:\n",
    "    print(\"F grade\")\n",
    "else:\n",
    "    print(\"very poor perfomance\")\n",
    "\n",
    "\n",
    "\n",
    "\n"
   ]
  },
  {
   "cell_type": "markdown",
   "metadata": {},
   "source": [
    "14)A student will not be allowed to sit in exam if his/her attendence is less than 75%.\n",
    "\n",
    "Take following input from user\n",
    "\n",
    "- Number of classes held\n",
    "\n",
    "- Number of classes attended.\n",
    "\n",
    "And print\n",
    "\n",
    "- percentage of class attended\n",
    "\n",
    "- Is student is allowed to sit in exam or not.\n"
   ]
  },
  {
   "cell_type": "code",
   "execution_count": 29,
   "metadata": {},
   "outputs": [
    {
     "name": "stdout",
     "output_type": "stream",
     "text": [
      "78.0\n",
      "You are allowed\n"
     ]
    }
   ],
   "source": [
    "#Type your code here\n",
    "class_held=int(input(\"Enter classes: \"))\n",
    "attend_classes=int(input(\"Enter attend classes: \"))\n",
    "per_class= (attend_classes/class_held)*100\n",
    "print(per_class)\n",
    "if attend_classes > 75:\n",
    "    print(\"You are allowed\")\n",
    "else:\n",
    "    print(\"you are not allowed\")"
   ]
  },
  {
   "cell_type": "markdown",
   "metadata": {},
   "source": [
    "15) Modify the above question to allow student to sit if he/she has medical cause. Ask user if he/she has medical cause or not ( 'Y' or 'N' ) and print accordingly."
   ]
  },
  {
   "cell_type": "code",
   "execution_count": 3,
   "metadata": {},
   "outputs": [
    {
     "name": "stdout",
     "output_type": "stream",
     "text": [
      "60.0\n",
      "cause of medical condition, You are allowed\n"
     ]
    }
   ],
   "source": [
    "#Type your code here\n",
    "class_held=int(input(\"Enter classes: \"))\n",
    "attend_classes=int(input(\"Enter attend classes: \"))\n",
    "med_cause=input(\"Do you have a medical cause for short attendence\")\n",
    "per_class= (attend_classes/class_held)*100\n",
    "print(per_class)\n",
    "if attend_classes > 75:\n",
    "    print(\"You are allowed\")\n",
    "elif attend_classes < 75 and med_cause ==\"y\":\n",
    "    print(\"cause of medical condition, You are allowed\")\n",
    "\n",
    "else:\n",
    "    print(\"you are not allowed\")"
   ]
  },
  {
   "cell_type": "markdown",
   "metadata": {},
   "source": [
    "16) Write a program to check if a year is leap year or not.\n",
    "\n",
    "If a year is divisible by 4 then it is leap year but if the year is century year like 2000, 1900, 2100 then it must be divisible by 400."
   ]
  },
  {
   "cell_type": "code",
   "execution_count": 3,
   "metadata": {},
   "outputs": [
    {
     "name": "stdout",
     "output_type": "stream",
     "text": [
      "4000 is a leap year.\n"
     ]
    }
   ],
   "source": [
    "#Type your code here\n",
    "year = int(input(\"Enter a year: \"))\n",
    "if (year % 4 == 0 and year % 100 != 0) or (year % 400 == 0):\n",
    "    print(f\"{year} is a leap year.\")\n",
    "else:\n",
    "    print(f\"{year} is not a leap year.\")\n"
   ]
  },
  {
   "cell_type": "markdown",
   "metadata": {},
   "source": [
    "17) Ask user to enter age, gender ( M or F ), marital status ( Y or N ) and then using following rules print their place of service.\n",
    "\n",
    "if employee is female, then she will work only in urban areas.\n",
    "\n",
    "if employee is a male and age is in between 20 to 40 then he may work in anywhere\n",
    "\n",
    "if employee is male and age is in between 40 t0 60 then he will work in urban areas only.\n",
    "\n",
    "And any other input of age should print \"ERROR\""
   ]
  },
  {
   "cell_type": "code",
   "execution_count": 2,
   "metadata": {},
   "outputs": [
    {
     "name": "stdout",
     "output_type": "stream",
     "text": [
      "you can work anywere\n"
     ]
    }
   ],
   "source": [
    "#Type your code here\n",
    "ag=int(input(\"Enter age: \"))\n",
    "gender=input(\"Enter gender\")\n",
    "mat_status=input(\"Enter marital status: \")\n",
    "if gender== \"female\":\n",
    "    print(\"yoy can work only urban area\")\n",
    "elif gender== \"male\" and ag > 20 and ag < 40:\n",
    "    print(\"you can work anywere\")\n",
    "elif gender== \"male\" and ag > 40 and ag < 60:\n",
    "    print(\"yoy can work only urban area\")\n",
    "else:\n",
    "    print(\"Erorr\")"
   ]
  },
  {
   "cell_type": "markdown",
   "metadata": {},
   "source": [
    "6) Write a program to calculate the electricity bill (accept number of unit from user) according to the following criteria :\n",
    "     Unit                                                     Price  \n",
    "uptp 100 units                                             no charge\n",
    "Next 200 units                                              Rs 5 per unit\n",
    "After 200 units                                             Rs 10 per unit\n",
    "(For example if input unit is 350 than total bill amount is Rs.3500\n",
    "(For example if input unit is 97 than total bill amount is Rs.0\n",
    "(For example if input unit is 150 than total bill amount is Rs.750"
   ]
  },
  {
   "cell_type": "markdown",
   "metadata": {},
   "source": [
    "13) Take input of age of 3 people by user and determine oldest and youngest among them."
   ]
  },
  {
   "cell_type": "code",
   "execution_count": 1,
   "metadata": {},
   "outputs": [
    {
     "name": "stdout",
     "output_type": "stream",
     "text": [
      "The oldest person is 29 years old.\n",
      "The youngest person is 24 years old.\n"
     ]
    }
   ],
   "source": [
    "#Type your code here\n",
    "age1 = int(input(\"Enter the age of the first person: \"))\n",
    "age2 = int(input(\"Enter the age of the second person: \"))\n",
    "age3 = int(input(\"Enter the age of the third person: \"))\n",
    "\n",
    "oldest = max(age1, age2, age3)\n",
    "youngest = min(age1, age2, age3)\n",
    "print(f\"The oldest person is {oldest} years old.\")\n",
    "print(f\"The youngest person is {youngest} years old.\")\n",
    "\n"
   ]
  }
 ],
 "metadata": {
  "kernelspec": {
   "display_name": "base",
   "language": "python",
   "name": "python3"
  },
  "language_info": {
   "codemirror_mode": {
    "name": "ipython",
    "version": 3
   },
   "file_extension": ".py",
   "mimetype": "text/x-python",
   "name": "python",
   "nbconvert_exporter": "python",
   "pygments_lexer": "ipython3",
   "version": "3.12.7"
  }
 },
 "nbformat": 4,
 "nbformat_minor": 2
}
