{
  "cells": [
    {
      "cell_type": "markdown",
      "metadata": {
        "id": "1E5r3wPNed0G"
      },
      "source": [
        "\n",
        "\n",
        "# **Question No 01**\n",
        "\n",
        "Use a for loop to count the number of occurrences of the word in the list and return all indices where the word occurs.\n",
        "\n",
        "**Exmple:**\n",
        "\n",
        "Input: ['apple', 'banana', 'apple', 'cherry', 'apple'], Search: 'apple'  \n",
        "Output: 'apple' found 3 times at indices: 0, 2, 4\n",
        "\n"
      ]
    },
    {
      "cell_type": "code",
      "execution_count": 13,
      "metadata": {
        "id": "tHrz4YilefTD"
      },
      "outputs": [
        {
          "name": "stdout",
          "output_type": "stream",
          "text": [
            "'banana' found 1 times at indices: [1]\n"
          ]
        }
      ],
      "source": [
        "word_lists= ['apple', 'banana', 'apple', 'cherry', 'apple']\n",
        "search_lists=input(\"Enter search list: \")\n",
        "\n",
        "count = 0\n",
        "indices = []\n",
        "\n",
        "\n",
        "for i in range(len(word_lists)):\n",
        "    if word_lists[i] == search_lists:\n",
        "        count +=1\n",
        "        indices.append(i)\n",
        "print(f\"'{search_lists}' found {count} times at indices: {indices}\")\n"
      ]
    },
    {
      "cell_type": "markdown",
      "metadata": {
        "id": "fN_U0nnCeeAF"
      },
      "source": [
        "\n",
        "# **Question No 02**\n",
        "\n",
        "Create a program to find all unique pairs of numbers in a list that add up to a target sum.\n",
        "\n",
        "Use a single list and a for loop (nested if necessary) to iterate through and find pairs without duplicates.\n",
        "Avoid repeating pairs like [3, 5] and [5, 3].\n",
        "\n",
        "**Example:**\n",
        "\n",
        "Input list: [2, 4, 3, 5, 7, 8, 1]  \n",
        "Target sum: 9  \n",
        "Output: [(2, 7), (4, 5), (1, 8)]\n"
      ]
    },
    {
      "cell_type": "code",
      "execution_count": 3,
      "metadata": {
        "id": "AfsJP7KTef3T"
      },
      "outputs": [
        {
          "name": "stdout",
          "output_type": "stream",
          "text": [
            "Unique pairs 9, [(2, 7), (4, 5), (8, 1)]\n"
          ]
        }
      ],
      "source": [
        "numb = [2, 4, 3, 5, 7, 8, 1]\n",
        "target_sum = 9\n",
        "pairs = []\n",
        "for i in range(len(numb)):\n",
        "    for j in range(i + 1, len(numb)):\n",
        "        if numb[i] + numb[j] == target_sum:\n",
        "            pairs.append((numb[i], numb[j]))\n",
        "\n",
        "print(f\"Unique pairs {target_sum}, {pairs}\")"
      ]
    },
    {
      "cell_type": "markdown",
      "metadata": {
        "id": "d8ZH6VPNewLh"
      },
      "source": [
        "# **Question No 03**\n",
        "\n",
        "Write a program to calculate the cumulative product of elements in a list.\n",
        "\n",
        "Use a single list and update it in place to store the cumulative product at each index.\n",
        "Use only a for loop.\n",
        "\n",
        "**Example:**\n",
        "\n",
        "Input: [2, 3, 4, 5]  \n",
        "Output: [2, 6, 24, 120]  \n"
      ]
    },
    {
      "cell_type": "code",
      "execution_count": 5,
      "metadata": {
        "id": "pYPfUitge7nW"
      },
      "outputs": [
        {
          "name": "stdout",
          "output_type": "stream",
          "text": [
            "Cumulative product: [2, 6, 24, 120]\n"
          ]
        }
      ],
      "source": [
        "numb = [2, 3, 4, 5]\n",
        "for i in range(1, len(numb)):\n",
        "    numb[i] *= numb[i - 1]\n",
        "\n",
        "print(f\"Cumulative product: {numb}\")"
      ]
    },
    {
      "cell_type": "markdown",
      "metadata": {
        "id": "jEtwOjpEfAYA"
      },
      "source": [
        "# **Question No 04**\n",
        "\n",
        "Write a program to reshape a 1D list into a 2D grid.\n",
        "\n",
        "Accept a list of numbers and the number of rows as input.\n",
        "Use for loops to split the list into sublists, each representing a row.\n",
        "If the list cannot be evenly divided into rows, pad it with None.\n",
        "\n",
        "**Example:**\n",
        "Input: [1, 2, 3, 4, 5, 6, 7], Rows: 3  \n",
        "Output: [[1, 2, 3], [4, 5, 6], [7, None, None]]  \n",
        "\n"
      ]
    },
    {
      "cell_type": "code",
      "execution_count": 7,
      "metadata": {
        "id": "tGRxqt0pfRql"
      },
      "outputs": [
        {
          "name": "stdout",
          "output_type": "stream",
          "text": [
            "Our output is [[1, 2, 3], [4, 5, 6], [7, None, None]]\n"
          ]
        }
      ],
      "source": [
        "numb = [1, 2, 3, 4, 5, 6, 7]\n",
        "rows = 3\n",
        "\n",
        "col= len(numb) // rows\n",
        "if len(numb) % rows != 0:\n",
        "    col += 1\n",
        "\n",
        "while len(numb) < rows * col:\n",
        "    numb.append(None)\n",
        "\n",
        "grid = []\n",
        "for i in range(rows):\n",
        "    grid.append(numb[i * col:(i + 1) * col])\n",
        "\n",
        "print(\"Our output is\", grid)"
      ]
    },
    {
      "cell_type": "markdown",
      "metadata": {
        "id": "iBPZVHDsfwpm"
      },
      "source": [
        "# **Question No 05**\n",
        "\n",
        "Write a program to sort a list of numbers into two separate lists:\n",
        "\n",
        "One list for all odd numbers (in ascending order).\n",
        "One list for all even numbers (in descending order).\n",
        "Use for loops for the entire process.\n",
        "\n",
        "**Example:**\n",
        "\n",
        "\n",
        "Input: [5, 8, 3, 10, 2, 7, 1, 6]  \n",
        "Output:  \n",
        "Odd: [1, 3, 5, 7]  \n",
        "Even: [10, 8, 6, 2]  \n"
      ]
    },
    {
      "cell_type": "code",
      "execution_count": 8,
      "metadata": {
        "id": "y8dyGGNAf42S"
      },
      "outputs": [
        {
          "name": "stdout",
          "output_type": "stream",
          "text": [
            "Odd: [1, 3, 5, 7]\n",
            "Even: [10, 8, 6, 2]\n"
          ]
        }
      ],
      "source": [
        "numb = [5, 8, 3, 10, 2, 7, 1, 6]\n",
        "odd_numbers = []\n",
        "even_numbers = []\n",
        "for num in numb:\n",
        "    if num % 2 == 0:\n",
        "        even_numbers.append(num)\n",
        "    else:\n",
        "        odd_numbers.append(num)\n",
        "\n",
        "odd_numbers.sort()\n",
        "even_numbers.sort(reverse=True)\n",
        "print(\"Odd:\", odd_numbers)\n",
        "print(\"Even:\", even_numbers)"
      ]
    },
    {
      "cell_type": "markdown",
      "metadata": {
        "id": "X_LfOnqskNTe"
      },
      "source": [
        "# **Question No 06**\n",
        "\n",
        "Write a program that uses a for loop to count the frequency of each character in a given string and stores the result in a dictionary.\n",
        "\n",
        "The program should ignore spaces and be case-insensitive.\n",
        "Display the dictionary as the final output.\n",
        "\n",
        "**Example:**\n",
        "\n",
        "Input: \"Programming is fun\"  \n",
        "Output: {'p': 1, 'r': 2, 'o': 1, 'g': 2, 'a': 1, 'm': 2, 'i': 2, 'n': 2, 's': 1, 'f': 1, 'u': 1}\n",
        "\n"
      ]
    },
    {
      "cell_type": "code",
      "execution_count": 9,
      "metadata": {
        "id": "1_-djYt-kW8F"
      },
      "outputs": [
        {
          "name": "stdout",
          "output_type": "stream",
          "text": [
            "Character frequencies: {'p': 1, 'r': 2, 'o': 1, 'g': 2, 'a': 1, 'm': 2, 'i': 2, 'n': 2, 's': 1, 'f': 1, 'u': 1}\n"
          ]
        }
      ],
      "source": [
        "text = \"Programming is fun\"\n",
        "text = text.lower().replace(\" \", \"\")\n",
        "\n",
        "char_count = {}\n",
        "\n",
        "for char in text:\n",
        "    if char in char_count:\n",
        "        char_count[char] += 1\n",
        "    else:\n",
        "        char_count[char] = 1\n",
        "\n",
        "print(\"Character frequencies:\", char_count)"
      ]
    }
  ],
  "metadata": {
    "colab": {
      "provenance": []
    },
    "kernelspec": {
      "display_name": "base",
      "language": "python",
      "name": "python3"
    },
    "language_info": {
      "codemirror_mode": {
        "name": "ipython",
        "version": 3
      },
      "file_extension": ".py",
      "mimetype": "text/x-python",
      "name": "python",
      "nbconvert_exporter": "python",
      "pygments_lexer": "ipython3",
      "version": "3.12.7"
    }
  },
  "nbformat": 4,
  "nbformat_minor": 0
}
