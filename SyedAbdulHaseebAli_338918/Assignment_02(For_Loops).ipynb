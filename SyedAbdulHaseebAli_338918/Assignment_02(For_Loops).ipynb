{
  "cells": [
    {
      "cell_type": "markdown",
      "metadata": {
        "id": "1E5r3wPNed0G"
      },
      "source": [
        "\n",
        "\n",
        "# **Question No 01**\n",
        "\n",
        "Use a for loop to count the number of occurrences of the word in the list and return all indices where the word occurs.\n",
        "\n",
        "**Exmple:**\n",
        "\n",
        "Input: ['apple', 'banana', 'apple', 'cherry', 'apple'], Search: 'apple'  \n",
        "Output: 'apple' found 3 times at indices: 0, 2, 4\n",
        "\n"
      ]
    },
    {
      "cell_type": "code",
      "execution_count": 2,
      "metadata": {
        "id": "tHrz4YilefTD"
      },
      "outputs": [
        {
          "data": {
            "text/plain": [
              "[0, 2, 4]"
            ]
          },
          "execution_count": 2,
          "metadata": {},
          "output_type": "execute_result"
        }
      ],
      "source": [
        "def occurence(arr , searchItem):\n",
        "    indices = []\n",
        "    for i in range(len(arr)):\n",
        "        if arr[i] == searchItem:\n",
        "            indices.append(i)\n",
        "    return indices\n",
        "\n",
        "arr = ['apple', 'banana', 'apple', 'cherry', 'apple']\n",
        "occurence(arr,\"apple\")"
      ]
    },
    {
      "cell_type": "markdown",
      "metadata": {
        "id": "fN_U0nnCeeAF"
      },
      "source": [
        "\n",
        "# **Question No 02**\n",
        "\n",
        "Create a program to find all unique pairs of numbers in a list that add up to a target sum.\n",
        "\n",
        "Use a single list and a for loop (nested if necessary) to iterate through and find pairs without duplicates.\n",
        "Avoid repeating pairs like [3, 5] and [5, 3].\n",
        "\n",
        "**Example:**\n",
        "\n",
        "Input list: [2, 4, 3, 5, 7, 8, 1]  \n",
        "Target sum: 9  \n",
        "Output: [(2, 7), (4, 5), (1, 8)]\n"
      ]
    },
    {
      "cell_type": "code",
      "execution_count": 15,
      "metadata": {
        "id": "AfsJP7KTef3T"
      },
      "outputs": [
        {
          "data": {
            "text/plain": [
              "[(2, 7), (4, 5), (8, 1)]"
            ]
          },
          "execution_count": 15,
          "metadata": {},
          "output_type": "execute_result"
        }
      ],
      "source": [
        "def UniquePairs(arr , target):\n",
        "    Output = []\n",
        "    for i in range (len(arr)):\n",
        "        for j in range(i+1,len(arr)):\n",
        "            if arr[i] + arr[j] == target and arr[i] != arr[j]: #if pair not in pairs and (pair[1], pair[0]) not in pairs:\n",
        "                pair = (arr[i], arr[j])\n",
        "                Output.append(pair)\n",
        "            else:\n",
        "                continue\n",
        "    return Output\n",
        "\n",
        "arr = [2, 4, 3, 5, 7, 8, 1] \n",
        "targetSum = 9\n",
        "UniquePairs(arr, targetSum)"
      ]
    },
    {
      "cell_type": "markdown",
      "metadata": {
        "id": "d8ZH6VPNewLh"
      },
      "source": [
        "# **Question No 03**\n",
        "\n",
        "Write a program to calculate the cumulative product of elements in a list.\n",
        "\n",
        "Use a single list and update it in place to store the cumulative product at each index.\n",
        "Use only a for loop.\n",
        "\n",
        "**Example:**\n",
        "\n",
        "Input: [2, 3, 4, 5]  \n",
        "Output: [2, 6, 24, 120]  \n"
      ]
    },
    {
      "cell_type": "code",
      "execution_count": 16,
      "metadata": {
        "id": "pYPfUitge7nW"
      },
      "outputs": [
        {
          "data": {
            "text/plain": [
              "[2, 6, 24, 120]"
            ]
          },
          "execution_count": 16,
          "metadata": {},
          "output_type": "execute_result"
        }
      ],
      "source": [
        "def CumulativeProduct(arr):\n",
        "    Output = [arr[0]]\n",
        "    for i in range(1,len(arr)):\n",
        "        Output.append(arr[i]* Output[i-1])\n",
        "    return Output\n",
        "\n",
        "arr = [2, 3, 4, 5]\n",
        "CumulativeProduct(arr)"
      ]
    },
    {
      "cell_type": "markdown",
      "metadata": {
        "id": "jEtwOjpEfAYA"
      },
      "source": [
        "# **Question No 04**\n",
        "\n",
        "Write a program to reshape a 1D list into a 2D grid.\n",
        "\n",
        "Accept a list of numbers and the number of rows as input.\n",
        "Use for loops to split the list into sublists, each representing a row.\n",
        "If the list cannot be evenly divided into rows, pad it with None.\n",
        "\n",
        "**Example:**\n",
        "Input: [1, 2, 3, 4, 5, 6, 7], Rows: 3  \n",
        "Output: [[1, 2, 3], [4, 5, 6], [7, None, None]]  \n",
        "\n"
      ]
    },
    {
      "cell_type": "code",
      "execution_count": 30,
      "metadata": {
        "id": "tGRxqt0pfRql"
      },
      "outputs": [
        {
          "name": "stdout",
          "output_type": "stream",
          "text": [
            "Reshaped Grid: [[1, 2, 3], [4, 5, 6], [7, None, None]]\n"
          ]
        }
      ],
      "source": [
        "def reshape_list_to_grid(lst, rows):\n",
        "    grid = []  # Initialize the 2D grid\n",
        "    cols = -(-len(lst) // rows)  # Calculate the number of columns (ceil division)\n",
        "\n",
        "    for i in range(rows):\n",
        "        row = []\n",
        "        for j in range(cols):\n",
        "            index = i * cols + j\n",
        "            if index < len(lst):\n",
        "                row.append(lst[index])\n",
        "            else:\n",
        "                row.append(None)\n",
        "        grid.append(row)\n",
        "\n",
        "    return grid\n",
        "\n",
        "# Example usage\n",
        "input_list = [1, 2, 3, 4, 5, 6, 7]\n",
        "num_rows = 3\n",
        "result = reshape_list_to_grid(input_list, num_rows)\n",
        "print(\"Reshaped Grid:\", result)\n"
      ]
    },
    {
      "cell_type": "markdown",
      "metadata": {
        "id": "iBPZVHDsfwpm"
      },
      "source": [
        "# **Question No 05**\n",
        "\n",
        "Write a program to sort a list of numbers into two separate lists:\n",
        "\n",
        "One list for all odd numbers (in ascending order).\n",
        "One list for all even numbers (in descending order).\n",
        "Use for loops for the entire process.\n",
        "\n",
        "**Example:**\n",
        "\n",
        "\n",
        "Input: [5, 8, 3, 10, 2, 7, 1, 6]  \n",
        "Output:  \n",
        "Odd: [1, 3, 5, 7]  \n",
        "Even: [10, 8, 6, 2]  \n"
      ]
    },
    {
      "cell_type": "code",
      "execution_count": 22,
      "metadata": {
        "id": "y8dyGGNAf42S"
      },
      "outputs": [
        {
          "name": "stdout",
          "output_type": "stream",
          "text": [
            "Odd: [5, 3, 7, 1]\n",
            "Even: [8, 10, 2, 6]\n"
          ]
        }
      ],
      "source": [
        "def SortList(arr):\n",
        "    Odd = []\n",
        "    even = []\n",
        "    for i in range(len(arr)):\n",
        "        if(arr[i] %2 == 0):\n",
        "            even.append(arr[i])\n",
        "        else:\n",
        "            Odd.append(arr[i])\n",
        "        \n",
        "    return (Odd,even)\n",
        "\n",
        "arr = [5, 8, 3, 10, 2, 7, 1, 6]\n",
        "Odd, Even = SortList(arr)\n",
        "print(f\"Odd: {Odd}\")\n",
        "print(f\"Even: {Even}\")\n"
      ]
    },
    {
      "cell_type": "markdown",
      "metadata": {
        "id": "X_LfOnqskNTe"
      },
      "source": [
        "# **Question No 06**\n",
        "\n",
        "Write a program that uses a for loop to count the frequency of each character in a given string and stores the result in a dictionary.\n",
        "\n",
        "The program should ignore spaces and be case-insensitive.\n",
        "Display the dictionary as the final output.\n",
        "\n",
        "**Example:**\n",
        "\n",
        "Input: \"Programming is fun\"  \n",
        "Output: {'p': 1, 'r': 2, 'o': 1, 'g': 2, 'a': 1, 'm': 2, 'i': 2, 'n': 2, 's': 1, 'f': 1, 'u': 1}\n",
        "\n"
      ]
    },
    {
      "cell_type": "code",
      "execution_count": 27,
      "metadata": {
        "id": "1_-djYt-kW8F"
      },
      "outputs": [
        {
          "name": "stdout",
          "output_type": "stream",
          "text": [
            "P: 1\n",
            "r: 2\n",
            "o: 1\n",
            "g: 2\n",
            "a: 1\n",
            "m: 2\n",
            "i: 2\n",
            "n: 2\n",
            " : 2\n",
            "s: 1\n",
            "f: 1\n",
            "u: 1\n"
          ]
        }
      ],
      "source": [
        "def Frequency(arr):\n",
        "    count = {}  # Dictionary to store character frequencies\n",
        "\n",
        "    for char in arr:\n",
        "        if char in count:\n",
        "            count[char] += 1\n",
        "        else:\n",
        "            count[char] = 1\n",
        "\n",
        "    for char, freq in count.items():\n",
        "        print(f\"{char}: {freq}\")\n",
        "\n",
        "# Example usage\n",
        "arr = \"Programming is fun\"\n",
        "Frequency(arr)\n"
      ]
    }
  ],
  "metadata": {
    "colab": {
      "provenance": []
    },
    "kernelspec": {
      "display_name": "Python 3",
      "name": "python3"
    },
    "language_info": {
      "codemirror_mode": {
        "name": "ipython",
        "version": 3
      },
      "file_extension": ".py",
      "mimetype": "text/x-python",
      "name": "python",
      "nbconvert_exporter": "python",
      "pygments_lexer": "ipython3",
      "version": "3.12.4"
    }
  },
  "nbformat": 4,
  "nbformat_minor": 0
}
