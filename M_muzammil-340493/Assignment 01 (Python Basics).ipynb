{
 "cells": [
  {
   "cell_type": "markdown",
   "metadata": {},
   "source": [
    "# Part -1 Python Basics (Variables)"
   ]
  },
  {
   "cell_type": "markdown",
   "metadata": {},
   "source": [
    "1. Print Your Name with your Father name and Date of birth using suitable escape sequence charactor"
   ]
  },
  {
   "cell_type": "code",
   "execution_count": 7,
   "metadata": {},
   "outputs": [
    {
     "name": "stdout",
     "output_type": "stream",
     "text": [
      "My Name: M Muzammil\n",
      "Father's Name: Karim Shah\n",
      "Date of Birth: 17/08/2001\n"
     ]
    }
   ],
   "source": [
    "# Write your code here\n",
    "print(\"My Name: M Muzammil\\nFather's Name: Karim Shah\\nDate of Birth: 17/08/2001\")\n"
   ]
  },
  {
   "cell_type": "markdown",
   "metadata": {},
   "source": [
    "2. Write your small bio using variables and print it using print function"
   ]
  },
  {
   "cell_type": "code",
   "execution_count": 8,
   "metadata": {},
   "outputs": [
    {
     "name": "stdout",
     "output_type": "stream",
     "text": [
      "My name is M Muzammil.\n",
      " I am 22 years old.\n",
      " I work as a AI Engineer, and I love Poetry.\n"
     ]
    }
   ],
   "source": [
    "# Write your code here\n",
    "name = \"M Muzammil\"\n",
    "age = 22\n",
    "profession = \"AI Engineer\"\n",
    "hobby = \"Poetry\"\n",
    "\n",
    "print(f\"My name is {name}.\\n I am {age} years old.\\n I work as a {profession}, and I love {hobby}.\")\n"
   ]
  },
  {
   "cell_type": "markdown",
   "metadata": {},
   "source": [
    "3. Write a program in which use all the operators we can use in Python"
   ]
  },
  {
   "cell_type": "code",
   "execution_count": 9,
   "metadata": {},
   "outputs": [
    {
     "name": "stdout",
     "output_type": "stream",
     "text": [
      "Addition: 13\n",
      "Subtraction: 7\n",
      "Multiplication: 30\n",
      "Division: 3.3333333333333335\n",
      "Floor Division: 3\n",
      "Modulus: 1\n",
      "Exponentiation: 1000\n",
      "Equal: False\n",
      "Not Equal: True\n",
      "Greater: True\n",
      "Less: False\n",
      "Greater or Equal: True\n",
      "Less or Equal: False\n",
      "AND: True\n",
      "OR: True\n",
      "NOT: False\n",
      "Bitwise AND: 2\n",
      "Bitwise OR: 11\n",
      "Bitwise XOR: 9\n",
      "Addition Assignment: 13\n"
     ]
    }
   ],
   "source": [
    "# Write your code here\n",
    "a, b = 10, 3\n",
    "\n",
    "# Arithmetic Operators\n",
    "print(\"Addition:\", a + b)\n",
    "print(\"Subtraction:\", a - b)\n",
    "print(\"Multiplication:\", a * b)\n",
    "print(\"Division:\", a / b)\n",
    "print(\"Floor Division:\", a // b)\n",
    "print(\"Modulus:\", a % b)\n",
    "print(\"Exponentiation:\", a ** b)\n",
    "\n",
    "# Comparison Operators\n",
    "print(\"Equal:\", a == b)\n",
    "print(\"Not Equal:\", a != b)\n",
    "print(\"Greater:\", a > b)\n",
    "print(\"Less:\", a < b)\n",
    "print(\"Greater or Equal:\", a >= b)\n",
    "print(\"Less or Equal:\", a <= b)\n",
    "\n",
    "# Logical Operators\n",
    "print(\"AND:\", a > 5 and b < 5)\n",
    "print(\"OR:\", a > 5 or b > 5)\n",
    "print(\"NOT:\", not(a > 5))\n",
    "\n",
    "# Bitwise Operators\n",
    "print(\"Bitwise AND:\", a & b)\n",
    "print(\"Bitwise OR:\", a | b)\n",
    "print(\"Bitwise XOR:\", a ^ b)\n",
    "\n",
    "# Assignment Operators\n",
    "c = a\n",
    "c += b\n",
    "print(\"Addition Assignment:\", c)\n"
   ]
  },
  {
   "cell_type": "markdown",
   "metadata": {},
   "source": [
    "4. Completes the following steps of small task:\n",
    "    - Mention Marks of English , Islamiat and Maths out of 100 in 3 different variables\n",
    "    - Mention Variable of Total Marks and assign 300 to it\n",
    "    - Calculate Percentage"
   ]
  },
  {
   "cell_type": "code",
   "execution_count": 10,
   "metadata": {},
   "outputs": [
    {
     "name": "stdout",
     "output_type": "stream",
     "text": [
      "Total Marks: 300\n",
      "Obtained Marks: 255\n",
      "Percentage: 85.00%\n"
     ]
    }
   ],
   "source": [
    "# Write your code here\n",
    "# Write your code here\n",
    "english = 85\n",
    "islamiat = 90\n",
    "maths = 80\n",
    "\n",
    "total_marks = 300\n",
    "obtained_marks = english + islamiat + maths\n",
    "percentage = (obtained_marks / total_marks) * 100\n",
    "\n",
    "print(f\"Total Marks: {total_marks}\")\n",
    "print(f\"Obtained Marks: {obtained_marks}\")\n",
    "print(f\"Percentage: {percentage:.2f}%\")\n"
   ]
  },
  {
   "cell_type": "markdown",
   "metadata": {},
   "source": [
    "# Part -2 Python Basics (Conditional Statements)"
   ]
  },
  {
   "cell_type": "markdown",
   "metadata": {},
   "source": [
    "1) A company decided to give bonus of 5% to employee if his/her year of service is more than 5 years.\n",
    "Ask user for their salary and year of service and print the net bonus amount."
   ]
  },
  {
   "cell_type": "code",
   "execution_count": 11,
   "metadata": {},
   "outputs": [
    {
     "name": "stdin",
     "output_type": "stream",
     "text": [
      "Enter your salary:  5000\n",
      "Enter years of service:  6\n"
     ]
    },
    {
     "name": "stdout",
     "output_type": "stream",
     "text": [
      "Net Bonus Amount: Rs.250.0\n"
     ]
    }
   ],
   "source": [
    "# Type your code here\n",
    "salary = float(input(\"Enter your salary: \"))\n",
    "years_of_service = int(input(\"Enter years of service: \"))\n",
    "\n",
    "if years_of_service > 5:\n",
    "    bonus = salary * 0.05\n",
    "    print(f\"Net Bonus Amount: Rs.{bonus}\")\n",
    "else:\n",
    "    print(\"No bonus.\")\n"
   ]
  },
  {
   "cell_type": "markdown",
   "metadata": {},
   "source": [
    "\n",
    "2) Write a program to check whether a person is eligible for voting or not. (accept age from user) if age is greater than 17 eligible otherwise not eligible"
   ]
  },
  {
   "cell_type": "code",
   "execution_count": 12,
   "metadata": {},
   "outputs": [
    {
     "name": "stdin",
     "output_type": "stream",
     "text": [
      "Enter your age:  19\n"
     ]
    },
    {
     "name": "stdout",
     "output_type": "stream",
     "text": [
      "You are eligible to vote.\n"
     ]
    }
   ],
   "source": [
    "#Type your code here\n",
    "age = int(input(\"Enter your age: \"))\n",
    "\n",
    "if age > 17:\n",
    "    print(\"You are eligible to vote.\")\n",
    "else:\n",
    "    print(\"You are not eligible to vote.\")\n"
   ]
  },
  {
   "cell_type": "markdown",
   "metadata": {},
   "source": [
    "\n",
    "3) Write a program to check whether a number entered by user is even or odd."
   ]
  },
  {
   "cell_type": "code",
   "execution_count": 13,
   "metadata": {},
   "outputs": [
    {
     "name": "stdin",
     "output_type": "stream",
     "text": [
      "Enter a number:  34\n"
     ]
    },
    {
     "name": "stdout",
     "output_type": "stream",
     "text": [
      "34 is even.\n"
     ]
    }
   ],
   "source": [
    "#Type your code here\n",
    "\n",
    "num = int(input(\"Enter a number: \"))\n",
    "\n",
    "if num % 2 == 0:\n",
    "    print(f\"{num} is even.\")\n",
    "else:\n",
    "    print(f\"{num} is odd.\")\n"
   ]
  },
  {
   "cell_type": "markdown",
   "metadata": {},
   "source": [
    "4) Write a program to check whether a number is divisible by 7 or not.\n",
    "Show Answer"
   ]
  },
  {
   "cell_type": "code",
   "execution_count": 14,
   "metadata": {},
   "outputs": [
    {
     "name": "stdin",
     "output_type": "stream",
     "text": [
      "Enter a number:  6\n"
     ]
    },
    {
     "name": "stdout",
     "output_type": "stream",
     "text": [
      "6 is not divisible by 7.\n"
     ]
    }
   ],
   "source": [
    "#Type your code here\n",
    "num = int(input(\"Enter a number: \"))\n",
    "\n",
    "if num % 7 == 0:\n",
    "    print(f\"{num} is divisible by 7.\")\n",
    "else:\n",
    "    print(f\"{num} is not divisible by 7.\")\n"
   ]
  },
  {
   "cell_type": "markdown",
   "metadata": {},
   "source": [
    "5) Write a program to display \n",
    "\"Hello\" if a number entered by user is a multiple of five , otherwise print \"Bye\"."
   ]
  },
  {
   "cell_type": "code",
   "execution_count": 15,
   "metadata": {},
   "outputs": [
    {
     "name": "stdin",
     "output_type": "stream",
     "text": [
      "Enter a number:  15\n"
     ]
    },
    {
     "name": "stdout",
     "output_type": "stream",
     "text": [
      "Hello\n"
     ]
    }
   ],
   "source": [
    "#Type your code here\n",
    "num = int(input(\"Enter a number: \"))\n",
    "\n",
    "if num % 5 == 0:\n",
    "    print(\"Hello\")\n",
    "else:\n",
    "    print(\"Bye\")\n"
   ]
  },
  {
   "cell_type": "markdown",
   "metadata": {},
   "source": [
    "7) Write a program to display the last digit of a number.\n"
   ]
  },
  {
   "cell_type": "code",
   "execution_count": 16,
   "metadata": {},
   "outputs": [
    {
     "name": "stdin",
     "output_type": "stream",
     "text": [
      "Enter a number:  465\n"
     ]
    },
    {
     "name": "stdout",
     "output_type": "stream",
     "text": [
      "The last digit of the number 465 is 5.\n"
     ]
    }
   ],
   "source": [
    "# Type your code here\n",
    "number = int(input(\"Enter a number: \"))\n",
    "last_digit = number % 10\n",
    "print(f\"The last digit of the number {number} is {last_digit}.\")\n"
   ]
  },
  {
   "cell_type": "markdown",
   "metadata": {},
   "source": [
    "9) Take values of length and breadth of a rectangle from user and print if it is square or rectangle."
   ]
  },
  {
   "cell_type": "code",
   "execution_count": 17,
   "metadata": {},
   "outputs": [
    {
     "name": "stdin",
     "output_type": "stream",
     "text": [
      "Enter the length of the rectangle:  5\n",
      "Enter the breadth of the rectangle:  5\n"
     ]
    },
    {
     "name": "stdout",
     "output_type": "stream",
     "text": [
      "It is a square.\n"
     ]
    }
   ],
   "source": [
    "#Type your code here \n",
    "# Type your code here\n",
    "length = float(input(\"Enter the length of the rectangle: \"))\n",
    "breadth = float(input(\"Enter the breadth of the rectangle: \"))\n",
    "\n",
    "if length == breadth:\n",
    "    print(\"It is a square.\")\n",
    "else:\n",
    "    print(\"It is a rectangle.\")\n"
   ]
  },
  {
   "cell_type": "markdown",
   "metadata": {},
   "source": [
    "10) Take two int values from user and print greatest among them."
   ]
  },
  {
   "cell_type": "code",
   "execution_count": 18,
   "metadata": {},
   "outputs": [
    {
     "name": "stdin",
     "output_type": "stream",
     "text": [
      "Enter the first number:  5\n",
      "Enter the second number:  7\n"
     ]
    },
    {
     "name": "stdout",
     "output_type": "stream",
     "text": [
      "The greatest number is 7.\n"
     ]
    }
   ],
   "source": [
    "# Type your code here\n",
    "num1 = int(input(\"Enter the first number: \"))\n",
    "num2 = int(input(\"Enter the second number: \"))\n",
    "\n",
    "if num1 > num2:\n",
    "    print(f\"The greatest number is {num1}.\")\n",
    "elif num2 > num1:\n",
    "    print(f\"The greatest number is {num2}.\")\n",
    "else:\n",
    "    print(\"Both numbers are equal.\")\n"
   ]
  },
  {
   "cell_type": "markdown",
   "metadata": {},
   "source": [
    "11) A shop will give discount of 10% if the cost of purchased quantity is more than 1000.\n",
    "Ask user for quantity\n",
    "Suppose, one unit will cost 100.\n",
    "Judge and print total cost for user."
   ]
  },
  {
   "cell_type": "code",
   "execution_count": 19,
   "metadata": {},
   "outputs": [
    {
     "name": "stdin",
     "output_type": "stream",
     "text": [
      "Enter the quantity of items purchased:  90\n"
     ]
    },
    {
     "name": "stdout",
     "output_type": "stream",
     "text": [
      "The total cost after any applicable discount is: Rs.8100.0\n"
     ]
    }
   ],
   "source": [
    "#Type your code here\n",
    "quantity = int(input(\"Enter the quantity of items purchased: \"))\n",
    "unit_price = 100\n",
    "total_cost = quantity * unit_price\n",
    "\n",
    "if total_cost > 1000:\n",
    "    discount = total_cost * 0.10\n",
    "    final_cost = total_cost - discount\n",
    "else:\n",
    "    final_cost = total_cost\n",
    "\n",
    "print(f\"The total cost after any applicable discount is: Rs.{final_cost}\")\n"
   ]
  },
  {
   "cell_type": "markdown",
   "metadata": {},
   "source": [
    "12) A school has following rules for grading system:\n",
    "\n",
    "a. Below 25 - F\n",
    "\n",
    "b. 25 to 45 - E\n",
    "\n",
    "c. 45 to 50 - D\n",
    "\n",
    "d. 50 to 60 - C\n",
    "\n",
    "e. 60 to 80 - B\n",
    "\n",
    "f. Above 80 - A\n",
    "\n",
    "Ask user to enter marks and print the corresponding grade."
   ]
  },
  {
   "cell_type": "code",
   "execution_count": 20,
   "metadata": {},
   "outputs": [
    {
     "name": "stdin",
     "output_type": "stream",
     "text": [
      "Enter your marks:  18\n"
     ]
    },
    {
     "name": "stdout",
     "output_type": "stream",
     "text": [
      "Your grade is: F\n"
     ]
    }
   ],
   "source": [
    "#Type your code here\n",
    "\n",
    "marks = int(input(\"Enter your marks: \"))\n",
    "\n",
    "if marks < 25:\n",
    "    grade = \"F\"\n",
    "elif 25 <= marks < 45:\n",
    "    grade = \"E\"\n",
    "elif 45 <= marks < 50:\n",
    "    grade = \"D\"\n",
    "elif 50 <= marks < 60:\n",
    "    grade = \"C\"\n",
    "elif 60 <= marks <= 80:\n",
    "    grade = \"B\"\n",
    "else:  # marks > 80\n",
    "    grade = \"A\"\n",
    "\n",
    "print(f\"Your grade is: {grade}\")\n"
   ]
  },
  {
   "cell_type": "markdown",
   "metadata": {},
   "source": [
    "14)A student will not be allowed to sit in exam if his/her attendence is less than 75%.\n",
    "\n",
    "Take following input from user\n",
    "\n",
    "- Number of classes held\n",
    "\n",
    "- Number of classes attended.\n",
    "\n",
    "And print\n",
    "\n",
    "- percentage of class attended\n",
    "\n",
    "- Is student is allowed to sit in exam or not.\n"
   ]
  },
  {
   "cell_type": "code",
   "execution_count": 21,
   "metadata": {},
   "outputs": [
    {
     "name": "stdin",
     "output_type": "stream",
     "text": [
      "Enter the number of classes held:  54\n",
      "Enter the number of classes attended:  2\n"
     ]
    },
    {
     "name": "stdout",
     "output_type": "stream",
     "text": [
      "Attendance percentage: 3.70%\n",
      "The student is not allowed to sit in the exam.\n"
     ]
    }
   ],
   "source": [
    "# Type your code here\n",
    "classes_held = int(input(\"Enter the number of classes held: \"))\n",
    "classes_attended = int(input(\"Enter the number of classes attended: \"))\n",
    "\n",
    "# Calculate attendance percentage\n",
    "attendance_percentage = (classes_attended / classes_held) * 100\n",
    "\n",
    "print(f\"Attendance percentage: {attendance_percentage:.2f}%\")\n",
    "\n",
    "# Check if attendance is sufficient\n",
    "if attendance_percentage >= 75:\n",
    "    print(\"The student is allowed to sit in the exam.\")\n",
    "else:\n",
    "    print(\"The student is not allowed to sit in the exam.\")\n"
   ]
  },
  {
   "cell_type": "markdown",
   "metadata": {},
   "source": [
    "15) Modify the above question to allow student to sit if he/she has medical cause. Ask user if he/she has medical cause or not ( 'Y' or 'N' ) and print accordingly."
   ]
  },
  {
   "cell_type": "code",
   "execution_count": 22,
   "metadata": {},
   "outputs": [
    {
     "name": "stdin",
     "output_type": "stream",
     "text": [
      "Enter the number of classes held:  43\n",
      "Enter the number of classes attended:  4\n"
     ]
    },
    {
     "name": "stdout",
     "output_type": "stream",
     "text": [
      "Attendance percentage: 9.30%\n"
     ]
    },
    {
     "name": "stdin",
     "output_type": "stream",
     "text": [
      "Do you have a medical cause? (Y/N):  n\n"
     ]
    },
    {
     "name": "stdout",
     "output_type": "stream",
     "text": [
      "The student is not allowed to sit in the exam.\n"
     ]
    }
   ],
   "source": [
    "#Type your code here\n",
    "# Type your code here\n",
    "classes_held = int(input(\"Enter the number of classes held: \"))\n",
    "classes_attended = int(input(\"Enter the number of classes attended: \"))\n",
    "\n",
    "# Calculate attendance percentage\n",
    "attendance_percentage = (classes_attended / classes_held) * 100\n",
    "\n",
    "print(f\"Attendance percentage: {attendance_percentage:.2f}%\")\n",
    "\n",
    "# Check if attendance is sufficient or if there is a medical cause\n",
    "if attendance_percentage >= 75:\n",
    "    print(\"The student is allowed to sit in the exam.\")\n",
    "else:\n",
    "    medical_cause = input(\"Do you have a medical cause? (Y/N): \").strip().upper()\n",
    "    if medical_cause == 'Y':\n",
    "        print(\"The student is allowed to sit in the exam due to medical cause.\")\n",
    "    else:\n",
    "        print(\"The student is not allowed to sit in the exam.\")\n"
   ]
  },
  {
   "cell_type": "markdown",
   "metadata": {},
   "source": [
    "16) Write a program to check if a year is leap year or not.\n",
    "\n",
    "If a year is divisible by 4 then it is leap year but if the year is century year like 2000, 1900, 2100 then it must be divisible by 400."
   ]
  },
  {
   "cell_type": "code",
   "execution_count": 23,
   "metadata": {},
   "outputs": [
    {
     "name": "stdin",
     "output_type": "stream",
     "text": [
      "Enter a year:  2009\n"
     ]
    },
    {
     "name": "stdout",
     "output_type": "stream",
     "text": [
      "2009 is not a leap year.\n"
     ]
    }
   ],
   "source": [
    "#Type your code here\n",
    "year = int(input(\"Enter a year: \"))\n",
    "\n",
    "# Check if it's a leap year\n",
    "if (year % 4 == 0 and year % 100 != 0) or (year % 400 == 0):\n",
    "    print(f\"{year} is a leap year.\")\n",
    "else:\n",
    "    print(f\"{year} is not a leap year.\")\n"
   ]
  },
  {
   "cell_type": "markdown",
   "metadata": {},
   "source": [
    "17) Ask user to enter age, gender ( M or F ), marital status ( Y or N ) and then using following rules print their place of service.\n",
    "\n",
    "if employee is female, then she will work only in urban areas.\n",
    "\n",
    "if employee is a male and age is in between 20 to 40 then he may work in anywhere\n",
    "\n",
    "if employee is male and age is in between 40 t0 60 then he will work in urban areas only.\n",
    "\n",
    "And any other input of age should print \"ERROR\""
   ]
  },
  {
   "cell_type": "code",
   "execution_count": 24,
   "metadata": {},
   "outputs": [
    {
     "name": "stdin",
     "output_type": "stream",
     "text": [
      "Enter age:  18\n",
      "Enter gender (M/F):  m\n",
      "Enter marital status (Y/N):  n\n"
     ]
    },
    {
     "name": "stdout",
     "output_type": "stream",
     "text": [
      "ERROR\n"
     ]
    }
   ],
   "source": [
    "#Type your code here\n",
    "age = int(input(\"Enter age: \"))\n",
    "gender = input(\"Enter gender (M/F): \").strip().upper()\n",
    "marital_status = input(\"Enter marital status (Y/N): \").strip().upper()\n",
    "\n",
    "# Determine place of service\n",
    "if gender == 'F':\n",
    "    print(\"She will work only in urban areas.\")\n",
    "elif gender == 'M':\n",
    "    if 20 <= age <= 40:\n",
    "        print(\"He may work anywhere.\")\n",
    "    elif 40 < age <= 60:\n",
    "        print(\"He will work in urban areas only.\")\n",
    "    else:\n",
    "        print(\"ERROR\")\n",
    "else:\n",
    "    print(\"Invalid gender input.\")\n"
   ]
  },
  {
   "cell_type": "markdown",
   "metadata": {},
   "source": [
    "18) Write a program to calculate the electricity bill (accept number of unit from user) according to the following criteria :\n",
    "     Unit                                                     Price  \n",
    "uptp 100 units                                             no charge\n",
    "Next 200 units                                              Rs 5 per unit\n",
    "After 200 units                                             Rs 10 per unit\n",
    "(For example if input unit is 350 than total bill amount is Rs.3500\n",
    "(For example if input unit is 97 than total bill amount is Rs.0\n",
    "(For example if input unit is 150 than total bill amount is Rs.750"
   ]
  },
  {
   "cell_type": "code",
   "execution_count": 25,
   "metadata": {},
   "outputs": [
    {
     "name": "stdin",
     "output_type": "stream",
     "text": [
      "Enter number of units:  45\n"
     ]
    },
    {
     "name": "stdout",
     "output_type": "stream",
     "text": [
      "Total bill amount is Rs.0\n"
     ]
    }
   ],
   "source": [
    "# Input number of units\n",
    "units = int(input(\"Enter number of units: \"))\n",
    "\n",
    "# Calculate bill based on the unit criteria\n",
    "if units <= 100:\n",
    "    bill = 0\n",
    "elif 101 <= units <= 300:\n",
    "    bill = (units - 100) * 5\n",
    "else:\n",
    "    bill = (200 * 5) + (units - 300) * 10\n",
    "\n",
    "print(f\"Total bill amount is Rs.{bill}\")\n"
   ]
  },
  {
   "cell_type": "markdown",
   "metadata": {},
   "source": [
    "19) Take input of age of 3 people by user and determine oldest and youngest among them."
   ]
  },
  {
   "cell_type": "code",
   "execution_count": 26,
   "metadata": {},
   "outputs": [
    {
     "name": "stdin",
     "output_type": "stream",
     "text": [
      "Enter age of person 1:  23\n",
      "Enter age of person 2:  45\n",
      "Enter age of person 3:  67\n"
     ]
    },
    {
     "name": "stdout",
     "output_type": "stream",
     "text": [
      "The oldest age is: 67\n",
      "The youngest age is: 23\n"
     ]
    }
   ],
   "source": [
    "#Type your code here\n",
    "# Input ages of three people\n",
    "age1 = int(input(\"Enter age of person 1: \"))\n",
    "age2 = int(input(\"Enter age of person 2: \"))\n",
    "age3 = int(input(\"Enter age of person 3: \"))\n",
    "\n",
    "# Find the oldest and youngest\n",
    "oldest = max(age1, age2, age3)\n",
    "youngest = min(age1, age2, age3)\n",
    "\n",
    "print(f\"The oldest age is: {oldest}\")\n",
    "print(f\"The youngest age is: {youngest}\")\n"
   ]
  },
  {
   "cell_type": "code",
   "execution_count": null,
   "metadata": {},
   "outputs": [],
   "source": []
  }
 ],
 "metadata": {
  "kernelspec": {
   "display_name": "Python 3 (ipykernel)",
   "language": "python",
   "name": "python3"
  },
  "language_info": {
   "codemirror_mode": {
    "name": "ipython",
    "version": 3
   },
   "file_extension": ".py",
   "mimetype": "text/x-python",
   "name": "python",
   "nbconvert_exporter": "python",
   "pygments_lexer": "ipython3",
   "version": "3.12.7"
  }
 },
 "nbformat": 4,
 "nbformat_minor": 4
}
