{
 "cells": [
  {
   "cell_type": "markdown",
   "metadata": {
    "id": "1E5r3wPNed0G"
   },
   "source": [
    "\n",
    "\n",
    "# **Question No 01**\n",
    "\n",
    "Use a for loop to count the number of occurrences of the word in the list and return all indices where the word occurs.\n",
    "\n",
    "**Exmple:**\n",
    "\n",
    "Input: ['apple', 'banana', 'apple', 'cherry', 'apple'], Search: 'apple'  \n",
    "Output: 'apple' found 3 times at indices: 0, 2, 4\n",
    "\n"
   ]
  },
  {
   "cell_type": "code",
   "execution_count": 1,
   "metadata": {
    "id": "tHrz4YilefTD"
   },
   "outputs": [
    {
     "name": "stdout",
     "output_type": "stream",
     "text": [
      "apple found 3 times at indices: [0, 2, 4]\n"
     ]
    }
   ],
   "source": [
    "fruits = ['apple', 'banana', 'apple', 'cherry', 'apple']\n",
    "count = 0\n",
    "indices = []\n",
    "for index,fr in enumerate(fruits):\n",
    "   if fr == \"apple\":\n",
    "      count+=1\n",
    "      indices.append(index)\n",
    "\n",
    "print(f\"apple found {count} times at indices: {indices}\")"
   ]
  },
  {
   "cell_type": "markdown",
   "metadata": {
    "id": "fN_U0nnCeeAF"
   },
   "source": [
    "\n",
    "# **Question No 02**\n",
    "\n",
    "Create a program to find all unique pairs of numbers in a list that add up to a target sum.\n",
    "\n",
    "Use a single list and a for loop (nested if necessary) to iterate through and find pairs without duplicates.\n",
    "Avoid repeating pairs like [3, 5] and [5, 3].\n",
    "\n",
    "**Example:**\n",
    "\n",
    "Input list: [2, 4, 3, 5, 7, 8, 1]  \n",
    "Target sum: 9  \n",
    "Output: [(2, 7), (4, 5), (1, 8)]\n"
   ]
  },
  {
   "cell_type": "code",
   "execution_count": 2,
   "metadata": {
    "id": "AfsJP7KTef3T"
   },
   "outputs": [
    {
     "name": "stdout",
     "output_type": "stream",
     "text": [
      "[(2, 7), (4, 5), (8, 1)]\n"
     ]
    }
   ],
   "source": [
    "myl = [2, 4, 3, 5, 7, 8, 1]\n",
    "out = []\n",
    "t = 9\n",
    "for i,v in  enumerate(myl):\n",
    "    for ind, val in enumerate(myl):\n",
    "        if (i != ind ) and (v+myl[ind] ==9) :\n",
    "            not_present = True\n",
    "            for x in out:\n",
    "                if (v in x) or (myl[ind] in x):\n",
    "                    not_present = False\n",
    "                    break\n",
    "            tup = (v, myl[ind])\n",
    "            if not_present:\n",
    "                out.append(tup)\n",
    "print(out)"
   ]
  },
  {
   "cell_type": "markdown",
   "metadata": {
    "id": "d8ZH6VPNewLh"
   },
   "source": [
    "# **Question No 03**\n",
    "\n",
    "Write a program to calculate the cumulative product of elements in a list.\n",
    "\n",
    "Use a single list and update it in place to store the cumulative product at each index.\n",
    "Use only a for loop.\n",
    "\n",
    "**Example:**\n",
    "\n",
    "Input: [2, 3, 4, 5]  \n",
    "Output: [2, 6, 24, 120]  \n"
   ]
  },
  {
   "cell_type": "code",
   "execution_count": 29,
   "metadata": {
    "id": "pYPfUitge7nW"
   },
   "outputs": [
    {
     "name": "stdout",
     "output_type": "stream",
     "text": [
      "[2, 6, 24, 120]\n"
     ]
    }
   ],
   "source": [
    "i_cumulative = [2, 3, 4, 5]\n",
    "o_cumulative = []\n",
    "total = 1\n",
    "for x in range(len(i_cumulative)):\n",
    "    for y in range(x+1):\n",
    "        total *= i_cumulative[y]\n",
    "    o_cumulative.append(total)\n",
    "    total = 1\n",
    "print(o_cumulative)"
   ]
  },
  {
   "cell_type": "markdown",
   "metadata": {
    "id": "jEtwOjpEfAYA"
   },
   "source": [
    "# **Question No 04**\n",
    "\n",
    "Write a program to reshape a 1D list into a 2D grid.\n",
    "\n",
    "Accept a list of numbers and the number of rows as input.\n",
    "Use for loops to split the list into sublists, each representing a row.\n",
    "If the list cannot be evenly divided into rows, pad it with None.\n",
    "\n",
    "**Example:**\n",
    "Input: [1, 2, 3, 4, 5, 6, 7], Rows: 3  \n",
    "Output: [[1, 2, 3], [4, 5, 6], [7, None, None]]  \n",
    "\n"
   ]
  },
  {
   "cell_type": "code",
   "execution_count": 51,
   "metadata": {
    "id": "tGRxqt0pfRql"
   },
   "outputs": [
    {
     "name": "stdout",
     "output_type": "stream",
     "text": [
      "[[1, 2, 3], [4, 5, 6], [7, 97, 53], [5, 7, None]]\n"
     ]
    }
   ],
   "source": [
    "inp_1d = [1, 2, 3, 4, 5, 6, 7,97,53,5,7]\n",
    "rows = 3\n",
    "out_2d = []\n",
    "start_from = 0\n",
    "end_to = 3\n",
    "for x in range(len(inp_1d)):\n",
    "    if (start_from < len(inp_1d)) and (end_to-3 < len(inp_1d)):\n",
    "        temp = []\n",
    "        for y in range(start_from, end_to):\n",
    "            if y < len(inp_1d) :\n",
    "                temp.append(inp_1d[y])\n",
    "            else:\n",
    "                temp.append(None)\n",
    "        start_from += rows\n",
    "        end_to += rows\n",
    "        out_2d.append(temp)\n",
    "\n",
    "print(out_2d)\n"
   ]
  },
  {
   "cell_type": "markdown",
   "metadata": {
    "id": "iBPZVHDsfwpm"
   },
   "source": [
    "# **Question No 05**\n",
    "\n",
    "Write a program to sort a list of numbers into two separate lists:\n",
    "\n",
    "One list for all odd numbers (in ascending order).\n",
    "One list for all even numbers (in descending order).\n",
    "Use for loops for the entire process.\n",
    "\n",
    "**Example:**\n",
    "\n",
    "\n",
    "Input: [5, 8, 3, 10, 2, 7, 1, 6]  \n",
    "Output:  \n",
    "Odd: [1, 3, 5, 7]  \n",
    "Even: [10, 8, 6, 2]  \n"
   ]
  },
  {
   "cell_type": "code",
   "execution_count": 45,
   "metadata": {
    "id": "y8dyGGNAf42S"
   },
   "outputs": [
    {
     "name": "stdout",
     "output_type": "stream",
     "text": [
      "Input list ==>  [5, 8, 3, 10, 2, 7, 1, 6]\n",
      "Sorted List [1, 2, 3, 5, 6, 7, 8, 10]\n",
      "Even ==>  [2, 6, 8, 10]\n",
      "Odd ==>  [1, 3, 5, 7]\n"
     ]
    }
   ],
   "source": [
    "merge_list = [5, 8, 3, 10, 2, 7, 1, 6]\n",
    "odd = []\n",
    "even = []\n",
    "print(\"Input list ==> \", merge_list)\n",
    "for i in range(1,len(merge_list)):\n",
    "    j = i - 1\n",
    "    curr = merge_list[i]\n",
    "    while (j >= 0) and (merge_list[j] >  curr):\n",
    "        temp = merge_list[j]\n",
    "        merge_list[j] = curr\n",
    "        curr = merge_list[j+1]\n",
    "        merge_list[j+1] = temp\n",
    "        j-=1\n",
    "\n",
    "for x in merge_list:\n",
    "    if x%2 == 0:\n",
    "        even.append(x)\n",
    "    else:\n",
    "        odd.append(x)\n",
    "print(\"Sorted List\", merge_list)\n",
    "print(\"Even ==> \" , even)\n",
    "print(\"Odd ==> \", odd)\n"
   ]
  },
  {
   "cell_type": "markdown",
   "metadata": {
    "id": "X_LfOnqskNTe"
   },
   "source": [
    "# **Question No 06**\n",
    "\n",
    "Write a program that uses a for loop to count the frequency of each character in a given string and stores the result in a dictionary.\n",
    "\n",
    "The program should ignore spaces and be case-insensitive.\n",
    "Display the dictionary as the final output.\n",
    "\n",
    "**Example:**\n",
    "\n",
    "Input: \"Programming is fun\"  \n",
    "Output: {'p': 1, 'r': 2, 'o': 1, 'g': 2, 'a': 1, 'm': 2, 'i': 2, 'n': 2, 's': 1, 'f': 1, 'u': 1}\n",
    "\n"
   ]
  },
  {
   "cell_type": "code",
   "execution_count": 64,
   "metadata": {
    "id": "1_-djYt-kW8F"
   },
   "outputs": [
    {
     "name": "stdout",
     "output_type": "stream",
     "text": [
      "{'P': 1, 'r': 2, 'o': 1, 'g': 2, 'a': 1, 'm': 2, 'i': 2, 'n': 2, 's': 1, 'f': 1, 'u': 1}\n"
     ]
    }
   ],
   "source": [
    "obj = {}\n",
    "inp = \"Programming is fun\"\n",
    "for x in inp:\n",
    "    if(x==\" \"):\n",
    "        continue\n",
    "    obj[x] = (x in obj and obj[x]+1) or 1\n",
    "print(obj)"
   ]
  },
  {
   "cell_type": "code",
   "execution_count": null,
   "metadata": {},
   "outputs": [],
   "source": []
  }
 ],
 "metadata": {
  "colab": {
   "provenance": []
  },
  "kernelspec": {
   "display_name": "Python 3 (ipykernel)",
   "language": "python",
   "name": "python3"
  },
  "language_info": {
   "codemirror_mode": {
    "name": "ipython",
    "version": 3
   },
   "file_extension": ".py",
   "mimetype": "text/x-python",
   "name": "python",
   "nbconvert_exporter": "python",
   "pygments_lexer": "ipython3",
   "version": "3.12.7"
  }
 },
 "nbformat": 4,
 "nbformat_minor": 4
}
