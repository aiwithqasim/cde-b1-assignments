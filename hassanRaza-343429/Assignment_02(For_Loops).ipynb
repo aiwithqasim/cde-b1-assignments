{
  "cells": [
    {
      "cell_type": "markdown",
      "metadata": {
        "id": "1E5r3wPNed0G"
      },
      "source": [
        "\n",
        "\n",
        "# **Question No 01**\n",
        "\n",
        "Use a for loop to count the number of occurrences of the word in the list and return all indices where the word occurs.\n",
        "\n",
        "**Exmple:**\n",
        "\n",
        "Input: ['apple', 'banana', 'apple', 'cherry', 'apple'], Search: 'apple'  \n",
        "Output: 'apple' found 3 times at indices: 0, 2, 4\n",
        "\n"
      ]
    },
    {
      "cell_type": "code",
      "execution_count": 2,
      "metadata": {
        "id": "tHrz4YilefTD"
      },
      "outputs": [
        {
          "name": "stdout",
          "output_type": "stream",
          "text": [
            "'apple' found 3 times at indices: 0, 2, 4\n"
          ]
        }
      ],
      "source": [
        "arrayOfFruit = ['apple', 'banana', 'apple', 'cherry', 'apple']\n",
        "search = input(\"Enter the word to search: \")\n",
        "count = 0\n",
        "index = []\n",
        "\n",
        "for i in range(len(arrayOfFruit)):\n",
        "    if arrayOfFruit[i] == search:\n",
        "        count += 1\n",
        "        index.append(i)\n",
        "\n",
        "print(f\"'{search}' found {count} times at indices: {', '.join(map(str, index))}\")"
      ]
    },
    {
      "cell_type": "markdown",
      "metadata": {
        "id": "fN_U0nnCeeAF"
      },
      "source": [
        "\n",
        "# **Question No 02**\n",
        "\n",
        "Create a program to find all unique pairs of numbers in a list that add up to a target sum.\n",
        "\n",
        "Use a single list and a for loop (nested if necessary) to iterate through and find pairs without duplicates.\n",
        "Avoid repeating pairs like [3, 5] and [5, 3].\n",
        "\n",
        "**Example:**\n",
        "\n",
        "Input list: [2, 4, 3, 5, 7, 8, 1]  \n",
        "Target sum: 9  \n",
        "Output: [(2, 7), (4, 5), (1, 8)]\n"
      ]
    },
    {
      "cell_type": "code",
      "execution_count": 4,
      "metadata": {
        "id": "AfsJP7KTef3T"
      },
      "outputs": [
        {
          "name": "stdout",
          "output_type": "stream",
          "text": [
            "[(2, 7), (4, 5), (8, 1)]\n"
          ]
        }
      ],
      "source": [
        "inputArray = [2, 4, 3, 5, 7, 8, 1]\n",
        "targetSum = 9\n",
        "pairs = []\n",
        "\n",
        "for i in range(len(inputArray)):\n",
        "    for j in range(i+1, len(inputArray)):\n",
        "        if inputArray[i] + inputArray[j] == targetSum:\n",
        "            pairs.append((inputArray[i], inputArray[j]))\n",
        "\n",
        "print(pairs)"
      ]
    },
    {
      "cell_type": "markdown",
      "metadata": {
        "id": "d8ZH6VPNewLh"
      },
      "source": [
        "# **Question No 03**\n",
        "\n",
        "Write a program to calculate the cumulative product of elements in a list.\n",
        "\n",
        "Use a single list and update it in place to store the cumulative product at each index.\n",
        "Use only a for loop.\n",
        "\n",
        "**Example:**\n",
        "\n",
        "Input: [2, 3, 4, 5]  \n",
        "Output: [2, 6, 24, 120]  \n"
      ]
    },
    {
      "cell_type": "code",
      "execution_count": 5,
      "metadata": {
        "id": "pYPfUitge7nW"
      },
      "outputs": [
        {
          "name": "stdout",
          "output_type": "stream",
          "text": [
            "[2, 6, 24, 120]\n"
          ]
        }
      ],
      "source": [
        "inputArray = [2, 3, 4, 5]\n",
        "product = 1\n",
        "\n",
        "for i in range(len(inputArray)):\n",
        "    product *= inputArray[i]\n",
        "    inputArray[i] = product\n",
        "\n",
        "print(inputArray)\n"
      ]
    },
    {
      "cell_type": "markdown",
      "metadata": {
        "id": "jEtwOjpEfAYA"
      },
      "source": [
        "# **Question No 04**\n",
        "\n",
        "Write a program to reshape a 1D list into a 2D grid.\n",
        "\n",
        "Accept a list of numbers and the number of rows as input.\n",
        "Use for loops to split the list into sublists, each representing a row.\n",
        "If the list cannot be evenly divided into rows, pad it with None.\n",
        "\n",
        "**Example:**\n",
        "Input: [1, 2, 3, 4, 5, 6, 7], Rows: 3  \n",
        "Output: [[1, 2, 3], [4, 5, 6], [7, None, None]]  \n",
        "\n"
      ]
    },
    {
      "cell_type": "code",
      "execution_count": 12,
      "metadata": {
        "id": "tGRxqt0pfRql"
      },
      "outputs": [
        {
          "name": "stdout",
          "output_type": "stream",
          "text": [
            "[[1, 2, 3], [4, 5, 6], [7, None, None]]\n"
          ]
        }
      ],
      "source": [
        "inputArray = [1, 2, 3, 4, 5, 6, 7]\n",
        "rows = 3\n",
        "outputArray = []\n",
        "\n",
        "for i in range(0, len(inputArray), rows):\n",
        "    outputArray.append(inputArray[i:i+rows])\n",
        "    \n",
        "if len(outputArray[-1]) < rows:\n",
        "    outputArray[-1] += [None] * (rows - len(outputArray[-1]))\n",
        "\n",
        "print(outputArray)    \n",
        "\n"
      ]
    },
    {
      "cell_type": "markdown",
      "metadata": {
        "id": "iBPZVHDsfwpm"
      },
      "source": [
        "# **Question No 05**\n",
        "\n",
        "Write a program to sort a list of numbers into two separate lists:\n",
        "\n",
        "One list for all odd numbers (in ascending order).\n",
        "One list for all even numbers (in descending order).\n",
        "Use for loops for the entire process.\n",
        "\n",
        "**Example:**\n",
        "\n",
        "\n",
        "Input: [5, 8, 3, 10, 2, 7, 1, 6]  \n",
        "Output:  \n",
        "Odd: [1, 3, 5, 7]  \n",
        "Even: [10, 8, 6, 2]  \n"
      ]
    },
    {
      "cell_type": "code",
      "execution_count": 13,
      "metadata": {
        "id": "y8dyGGNAf42S"
      },
      "outputs": [
        {
          "name": "stdout",
          "output_type": "stream",
          "text": [
            "Odd: [1, 3, 5, 7]\n",
            "Even: [10, 8, 6, 2]\n"
          ]
        }
      ],
      "source": [
        "inputArray = [5, 8, 3, 10, 2, 7, 1, 6]\n",
        "odd = []\n",
        "even = []\n",
        "\n",
        "for i in inputArray:\n",
        "    if i % 2 == 0:\n",
        "        even.append(i)\n",
        "    else:\n",
        "        odd.append(i)\n",
        "\n",
        "odd.sort()\n",
        "even.sort(reverse=True)\n",
        "\n",
        "print(f\"Odd: {odd}\")\n",
        "print(f\"Even: {even}\")"
      ]
    },
    {
      "cell_type": "markdown",
      "metadata": {
        "id": "X_LfOnqskNTe"
      },
      "source": [
        "# **Question No 06**\n",
        "\n",
        "Write a program that uses a for loop to count the frequency of each character in a given string and stores the result in a dictionary.\n",
        "\n",
        "The program should ignore spaces and be case-insensitive.\n",
        "Display the dictionary as the final output.\n",
        "\n",
        "**Example:**\n",
        "\n",
        "Input: \"Programming is fun\"  \n",
        "Output: {'p': 1, 'r': 2, 'o': 1, 'g': 2, 'a': 1, 'm': 2, 'i': 2, 'n': 2, 's': 1, 'f': 1, 'u': 1}\n",
        "\n"
      ]
    },
    {
      "cell_type": "code",
      "execution_count": 14,
      "metadata": {
        "id": "1_-djYt-kW8F"
      },
      "outputs": [
        {
          "name": "stdout",
          "output_type": "stream",
          "text": [
            "{'p': 1, 'r': 2, 'o': 1, 'g': 2, 'a': 1, 'm': 2, 'i': 2, 'n': 2, 's': 1, 'f': 1, 'u': 1}\n"
          ]
        }
      ],
      "source": [
        "inputString = \"Programming is fun\"\n",
        "inputString = inputString.replace(\" \", \"\").lower()\n",
        "freq = {}\n",
        "\n",
        "for i in inputString:\n",
        "    if i in freq:\n",
        "        freq[i] += 1\n",
        "    else:\n",
        "        freq[i] = 1\n",
        "\n",
        "print(freq)        "
      ]
    }
  ],
  "metadata": {
    "colab": {
      "provenance": []
    },
    "kernelspec": {
      "display_name": "Python 3",
      "name": "python3"
    },
    "language_info": {
      "codemirror_mode": {
        "name": "ipython",
        "version": 3
      },
      "file_extension": ".py",
      "mimetype": "text/x-python",
      "name": "python",
      "nbconvert_exporter": "python",
      "pygments_lexer": "ipython3",
      "version": "3.13.0"
    }
  },
  "nbformat": 4,
  "nbformat_minor": 0
}
