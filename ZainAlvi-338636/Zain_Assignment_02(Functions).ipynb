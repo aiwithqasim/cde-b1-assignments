{
 "cells": [
  {
   "cell_type": "markdown",
   "metadata": {
    "id": "WbWe2auqg3ZE"
   },
   "source": [
    "\n",
    "# **Question No 01**\n",
    "\n",
    "Write a function called create_word_count that takes a list of strings and returns a dictionary where:\n",
    "\n",
    "Keys are unique words from the list.\n",
    "Values are the count of occurrences of each word.\n",
    "\n",
    "**Exmple:**\n",
    "words = ['apple', 'banana', 'apple', 'cherry', 'banana', 'apple']\n",
    "result = create_word_count(words)\n",
    "print(result)  # {'apple': 3, 'banana': 2, 'cherry': 1}\n",
    "\n"
   ]
  },
  {
   "cell_type": "code",
   "execution_count": 22,
   "metadata": {
    "id": "Y7n-RlA-iywL"
   },
   "outputs": [
    {
     "name": "stdout",
     "output_type": "stream",
     "text": [
      "{'apple': 2, 'banana': 2, 'orange': 1}\n"
     ]
    }
   ],
   "source": [
    "def create_word_count(words):\n",
    "    word_count = {}\n",
    "    for word in words:       \n",
    "        if word in word_count:\n",
    "            word_count[word] += 1\n",
    "        else:\n",
    "            word_count[word] = 1\n",
    "    return word_count \n",
    "\n",
    "words = ['apple', 'banana', 'orange', 'apple', 'banana']\n",
    "result = create_word_count(words)\n",
    "print(result) "
   ]
  },
  {
   "cell_type": "markdown",
   "metadata": {
    "id": "CWDqnzRRg3br"
   },
   "source": [
    "# **Question No 02**\n",
    "\n",
    "Write a function called sort_by_key that takes a list of dictionaries and a key to sort by.\n",
    "\n",
    "The function should return a new list sorted by the given key in ascending order.\n",
    "If the key doesn’t exist in a dictionary, ignore that dictionary.\n",
    "\n",
    "**Exmple:**\n",
    "\n",
    "data = [{'name': 'Alice', 'age': 25}, {'name': 'Bob', 'age': 22}, {'name': 'Charlie', 'age': 30}]\n",
    "sorted_data = sort_by_key(data, 'age')\n",
    "print(sorted_data)  \n",
    "# [{'name': 'Bob', 'age': 22}, {'name': 'Alice', 'age': 25}, {'name': 'Charlie', 'age': 30}]\n",
    "\n"
   ]
  },
  {
   "cell_type": "code",
   "execution_count": 5,
   "metadata": {
    "id": "y_7uTIbbi1fu"
   },
   "outputs": [
    {
     "name": "stdout",
     "output_type": "stream",
     "text": [
      "[{'name': 'zain', 'age': '19', 'ID': '338636'}, {'name': 'hassan', 'age': '21', 'ID': '345386'}, {'name': 'asad', 'age': '45', 'ID': '346854'}]\n"
     ]
    }
   ],
   "source": [
    "def sort_by_key(data, key):\n",
    "    Required_data = [item for item in data if key in item]\n",
    "    return sorted(Required_data, key=lambda x: x[key])\n",
    "\n",
    "data=[{'name':'zain','age':'19','ID':'338636'},\n",
    "      {'name':'asad','age':'45','ID':'346854'},\n",
    "      {'name':'hassan','age':'21','ID':'345386'}]\n",
    "result =sort_by_key(data,'age')\n",
    "print(result)"
   ]
  },
  {
   "cell_type": "markdown",
   "metadata": {
    "id": "CzVcAI2jg3ei"
   },
   "source": [
    "# **Question No 03**\n",
    "\n",
    "Write a function called filter_dict that takes a dictionary and a value threshold as arguments.\n",
    "\n",
    "The function should return a new dictionary containing only the key-value pairs where the value is greater than the threshold.\n",
    "\n",
    "**Exmple:**\n",
    "\n",
    "scores = {'Alice': 85, 'Bob': 90, 'Charlie': 78, 'David': 92}\n",
    "filtered_scores = filter_dict(scores, 80)\n",
    "print(filtered_scores)  # {'Alice': 85, 'Bob': 90, 'David': 92}\n",
    "\n"
   ]
  },
  {
   "cell_type": "code",
   "execution_count": 7,
   "metadata": {
    "id": "Y1fBZTKWi2wq"
   },
   "outputs": [
    {
     "name": "stdout",
     "output_type": "stream",
     "text": [
      "{'qasim': 88, 'asif': 94}\n"
     ]
    }
   ],
   "source": [
    "def filter_dict(data,threshold):\n",
    "    return {k: v for k, v in data.items() if v > threshold}\n",
    "\n",
    "data={'zain':46,'ahmed':19,'qasim':88,'asif':94}\n",
    "result=filter_dict(data,48)\n",
    "print(result)\n"
   ]
  },
  {
   "cell_type": "markdown",
   "metadata": {
    "id": "sKZLjKbog3jw"
   },
   "source": [
    "# **Question No 04**\n",
    "\n",
    "Write a function called find_common_keys that takes two dictionaries and returns a list of keys that are common to both.\n",
    "\n",
    "\n",
    "**Exmple:**\n",
    "\n",
    "dict1 = {'a': 1, 'b': 2, 'c': 3}\n",
    "dict2 = {'b': 4, 'c': 5, 'd': 6}\n",
    "common_keys = find_common_keys(dict1, dict2)\n",
    "print(common_keys)  # ['b', 'c']\n"
   ]
  },
  {
   "cell_type": "code",
   "execution_count": 25,
   "metadata": {
    "id": "IRSWbYvfi3cg"
   },
   "outputs": [
    {
     "name": "stdout",
     "output_type": "stream",
     "text": [
      "['c']\n"
     ]
    }
   ],
   "source": [
    "def common_keys(dic1, dic2):\n",
    "    same_keys = list(dic1.keys() & dic2.keys())\n",
    "    return same_keys\n",
    "\n",
    "dict1 = {'a': 1, 'b': 2, 'c': 3} \n",
    "dict2 = {'g': 4, 'c': 5, 'd': 6} \n",
    "\n",
    "result = common_keys(dict1, dict2)\n",
    "print(result)\n"
   ]
  },
  {
   "cell_type": "markdown",
   "metadata": {
    "id": "xBNyzbF6i41L"
   },
   "source": [
    "# **Question No 5**\n",
    "\n",
    "Write a function called update_grades that takes a list of dictionaries (representing students with their grades) and updates the grade of a student if their name matches the given name.\n",
    "\n",
    "\n",
    "**Exmple:**\n",
    "\n",
    "students = [{'name': 'Alice', 'grade': 85}, {'name': 'Bob', 'grade': 90}]\n",
    "updated_students = update_grades(students, 'Bob', 95)\n",
    "print(updated_students)  \n",
    "# [{'name': 'Alice', 'grade': 85}, {'name': 'Bob', 'grade': 95}]\n",
    "\n"
   ]
  },
  {
   "cell_type": "code",
   "execution_count": 17,
   "metadata": {
    "id": "dM8_HJcPi5wH"
   },
   "outputs": [
    {
     "name": "stdout",
     "output_type": "stream",
     "text": [
      "{'name': 'Bob', 'grade': 0}\n"
     ]
    }
   ],
   "source": [
    "def update_grades(data,name,new_grade):\n",
    "    for student in data:\n",
    "        if student.get('name')== name:\n",
    "            student['grade']=new_grade\n",
    "            break\n",
    "    return student\n",
    "\n",
    "data=[{'name': 'Alice', 'grade': 85}, {'name': 'Bob', 'grade': 90}]\n",
    "result=update_grades(data,'Bob',00)\n",
    "print(result)\n",
    "        "
   ]
  },
  {
   "cell_type": "markdown",
   "metadata": {
    "id": "LVPjDOqojosu"
   },
   "source": [
    "# **Question No 6**\n",
    "\n",
    "Write a function called merge_lists_to_dict that takes two lists of equal length:\n",
    "\n",
    "The first list contains keys.\n",
    "The second list contains values.\n",
    "The function should return a dictionary created by merging these lists.\n",
    "\n",
    "**Exmple:**\n",
    "keys = ['name', 'age', 'city']\n",
    "values = ['Alice', 25, 'New York']\n",
    "result = merge_lists_to_dict(keys, values)\n",
    "print(result)  # {'name': 'Alice', 'age': 25, 'city': 'New York'}\n",
    "\n"
   ]
  },
  {
   "cell_type": "code",
   "execution_count": 30,
   "metadata": {
    "id": "WXCP48lRjyET"
   },
   "outputs": [
    {
     "name": "stdout",
     "output_type": "stream",
     "text": [
      "{'name': 'John', 'age': 25, 'city': 'New York'}\n"
     ]
    }
   ],
   "source": [
    "def merge_list_to_div(keys,values):\n",
    "    merged_dic={}\n",
    "    for i in range(len(keys)):\n",
    "        merged_dic[keys[i]] = values[i]\n",
    "    return merged_dic\n",
    "\n",
    "keys = ['name', 'age', 'city']\n",
    "values = ['John', '25', 'New York']\n",
    "result = merge_list_to_div(keys, values)\n",
    "print(result) "
   ]
  },
  {
   "cell_type": "code",
   "execution_count": 34,
   "metadata": {},
   "outputs": [
    {
     "name": "stdout",
     "output_type": "stream",
     "text": [
      "(['name', 'age', 'city'], ['John', '25', 'New York'])\n"
     ]
    }
   ],
   "source": [
    "#additional from my side it takes a dictionary and give two lists one of keys and second of values\n",
    "\n",
    "def dic_to_list(dic):\n",
    "    keylist=[]\n",
    "    vallist=[]\n",
    "    for i in dic:\n",
    "        keylist.append(i)\n",
    "        vallist.append(dic[i])\n",
    "    return keylist,vallist\n",
    "\n",
    "dic={'name': 'John', 'age': '25', 'city': 'New York'}\n",
    "result=dic_to_list(dic)\n",
    "print(result)"
   ]
  },
  {
   "cell_type": "code",
   "execution_count": null,
   "metadata": {},
   "outputs": [],
   "source": []
  }
 ],
 "metadata": {
  "colab": {
   "provenance": []
  },
  "kernelspec": {
   "display_name": "Python 3 (ipykernel)",
   "language": "python",
   "name": "python3"
  },
  "language_info": {
   "codemirror_mode": {
    "name": "ipython",
    "version": 3
   },
   "file_extension": ".py",
   "mimetype": "text/x-python",
   "name": "python",
   "nbconvert_exporter": "python",
   "pygments_lexer": "ipython3",
   "version": "3.12.7"
  }
 },
 "nbformat": 4,
 "nbformat_minor": 4
}
