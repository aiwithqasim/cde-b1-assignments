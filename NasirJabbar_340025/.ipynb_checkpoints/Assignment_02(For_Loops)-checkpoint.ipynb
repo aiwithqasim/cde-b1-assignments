{
 "cells": [
  {
   "cell_type": "markdown",
   "metadata": {
    "id": "1E5r3wPNed0G"
   },
   "source": [
    "\n",
    "\n",
    "# **Question No 01**\n",
    "\n",
    "Use a for loop to count the number of occurrences of the word in the list and return all indices where the word occurs.\n",
    "\n",
    "**Exmple:**\n",
    "\n",
    "Input: ['apple', 'banana', 'apple', 'cherry', 'apple'], Search: 'apple'  \n",
    "Output: 'apple' found 3 times at indices: 0, 2, 4\n",
    "\n"
   ]
  },
  {
   "cell_type": "code",
   "execution_count": null,
   "metadata": {
    "id": "tHrz4YilefTD"
   },
   "outputs": [],
   "source": [
    "\n",
    "def find_word_indices(word_list, target_word):\n",
    "    indices = []\n",
    "    for i in range(len(word_list)):\n",
    "        if word_list[i] == target_word:\n",
    "            indices.append(i)\n",
    "            \n",
    "    return indices\n",
    "\n",
    "\n",
    "word_list = [\"apple\", \"banana\", \"apple\", \"orange\", \"apple\", \"grape\"]\n",
    "target_word = input(\"Type target word\")\n",
    "indices = find_word_indices(word_list, target_word)\n",
    "if indices != 0:\n",
    "    print(f\"The word '{target_word}' occurs at indices: {indices}\")\n",
    "    print(f\"The word '{target_word}' occurs {len(indices)} times.\")"
   ]
  },
  {
   "cell_type": "markdown",
   "metadata": {
    "id": "fN_U0nnCeeAF"
   },
   "source": [
    "\n",
    "# **Question No 02**\n",
    "\n",
    "Create a program to find all unique pairs of numbers in a list that add up to a target sum.\n",
    "\n",
    "Use a single list and a for loop (nested if necessary) to iterate through and find pairs without duplicates.\n",
    "Avoid repeating pairs like [3, 5] and [5, 3].\n",
    "\n",
    "**Example:**\n",
    "\n",
    "Input list: [2, 4, 3, 5, 7, 8, 1]  \n",
    "Target sum: 9  \n",
    "Output: [(2, 7), (4, 5), (1, 8)]\n"
   ]
  },
  {
   "cell_type": "code",
   "execution_count": 3,
   "metadata": {
    "id": "AfsJP7KTef3T"
   },
   "outputs": [
    {
     "name": "stdout",
     "output_type": "stream",
     "text": [
      "[[2, 7], [4, 5], [3, 6], [8, 1], [6, 3]]\n"
     ]
    }
   ],
   "source": [
    "def find_pairs(num_list, target_sum):\n",
    "    pairs = []\n",
    "    for i in range(len(num_list)):\n",
    "        for j in range(i + 1, len(num_list)):\n",
    "            if num_list[i] + num_list[j] == target_sum:\n",
    "                pairs.append([num_list[i], num_list[j]])\n",
    "    return pairs\n",
    "\n",
    "# Example usage:\n",
    "num_list = [2, 4, 3, 5, 7, 8, 1,]\n",
    "target_sum = 9\n",
    "pairs = find_pairs(num_list, target_sum)\n",
    "print(pairs)\n"
   ]
  },
  {
   "cell_type": "markdown",
   "metadata": {
    "id": "d8ZH6VPNewLh"
   },
   "source": [
    "# **Question No 03**\n",
    "\n",
    "Write a program to calculate the cumulative product of elements in a list.\n",
    "\n",
    "Use a single list and update it in place to store the cumulative product at each index.\n",
    "Use only a for loop.\n",
    "\n",
    "**Example:**\n",
    "\n",
    "Input: [2, 3, 4, 5]  \n",
    "Output: [2, 6, 24, 120]  \n"
   ]
  },
  {
   "cell_type": "code",
   "execution_count": 5,
   "metadata": {
    "id": "pYPfUitge7nW"
   },
   "outputs": [
    {
     "name": "stdout",
     "output_type": "stream",
     "text": [
      "[2, 6, 24, 120]\n"
     ]
    }
   ],
   "source": [
    "def cumulative_product(num_list):\n",
    "    product = 1\n",
    "    for i in range(len(num_list)):\n",
    "        product *= num_list[i]\n",
    "        num_list[i] = product\n",
    "    return num_list\n",
    "\n",
    "num_list =[2, 3, 4, 5]\n",
    "print(cumulative_product(num_list))\n"
   ]
  },
  {
   "cell_type": "markdown",
   "metadata": {
    "id": "jEtwOjpEfAYA"
   },
   "source": [
    "# **Question No 04**\n",
    "\n",
    "Write a program to reshape a 1D list into a 2D grid.\n",
    "\n",
    "Accept a list of numbers and the number of rows as input.\n",
    "Use for loops to split the list into sublists, each representing a row.\n",
    "If the list cannot be evenly divided into rows, pad it with None.\n",
    "\n",
    "**Example:**\n",
    "Input: [1, 2, 3, 4, 5, 6, 7], Rows: 3  \n",
    "Output: [[1, 2, 3], [4, 5, 6], [7, None, None]]  \n",
    "\n"
   ]
  },
  {
   "cell_type": "code",
   "execution_count": null,
   "metadata": {
    "id": "tGRxqt0pfRql"
   },
   "outputs": [],
   "source": [
    "def reshape_list(num_list, rows):\n",
    "    cols = (len(num_list) + rows - 1) // rows\n",
    "    grid = []\n",
    "    for i in range(rows):\n",
    "        row = num_list[i * cols:(i + 1) * cols]\n",
    "        grid.append(row + [None] * (cols - len(row)))\n",
    "    return grid\n",
    "\n",
    "num_list = [1, 2, 3, 4, 5, 6, 7]\n",
    "rows = 3\n",
    "print(reshape_list(num_list, rows))\n"
   ]
  },
  {
   "cell_type": "markdown",
   "metadata": {
    "id": "iBPZVHDsfwpm"
   },
   "source": [
    "# **Question No 05**\n",
    "\n",
    "Write a program to sort a list of numbers into two separate lists:\n",
    "\n",
    "One list for all odd numbers (in ascending order).\n",
    "One list for all even numbers (in descending order).\n",
    "Use for loops for the entire process.\n",
    "\n",
    "**Example:**\n",
    "\n",
    "\n",
    "Input: [5, 8, 3, 10, 2, 7, 1, 6]  \n",
    "Output:  \n",
    "Odd: [1, 3, 5, 7]  \n",
    "Even: [10, 8, 6, 2]  \n"
   ]
  },
  {
   "cell_type": "code",
   "execution_count": 13,
   "metadata": {
    "id": "y8dyGGNAf42S"
   },
   "outputs": [
    {
     "name": "stdout",
     "output_type": "stream",
     "text": [
      "Odd numbers: [13, 23, 31, 57, 67]\n",
      "Even numbers: [92, 44, 10]\n"
     ]
    }
   ],
   "source": [
    "def sort_numbers(num_list):\n",
    "    odd = []\n",
    "    even = []\n",
    "    for num in num_list:\n",
    "        if num % 2 == 0:\n",
    "            even.append(num)\n",
    "        else:\n",
    "            odd.append(num)\n",
    "    odd.sort()\n",
    "    even.sort()\n",
    "    even.reverse()\n",
    "    return odd, even\n",
    "\n",
    "num_list = [10, 23, 44, 57, 92, 31, 13, 67]\n",
    "odd, even = sort_numbers(num_list)\n",
    "print(\"Odd numbers:\", odd)\n",
    "print(\"Even numbers:\", even)\n",
    "\n"
   ]
  },
  {
   "cell_type": "markdown",
   "metadata": {
    "id": "X_LfOnqskNTe"
   },
   "source": [
    "# **Question No 06**\n",
    "\n",
    "Write a program that uses a for loop to count the frequency of each character in a given string and stores the result in a dictionary.\n",
    "\n",
    "The program should ignore spaces and be case-insensitive.\n",
    "Display the dictionary as the final output.\n",
    "\n",
    "**Example:**\n",
    "\n",
    "Input: \"Programming is fun\"  \n",
    "Output: {'p': 1, 'r': 2, 'o': 1, 'g': 2, 'a': 1, 'm': 2, 'i': 2, 'n': 2, 's': 1, 'f': 1, 'u': 1}\n",
    "\n"
   ]
  },
  {
   "cell_type": "code",
   "execution_count": 15,
   "metadata": {
    "id": "1_-djYt-kW8F"
   },
   "outputs": [
    {
     "name": "stdout",
     "output_type": "stream",
     "text": [
      "{'h': 1, 'e': 1, 'l': 3, 'o': 2, 'w': 1, 'r': 1, 'd': 1}\n"
     ]
    }
   ],
   "source": [
    "def count_chars(input_string):\n",
    "    input_string = input_string.lower()\n",
    "    char_count = {}\n",
    "    for char in input_string:\n",
    "        if char != ' ':\n",
    "            char_count[char] = char_count.get(char, 0) + 1\n",
    "    return char_count\n",
    "\n",
    "input_string = \"Hello World\"\n",
    "print(count_chars(input_string))\n"
   ]
  },
  {
   "cell_type": "code",
   "execution_count": null,
   "metadata": {},
   "outputs": [],
   "source": []
  }
 ],
 "metadata": {
  "colab": {
   "provenance": []
  },
  "kernelspec": {
   "display_name": "Python 3 (ipykernel)",
   "language": "python",
   "name": "python3"
  },
  "language_info": {
   "codemirror_mode": {
    "name": "ipython",
    "version": 3
   },
   "file_extension": ".py",
   "mimetype": "text/x-python",
   "name": "python",
   "nbconvert_exporter": "python",
   "pygments_lexer": "ipython3",
   "version": "3.12.7"
  }
 },
 "nbformat": 4,
 "nbformat_minor": 4
}
