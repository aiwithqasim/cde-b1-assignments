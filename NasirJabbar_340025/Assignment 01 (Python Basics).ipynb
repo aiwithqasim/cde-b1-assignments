{
 "cells": [
  {
   "cell_type": "markdown",
   "metadata": {},
   "source": [
    "# Part -1 Python Basics (Variables)"
   ]
  },
  {
   "cell_type": "markdown",
   "metadata": {},
   "source": [
    "1. Print Your Name with your Father name and Date of birth using suitable escape sequence charactor"
   ]
  },
  {
   "cell_type": "code",
   "execution_count": null,
   "metadata": {},
   "outputs": [],
   "source": [
    "# Write your code here# Write your code here\n",
    "print(\"my name is : Nasir\")\n",
    "print(\"my father  name is : abdul Jabbar\")\n",
    "print(\"i was born in 1997 \")\n",
    "print(\"My name is Nasir my father's name is Abdul Jabbar I was born in 1997 in Karachi at 12 am\")\n",
    "\n"
   ]
  },
  {
   "cell_type": "markdown",
   "metadata": {},
   "source": [
    "2. Write your small bio using variables and print it using print function"
   ]
  },
  {
   "cell_type": "code",
   "execution_count": 1,
   "metadata": {},
   "outputs": [
    {
     "name": "stdout",
     "output_type": "stream",
     "text": [
      "My name is Nasir Jabbar, I was born in Karachi in 1997\n"
     ]
    }
   ],
   "source": [
    "# Write your code here\n",
    "bio = \"My name is Nasir Jabbar, I was born in Karachi in 1997\"\n",
    "print(bio)\n",
    "\n",
    "\n"
   ]
  },
  {
   "cell_type": "markdown",
   "metadata": {},
   "source": [
    "3. Write a program in which use all the operators we can use in Python"
   ]
  },
  {
   "cell_type": "code",
   "execution_count": null,
   "metadata": {},
   "outputs": [],
   "source": [
    "a =15\n",
    "b=10\n",
    "\n",
    "print(\"using +\", a+b )\n",
    "print(\"using -\",a-b)\n",
    "print(\"using *\",a*b)\n",
    "print(\"using /\",a/b)\n",
    "print(\"using %\",a%b)"
   ]
  },
  {
   "cell_type": "markdown",
   "metadata": {},
   "source": [
    "4. Completes the following steps of small task:\n",
    "    - Mention Marks of English , Islamiat and Maths out of 100 in 3 different variables\n",
    "    - Mention Variable of Total Marks and assign 300 to it\n",
    "    - Calculate Percentage"
   ]
  },
  {
   "cell_type": "code",
   "execution_count": null,
   "metadata": {},
   "outputs": [],
   "source": [
    "# Write your code here\n",
    "eng = 75\n",
    "islamyat= 89\n",
    "math = 95 \n",
    "total = eng+islamyat+math\n",
    "print(\"total marks:\",total)\n",
    "percent = ((total)/300) * 100\n",
    "print(\"total percent:\",percent)"
   ]
  },
  {
   "cell_type": "markdown",
   "metadata": {},
   "source": [
    "# Part -2 Python Basics (Conditional Statements)"
   ]
  },
  {
   "cell_type": "markdown",
   "metadata": {},
   "source": [
    "1) A company decided to give bonus of 5% to employee if his/her year of service is more than 5 years.\n",
    "Ask user for their salary and year of service and print the net bonus amount."
   ]
  },
  {
   "cell_type": "code",
   "execution_count": null,
   "metadata": {},
   "outputs": [],
   "source": [
    "#Type your code here\n",
    "year = int(input(\"year of service\"))\n",
    "if year >= 5:\n",
    "    print(\"this employee is eligbale for bonus\")\n",
    "    sal = int(input(\"enter salary\"))\n",
    "    per = (5/100)*sal\n",
    "    print(\"your bonus\",per)\n",
    "else:\n",
    "    print(\"not eligibale\")"
   ]
  },
  {
   "cell_type": "markdown",
   "metadata": {},
   "source": [
    "\n",
    "2) Write a program to check whether a person is eligible for voting or not. (accept age from user) if age is greater than 17 eligible otherwise not eligible"
   ]
  },
  {
   "cell_type": "code",
   "execution_count": null,
   "metadata": {},
   "outputs": [],
   "source": [
    "#Type your code here\n",
    "age =int(input(\"enter you age\"))\n",
    "if age >=17:\n",
    "    print(\"You are eligible\")\n",
    "else:\n",
    "    print(\"You are not eligible\")"
   ]
  },
  {
   "cell_type": "markdown",
   "metadata": {},
   "source": [
    "\n",
    "3) Write a program to check whether a number entered by user is even or odd."
   ]
  },
  {
   "cell_type": "code",
   "execution_count": 3,
   "metadata": {},
   "outputs": [
    {
     "name": "stdin",
     "output_type": "stream",
     "text": [
      "enter a number 6\n"
     ]
    },
    {
     "name": "stdout",
     "output_type": "stream",
     "text": [
      "Even\n"
     ]
    }
   ],
   "source": [
    "#Type your code here\n",
    "number = int(input(\"enter a number\"))\n",
    "num1= number%2\n",
    "if num1 == 0:\n",
    "    print(\"Even\")\n",
    "else :\n",
    "    print(\"Odd\")"
   ]
  },
  {
   "cell_type": "markdown",
   "metadata": {},
   "source": [
    "4) Write a program to check whether a number is divisible by 7 or not.\n",
    "Show Answer"
   ]
  },
  {
   "cell_type": "code",
   "execution_count": 9,
   "metadata": {},
   "outputs": [
    {
     "name": "stdin",
     "output_type": "stream",
     "text": [
      "enter a number 7\n"
     ]
    },
    {
     "name": "stdout",
     "output_type": "stream",
     "text": [
      "okey\n"
     ]
    }
   ],
   "source": [
    "#Type your code here\n",
    "#Type your code here\n",
    "number = int(input(\"enter a number\"))\n",
    "num1= number%7\n",
    "if num1 == 0:\n",
    "    print(\"Number is divisible by 7\")\n",
    "else :\n",
    "    print(\"Number is not divisible by 7\")"
   ]
  },
  {
   "cell_type": "markdown",
   "metadata": {},
   "source": [
    "5) Write a program to display \n",
    "\"Hello\" if a number entered by user is a multiple of five , otherwise print \"Bye\"."
   ]
  },
  {
   "cell_type": "code",
   "execution_count": 13,
   "metadata": {},
   "outputs": [
    {
     "name": "stdin",
     "output_type": "stream",
     "text": [
      "enter a number 5\n"
     ]
    },
    {
     "name": "stdout",
     "output_type": "stream",
     "text": [
      "HELLO\n"
     ]
    }
   ],
   "source": [
    "#Type your code here\n",
    "#Type your code here\n",
    "number = int(input(\"enter a number\"))\n",
    "num1= number%5\n",
    "if num1 == 0:\n",
    "    print(\"HELLO\")\n",
    "else :\n",
    "    print(\"BYE\")"
   ]
  },
  {
   "cell_type": "markdown",
   "metadata": {},
   "source": [
    "7) Write a program to display the last digit of a number.\n"
   ]
  },
  {
   "cell_type": "code",
   "execution_count": 15,
   "metadata": {},
   "outputs": [
    {
     "name": "stdout",
     "output_type": "stream",
     "text": [
      "9\n"
     ]
    }
   ],
   "source": [
    "#Type your code here\n",
    "number=[2,3,4,5,6,7,8,9]\n",
    "print(number[7])"
   ]
  },
  {
   "cell_type": "markdown",
   "metadata": {},
   "source": [
    "9) Take values of length and breadth of a rectangle from user and print if it is square or rectangle."
   ]
  },
  {
   "cell_type": "code",
   "execution_count": 19,
   "metadata": {},
   "outputs": [
    {
     "name": "stdin",
     "output_type": "stream",
     "text": [
      "Enter lenght 6\n",
      "Enter breadth 9\n"
     ]
    },
    {
     "name": "stdout",
     "output_type": "stream",
     "text": [
      "It is Rectangle\n"
     ]
    }
   ],
   "source": [
    "#Type your code here \n",
    "leng = int(input(\"Enter lenght\"))\n",
    "bre = int(input(\"Enter breadth\"))\n",
    "if leng == bre:\n",
    "    print(\"It is Square\")\n",
    "else:\n",
    "    print(\"It is Rectangle\")\n",
    "\n"
   ]
  },
  {
   "cell_type": "markdown",
   "metadata": {},
   "source": [
    "10) Take two int values from user and print greatest among them."
   ]
  },
  {
   "cell_type": "code",
   "execution_count": 39,
   "metadata": {},
   "outputs": [
    {
     "name": "stdin",
     "output_type": "stream",
     "text": [
      "Enter 1st number1 9\n",
      "Enter 2nd number2 2\n"
     ]
    },
    {
     "name": "stdout",
     "output_type": "stream",
     "text": [
      "number 1 is greater than number 2\n"
     ]
    }
   ],
   "source": [
    "# Type your \n",
    "num1 = int(input(\"Enter 1st number1\"))\n",
    "num2 = int(input(\"Enter 2nd number2\"))\n",
    "if num1 > num2:\n",
    "    print(\"number 1 is greater than number 2\")\n",
    "elif num2 > num1:\n",
    "    print(\"number 2 is greater than number 1\")\n",
    "\n",
    "else:\n",
    "    print(\"Both are Equal\")"
   ]
  },
  {
   "cell_type": "markdown",
   "metadata": {},
   "source": [
    "11) A shop will give discount of 10% if the cost of purchased quantity is more than 1000.\n",
    "Ask user for quantity\n",
    "Suppose, one unit will cost 100.\n",
    "Judge and print total cost for user."
   ]
  },
  {
   "cell_type": "code",
   "execution_count": 45,
   "metadata": {},
   "outputs": [
    {
     "name": "stdin",
     "output_type": "stream",
     "text": [
      "Enter price 5555\n"
     ]
    },
    {
     "name": "stdout",
     "output_type": "stream",
     "text": [
      "You have reached the discount price and saved: 277.75\n"
     ]
    }
   ],
   "source": [
    "#Type your code here\n",
    "num1 = int(input(\"Enter price\"))\n",
    "if num1 > 1000:\n",
    "    x = (5/100) * num1\n",
    "    print(\"You have reached the discount price and saved:\", x)\n",
    "else:\n",
    "    print(\"Sorry!!! Discount not availabe for you\")"
   ]
  },
  {
   "cell_type": "markdown",
   "metadata": {},
   "source": [
    "12) A school has following rules for grading system:\n",
    "\n",
    "a. Below 25 - F\n",
    "\n",
    "b. 25 to 45 - E\n",
    "\n",
    "c. 45 to 50 - D\n",
    "\n",
    "d. 50 to 60 - C\n",
    "\n",
    "e. 60 to 80 - B\n",
    "\n",
    "f. Above 80 - A\n",
    "\n",
    "Ask user to enter marks and print the corresponding grade."
   ]
  },
  {
   "cell_type": "code",
   "execution_count": 75,
   "metadata": {},
   "outputs": [
    {
     "name": "stdin",
     "output_type": "stream",
     "text": [
      "Enter price 55\n"
     ]
    },
    {
     "name": "stdout",
     "output_type": "stream",
     "text": [
      "A grade\n"
     ]
    }
   ],
   "source": [
    "#Type your code here\n",
    "num1 = int(input(\"Enter price\"))\n",
    "if num1 < 25 :\n",
    "    print(\"fail\")\n",
    "elif num1 < 25 and num1 > 45 :\n",
    "    print(\"E\")\n",
    "elif num1 < 45 and num1 > 50 :\n",
    "    print(\"D grade\")\n",
    "elif num1 < 50 and num1 >60 :\n",
    "    print(\"C grade\")\n",
    "elif num1 < 60 and num1 > 80 :\n",
    "    print(\"B grade\")\n",
    "elif num1 < 80  :\n",
    "    print(\"A grade\")\n",
    "else:\n",
    "    print(\"invalid input\")"
   ]
  },
  {
   "cell_type": "markdown",
   "metadata": {},
   "source": [
    "14)A student will not be allowed to sit in exam if his/her attendence is less than 75%.\n",
    "\n",
    "Take following input from user\n",
    "\n",
    "- Number of classes held\n",
    "\n",
    "- Number of classes attended.\n",
    "\n",
    "And print\n",
    "\n",
    "- percentage of class attended\n",
    "\n",
    "- Is student is allowed to sit in exam or not.\n"
   ]
  },
  {
   "cell_type": "code",
   "execution_count": 85,
   "metadata": {},
   "outputs": [
    {
     "name": "stdin",
     "output_type": "stream",
     "text": [
      "Enter Number of classes held 66\n",
      "Enter Number of classes attended 55\n"
     ]
    },
    {
     "name": "stdout",
     "output_type": "stream",
     "text": [
      "Your attend 83.33333333333334% of class \n"
     ]
    }
   ],
   "source": [
    "#Type your code here\n",
    "num1 = int(input(\"Enter Number of classes held\"))\n",
    "num2 = int(input(\"Enter Number of classes attended\"))\n",
    "percent = (num2/num1) * 100\n",
    "if percent > 75:\n",
    "    print(f\"Your attend {percent}% of class \")\n",
    "else:\n",
    "    print(\"You are not allowed \")\n",
    "\n"
   ]
  },
  {
   "cell_type": "markdown",
   "metadata": {},
   "source": [
    "15) Modify the above question to allow student to sit if he/she has medical cause. Ask user if he/she has medical cause or not ( 'Y' or 'N' ) and print accordingly."
   ]
  },
  {
   "cell_type": "code",
   "execution_count": 107,
   "metadata": {},
   "outputs": [
    {
     "name": "stdin",
     "output_type": "stream",
     "text": [
      "tell me if you have any medical cause N\n"
     ]
    },
    {
     "name": "stdout",
     "output_type": "stream",
     "text": [
      "you dont have any medical cause\n"
     ]
    }
   ],
   "source": [
    "#Type your code here\n",
    "m = input(\"tell me if you have any medical cause\")\n",
    "if m == \"y\" or m == \"Y\":\n",
    "    print(\"you have medical cause\")\n",
    "elif m == \"n\"  or m == \"N\":\n",
    "    print(\"you dont have any medical cause\")\n",
    "else :\n",
    "    print(\"please enter a valid input\")\n",
    "    "
   ]
  },
  {
   "cell_type": "markdown",
   "metadata": {},
   "source": [
    "16) Write a program to check if a year is leap year or not.\n",
    "\n",
    "If a year is divisible by 4 then it is leap year but if the year is century year like 2000, 1900, 2100 then it must be divisible by 400."
   ]
  },
  {
   "cell_type": "code",
   "execution_count": 33,
   "metadata": {},
   "outputs": [
    {
     "name": "stdin",
     "output_type": "stream",
     "text": [
      "Enter a year:  5\n"
     ]
    },
    {
     "name": "stdout",
     "output_type": "stream",
     "text": [
      "5 is not a leap year.\n"
     ]
    }
   ],
   "source": [
    "#Type your code here\n",
    "year = int(input(\"Enter a year: \"))\n",
    "\n",
    "if year % 4 == 0 and (year % 100 != 0 or year % 400 == 0):\n",
    "    print(f\"{year} is a leap year.\")\n",
    "else:\n",
    "    print(f\"{year} is not a leap year.\")"
   ]
  },
  {
   "cell_type": "markdown",
   "metadata": {},
   "source": [
    "17) Ask user to enter age, gender ( M or F ), marital status ( Y or N ) and then using following rules print their place of service.\n",
    "\n",
    "if employee is female, then she will work only in urban areas.\n",
    "\n",
    "if employee is a male and age is in between 20 to 40 then he may work in anywhere\n",
    "\n",
    "if employee is male and age is in between 40 t0 60 then he will work in urban areas only.\n",
    "\n",
    "And any other input of age should print \"ERROR\""
   ]
  },
  {
   "cell_type": "code",
   "execution_count": 37,
   "metadata": {},
   "outputs": [
    {
     "name": "stdin",
     "output_type": "stream",
     "text": [
      "Enter your age:  55\n",
      "Enter your gender (M or F):  f\n"
     ]
    },
    {
     "name": "stdout",
     "output_type": "stream",
     "text": [
      "Urban areas\n"
     ]
    }
   ],
   "source": [
    "age = int(input(\"Enter your age: \"))\n",
    "gender = input(\"Enter your gender (M or F): \")\n",
    "\n",
    "if gender.upper() == 'F':\n",
    "    print(\"Urban areas\")\n",
    "elif gender.upper() == 'M':\n",
    "    if 20 <= age <= 40:\n",
    "        print(\"Anywhere\")\n",
    "    elif 40 < age <= 60:\n",
    "        print(\"Urban areas\")\n",
    "    else:\n",
    "        print(\"ERROR\")\n"
   ]
  },
  {
   "cell_type": "markdown",
   "metadata": {},
   "source": [
    "6) Write a program to calculate the electricity bill (accept number of unit from user) according to the following criteria :\n",
    "     Unit                                                     Price  \n",
    "uptp 100 units                                             no charge\n",
    "Next 200 units                                              Rs 5 per unit\n",
    "After 200 units                                             Rs 10 per unit\n",
    "(For example if input unit is 350 than total bill amount is Rs.3500\n",
    "(For example if input unit is 97 than total bill amount is Rs.0\n",
    "(For example if input unit is 150 than total bill amount is Rs.750"
   ]
  },
  {
   "cell_type": "code",
   "execution_count": 35,
   "metadata": {},
   "outputs": [
    {
     "name": "stdin",
     "output_type": "stream",
     "text": [
      "Enter units:  888\n"
     ]
    },
    {
     "name": "stdout",
     "output_type": "stream",
     "text": [
      "You will be charged Rs 10 per unit, so your bill is 8880.\n"
     ]
    }
   ],
   "source": [
    "unit = int(input(\"Enter units: \"))\n",
    "\n",
    "if unit <= 100:\n",
    "    print(\"No charges for you.\")\n",
    "elif 100 < unit < 200:\n",
    "    bill = 5 * unit\n",
    "    print(f\"You will be charged Rs 5 per unit, so your bill is {bill}.\")\n",
    "elif unit >= 200:\n",
    "    bill = 10 * unit\n",
    "    print(f\"You will be charged Rs 10 per unit, so your bill is {bill}.\")\n",
    "else:\n",
    "    print(\"Wrong input.\")\n"
   ]
  },
  {
   "cell_type": "markdown",
   "metadata": {},
   "source": [
    "13) Take input of age of 3 people by user and determine oldest and youngest among them."
   ]
  },
  {
   "cell_type": "code",
   "execution_count": 5,
   "metadata": {},
   "outputs": [
    {
     "name": "stdin",
     "output_type": "stream",
     "text": [
      "enter person1 age 3\n",
      "enter person2 age 6\n",
      "enter person3 age 9\n"
     ]
    },
    {
     "name": "stdout",
     "output_type": "stream",
     "text": [
      "person3 is older than all\n"
     ]
    }
   ],
   "source": [
    "#Type your code here\n",
    "age1 = int(input(\"enter person1 age\"))\n",
    "age2 = int(input(\"enter person2 age\"))\n",
    "age3 = int(input(\"enter person3 age\"))\n",
    "if age1 > age2 and age1 > age3:\n",
    "    print(\"person1 is older than all\")\n",
    "elif age2 > age1 and age2 > age3:\n",
    "    print(\"person2 is older than all\")\n",
    "elif age3 > age1 and age3 > age2:\n",
    "    print(\"person3 is older than all\")\n",
    "else:\n",
    "    print(\"wrong input\")"
   ]
  },
  {
   "cell_type": "code",
   "execution_count": null,
   "metadata": {},
   "outputs": [],
   "source": []
  }
 ],
 "metadata": {
  "kernelspec": {
   "display_name": "Python 3 (ipykernel)",
   "language": "python",
   "name": "python3"
  },
  "language_info": {
   "codemirror_mode": {
    "name": "ipython",
    "version": 3
   },
   "file_extension": ".py",
   "mimetype": "text/x-python",
   "name": "python",
   "nbconvert_exporter": "python",
   "pygments_lexer": "ipython3",
   "version": "3.12.7"
  }
 },
 "nbformat": 4,
 "nbformat_minor": 4
}
