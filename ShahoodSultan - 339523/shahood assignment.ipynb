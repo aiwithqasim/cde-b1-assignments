{
 "cells": [
  {
   "cell_type": "markdown",
   "metadata": {},
   "source": [
    "# Part -1 Python Basics (Variables)"
   ]
  },
  {
   "cell_type": "markdown",
   "metadata": {},
   "source": [
    "1. Print Your Name with your Father name and Date of birth using suitable escape sequence charactor"
   ]
  },
  {
   "cell_type": "code",
   "execution_count": 7,
   "metadata": {},
   "outputs": [
    {
     "name": "stdout",
     "output_type": "stream",
     "text": [
      "shahood sultan\n",
      "nadeem sultan\n",
      "13-03-2003\n"
     ]
    }
   ],
   "source": [
    "sname = \"shahood sultan\"\n",
    "F_name= \"nadeem sultan\"\n",
    "DOB = \"13-03-2003\"\n",
    "\n",
    "print(sname)\n",
    "print(F_name)\n",
    "print(DOB)"
   ]
  },
  {
   "cell_type": "markdown",
   "metadata": {},
   "source": [
    "2. Write your small bio using variables and print it using print function"
   ]
  },
  {
   "cell_type": "code",
   "execution_count": 11,
   "metadata": {},
   "outputs": [
    {
     "name": "stdout",
     "output_type": "stream",
     "text": [
      "hello, my name is shahood sultan and im a student of SMIT and currently studying cloud data engineering\n"
     ]
    }
   ],
   "source": [
    "small_bio= \"hello, my name is shahood sultan and im a student of SMIT and currently studying cloud data engineering\"\n",
    "print(small_bio)"
   ]
  },
  {
   "cell_type": "markdown",
   "metadata": {},
   "source": [
    "3. Write a program in which use all the operators we can use in Python"
   ]
  },
  {
   "cell_type": "code",
   "execution_count": 101,
   "metadata": {},
   "outputs": [
    {
     "name": "stdin",
     "output_type": "stream",
     "text": [
      "enter a number: 25\n",
      "enter a number: 45\n"
     ]
    },
    {
     "name": "stdout",
     "output_type": "stream",
     "text": [
      "70\n",
      "-20\n",
      "1125\n",
      "0.5555555555555556\n"
     ]
    }
   ],
   "source": [
    "a = int (input(\"enter a number:\"))\n",
    "b = int (input(\"enter a number:\"))\n",
    "addition = a + b\n",
    "subtraction = a - b\n",
    "multiplication = a * b\n",
    "division = a / b  # Returns float\n",
    "\n",
    "\n",
    "# Display results\n",
    "print(addition)\n",
    "print(subtraction)\n",
    "print(multiplication)\n",
    "print(division)\n"
   ]
  },
  {
   "cell_type": "markdown",
   "metadata": {},
   "source": [
    "4. Completes the following steps of small task:\n",
    "    - Mention Marks of English , Islamiat and Maths out of 100 in 3 different variables\n",
    "    - Mention Variable of Total Marks and assign 300 to it\n",
    "    - Calculate Percentage"
   ]
  },
  {
   "cell_type": "code",
   "execution_count": 23,
   "metadata": {},
   "outputs": [
    {
     "name": "stdout",
     "output_type": "stream",
     "text": [
      "78\n",
      "55\n",
      "86\n",
      "16418.333333333332\n"
     ]
    }
   ],
   "source": [
    "isl = 78\n",
    "maths= 55\n",
    "english = 86\n",
    "\n",
    "total_marks = 300\n",
    "\n",
    "percentage = (isl+ english + maths/total_marks)*100\n",
    "\n",
    "print(isl)\n",
    "print(maths)\n",
    "print(english)\n",
    "print(percentage)"
   ]
  },
  {
   "cell_type": "markdown",
   "metadata": {},
   "source": [
    "# Part -2 Python Basics (Conditional Statements)"
   ]
  },
  {
   "cell_type": "markdown",
   "metadata": {},
   "source": [
    "1) A company decided to give bonus of 5% to employee if his/her year of service is more than 5 years.\n",
    "Ask user for their salary and year of service and print the net bonus amount."
   ]
  },
  {
   "cell_type": "code",
   "execution_count": 25,
   "metadata": {},
   "outputs": [
    {
     "name": "stdin",
     "output_type": "stream",
     "text": [
      "enter your salary 50000\n",
      "number of years with the company 6\n"
     ]
    },
    {
     "name": "stdout",
     "output_type": "stream",
     "text": [
      "2500.0\n"
     ]
    }
   ],
   "source": [
    "\n",
    "salary =float(input(\"enter your salary\"))\n",
    "years = int(input(\"number of years with the company\"))\n",
    "if years >= 5:\n",
    "    new_salary = (0.05*salary)\n",
    "    print(new_salary)\n",
    "else:\n",
    "    print(\"not applicable\")"
   ]
  },
  {
   "cell_type": "markdown",
   "metadata": {},
   "source": [
    "\n",
    "2) Write a program to check whether a person is eligible for voting or not. (accept age from user) if age is greater than 17 eligible otherwise not eligible"
   ]
  },
  {
   "cell_type": "code",
   "execution_count": 27,
   "metadata": {},
   "outputs": [
    {
     "name": "stdin",
     "output_type": "stream",
     "text": [
      "enter yout age 17\n"
     ]
    },
    {
     "name": "stdout",
     "output_type": "stream",
     "text": [
      "Not Eligible for voting!\n"
     ]
    }
   ],
   "source": [
    "#Type your code here\n",
    "age=int(input(\"enter yout age\"))\n",
    "if age > 17:\n",
    "    print(\"Eligible for voting!\")\n",
    "else:\n",
    "    print(\"Not Eligible for voting!\")"
   ]
  },
  {
   "cell_type": "markdown",
   "metadata": {},
   "source": [
    "\n",
    "3) Write a program to check whether a number entered by user is even or odd."
   ]
  },
  {
   "cell_type": "code",
   "execution_count": 31,
   "metadata": {},
   "outputs": [
    {
     "name": "stdin",
     "output_type": "stream",
     "text": [
      "enter any number 25\n"
     ]
    },
    {
     "name": "stdout",
     "output_type": "stream",
     "text": [
      "25 is odd\n"
     ]
    }
   ],
   "source": [
    "number=int(input(\"enter any number\"))\n",
    "if number %2 == 0:\n",
    "    print(number , \"is even \")\n",
    "else:\n",
    "    print(number ,\"is odd\")"
   ]
  },
  {
   "cell_type": "markdown",
   "metadata": {},
   "source": [
    "4) Write a program to check whether a number is divisible by 7 or not.\n",
    "Show Answer"
   ]
  },
  {
   "cell_type": "code",
   "execution_count": 35,
   "metadata": {},
   "outputs": [
    {
     "name": "stdin",
     "output_type": "stream",
     "text": [
      "enter a number  66\n"
     ]
    },
    {
     "name": "stdout",
     "output_type": "stream",
     "text": [
      "number is not divisable by 7\n"
     ]
    }
   ],
   "source": [
    "number = int(input(\"enter a number \"))\n",
    "if number %7 ==0 :\n",
    "    print('number is divisible by 7')\n",
    "else:\n",
    "    print('number is not divisable by 7')"
   ]
  },
  {
   "cell_type": "markdown",
   "metadata": {},
   "source": [
    "5) Write a program to display \n",
    "\"Hello\" if a number entered by user is a multiple of five , otherwise print \"Bye\"."
   ]
  },
  {
   "cell_type": "code",
   "execution_count": 39,
   "metadata": {},
   "outputs": [
    {
     "name": "stdin",
     "output_type": "stream",
     "text": [
      "ënter a number 23\n"
     ]
    },
    {
     "name": "stdout",
     "output_type": "stream",
     "text": [
      "bye\n"
     ]
    }
   ],
   "source": [
    "number = int(input(\"ënter a number\"))\n",
    "if number % 5 == 0:\n",
    "    print('hello')\n",
    "else:\n",
    "    print(\"bye\")\n"
   ]
  },
  {
   "cell_type": "markdown",
   "metadata": {},
   "source": [
    "7) Write a program to display the last digit of a number.\n"
   ]
  },
  {
   "cell_type": "code",
   "execution_count": 41,
   "metadata": {},
   "outputs": [
    {
     "name": "stdin",
     "output_type": "stream",
     "text": [
      "Enter a number:  2546886\n"
     ]
    },
    {
     "name": "stdout",
     "output_type": "stream",
     "text": [
      "The last digit of the number 2546886 is 6\n"
     ]
    }
   ],
   "source": [
    "\n",
    "number = int(input(\"Enter a number: \"))\n",
    "last_digit = number % 10\n",
    "print(f\"The last digit of the number {number} is {last_digit}\")\n"
   ]
  },
  {
   "cell_type": "markdown",
   "metadata": {},
   "source": [
    "9) Take values of length and breadth of a rectangle from user and print if it is square or rectangle."
   ]
  },
  {
   "cell_type": "code",
   "execution_count": 45,
   "metadata": {},
   "outputs": [
    {
     "name": "stdin",
     "output_type": "stream",
     "text": [
      "enter the length: 10\n",
      "enter the breadth:  62\n"
     ]
    },
    {
     "name": "stdout",
     "output_type": "stream",
     "text": [
      "it is rectangle\n"
     ]
    }
   ],
   "source": [
    "length = int(input(\"enter the length:\"))\n",
    "breadth = int(input(\"enter the breadth: \"))\n",
    "\n",
    "if length == breadth :\n",
    "    print(\"it is a square\")\n",
    "else:\n",
    "    print (\"it is rectangle\")"
   ]
  },
  {
   "cell_type": "markdown",
   "metadata": {},
   "source": [
    "10) Take two int values from user and print greatest among them."
   ]
  },
  {
   "cell_type": "code",
   "execution_count": 59,
   "metadata": {},
   "outputs": [
    {
     "name": "stdin",
     "output_type": "stream",
     "text": [
      "enter a number 12\n",
      "enter a number  6\n"
     ]
    },
    {
     "name": "stdout",
     "output_type": "stream",
     "text": [
      "12 is greater then user2\n"
     ]
    }
   ],
   "source": [
    "user1 = int(input(\"enter a number\"))\n",
    "user2 = int(input(\"enter a number \"))\n",
    "\n",
    "if user1 > user2 :\n",
    "    print(user1 ,\"is greater then user2\")\n",
    "elif user1< user2:\n",
    "    print(user2, \"is greater then user1\")\n",
    "else:\n",
    "    print(\"both numbers are equal\")\n",
    "    \n",
    "        \n",
    " \n",
    "    "
   ]
  },
  {
   "cell_type": "markdown",
   "metadata": {},
   "source": [
    "11) A shop will give discount of 10% if the cost of purchased quantity is more than 1000.\n",
    "Ask user for quantity\n",
    "Suppose, one unit will cost 100.\n",
    "Judge and print total cost for user."
   ]
  },
  {
   "cell_type": "code",
   "execution_count": 109,
   "metadata": {},
   "outputs": [
    {
     "name": "stdin",
     "output_type": "stream",
     "text": [
      "Enter the quantity of items purchased:  1001\n"
     ]
    },
    {
     "name": "stdout",
     "output_type": "stream",
     "text": [
      "A discount of 10% is applied. You saved 10010.00.\n",
      "The total cost is: 90090.00\n"
     ]
    }
   ],
   "source": [
    "\n",
    "quantity = int(input(\"Enter the quantity of items purchased: \"))\n",
    "\n",
    "\n",
    "unit_cost = 100\n",
    "total_cost = quantity * unit_cost\n",
    "\n",
    "\n",
    "if total_cost > 1000:\n",
    "    discount = total_cost * 0.10\n",
    "    total_cost -= discount\n",
    "    print(f\"A discount of 10% is applied. You saved {discount:.2f}.\")\n",
    "\n",
    "\n",
    "print(f\"The total cost is: {total_cost:.2f}\")\n"
   ]
  },
  {
   "cell_type": "markdown",
   "metadata": {},
   "source": [
    "12) A school has following rules for grading system:\n",
    "\n",
    "a. Below 25 - F\n",
    "\n",
    "b. 25 to 45 - E\n",
    "\n",
    "c. 45 to 50 - D\n",
    "\n",
    "d. 50 to 60 - C\n",
    "\n",
    "e. 60 to 80 - B\n",
    "\n",
    "f. Above 80 - A\n",
    "\n",
    "Ask user to enter marks and print the corresponding grade."
   ]
  },
  {
   "cell_type": "code",
   "execution_count": 61,
   "metadata": {},
   "outputs": [
    {
     "name": "stdin",
     "output_type": "stream",
     "text": [
      "enter your marks 65\n"
     ]
    },
    {
     "name": "stdout",
     "output_type": "stream",
     "text": [
      "grade B\n"
     ]
    }
   ],
   "source": [
    "marks = int(input(\"enter your marks\"))\n",
    "if marks >= 80 and marks == 100:\n",
    "    print(\"grade A\")\n",
    "elif marks >= 60 and marks < 80:\n",
    "    print(\"grade B\")\n",
    "elif marks >= 50 and marks <60:\n",
    "    print(\"grade c\")\n",
    "elif marks >= 45 and marks <50:\n",
    "    print(\"grade D\")\n",
    "elif marks >= 25 and marks <45:\n",
    "    print(\"grade E\")\n",
    "elif marks < 25 and marks >=0:\n",
    "    print(\"grade F\")    \n",
    "else :\n",
    "    print(\"invalid marks!\")"
   ]
  },
  {
   "cell_type": "markdown",
   "metadata": {},
   "source": [
    "14)A student will not be allowed to sit in exam if his/her attendence is less than 75%.\n",
    "\n",
    "Take following input from user\n",
    "\n",
    "- Number of classes held\n",
    "\n",
    "- Number of classes attended.\n",
    "\n",
    "And print\n",
    "\n",
    "- percentage of class attended\n",
    "\n",
    "- Is student is allowed to sit in exam or not.\n"
   ]
  },
  {
   "cell_type": "code",
   "execution_count": 73,
   "metadata": {},
   "outputs": [
    {
     "name": "stdin",
     "output_type": "stream",
     "text": [
      "enter classes held : 20\n",
      "enter classes atteneded 10\n"
     ]
    },
    {
     "name": "stdout",
     "output_type": "stream",
     "text": [
      "50.0\n",
      "you cannot sit in the class\n"
     ]
    }
   ],
   "source": [
    "num_class = int(input('enter classes held :'))\n",
    "num_class_attend = int(input('enter classes atteneded'))\n",
    "percentage = (num_class_attend/num_class)*100\n",
    "print(percentage)\n",
    "if percentage >= 75:\n",
    "    print(\"you can sit in the exam \")\n",
    "else:\n",
    "    print(\"you cannot sit in the class\")"
   ]
  },
  {
   "cell_type": "markdown",
   "metadata": {},
   "source": [
    "15) Modify the above question to allow student to sit if he/she has medical cause. Ask user if he/she has medical cause or not ( 'Y' or 'N' ) and print accordingly.\n"
   ]
  },
  {
   "cell_type": "code",
   "execution_count": null,
   "metadata": {},
   "outputs": [],
   "source": [
    "num_class = int(input('enter classes held :'))\n",
    "num_class_attend = int(input('enter classes atteneded'))\n",
    "percentage = (num_class_attend/num_class)*100\n",
    "print(percentage)\n",
    "medical_cause = input(\"Do you have a medical cause? (Y/N): \").strip().upper()\n",
    "if percentage >= 75:\n",
    "    print(\"you can sit in the exam \")\n",
    "else:\n",
    "    print(\"you cannot sit in the class\")\n"
   ]
  },
  {
   "cell_type": "markdown",
   "metadata": {},
   "source": [
    "16) Write a program to check if a year is leap year or not.\n",
    "\n",
    "If a year is divisible by 4 then it is leap year but if the year is century year like 2000, 1900, 2100 then it must be divisible by 400."
   ]
  },
  {
   "cell_type": "code",
   "execution_count": 84,
   "metadata": {},
   "outputs": [
    {
     "name": "stdin",
     "output_type": "stream",
     "text": [
      "enter a year : 2000\n"
     ]
    },
    {
     "name": "stdout",
     "output_type": "stream",
     "text": [
      "2000 it is a leap year\n"
     ]
    }
   ],
   "source": [
    "leap_year = int(input(\"enter a year :\"))\n",
    "if leap_year %4 == 0:\n",
    "    print(leap_year, \"it is a leap year\")\n",
    "# elif leap_year %400 ==0:\n",
    "#     print(\"it is a leap year\")\n",
    "\n",
    "else:\n",
    "    print(\"not a leap year\")"
   ]
  },
  {
   "cell_type": "markdown",
   "metadata": {},
   "source": [
    "17) Ask user to enter age, gender ( M or F ), marital status ( Y or N ) and then using following rules print their place of service.\n",
    "\n",
    "if employee is female, then she will work only in urban areas.\n",
    "\n",
    "if employee is a male and age is in between 20 to 40 then he may work in anywhere\n",
    "\n",
    "if employee is male and age is in between 40 t0 60 then he will work in urban areas only.\n",
    "\n",
    "And any other input of age should print \"ERROR\""
   ]
  },
  {
   "cell_type": "code",
   "execution_count": 92,
   "metadata": {},
   "outputs": [
    {
     "name": "stdin",
     "output_type": "stream",
     "text": [
      "Enter your name  nn\n",
      "enter your age : 25\n",
      "Enter your gender : male\n",
      "married Y/N Y\n"
     ]
    },
    {
     "name": "stdout",
     "output_type": "stream",
     "text": [
      "you may work anywhere!\n"
     ]
    }
   ],
   "source": [
    "name = input(\"Enter your name \")\n",
    "age= int (input(\"enter your age :\"))\n",
    "gender = input(\"Enter your gender :\")\n",
    "maritial_status = input(\"married Y/N\")\n",
    "\n",
    "if gender == \"female\":\n",
    "    print(\"you will work in urban area!\")\n",
    "    \n",
    "else:\n",
    "    if gender == \"male\" :\n",
    "        if age >= 20 and age <40:\n",
    "            print (\"you may work anywhere!\")\n",
    "        elif age > 40 and age == 60:\n",
    "            print(\"you will work in urban area!\")\n",
    "        else:\n",
    "            print(\"ERROR\")"
   ]
  },
  {
   "cell_type": "markdown",
   "metadata": {},
   "source": [
    "6) Write a program to calculate the electricity bill (accept number of unit from user) according to the following criteria :\n",
    "     Unit                                                     Price  \n",
    "uptp 100 units                                             no charge\n",
    "Next 200 units                                              Rs 5 per unit\n",
    "After 200 units                                             Rs 10 per unit\n",
    "(For example if input unit is 350 than total bill amount is Rs.3500\n",
    "(For example if input unit is 97 than total bill amount is Rs.0\n",
    "(For example if input unit is 150 than total bill amount is Rs.750"
   ]
  },
  {
   "cell_type": "code",
   "execution_count": 113,
   "metadata": {},
   "outputs": [
    {
     "name": "stdin",
     "output_type": "stream",
     "text": [
      "Enter the number of units consumed:  25\n"
     ]
    },
    {
     "name": "stdout",
     "output_type": "stream",
     "text": [
      "The total bill amount is: Rs.0\n"
     ]
    }
   ],
   "source": [
    "\n",
    "units = int(input(\"Enter the number of units consumed: \"))\n",
    "bill_amount = 0\n",
    "\n",
    "\n",
    "if units <= 100:\n",
    "    bill_amount = 0\n",
    "elif units <= 300:\n",
    "    bill_amount = (units - 100) * 5\n",
    "else:\n",
    "    bill_amount = (200 * 5) + ((units - 300) * 10)\n",
    "\n",
    "\n",
    "print(f\"The total bill amount is: Rs.{bill_amount}\")\n"
   ]
  },
  {
   "cell_type": "markdown",
   "metadata": {},
   "source": [
    "13) Take input of age of 3 people by user and determine oldest and youngest among them."
   ]
  },
  {
   "cell_type": "code",
   "execution_count": 94,
   "metadata": {},
   "outputs": [
    {
     "name": "stdin",
     "output_type": "stream",
     "text": [
      "Enter the age of the first person:  25\n",
      "Enter the age of the second person:  65\n",
      "Enter the age of the third person:  45\n"
     ]
    },
    {
     "name": "stdout",
     "output_type": "stream",
     "text": [
      "The oldest person is 65 years old.\n",
      "The youngest person is 25 years old.\n"
     ]
    }
   ],
   "source": [
    "\n",
    "age1 = int(input(\"Enter the age of the first person: \"))\n",
    "age2 = int(input(\"Enter the age of the second person: \"))\n",
    "age3 = int(input(\"Enter the age of the third person: \"))\n",
    "\n",
    "\n",
    "oldest = max(age1, age2, age3)\n",
    "youngest = min(age1, age2, age3)\n",
    "\n",
    "print(f\"The oldest person is {oldest} years old.\")\n",
    "print(f\"The youngest person is {youngest} years old.\")\n"
   ]
  },
  {
   "cell_type": "code",
   "execution_count": null,
   "metadata": {},
   "outputs": [],
   "source": []
  }
 ],
 "metadata": {
  "kernelspec": {
   "display_name": "Python 3 (ipykernel)",
   "language": "python",
   "name": "python3"
  },
  "language_info": {
   "codemirror_mode": {
    "name": "ipython",
    "version": 3
   },
   "file_extension": ".py",
   "mimetype": "text/x-python",
   "name": "python",
   "nbconvert_exporter": "python",
   "pygments_lexer": "ipython3",
   "version": "3.12.7"
  }
 },
 "nbformat": 4,
 "nbformat_minor": 4
}
