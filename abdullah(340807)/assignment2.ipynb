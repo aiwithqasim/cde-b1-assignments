{
 "cells": [
  {
   "cell_type": "markdown",
   "metadata": {},
   "source": [
    "\n",
    "\n",
    "# **Question No 01**\n",
    "\n",
    "Use a for loop to count the number of occurrences of the word in the list and return all indices where the word occurs.\n",
    "\n",
    "**Exmple:**\n",
    "\n",
    "Input: ['apple', 'banana', 'apple', 'cherry', 'apple'], Search: 'apple'  \n",
    "Output: 'apple' found 3 times at indices: 0, 2, 4\n",
    "\n"
   ]
  },
  {
   "cell_type": "code",
   "execution_count": 2,
   "metadata": {},
   "outputs": [
    {
     "name": "stdout",
     "output_type": "stream",
     "text": [
      "'apple' found 3 times at indices: 0, 2, 4\n"
     ]
    }
   ],
   "source": [
    "#Use a for loop to count the number of occurrences of the word in the list and return all indices where the word occurs.\n",
    "#**Exmple:**\n",
    "\n",
    "#Input: ['apple', 'banana', 'apple', 'cherry', 'apple'], Search: 'apple'  \n",
    "#Output: 'apple' found 3 times at indices: 0, 2, 4\n",
    "def count_occurrences(lst, word):\n",
    "    indices = []\n",
    "    for i in range(len(lst)):\n",
    "        if lst[i] == word:\n",
    "            indices.append(i)\n",
    "    return f\"'{word}' found {len(indices)} times at indices: {', '.join(map(str, indices))}\"\n",
    "print(count_occurrences(['apple', 'banana', 'apple', 'cherry', 'apple'], 'apple'))\n"
   ]
  },
  {
   "cell_type": "markdown",
   "metadata": {},
   "source": [
    "\n",
    "# **Question No 02**\n",
    "\n",
    "Create a program to find all unique pairs of numbers in a list that add up to a target sum.\n",
    "\n",
    "Use a single list and a for loop (nested if necessary) to iterate through and find pairs without duplicates.\n",
    "Avoid repeating pairs like [3, 5] and [5, 3].\n",
    "\n",
    "**Example:**\n",
    "\n",
    "Input list: [2, 4, 3, 5, 7, 8, 1]  \n",
    "Target sum: 9  \n",
    "Output: [(2, 7), (4, 5), (1, 8)]\n"
   ]
  },
  {
   "cell_type": "code",
   "execution_count": 3,
   "metadata": {},
   "outputs": [
    {
     "name": "stdout",
     "output_type": "stream",
     "text": [
      "[(4, 5), (2, 7), (8, 1)]\n"
     ]
    }
   ],
   "source": [
    "\n",
    "# **Question No 02**\n",
    "\n",
    "#Create a program to find all unique pairs of numbers in a list that add up to a target sum.\n",
    "\n",
    "#Use a single list and a for loop (nested if necessary) to iterate through and find pairs without duplicates.\n",
    "#Avoid repeating pairs like [3, 5] and [5, 3].\n",
    "\n",
    "#**Example:**\n",
    "\n",
    "#Input list: [2, 4, 3, 5, 7, 8, 1]  \n",
    "#Target sum: 9  \n",
    "#Output: [(2, 7), (4, 5), (1, 8)]\n",
    "def unique_pairs(lst, target):\n",
    "    pairs = []\n",
    "    for i in range(len(lst)):\n",
    "        for j in range(i + 1, len(lst)):\n",
    "            if lst[i] + lst[j] == target:\n",
    "                pairs.append((lst[i], lst[j]))\n",
    "    return list(set(pairs))\n",
    "print(unique_pairs([2, 4, 3, 5, 7, 8, 1], 9))\n",
    "\n"
   ]
  },
  {
   "cell_type": "markdown",
   "metadata": {},
   "source": [
    "# **Question No 03**\n",
    "\n",
    "Write a program to calculate the cumulative product of elements in a list.\n",
    "\n",
    "Use a single list and update it in place to store the cumulative product at each index.\n",
    "Use only a for loop.\n",
    "\n",
    "**Example:**\n",
    "\n",
    "Input: [2, 3, 4, 5]  \n",
    "Output: [2, 6, 24, 120]  \n"
   ]
  },
  {
   "cell_type": "code",
   "execution_count": 4,
   "metadata": {},
   "outputs": [
    {
     "name": "stdout",
     "output_type": "stream",
     "text": [
      "[2, 6, 24, 120]\n"
     ]
    }
   ],
   "source": [
    "# **Question No 03**\n",
    "\n",
    "#Write a program to calculate the cumulative product of elements in a list.\n",
    "\n",
    "#Use a single list and update it in place to store the cumulative product at each index.\n",
    "#Use only a for loop.\n",
    "\n",
    "#**Example:**\n",
    "\n",
    "#Input: [2, 3, 4, 5]  \n",
    "#Output: [2, 6, 24, 120]\n",
    "def cumulative_product(lst):\n",
    "    for i in range(1, len(lst)):\n",
    "        lst[i] *= lst[i - 1]\n",
    "    return lst\n",
    "print(cumulative_product([2, 3, 4, 5]))  \n"
   ]
  },
  {
   "cell_type": "markdown",
   "metadata": {},
   "source": [
    "# **Question No 04**\n",
    "\n",
    "Write a program to reshape a 1D list into a 2D grid.\n",
    "\n",
    "Accept a list of numbers and the number of rows as input.\n",
    "Use for loops to split the list into sublists, each representing a row.\n",
    "If the list cannot be evenly divided into rows, pad it with None.\n",
    "\n",
    "**Example:**\n",
    "Input: [1, 2, 3, 4, 5, 6, 7], Rows: 3  \n",
    "Output: [[1, 2, 3], [4, 5, 6], [7, None, None]]  \n",
    "\n"
   ]
  },
  {
   "cell_type": "code",
   "execution_count": 5,
   "metadata": {},
   "outputs": [
    {
     "name": "stdout",
     "output_type": "stream",
     "text": [
      "[[1, 2, 3], [4, 5, 6], [7, None, None]]\n"
     ]
    }
   ],
   "source": [
    "# **Question No 04**\n",
    "\n",
    "#Write a program to reshape a 1D list into a 2D grid.\n",
    "\n",
    "#Accept a list of numbers and the number of rows as input.\n",
    "#Use for loops to split the list into sublists, each representing a row.\n",
    "#If the list cannot be evenly divided into rows, pad it with None.\n",
    "\n",
    "#**Example:**\n",
    "#Input: [1, 2, 3, 4, 5, 6, 7], Rows: 3  \n",
    "#Output: [[1, 2, 3], [4, 5, 6], [7, None, None]]  \n",
    "def reshape_list(lst, rows):\n",
    "    reshaped = []\n",
    "    for i in range(0, len(lst), rows):\n",
    "        reshaped.append(lst[i:i + rows] + [None] * max(0, rows - (len(lst) - i)))\n",
    "    return reshaped\n",
    "print(reshape_list([1, 2, 3, 4, 5, 6, 7], 3))\n",
    "\n"
   ]
  },
  {
   "cell_type": "markdown",
   "metadata": {},
   "source": [
    "# **Question No 06**\n",
    "\n",
    "Write a program that uses a for loop to count the frequency of each character in a given string and stores the result in a dictionary.\n",
    "\n",
    "The program should ignore spaces and be case-insensitive.\n",
    "Display the dictionary as the final output.\n",
    "\n",
    "**Example:**\n",
    "\n",
    "Input: \"Programming is fun\"  \n",
    "Output: {'p': 1, 'r': 2, 'o': 1, 'g': 2, 'a': 1, 'm': 2, 'i': 2, 'n': 2, 's': 1, 'f': 1, 'u': 1}\n",
    "\n"
   ]
  },
  {
   "cell_type": "code",
   "execution_count": 6,
   "metadata": {},
   "outputs": [
    {
     "name": "stdout",
     "output_type": "stream",
     "text": [
      "{'p': 1, 'r': 2, 'o': 1, 'g': 2, 'a': 1, 'm': 2, 'i': 2, 'n': 2, 's': 1, 'f': 1, 'u': 1}\n"
     ]
    }
   ],
   "source": [
    "# **Question No 06**\n",
    "\n",
    "#Write a program that uses a for loop to count the frequency of each character in a given string and stores the result in a dictionary.\n",
    "\n",
    "#The program should ignore spaces and be case-insensitive.\n",
    "#Display the dictionary as the final output.\n",
    "\n",
    "#**Example:**\n",
    "\n",
    "#Input: \"Programming is fun\"  \n",
    "#Output: {'p': 1, 'r': 2, 'o': 1, 'g': 2, 'a': 1, 'm': 2, 'i': 2, 'n': 2, 's': 1, 'f': 1, 'u': 1}\n",
    "def count_characters(s):\n",
    "    char_count = {}\n",
    "    for char in s.replace(' ', '').lower():\n",
    "        char_count[char] = char_count.get(char, 0) + 1\n",
    "    return char_count\n",
    "print(count_characters(\"Programming is fun\"))\n",
    "\n"
   ]
  }
 ],
 "metadata": {
  "kernelspec": {
   "display_name": "Python 3",
   "language": "python",
   "name": "python3"
  },
  "language_info": {
   "codemirror_mode": {
    "name": "ipython",
    "version": 3
   },
   "file_extension": ".py",
   "mimetype": "text/x-python",
   "name": "python",
   "nbconvert_exporter": "python",
   "pygments_lexer": "ipython3",
   "version": "3.12.0"
  }
 },
 "nbformat": 4,
 "nbformat_minor": 2
}
