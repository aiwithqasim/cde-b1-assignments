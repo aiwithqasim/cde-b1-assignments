{
 "cells": [
  {
   "cell_type": "markdown",
   "id": "7b31bdd9",
   "metadata": {},
   "source": [
    "## Question No 01\n",
    "Create a base class Transport with a method travel() that prints a generic travel message.\n",
    "\n",
    "Create three subclasses: Bus – Represents intercity travel (e.g., Daewoo Express) Train – Represents railway travel (e.g., Pakistan Railways) Airplane – Represents air travel (e.g., PIA – Pakistan International Airlines)\n",
    "\n",
    "Each subclass should override the travel() method to display unique travel details like the mode of transport, speed, and common use cases.\n",
    "\n",
    "Create a function plan_trip(transport) that accepts an object of type Transport and calls its travel() method.\n",
    "\n",
    "Create objects of all three subclasses and pass them to the plan_trip() function to demonstrate Polymorphism.\n",
    "\n",
    "### Explanation:\n",
    "Polymorphism allows objects of different subclasses (Bus, Train, Airplane) to be treated as objects of a common superclass (Transport). Each subclass provides a specific implementation of the travel() method. The function plan_trip() ensures that the correct version of the method is executed, even though it does not know the exact subclass beforehand.\n",
    "\n",
    "### Example Scenario:\n",
    "Qasim plans a trip from Lahore to Karachi.\n",
    "\n",
    "If he travels by Daewoo Bus, the travel() method displays details about bus travel, like travel time and cost.\n",
    "\n",
    "If he chooses Pakistan Railways Train, the method provides information about train schedules and cabins.\n",
    "\n",
    "If he selects PIA Airplane, the method highlights flight duration, security checks, and ticket prices.\n",
    "\n",
    "The plan_trip() function ensures that Ali gets the correct travel details, regardless of whether he chooses a bus, train, or airplane."
   ]
  },
  {
   "cell_type": "code",
   "execution_count": 29,
   "id": "3f2de888",
   "metadata": {},
   "outputs": [
    {
     "name": "stdout",
     "output_type": "stream",
     "text": [
      "Qasim plans a trip from Lahore to Karachi:\n",
      "You will reach Lahore in 4 Hours with speed of 500 km/hr & cost of 32500 , Seat no will be 3 and flight duration 3 Hrs\n"
     ]
    }
   ],
   "source": [
    "class transport:\n",
    "    def travel(self):\n",
    "        self.travel_time=\"\"\n",
    "        self.travel_cost=None\n",
    "        print(\"You are Travelling\")\n",
    "\n",
    "class daewoo(transport):\n",
    "      def travel(self):\n",
    "        self.travel_time= \"18 Hours\"\n",
    "        self.travel_cost= 8500\n",
    "        self.speed=\"100 km/hr\"\n",
    "        print(f\"You will reach Lahore in {self.travel_time} with speed of {self.speed} & Cost will be {self.travel_cost}\")\n",
    "\n",
    "class green_line(transport):\n",
    "      def travel(self):\n",
    "        self.travel_time= \"16 Hours\"\n",
    "        self.travel_cost= 11500\n",
    "        self.speed=\"120 km/hr\"\n",
    "        self.seat_no=12\n",
    "        self.cabin_no=4\n",
    "        print(f\"You will reach Lahore in {self.travel_time} with speed of {self.speed} & cost of {self.travel_cost} , Your seat no will be {self.seat_no} and cabin no {self.cabin_no}\")\n",
    "        \n",
    "class pia(transport):\n",
    "      def travel(self):\n",
    "        self.travel_time= \"4 Hours\"\n",
    "        self.travel_cost= 32500\n",
    "        self.speed=\"500 km/hr\"\n",
    "        self.seat_no=3\n",
    "        self.flight_duration=\"3 Hrs\"\n",
    "        print(f\"You will reach Lahore in {self.travel_time} with speed of {self.speed} & cost of {self.travel_cost} , Seat no will be {self.seat_no} and flight duration {self.flight_duration}\")\n",
    "        \n",
    "        \n",
    "def plan_trip(transport):\n",
    "    transport.travel() \n",
    "\n",
    "bus = daewoo()\n",
    "train = green_line()\n",
    "airplane = pia()\n",
    "\n",
    "print(\"Qasim plans a trip from Lahore to Karachi:\")\n",
    "plan_trip(airplane)  \n"
   ]
  },
  {
   "cell_type": "code",
   "execution_count": 27,
   "id": "3903b021",
   "metadata": {},
   "outputs": [],
   "source": [
    "a=transport()"
   ]
  },
  {
   "cell_type": "code",
   "execution_count": 22,
   "id": "67c4fc74",
   "metadata": {},
   "outputs": [
    {
     "name": "stdout",
     "output_type": "stream",
     "text": [
      "You are Travelling\n"
     ]
    }
   ],
   "source": [
    "a.travel()"
   ]
  },
  {
   "cell_type": "markdown",
   "id": "3829e24f",
   "metadata": {},
   "source": [
    "## Question No 02\n",
    "Design a system for an Online Education Platform using Python classes that demonstrates the concepts of single-level inheritance, multi-level inheritance, and method overriding.\n",
    "\n",
    "Create a base class Person with attributes like name and age, and a method display_info() to show personal details.\n",
    "\n",
    "Create a derived class Instructor inheriting from Person, adding attributes like subject and salary, and overriding the display_info() method to include instructor-specific details.\n",
    "\n",
    "Create another derived class Student inheriting from Person, with attributes like grade and enrollment_number, and override display_info() to include student-specific details.\n",
    "\n",
    "Further, create a subclass TeachingAssistant inheriting from Instructor and Student (demonstrating multi-level inheritance). Add an attribute hours_per_week. Override the display_info() method to combine attributes from both parent classes.\n",
    "\n",
    "Create objects of Person, Instructor, Student, and TeachingAssistant and demonstrate the use of their respective display_info() methods.\n",
    "\n",
    "#### This question showcases multiple inheritance types:\n",
    "\n",
    "Single Inheritance : Instructor and Student inherit from Person.\n",
    "\n",
    "Multi-Level Inheritance: TeachingAssistant inherits from both Instructor and Student.\n",
    "\n",
    "Method Overriding: Each subclass redefines the display_info() method for their specific requirements.\n",
    "\n",
    "### Example Scenario:\n",
    "In an online education platform:\n",
    "\n",
    "Zeeshan is a Person who is just a visitor.\n",
    "\n",
    "Sir Qasim is an Instructor, teaching Computer Science with a salary of $5000/month.\n",
    "\n",
    "Ayan Hussain is a Student, enrolled in Grade 10 with an enrollment number SIMIT12345.\n",
    "\n",
    "Uzair is a Teaching Assistant, assisting Sir Qasim for 10 hours per week while also being a student in the same course."
   ]
  },
  {
   "cell_type": "code",
   "execution_count": 26,
   "id": "00cea221",
   "metadata": {},
   "outputs": [],
   "source": [
    "class person:\n",
    "    def __init__(self, name):\n",
    "        self.name = name\n",
    "       \n",
    "        \n",
    "    def display_info(self):\n",
    "        print(f\"Name is {self.name}\")\n",
    "\n",
    "class instructor(person):\n",
    "    def __init__(self, name,subject,salary):\n",
    "        super().__init__(name)\n",
    "        self.subject= subject\n",
    "        self.salary=salary\n",
    "        \n",
    "    def display_info(self):\n",
    "        print(f\"Instructor name is {self.name} and subject is {self.subject} and Salary is {self.salary}\")\n",
    "\n",
    "class student(person):\n",
    "    def __init__(self, name,grade,enrollment):\n",
    "        super().__init__(name)\n",
    "        self.grade= grade\n",
    "        self.enrollment=enrollment\n",
    "        \n",
    "    def display_info(self):\n",
    "        print(f\"Student name is {self.name} and grade is {self.grade} and enrollment id {self.enrollment}\")\n",
    "        \n",
    "        \n",
    "class teachingassistant(student, instructor):\n",
    "    def __init__(self, name, subject, salary,grade,enrollment,hours_per_week):\n",
    "        student.__init__(self, name,grade,enrollment)\n",
    "        instructor.__init__(self, name,subject,salary)\n",
    "        self.hours_per_week = hours_per_week\n",
    "\n",
    "    def display_info(self):\n",
    "        instructor.display_info(self)\n",
    "        student.display_info(self)    \n",
    "        print(f\"Hours per Week: {self.hours_per_week}\")"
   ]
  },
  {
   "cell_type": "code",
   "execution_count": 27,
   "id": "5af9c009",
   "metadata": {},
   "outputs": [],
   "source": [
    "ayan=student(\"ayan\",\"B\",\"GB123\")"
   ]
  },
  {
   "cell_type": "code",
   "execution_count": 30,
   "id": "757aee81",
   "metadata": {},
   "outputs": [
    {
     "name": "stdout",
     "output_type": "stream",
     "text": [
      "Student name is ayan and grade is B and enrollment id GB123\n"
     ]
    }
   ],
   "source": [
    "ayan.display_info()"
   ]
  },
  {
   "cell_type": "markdown",
   "id": "fb9d7cb1",
   "metadata": {},
   "source": [
    "## Question No 03\n",
    "Design a Banking System using Python classes that demonstrates the principle of Encapsulation.\n",
    "\n",
    "Create a class BankAccount with the following private attributes: __account_number (string) __account_holder (string) __balance (float)\n",
    "\n",
    "Provide getter and setter methods for __account_holder and __balance.\n",
    "\n",
    "The balance setter should validate that the new balance is non-negative.\n",
    "Create a method deposit(amount) to add money to the account (amount must be positive).\n",
    "\n",
    "Create a method withdraw(amount) to withdraw money from the account (ensure sufficient balance).\n",
    "\n",
    "Add a method display_account_details() to display account holder details and balance (but not the account number for security).\n",
    "\n",
    "Create a derived class SavingsAccount from BankAccount:\n",
    "\n",
    "Add an attribute __interest_rate (private).\n",
    "Add a method apply_interest() to calculate and apply interest to the account balance.\n",
    "Demonstrate the proper use of Encapsulation by ensuring private attributes are not directly accessible outside the class.\n",
    "\n",
    "Encapsulation ensures that critical data (__account_number, __balance) is protected from unauthorized access. Private attributes are accessed through getter and setter methods, ensuring proper validation. Methods like deposit, withdraw, and apply_interest allow controlled operations on account data.\n",
    "\n",
    "## Example Scenario\n",
    "Ayan Hussain opens a SavingsAccount with Meezan Bank with an initial balance of PKR 50,000 and an interest rate of 4% per annum.\n",
    "\n",
    "Ayan tries to withdraw PKR 20,000, which succeeds.\n",
    "\n",
    "He then tries to withdraw PKR 40,000, but the transaction fails due to insufficient funds.\n",
    "\n",
    "Ayan deposits PKR 10,000, and the bank applies the 4% interest on the updated balance.\n",
    "\n",
    "In real-world systems like those of UBL or Allied Bank, account holders cannot directly access their account balances but must rely on secure operations provided by the banking system."
   ]
  },
  {
   "cell_type": "code",
   "execution_count": 36,
   "id": "bcb82707",
   "metadata": {},
   "outputs": [],
   "source": [
    "class BankAccount:\n",
    "    def __init__(self, account_number, account_holder,balance=0.0):\n",
    "        self.__account_number = account_number\n",
    "        self.__account_holder = account_holder\n",
    "        self.__balance = balance\n",
    "        \n",
    "        \n",
    "    @property\n",
    "    def balance(self):\n",
    "        return self.__balance \n",
    "    \n",
    "    @balance.setter\n",
    "    def balance(self,value):\n",
    "        if value > 0:\n",
    "            self.__balance = value\n",
    "        else:\n",
    "            print(\"Your account is not in positive value\")\n",
    "    \n",
    "    @property\n",
    "    def account_holder(self):\n",
    "        return self.__account_holder \n",
    "    \n",
    "    @account_holder.setter\n",
    "    def account_holder(self,name):\n",
    "        if value.name():\n",
    "            self.__account_holder = name\n",
    "        else:\n",
    "            print(\"Account holder name cannot be empty.\")\n",
    "        \n",
    "#     def withdraw(self,withdraw_amount):\n",
    "#         if self.__balance>withdraw_amount:\n",
    "#             print(\"Your New Balance is: \",balance-withdraw_amount)\n",
    "#         else:\n",
    "#             print(\"Your Amount is not sufficient\")\n",
    "    \n",
    "    def withdraw(self, withdraw_amount):\n",
    "        if withdraw_amount > 0 and withdraw_amount <= self.__balance:\n",
    "            self.__balance -= withdraw_amount\n",
    "            print(f\"Withdraw PKR {withdraw_amount}. New balance is PKR {self.__balance}.\")\n",
    "        else:\n",
    "            print(\"Withdrawal failed. Insufficient funds or invalid amount.\")\n",
    "            \n",
    "    \n",
    "    def deposit(self, deposit_amount):\n",
    "        if deposit_amount > 0:\n",
    "            self.__balance += deposit_amount\n",
    "            print(f\"Deposited PKR {deposit_amount}. New balance is PKR {self.__balance}.\")\n",
    "        else:\n",
    "            print(\"Deposit amount must be positive.\")\n",
    "            \n",
    "    def display_account_details(self):\n",
    "        print(f\"Account Holder: {self.__account_holder}\")\n",
    "        print(f\"Balance: PKR {self.__balance}\")\n",
    "    \n",
    "#     def apply_interest(self,balance,interest_percentage):\n",
    "#         if balance > 0:\n",
    "#             interest_amount=(balance/100)*interest_percentage\n",
    "#         else:\n",
    "#             print(\"Your account does not sufficient funds\")\n",
    "        \n",
    "class SavingsAccount(BankAccount):\n",
    "    def __init__(self, account_number, account_holder, balance=0.0, interest_rate=0.0):\n",
    "        super().__init__(account_number, account_holder, balance)\n",
    "        self.__interest_rate = interest_rate\n",
    "\n",
    "    def apply_interest(self):\n",
    "        if self.balance > 0:\n",
    "            interest = (self.balance/100) * self.__interest_rate \n",
    "            self.balance += interest\n",
    "            print(f\"Interest of PKR {interest} applied. New balance is PKR {self.balance}.\")\n",
    "        else:\n",
    "            print(\"Interest cannot be applied to an account with zero or negative balance.\")\n",
    "    "
   ]
  },
  {
   "cell_type": "code",
   "execution_count": 38,
   "id": "4ace6f88",
   "metadata": {},
   "outputs": [
    {
     "name": "stdout",
     "output_type": "stream",
     "text": [
      "Account Holder: Sheraz Ahmed\n",
      "Balance: PKR 60000\n",
      "Withdraw PKR 25000. New balance is PKR 35000.\n",
      "Withdrawal failed. Insufficient funds or invalid amount.\n",
      "Deposited PKR 20000. New balance is PKR 55000.\n",
      "Interest of PKR 2200.0 applied. New balance is PKR 57200.0.\n",
      "Account Holder: Sheraz Ahmed\n",
      "Balance: PKR 57200.0\n"
     ]
    }
   ],
   "source": [
    "sheraz_account = SavingsAccount(\"123456789\", \"Sheraz Ahmed\", 60000, 4)\n",
    "sheraz_account.display_account_details()\n",
    "sheraz_account.withdraw(25000)\n",
    "sheraz_account.withdraw(50000)\n",
    "sheraz_account.deposit(20000)\n",
    "sheraz_account.apply_interest()\n",
    "sheraz_account.display_account_details()\n"
   ]
  },
  {
   "cell_type": "markdown",
   "id": "90b91e3a",
   "metadata": {},
   "source": [
    "\n",
    "### Question No 04\n",
    "Design an abstract class ECommercePlatform that represents an online shopping system.\n",
    "\n",
    "The abstract class should have the following abstract methods:\n",
    "\n",
    "login() – For user authentication.\n",
    "add_to_cart() – To add products to the shopping cart.\n",
    "make_payment() – To handle payments.\n",
    "Create two concrete subclasses:\n",
    "\n",
    "Daraz – Represents the popular Pakistani e-commerce platform.\n",
    "Foodpanda – Represents the online food delivery platform.\n",
    "Each subclass must implement all the abstract methods with platform-specific behavior.\n",
    "\n",
    "Create instances of both subclasses and demonstrate the usage of their methods.\n",
    "\n",
    "### Explanation:\n",
    "Abstraction hides the implementation details and provides a blueprint for derived classes through abstract methods. The abstract class ECommercePlatform ensures that every derived platform (Daraz, Foodpanda) implements key functionalities like login, add_to_cart, and make_payment. This design allows flexibility to add more platforms (e.g., AliExpress, Amazon) in the future without changing the core abstract structure.\n",
    "\n",
    "##### Example Scenario\n",
    "Ayan wants to shop for clothes on Daraz.pk and order dinner through Foodpanda.\n",
    "\n",
    "On Daraz, he logs in, adds a shirt to his cart, and makes a payment via JazzCash.\n",
    "\n",
    "On Foodpanda, he logs in, adds a Biryani deal to his cart, and pays via EasyPaisa.\n",
    "\n",
    "Each platform has a different process for cart management and payments, but the abstract class ensures they follow a common structure."
   ]
  },
  {
   "cell_type": "code",
   "execution_count": 84,
   "id": "b403f8d4",
   "metadata": {},
   "outputs": [],
   "source": [
    "from abc import ABC, abstractmethod\n",
    "class ECommercePlatform(ABC):\n",
    "    \n",
    "#     def __init__(self, password, item,amount):\n",
    "#         self.__password = password\n",
    "#         self.__item = item\n",
    "#         self.__amount = amount\n",
    "    \n",
    "    @abstractmethod\n",
    "    def login(self):\n",
    "        pass\n",
    "    \n",
    "    @abstractmethod\n",
    "    def add_to_cart(self):\n",
    "        pass\n",
    "        \n",
    "    @abstractmethod\n",
    "    def make_payment(self):\n",
    "        pass\n",
    "    \n",
    "\n",
    "class daraz(ECommercePlatform):\n",
    "#     def __init__(self, password, item, amount):\n",
    "#         super().__init__(password, item, amount) \n",
    "    def login(self,password):\n",
    "        if password==\"123\":\n",
    "            print(\"Login\")\n",
    "        else:\n",
    "            print(\"Password Not correct\")\n",
    "            \n",
    "    def add_to_cart(self,item):\n",
    "        print(f\"{item} has been added to your cart\")\n",
    "        \n",
    "    def make_payment(self,Amount):\n",
    "        print(f\"Rs {Amount} has been deducted from your JazzCash Account\")\n",
    "              \n",
    "class foodpanda(ECommercePlatform):\n",
    "#     def __init__(self, password, item, amount):\n",
    "#         super().__init__(password, item, amount) \n",
    "    def login(self,password):\n",
    "        if password==\"345\":\n",
    "            print(\"Login\")\n",
    "        else:\n",
    "            print(\"Password Not correct\")\n",
    "            \n",
    "    def add_to_cart(self,item):\n",
    "        print(f\"{item} has been added to your cart\")\n",
    "        \n",
    "    def make_payment(self,Amount):\n",
    "        print(f\"Rs {Amount} has been deducted from your Easypaisa account\")\n",
    "        "
   ]
  },
  {
   "cell_type": "code",
   "execution_count": 85,
   "id": "5132a80c",
   "metadata": {},
   "outputs": [],
   "source": [
    "order1=foodpanda()"
   ]
  },
  {
   "cell_type": "code",
   "execution_count": 86,
   "id": "e391d528",
   "metadata": {},
   "outputs": [
    {
     "name": "stdout",
     "output_type": "stream",
     "text": [
      "Login\n",
      "Samosey has been added to your cart\n",
      "Rs 220 has been deducted from your Easypaisa account\n"
     ]
    }
   ],
   "source": [
    "order1.login(\"345\")\n",
    "order1.add_to_cart(\"Samosey\")\n",
    "order1.make_payment(220)"
   ]
  },
  {
   "cell_type": "code",
   "execution_count": 87,
   "id": "c293e264",
   "metadata": {},
   "outputs": [],
   "source": [
    "order2=daraz()"
   ]
  },
  {
   "cell_type": "code",
   "execution_count": 90,
   "id": "a90df6ff",
   "metadata": {},
   "outputs": [
    {
     "name": "stdout",
     "output_type": "stream",
     "text": [
      "Login\n",
      "Trouser has been added to your cart\n",
      "Rs 1100 has been deducted from your JazzCash Account\n"
     ]
    }
   ],
   "source": [
    "order2.login(\"123\")\n",
    "order2.add_to_cart(\"Trouser\")\n",
    "order2.make_payment(1100)"
   ]
  },
  {
   "cell_type": "code",
   "execution_count": null,
   "id": "05fb3c28",
   "metadata": {},
   "outputs": [],
   "source": []
  }
 ],
 "metadata": {
  "kernelspec": {
   "display_name": "Python 3 (ipykernel)",
   "language": "python",
   "name": "python3"
  },
  "language_info": {
   "codemirror_mode": {
    "name": "ipython",
    "version": 3
   },
   "file_extension": ".py",
   "mimetype": "text/x-python",
   "name": "python",
   "nbconvert_exporter": "python",
   "pygments_lexer": "ipython3",
   "version": "3.10.9"
  }
 },
 "nbformat": 4,
 "nbformat_minor": 5
}
