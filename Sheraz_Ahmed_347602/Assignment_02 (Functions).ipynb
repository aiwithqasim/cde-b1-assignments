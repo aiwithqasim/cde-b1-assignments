{
 "cells": [
  {
   "cell_type": "markdown",
   "id": "f2a9cd05",
   "metadata": {},
   "source": [
    "## Question No 01"
   ]
  },
  {
   "cell_type": "markdown",
   "id": "ce32776b",
   "metadata": {},
   "source": [
    "Write a function called create_word_count that takes a list of strings and returns a dictionary where:\n",
    "\n",
    "Keys are unique words from the list. Values are the count of occurrences of each word."
   ]
  },
  {
   "cell_type": "markdown",
   "id": "d89d1b0d",
   "metadata": {},
   "source": [
    "### Method #1"
   ]
  },
  {
   "cell_type": "code",
   "execution_count": 5,
   "id": "8a955149",
   "metadata": {},
   "outputs": [],
   "source": [
    "from collections import Counter"
   ]
  },
  {
   "cell_type": "code",
   "execution_count": 22,
   "id": "5e2f545a",
   "metadata": {},
   "outputs": [],
   "source": [
    "def create_word_count(fruit_list):\n",
    "    word_count = Counter(fruit_list)\n",
    "    return dict(word_count)"
   ]
  },
  {
   "cell_type": "code",
   "execution_count": 27,
   "id": "203774bc",
   "metadata": {},
   "outputs": [
    {
     "data": {
      "text/plain": [
       "{'apple': 2, 'mango': 2, 'pineapple': 1, 'banana': 2, 'orange': 2}"
      ]
     },
     "execution_count": 27,
     "metadata": {},
     "output_type": "execute_result"
    }
   ],
   "source": [
    "fruits=[\"apple\",\"apple\",\"mango\",\"pineapple\",\"banana\",\"orange\",\"banana\",\"mango\",\"orange\"]\n",
    "create_word_count(fruits)"
   ]
  },
  {
   "cell_type": "code",
   "execution_count": 26,
   "id": "25b926a5",
   "metadata": {},
   "outputs": [
    {
     "name": "stdout",
     "output_type": "stream",
     "text": [
      "dict_keys(['apple', 'mango', 'pineapple', 'banana', 'orange'])\n"
     ]
    }
   ],
   "source": [
    "print(create_word_count(fruits).keys())"
   ]
  },
  {
   "cell_type": "markdown",
   "id": "232a4565",
   "metadata": {},
   "source": [
    "### Method #2"
   ]
  },
  {
   "cell_type": "code",
   "execution_count": 28,
   "id": "02427669",
   "metadata": {},
   "outputs": [],
   "source": [
    "def create_word_count2(fruit_list2):\n",
    "    word_count2={}\n",
    "    for fruit in fruit_list2:\n",
    "        if fruit in word_count2:\n",
    "            word_count2[fruit] += 1\n",
    "        else:\n",
    "            word_count2[fruit] = 1\n",
    "    return word_count2  "
   ]
  },
  {
   "cell_type": "code",
   "execution_count": 29,
   "id": "7d55ea9a",
   "metadata": {},
   "outputs": [
    {
     "data": {
      "text/plain": [
       "{'apple': 2, 'mango': 2, 'pineapple': 1, 'banana': 2, 'orange': 2}"
      ]
     },
     "execution_count": 29,
     "metadata": {},
     "output_type": "execute_result"
    }
   ],
   "source": [
    "create_word_count2(fruits)"
   ]
  },
  {
   "cell_type": "markdown",
   "id": "05d9d2f7",
   "metadata": {},
   "source": [
    "## Question No 02"
   ]
  },
  {
   "cell_type": "markdown",
   "id": "ce560158",
   "metadata": {},
   "source": [
    "Write a function called sort_by_key that takes a list of dictionaries and a key to sort by.\n",
    "\n",
    "The function should return a new list sorted by the given key in ascending order. If the key doesn’t exist in a dictionary, ignore that dictionary."
   ]
  },
  {
   "cell_type": "code",
   "execution_count": 61,
   "id": "d4d7fd8a",
   "metadata": {},
   "outputs": [
    {
     "name": "stdout",
     "output_type": "stream",
     "text": [
      "[{'name': 'Sheraz', 'age': 27}, {'name': 'Adeel', 'age': 28}, {'name': 'Fahad', 'age': 28}]\n"
     ]
    }
   ],
   "source": [
    "def sort_by_key(data, key):\n",
    "    key_check = [i for i in data if key in i]\n",
    "    sorted_data = sorted(key_check, key=lambda x: x[key])\n",
    "    return sorted_data\n",
    "\n",
    "data = [{'name': 'Sheraz', 'age': 27}, {'name': 'Adeel', 'age': 28}, {'name': 'Fahad', 'age': 28}]\n",
    "sorted_data = sort_by_key(data, 'age')\n",
    "print(sorted_data)\n"
   ]
  },
  {
   "cell_type": "markdown",
   "id": "982e4029",
   "metadata": {},
   "source": [
    "## Question No 03"
   ]
  },
  {
   "cell_type": "markdown",
   "id": "e22f0119",
   "metadata": {},
   "source": [
    "Write a function called filter_dict that takes a dictionary and a value threshold as arguments.\n",
    "\n",
    "The function should return a new dictionary containing only the key-value pairs where the value is greater than the threshold."
   ]
  },
  {
   "cell_type": "code",
   "execution_count": 60,
   "id": "6eae6862",
   "metadata": {},
   "outputs": [
    {
     "name": "stdout",
     "output_type": "stream",
     "text": [
      "Type Threshold:32\n",
      "{'adeel': 32, 'sheraz': 35}\n"
     ]
    }
   ],
   "source": [
    "threshold=float(input(\"Type Threshold:\"))\n",
    "def filter_dict(scores, threshold):\n",
    "    filtered_data = {}\n",
    "\n",
    "    for key, value in scores.items():\n",
    "        if value >= threshold:  # \n",
    "            filtered_data[key] = value  \n",
    "    \n",
    "    return filtered_data\n",
    "\n",
    "# Example usage:\n",
    "scores = {'ali': 30, 'adeel': 32, 'fahad': 28, 'sheraz': 35}\n",
    "\n",
    "filtered_scores = filter_dict(scores, threshold)\n",
    "print(filtered_scores)"
   ]
  },
  {
   "cell_type": "markdown",
   "id": "a9e4c679",
   "metadata": {},
   "source": [
    "## Question No 04"
   ]
  },
  {
   "cell_type": "markdown",
   "id": "ca06ed5a",
   "metadata": {},
   "source": [
    "Write a function called find_common_keys that takes two dictionaries and returns a list of keys that are common to both."
   ]
  },
  {
   "cell_type": "code",
   "execution_count": 66,
   "id": "767cadd1",
   "metadata": {},
   "outputs": [
    {
     "data": {
      "text/plain": [
       "['b', 'c']"
      ]
     },
     "execution_count": 66,
     "metadata": {},
     "output_type": "execute_result"
    }
   ],
   "source": [
    "def find_common_keys(dictionary_1,dictionary_2):\n",
    "    common_data = []\n",
    "    for key,value in dictionary_1.items():\n",
    "          if key in dictionary_2 and dictionary_2[key]==value:\n",
    "                common_data.append(key)\n",
    "    return common_data\n",
    "\n",
    "dictionary_1 = {'a': 1, 'b': 2, 'c': 3}\n",
    "dictionary_2 = {'b': 2, 'c': 3, 'd': 4}\n",
    "\n",
    "find_common_keys(dictionary_1, dictionary_2)"
   ]
  },
  {
   "cell_type": "markdown",
   "id": "bb6c16a7",
   "metadata": {},
   "source": [
    "## Question No 05"
   ]
  },
  {
   "cell_type": "markdown",
   "id": "c168e470",
   "metadata": {},
   "source": [
    "Write a function called update_grades that takes a list of dictionaries (representing students with their grades) and updates the grade of a student if their name matches the given name."
   ]
  },
  {
   "cell_type": "code",
   "execution_count": 68,
   "id": "85008dca",
   "metadata": {},
   "outputs": [
    {
     "name": "stdout",
     "output_type": "stream",
     "text": [
      "[{'name': 'Sheraz', 'grade': 95}, {'name': 'Fahad', 'grade': 90}]\n"
     ]
    }
   ],
   "source": [
    "def update_grades(students, name, new_grade):\n",
    "    for student in students:\n",
    "        if student['name'] == name:  # Check if the student's name matches\n",
    "            student['grade'] = new_grade  # Update the grade for that student\n",
    "    return students\n",
    "\n",
    "students = [{'name': 'Sheraz', 'grade': 85}, {'name': 'Fahad', 'grade': 90}]\n",
    "updated_students = update_grades(students, 'Sheraz', 95)\n",
    "print(updated_students)\n",
    "    "
   ]
  },
  {
   "cell_type": "markdown",
   "id": "b17b27d9",
   "metadata": {},
   "source": [
    "## Question No 06"
   ]
  },
  {
   "cell_type": "markdown",
   "id": "19fb8e46",
   "metadata": {},
   "source": [
    "Write a function called merge_lists_to_dict that takes two lists of equal length:\n",
    "\n",
    "The first list contains keys. The second list contains values. The function should return a dictionary created by merging these lists."
   ]
  },
  {
   "cell_type": "code",
   "execution_count": 70,
   "id": "3329ae4f",
   "metadata": {},
   "outputs": [
    {
     "name": "stdout",
     "output_type": "stream",
     "text": [
      "{'name': 'Sheraz', 'age': 27, 'city': 'Karachi'}\n"
     ]
    }
   ],
   "source": [
    "def merge_lists_to_dict(list1,list2):\n",
    "    merged_dictionary={}\n",
    "    if len(list1)==len(list2):\n",
    "        for i in range(len(list1)):\n",
    "            merged_dictionary[list1[i]] = list2[i] \n",
    "    return merged_dictionary\n",
    "            \n",
    "list1 = ['name', 'age', 'city']\n",
    "list2 = ['Sheraz', 27, 'Karachi']\n",
    "\n",
    "merged_dict = merge_lists_to_dict(list1, list2)\n",
    "print(merged_dict)\n",
    "    "
   ]
  },
  {
   "cell_type": "code",
   "execution_count": null,
   "id": "99cbdfe0",
   "metadata": {},
   "outputs": [],
   "source": []
  }
 ],
 "metadata": {
  "kernelspec": {
   "display_name": "Python 3 (ipykernel)",
   "language": "python",
   "name": "python3"
  },
  "language_info": {
   "codemirror_mode": {
    "name": "ipython",
    "version": 3
   },
   "file_extension": ".py",
   "mimetype": "text/x-python",
   "name": "python",
   "nbconvert_exporter": "python",
   "pygments_lexer": "ipython3",
   "version": "3.10.9"
  }
 },
 "nbformat": 4,
 "nbformat_minor": 5
}
