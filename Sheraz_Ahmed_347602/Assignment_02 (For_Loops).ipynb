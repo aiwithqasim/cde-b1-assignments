{
 "cells": [
  {
   "cell_type": "markdown",
   "id": "73679568",
   "metadata": {},
   "source": [
    "### Question No 1"
   ]
  },
  {
   "cell_type": "markdown",
   "id": "44c7ec67",
   "metadata": {},
   "source": [
    "Use a For Loop to count the number of occurances of the word in the list and return all indices where the word occurs.\n"
   ]
  },
  {
   "cell_type": "code",
   "execution_count": 25,
   "id": "4ba67cf9",
   "metadata": {},
   "outputs": [],
   "source": [
    "fruits=[\"Apple\",\"Orange\",\"Apple\",\"Banana\",\"Grapes\",\"Apple\",\"Grapes\",\"Watermelon\",\"Melon\"]"
   ]
  },
  {
   "cell_type": "code",
   "execution_count": 26,
   "id": "41e1fc76",
   "metadata": {},
   "outputs": [],
   "source": [
    "transform=list(set(fruits))"
   ]
  },
  {
   "cell_type": "code",
   "execution_count": 27,
   "id": "722097af",
   "metadata": {},
   "outputs": [
    {
     "data": {
      "text/plain": [
       "['Grapes', 'Banana', 'Watermelon', 'Orange', 'Apple', 'Melon']"
      ]
     },
     "execution_count": 27,
     "metadata": {},
     "output_type": "execute_result"
    }
   ],
   "source": [
    "transform"
   ]
  },
  {
   "cell_type": "code",
   "execution_count": 28,
   "id": "9096bda0",
   "metadata": {},
   "outputs": [
    {
     "name": "stdout",
     "output_type": "stream",
     "text": [
      "Grapes found 2 times, at index 4, 6\n",
      "Banana found 1 times, at index 3\n",
      "Watermelon found 1 times, at index 7\n",
      "Orange found 1 times, at index 1\n",
      "Apple found 3 times, at index 0, 2, 5\n",
      "Melon found 1 times, at index 8\n"
     ]
    }
   ],
   "source": [
    "\n",
    "for i in range(len(transform)):\n",
    "    count=0\n",
    "    index=[]\n",
    "    for j in range(len(fruits)):\n",
    "        if transform[i]==fruits[j]:\n",
    "            count+=1\n",
    "            index.append(j)\n",
    "        else:\n",
    "            continue\n",
    "    index_str = \", \".join(map(str, index))\n",
    "        \n",
    "    print(f\"{transform[i]} found {count} times, at index {index_str}\")"
   ]
  },
  {
   "cell_type": "markdown",
   "id": "8ede4255",
   "metadata": {},
   "source": [
    "### Question No 2"
   ]
  },
  {
   "cell_type": "markdown",
   "id": "818881b5",
   "metadata": {},
   "source": [
    "Create a program to find all unique pairs of numbers in a list that add up to a target sum.\n",
    "Use a single list and a for loop (nested if necessary) to iterate through and find pairs without duplicates.\n",
    "Avoid repeating pairs like [3, 5] and [5, 3]."
   ]
  },
  {
   "cell_type": "code",
   "execution_count": 1,
   "id": "01009fd4",
   "metadata": {},
   "outputs": [
    {
     "name": "stdout",
     "output_type": "stream",
     "text": [
      "Enter the target sum number:5\n",
      "Enter a number (0 to stop): 0\n"
     ]
    }
   ],
   "source": [
    "target_sum=int(input(\"Enter the target sum number:\"))\n",
    "\n",
    "input_list=[]\n",
    "\n",
    "while True:\n",
    "    num = int(input(\"Enter a number (0 to stop): \"))\n",
    "    \n",
    "    # If the user enters 0, stop the loop\n",
    "    if num == 0:\n",
    "        break\n",
    "    \n",
    "    # Otherwise, add the number to the list\n",
    "    input_list.append(num)"
   ]
  },
  {
   "cell_type": "code",
   "execution_count": 9,
   "id": "554e1f2e",
   "metadata": {},
   "outputs": [
    {
     "name": "stdout",
     "output_type": "stream",
     "text": [
      "No unique pairs found that add up to 5\n"
     ]
    }
   ],
   "source": [
    "unique_pairs = set()\n",
    "\n",
    "\n",
    "for i in range(len(input_list)):\n",
    "    for j in range(i + 1, len(input_list)): \n",
    "        if input_list[i] + input_list[j] == target_sum:\n",
    "           \n",
    "            unique_pairs.add(tuple(sorted([input_list[i], input_list[j]])))\n",
    "        else:\n",
    "            not_include=input_list[j]\n",
    "\n",
    "if unique_pairs:\n",
    "    print(\"Unique pairs that add up to\", target_sum, \"are:\", unique_pairs)\n",
    "else:\n",
    "    print(\"No unique pairs found that add up to\", target_sum)\n",
    "    "
   ]
  },
  {
   "cell_type": "markdown",
   "id": "1330c273",
   "metadata": {},
   "source": [
    "### Question No 3"
   ]
  },
  {
   "cell_type": "markdown",
   "id": "0d2808a0",
   "metadata": {},
   "source": [
    "Write a program to calculate the cumulative product of elements in a list.\n",
    "Use a single list and update it in place to store the cumulative product at each index.\n",
    "Use only a for loop."
   ]
  },
  {
   "cell_type": "code",
   "execution_count": 1,
   "id": "9b26c512",
   "metadata": {},
   "outputs": [
    {
     "name": "stdout",
     "output_type": "stream",
     "text": [
      "Enter a number (0 to stop): 0\n",
      "Cumulative Product List: []\n"
     ]
    }
   ],
   "source": [
    "input_list2=[]\n",
    "\n",
    "while True:\n",
    "    num = int(input(\"Enter a number (0 to stop): \"))\n",
    "    \n",
    "    if num == 0:\n",
    "        break\n",
    "    input_list2.append(num)\n",
    "    \n",
    "cumulative_list = []  \n",
    "product=1\n",
    "\n",
    "for i in range(len(input_list2)):\n",
    "    product *= input_list2[i] \n",
    "    cumulative_list.append(product)  \n",
    "print(\"Cumulative Product List:\", cumulative_list)"
   ]
  },
  {
   "cell_type": "markdown",
   "id": "fafa79b7",
   "metadata": {},
   "source": [
    "### Question No 4"
   ]
  },
  {
   "cell_type": "markdown",
   "id": "0e8e1197",
   "metadata": {},
   "source": [
    "Write a program to reshape a 1D list into a 2D grid.\n",
    "\n",
    "Accept a list of numbers and the number of rows as input. Use for loops to split the list into sublists, each representing a row. If the list cannot be evenly divided into rows, pad it with None."
   ]
  },
  {
   "cell_type": "code",
   "execution_count": 32,
   "id": "1f4f01df",
   "metadata": {},
   "outputs": [],
   "source": [
    "import math"
   ]
  },
  {
   "cell_type": "code",
   "execution_count": 47,
   "id": "ead05cc0",
   "metadata": {},
   "outputs": [
    {
     "name": "stdout",
     "output_type": "stream",
     "text": [
      "Enter number of Rows:3\n",
      "Enter any number & 0 for end: 1\n",
      "Enter any number & 0 for end: 2\n",
      "Enter any number & 0 for end: 3\n",
      "Enter any number & 0 for end: 4\n",
      "Enter any number & 0 for end: 5\n",
      "Enter any number & 0 for end: 6\n",
      "Enter any number & 0 for end: 7\n",
      "Enter any number & 0 for end: 8\n",
      "Enter any number & 0 for end: 9\n",
      "Enter any number & 0 for end: 0\n"
     ]
    }
   ],
   "source": [
    "rows=int(input(\"Enter number of Rows:\"))\n",
    "\n",
    "oned_list=[]\n",
    "\n",
    "while True:\n",
    "    input_num = int(input(\"Enter any number & 0 for end: \"))\n",
    "    \n",
    "    # If the user enters 0, stop the loop\n",
    "    if input_num == 0:\n",
    "        break\n",
    "        \n",
    "    oned_list.append(input_num)\n",
    "    \n",
    "list_length=math.ceil(len(oned_list)/rows)\n",
    "\n",
    "lists = []\n",
    "for i in range(list_length):\n",
    "    start_idx = i * list_length\n",
    "    end_idx = start_idx + list_length\n",
    "    lists.append(oned_list[start_idx:end_idx])\n",
    "#     lists.append(sublist)"
   ]
  },
  {
   "cell_type": "code",
   "execution_count": 48,
   "id": "a2fa215b",
   "metadata": {},
   "outputs": [
    {
     "data": {
      "text/plain": [
       "[[1, 2, 3], [4, 5, 6], [7, 8, 9]]"
      ]
     },
     "execution_count": 48,
     "metadata": {},
     "output_type": "execute_result"
    }
   ],
   "source": [
    "lists"
   ]
  },
  {
   "cell_type": "markdown",
   "id": "091f32fa",
   "metadata": {},
   "source": [
    "### Question No 5"
   ]
  },
  {
   "cell_type": "markdown",
   "id": "03232f1d",
   "metadata": {},
   "source": [
    "Write a program to sort a list of numbers into two separate lists:\n",
    "\n",
    "One list for all odd numbers (in ascending order). One list for all even numbers (in descending order). Use for loops for the entire process."
   ]
  },
  {
   "cell_type": "code",
   "execution_count": 64,
   "id": "db406e1d",
   "metadata": {},
   "outputs": [],
   "source": [
    "unsorted_list=[1,8,12,3,4,7,6,11,9,5,19]"
   ]
  },
  {
   "cell_type": "code",
   "execution_count": 65,
   "id": "ad988ab6",
   "metadata": {},
   "outputs": [
    {
     "name": "stdout",
     "output_type": "stream",
     "text": [
      "Even List is : [4, 6, 8, 12]\n",
      "Odd List is : [1, 3, 5, 7, 9, 11, 19]\n"
     ]
    }
   ],
   "source": [
    "even_list=[]\n",
    "odd_list=[]\n",
    "for i in range(len(unsorted_list)):\n",
    "    if unsorted_list[i]%2==0:\n",
    "        even_list.append(unsorted_list[i])\n",
    "    else:\n",
    "        odd_list.append(unsorted_list[i])\n",
    "        \n",
    "even_list.sort()\n",
    "odd_list.sort()\n",
    "\n",
    "print(f\"Even List is : {even_list}\")\n",
    "print(f\"Odd List is : {odd_list}\")\n",
    "        "
   ]
  },
  {
   "cell_type": "markdown",
   "id": "d8ca10f2",
   "metadata": {},
   "source": [
    "### Question No 6"
   ]
  },
  {
   "cell_type": "markdown",
   "id": "6837e658",
   "metadata": {},
   "source": [
    "Write a program that uses a for loop to count the frequency of each character in a given string and stores the result in a dictionary.\n",
    "\n",
    "The program should ignore spaces and be case-insensitive. Display the dictionary as the final output."
   ]
  },
  {
   "cell_type": "code",
   "execution_count": 83,
   "id": "adec52f3",
   "metadata": {},
   "outputs": [],
   "source": [
    "from collections import Counter"
   ]
  },
  {
   "cell_type": "code",
   "execution_count": 79,
   "id": "88d2074f",
   "metadata": {},
   "outputs": [
    {
     "name": "stdout",
     "output_type": "stream",
     "text": [
      "Enter a Word or Sentence:Sheraz Ahmed\n"
     ]
    }
   ],
   "source": [
    "str=input(\"Enter a Word or Sentence:\")\n",
    "string=str.replace(\" \", \"\").lower()\n",
    "\n",
    "char_frequency = {}\n",
    "\n",
    "    # Loop through each character in the string\n",
    "for char in string:\n",
    "    if char in char_frequency:\n",
    "            char_frequency[char] += 1\n",
    "    else:\n",
    "        char_frequency[char] = 1\n",
    "        \n",
    "char_frequency\n"
   ]
  },
  {
   "cell_type": "code",
   "execution_count": 84,
   "id": "68c4ed50",
   "metadata": {},
   "outputs": [
    {
     "data": {
      "text/plain": [
       "Counter({'s': 1, 'h': 2, 'e': 2, 'r': 1, 'a': 2, 'z': 1, 'm': 1, 'd': 1})"
      ]
     },
     "execution_count": 84,
     "metadata": {},
     "output_type": "execute_result"
    }
   ],
   "source": [
    "count=Counter(string)\n",
    "count"
   ]
  },
  {
   "cell_type": "code",
   "execution_count": 80,
   "id": "b17ff8c6",
   "metadata": {},
   "outputs": [
    {
     "data": {
      "text/plain": [
       "{'s': 1, 'h': 2, 'e': 2, 'r': 1, 'a': 2, 'z': 1, 'm': 1, 'd': 1}"
      ]
     },
     "execution_count": 80,
     "metadata": {},
     "output_type": "execute_result"
    }
   ],
   "source": [
    "char_frequency"
   ]
  },
  {
   "cell_type": "code",
   "execution_count": null,
   "id": "a94846e3",
   "metadata": {},
   "outputs": [],
   "source": []
  }
 ],
 "metadata": {
  "kernelspec": {
   "display_name": "Python 3 (ipykernel)",
   "language": "python",
   "name": "python3"
  },
  "language_info": {
   "codemirror_mode": {
    "name": "ipython",
    "version": 3
   },
   "file_extension": ".py",
   "mimetype": "text/x-python",
   "name": "python",
   "nbconvert_exporter": "python",
   "pygments_lexer": "ipython3",
   "version": "3.10.9"
  }
 },
 "nbformat": 4,
 "nbformat_minor": 5
}
