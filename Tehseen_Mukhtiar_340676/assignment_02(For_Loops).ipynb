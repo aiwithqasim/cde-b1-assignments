{
  "cells": [
    {
      "cell_type": "markdown",
      "metadata": {
        "id": "1E5r3wPNed0G"
      },
      "source": [
        "\n",
        "\n",
        "# **Question No 01**\n",
        "\n",
        "Use a for loop to count the number of occurrences of the word in the list and return all indices where the word occurs.\n",
        "\n",
        "**Exmple:**\n",
        "\n",
        "Input: ['apple', 'banana', 'apple', 'cherry', 'apple'], Search: 'apple'  \n",
        "Output: 'apple' found 3 times at indices: 0, 2, 4\n",
        "\n"
      ]
    },
    {
      "cell_type": "code",
      "execution_count": 7,
      "metadata": {
        "id": "tHrz4YilefTD"
      },
      "outputs": [
        {
          "name": "stdout",
          "output_type": "stream",
          "text": [
            "'apple' found 3 times at indices: [0, 2, 4]\n"
          ]
        }
      ],
      "source": [
        "fruits = ['apple', 'banana', 'apple', 'cherry', 'apple']\n",
        "\n",
        "count = 0\n",
        "indices = []\n",
        "\n",
        "for index, fruit in enumerate(fruits):\n",
        "    if fruit == 'apple':\n",
        "        count += 1\n",
        "        indices.append(index)\n",
        "\n",
        "print(f\"'apple' found {count} times at indices: {indices}\")"
      ]
    },
    {
      "cell_type": "markdown",
      "metadata": {
        "id": "fN_U0nnCeeAF"
      },
      "source": [
        "\n",
        "# **Question No 02**\n",
        "\n",
        "Create a program to find all unique pairs of numbers in a list that add up to a target sum.\n",
        "\n",
        "Use a single list and a for loop (nested if necessary) to iterate through and find pairs without duplicates.\n",
        "Avoid repeating pairs like [3, 5] and [5, 3].\n",
        "\n",
        "**Example:**\n",
        "\n",
        "Input list: [2, 4, 3, 5, 7, 8, 1]  \n",
        "Target sum: 9  \n",
        "Output: [(2, 7), (4, 5), (1, 8)]\n"
      ]
    },
    {
      "cell_type": "code",
      "execution_count": 30,
      "metadata": {
        "id": "AfsJP7KTef3T"
      },
      "outputs": [
        {
          "name": "stdout",
          "output_type": "stream",
          "text": [
            "{(4, 5), (2, 7), (8, 1)}\n"
          ]
        }
      ],
      "source": [
        "numbers = [2, 4, 3, 5, 7, 8, 1]\n",
        "pairs = set()\n",
        "\n",
        "for num1 in numbers:\n",
        "    for num2 in numbers:\n",
        "        if num1 + num2 == 9 and (num2, num1) not in pairs:\n",
        "            pairs.add((num1, num2))\n",
        "\n",
        "    \n",
        "print(pairs)"
      ]
    },
    {
      "cell_type": "markdown",
      "metadata": {
        "id": "d8ZH6VPNewLh"
      },
      "source": [
        "# **Question No 03**\n",
        "\n",
        "Write a program to calculate the cumulative product of elements in a list.\n",
        "\n",
        "Use a single list and update it in place to store the cumulative product at each index.\n",
        "Use only a for loop.\n",
        "\n",
        "**Example:**\n",
        "\n",
        "Input: [2, 3, 4, 5]  \n",
        "Output: [2, 6, 24, 120]  \n"
      ]
    },
    {
      "cell_type": "code",
      "execution_count": 32,
      "metadata": {
        "id": "pYPfUitge7nW"
      },
      "outputs": [
        {
          "name": "stdout",
          "output_type": "stream",
          "text": [
            "[2, 6, 24, 120]\n"
          ]
        }
      ],
      "source": [
        "products = [2, 3, 4, 5]\n",
        "\n",
        "for i in range(1, len(products)):\n",
        "    products[i] *= products[i - 1]\n",
        "\n",
        "print(products)\n"
      ]
    },
    {
      "cell_type": "markdown",
      "metadata": {
        "id": "jEtwOjpEfAYA"
      },
      "source": [
        "# **Question No 04**\n",
        "\n",
        "Write a program to reshape a 1D list into a 2D grid.\n",
        "\n",
        "Accept a list of numbers and the number of rows as input.\n",
        "Use for loops to split the list into sublists, each representing a row.\n",
        "If the list cannot be evenly divided into rows, pad it with None.\n",
        "\n",
        "**Example:**\n",
        "Input: [1, 2, 3, 4, 5, 6, 7], Rows: 3  \n",
        "Output: [[1, 2, 3], [4, 5, 6], [7, None, None]]  \n",
        "\n"
      ]
    },
    {
      "cell_type": "code",
      "execution_count": 60,
      "metadata": {
        "id": "tGRxqt0pfRql"
      },
      "outputs": [
        {
          "name": "stdout",
          "output_type": "stream",
          "text": [
            "[[1, 2, 3], [4, 5, 6], [7, None, None]]\n"
          ]
        }
      ],
      "source": [
        "one_d_list = [1, 2, 3, 4, 5, 6, 7]\n",
        "rows = 3\n",
        "\n",
        "two_d_list = []\n",
        "\n",
        "\n",
        "for i in range(0, len(one_d_list), rows):\n",
        "    temp = []\n",
        "    for j in range(rows):\n",
        "        if i + j < len(one_d_list):\n",
        "            temp.append(one_d_list[i + j])\n",
        "        else:\n",
        "            temp.append(None)\n",
        "    two_d_list.append(temp)\n",
        "\n",
        "print(two_d_list)"
      ]
    },
    {
      "cell_type": "markdown",
      "metadata": {
        "id": "iBPZVHDsfwpm"
      },
      "source": [
        "# **Question No 05**\n",
        "\n",
        "Write a program to sort a list of numbers into two separate lists:\n",
        "\n",
        "One list for all odd numbers (in ascending order).\n",
        "One list for all even numbers (in descending order).\n",
        "Use for loops for the entire process.\n",
        "\n",
        "**Example:**\n",
        "\n",
        "\n",
        "Input: [5, 8, 3, 10, 2, 7, 1, 6]  \n",
        "Output:  \n",
        "Odd: [1, 3, 5, 7]  \n",
        "Even: [10, 8, 6, 2]  \n"
      ]
    },
    {
      "cell_type": "code",
      "execution_count": 70,
      "metadata": {
        "id": "y8dyGGNAf42S"
      },
      "outputs": [
        {
          "name": "stdout",
          "output_type": "stream",
          "text": [
            "Odd numbers: [1, 3, 5, 7]\n",
            "Even numbers: [2, 6, 8, 10]\n"
          ]
        }
      ],
      "source": [
        "numbers = [5, 8, 3, 10, 2, 7, 1, 6]\n",
        "odd = []\n",
        "even = []\n",
        "\n",
        "for i in numbers:\n",
        "    if i % 2 == 0:\n",
        "        even.append(i)\n",
        "    else:\n",
        "        odd.append(i)\n",
        "\n",
        "odd.sort()\n",
        "even.sort()\n",
        "\n",
        "print(f\"Odd numbers: {odd}\")\n",
        "print(f\"Even numbers: {even}\")"
      ]
    },
    {
      "cell_type": "markdown",
      "metadata": {
        "id": "X_LfOnqskNTe"
      },
      "source": [
        "# **Question No 06**\n",
        "\n",
        "Write a program that uses a for loop to count the frequency of each character in a given string and stores the result in a dictionary.\n",
        "\n",
        "The program should ignore spaces and be case-insensitive.\n",
        "Display the dictionary as the final output.\n",
        "\n",
        "**Example:**\n",
        "\n",
        "Input: \"Programming is fun\"  \n",
        "Output: {'p': 1, 'r': 2, 'o': 1, 'g': 2, 'a': 1, 'm': 2, 'i': 2, 'n': 2, 's': 1, 'f': 1, 'u': 1}\n",
        "\n"
      ]
    },
    {
      "cell_type": "code",
      "execution_count": 72,
      "metadata": {
        "id": "1_-djYt-kW8F"
      },
      "outputs": [
        {
          "name": "stdout",
          "output_type": "stream",
          "text": [
            "{'P': 1, 'r': 2, 'o': 1, 'g': 2, 'a': 1, 'm': 2, 'i': 2, 'n': 2, ' ': 2, 's': 1, 'f': 1, 'u': 1}\n"
          ]
        }
      ],
      "source": [
        "text = 'Programming is fun'\n",
        "count = {}\n",
        "\n",
        "for char in text:\n",
        "    if char in count:\n",
        "        count[char] += 1\n",
        "    else:\n",
        "        count[char] = 1\n",
        "\n",
        "print(count)"
      ]
    }
  ],
  "metadata": {
    "colab": {
      "provenance": []
    },
    "kernelspec": {
      "display_name": ".venv",
      "language": "python",
      "name": "python3"
    },
    "language_info": {
      "codemirror_mode": {
        "name": "ipython",
        "version": 3
      },
      "file_extension": ".py",
      "mimetype": "text/x-python",
      "name": "python",
      "nbconvert_exporter": "python",
      "pygments_lexer": "ipython3",
      "version": "3.12.0"
    }
  },
  "nbformat": 4,
  "nbformat_minor": 0
}
