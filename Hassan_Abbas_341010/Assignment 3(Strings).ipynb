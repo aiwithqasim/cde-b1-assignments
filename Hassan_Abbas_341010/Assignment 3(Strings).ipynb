{
 "cells": [
  {
   "cell_type": "code",
   "execution_count": null,
   "id": "a1ecdaef-f5f0-4ca8-ad65-7aacab3d60d1",
   "metadata": {
    "vscode": {
     "languageId": "python"
    }
   },
   "outputs": [],
   "source": [
    "# 1) Count and display the number of vowels in a string\n",
    "string = input(\"Enter a string: \")\n",
    "vowels = \"aeiouAEIOU\"\n",
    "count = 0\n",
    "for char in string:\n",
    "    if char in vowels:\n",
    "        count += 1\n",
    "print(\"Number of vowels:\", count)\n"
   ]
  },
  {
   "cell_type": "code",
   "execution_count": null,
   "id": "93026c85",
   "metadata": {
    "vscode": {
     "languageId": "python"
    }
   },
   "outputs": [],
   "source": [
    "# 2) Count uppercase, lowercase, digits, and whitespace \n",
    "string = input(\"Enter a string: \")\n",
    "uppercase = lowercase = digits = whitespace = 0\n",
    "for char in string:\n",
    "    if char.isupper():\n",
    "        uppercase += 1\n",
    "    elif char.islower():\n",
    "        lowercase += 1\n",
    "    elif char.isdigit():\n",
    "        digits += 1\n",
    "    elif char.isspace():\n",
    "        whitespace += 1\n",
    "print(\"Uppercase letters:\", uppercase)\n",
    "print(\"Lowercase letters:\", lowercase)\n",
    "print(\"Digits:\", digits)\n",
    "print(\"Whitespace characters:\", whitespace)\n"
   ]
  },
  {
   "cell_type": "code",
   "execution_count": null,
   "id": "a1565fab",
   "metadata": {
    "vscode": {
     "languageId": "python"
    }
   },
   "outputs": [],
   "source": [
    "# 3) Exchange first and last characters in a string\n",
    "string = input(\"Enter a string: \")\n",
    "if len(string) > 1:\n",
    "    new_string = string[-1] + string[1:-1] + string[0]\n",
    "    print(\"New string:\", new_string)\n",
    "else:\n",
    "    print(\"String is too short to swap.\")\n"
   ]
  },
  {
   "cell_type": "code",
   "execution_count": null,
   "id": "ebd74971",
   "metadata": {
    "vscode": {
     "languageId": "python"
    }
   },
   "outputs": [],
   "source": [
    "# 4) Reverse a string\n",
    "string = input(\"Enter a string: \")\n",
    "reversed_string = \"\"\n",
    "for char in string:\n",
    "    reversed_string = char + reversed_string\n",
    "print(\"Reversed string:\", reversed_string)"
   ]
  },
  {
   "cell_type": "code",
   "execution_count": null,
   "id": "0a5453bc",
   "metadata": {
    "vscode": {
     "languageId": "python"
    }
   },
   "outputs": [],
   "source": [
    "# 5) Shift string one position to the left\n",
    "string = input(\"Enter a string: \")\n",
    "if len(string) > 1:\n",
    "    new_string = string[1:] + string[0]\n",
    "    print(\"New string:\", new_string)\n",
    "else:\n",
    "    print(\"String is too short to shift.\")\n"
   ]
  },
  {
   "cell_type": "code",
   "execution_count": null,
   "id": "ad98933f",
   "metadata": {
    "vscode": {
     "languageId": "python"
    }
   },
   "outputs": [],
   "source": [
    "# 6) Print initials of a name\n",
    "name = input(\"Enter your full name: \")\n",
    "initials = \"\"\n",
    "for char in name:\n",
    "    if char.isalpha():\n",
    "        initials += char[0].upper() + \". \"\n",
    "print(\"Initials:\", initials.strip())"
   ]
  },
  {
   "cell_type": "code",
   "execution_count": null,
   "id": "ba13215b",
   "metadata": {
    "vscode": {
     "languageId": "python"
    }
   },
   "outputs": [],
   "source": [
    "# 7) Check if a string is a palindrome\n",
    "string = input(\"Enter a string: \")\n",
    "is_palindrome = True\n",
    "for i in range(len(string) // 2):\n",
    "    if string[i] != string[-(i + 1)]:\n",
    "        is_palindrome = False\n",
    "        break\n",
    "if is_palindrome:\n",
    "    print(\"The string is a palindrome.\")\n",
    "else:\n",
    "    print(\"The string is not a palindrome.\")"
   ]
  },
  {
   "cell_type": "code",
   "execution_count": null,
   "id": "65ec5fd2",
   "metadata": {
    "vscode": {
     "languageId": "python"
    }
   },
   "outputs": [],
   "source": [
    "# 8) Display cyclic shifts of a string\n",
    "string = \"SHIFT\"\n",
    "print(\"Cyclic shifts:\")\n",
    "for i in range(len(string)):\n",
    "    print(string[i:] + string[:i])\n",
    "\n",
    "print(string)\n"
   ]
  },
  {
   "cell_type": "code",
   "execution_count": null,
   "id": "729b6b00",
   "metadata": {
    "vscode": {
     "languageId": "python"
    }
   },
   "outputs": [],
   "source": [
    "# 9) Password validation\n",
    "password = input(\"Enter your password: \")\n",
    "is_valid = True\n",
    "if len(password) < 8:\n",
    "    is_valid = False\n",
    "    print(\"Password must be at least 8 characters long.\")\n",
    "if not any(char.isupper() for char in password):\n",
    "    is_valid = False\n",
    "    print(\"Password must contain at least one uppercase letter.\")\n",
    "if not any(char.islower() for char in password):\n",
    "    is_valid = False\n",
    "    print(\"Password must contain at least one lowercase letter.\")\n",
    "if not any(char.isdigit() for char in password):\n",
    "    is_valid = False\n",
    "    print(\"Password must contain at least one numeric digit.\")\n",
    "if is_valid:\n",
    "    print(\"Password is valid.\")\n",
    "else:\n",
    "    print(\"Password is invalid.\")\n"
   ]
  }
 ],
 "metadata": {
  "kernelspec": {
   "display_name": "",
   "name": ""
  },
  "language_info": {
   "name": ""
  }
 },
 "nbformat": 4,
 "nbformat_minor": 5
}
