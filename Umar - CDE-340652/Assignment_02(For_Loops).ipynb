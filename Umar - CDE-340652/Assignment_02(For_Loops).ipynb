{
 "cells": [
  {
   "cell_type": "markdown",
   "metadata": {
    "id": "1E5r3wPNed0G"
   },
   "source": [
    "\n",
    "\n",
    "# **Question No 01**\n",
    "\n",
    "Use a for loop to count the number of occurrences of the word in the list and return all indices where the word occurs.\n",
    "\n",
    "**Exmple:**\n",
    "\n",
    "Input: ['apple', 'banana', 'apple', 'cherry', 'apple'], Search: 'apple'  \n",
    "Output: 'apple' found 3 times at indices: 0, 2, 4\n",
    "\n"
   ]
  },
  {
   "cell_type": "code",
   "execution_count": 1,
   "metadata": {
    "id": "tHrz4YilefTD"
   },
   "outputs": [
    {
     "name": "stdout",
     "output_type": "stream",
     "text": [
      "'apple' found 3 times at indices: 0, 2, 4\n"
     ]
    }
   ],
   "source": [
    "\n",
    "\n",
    "def count_occurrences(word_list, search_word):\n",
    "    indices = []\n",
    "    for index, word in enumerate(word_list):\n",
    "        if word == search_word:\n",
    "            indices.append(index)\n",
    "    print(f\"'{search_word}' found {len(indices)} times at indices: {', '.join(map(str, indices))}\")\n",
    "\n",
    "\n",
    "count_occurrences(['apple', 'banana', 'apple', 'cherry', 'apple'], 'apple')\n"
   ]
  },
  {
   "cell_type": "markdown",
   "metadata": {
    "id": "fN_U0nnCeeAF"
   },
   "source": [
    "\n",
    "# **Question No 02**\n",
    "\n",
    "Create a program to find all unique pairs of numbers in a list that add up to a target sum.\n",
    "\n",
    "Use a single list and a for loop (nested if necessary) to iterate through and find pairs without duplicates.\n",
    "Avoid repeating pairs like [3, 5] and [5, 3].\n",
    "\n",
    "**Example:**\n",
    "\n",
    "Input list: [2, 4, 3, 5, 7, 8, 1]  \n",
    "Target sum: 9  \n",
    "Output: [(2, 7), (4, 5), (1, 8)]\n"
   ]
  },
  {
   "cell_type": "code",
   "execution_count": 3,
   "metadata": {
    "id": "AfsJP7KTef3T"
   },
   "outputs": [
    {
     "name": "stdout",
     "output_type": "stream",
     "text": [
      "[(2, 7), (4, 5), (8, 1)]\n"
     ]
    }
   ],
   "source": [
    "\n",
    "\n",
    "def find_pairs(numbers, target_sum):\n",
    "    pairs = []\n",
    "    for i in range(len(numbers)):\n",
    "        for j in range(i + 1, len(numbers)):\n",
    "            if numbers[i] + numbers[j] == target_sum and (numbers[j], numbers[i]) not in pairs:\n",
    "                pairs.append((numbers[i], numbers[j]))\n",
    "    print(pairs)\n",
    "\n",
    "# Example usage:\n",
    "find_pairs([2, 4, 3, 5, 7, 8, 1], 9)\n"
   ]
  },
  {
   "cell_type": "markdown",
   "metadata": {
    "id": "d8ZH6VPNewLh"
   },
   "source": [
    "# **Question No 03**\n",
    "\n",
    "Write a program to calculate the cumulative product of elements in a list.\n",
    "\n",
    "Use a single list and update it in place to store the cumulative product at each index.\n",
    "Use only a for loop.\n",
    "\n",
    "**Example:**\n",
    "\n",
    "Input: [2, 3, 4, 5]  \n",
    "Output: [2, 6, 24, 120]  \n"
   ]
  },
  {
   "cell_type": "code",
   "execution_count": 4,
   "metadata": {
    "id": "pYPfUitge7nW"
   },
   "outputs": [
    {
     "name": "stdout",
     "output_type": "stream",
     "text": [
      "[2, 6, 24, 120]\n"
     ]
    }
   ],
   "source": [
    "\n",
    "\n",
    "def cumulative_product(numbers):\n",
    "    result = []\n",
    "    product = 1\n",
    "    for num in numbers:\n",
    "        product *= num\n",
    "        result.append(product)\n",
    "    print(result)\n",
    "\n",
    "# Example usage:\n",
    "cumulative_product([2, 3, 4, 5])\n"
   ]
  },
  {
   "cell_type": "markdown",
   "metadata": {
    "id": "jEtwOjpEfAYA"
   },
   "source": [
    "# **Question No 04**\n",
    "\n",
    "Write a program to reshape a 1D list into a 2D grid.\n",
    "\n",
    "Accept a list of numbers and the number of rows as input.\n",
    "Use for loops to split the list into sublists, each representing a row.\n",
    "If the list cannot be evenly divided into rows, pad it with None.\n",
    "\n",
    "**Example:**\n",
    "Input: [1, 2, 3, 4, 5, 6, 7], Rows: 3  \n",
    "Output: [[1, 2, 3], [4, 5, 6], [7, None, None]]  \n",
    "\n"
   ]
  },
  {
   "cell_type": "code",
   "execution_count": 5,
   "metadata": {
    "id": "tGRxqt0pfRql"
   },
   "outputs": [
    {
     "name": "stdout",
     "output_type": "stream",
     "text": [
      "[[1, 2, 3], [4, 5, 6], [7, None, None]]\n"
     ]
    }
   ],
   "source": [
    "\n",
    "def reshape_list_to_2d(numbers, rows):\n",
    "    grid = []\n",
    "    for i in range(0, len(numbers), rows):\n",
    "        row = numbers[i:i+rows]\n",
    "        if len(row) < rows:\n",
    "            row.extend([None] * (rows - len(row)))\n",
    "        grid.append(row)\n",
    "    print(grid)\n",
    "\n",
    "# Example usage:\n",
    "reshape_list_to_2d([1, 2, 3, 4, 5, 6, 7], 3)\n"
   ]
  },
  {
   "cell_type": "markdown",
   "metadata": {
    "id": "iBPZVHDsfwpm"
   },
   "source": [
    "# **Question No 05**\n",
    "\n",
    "Write a program to sort a list of numbers into two separate lists:\n",
    "\n",
    "One list for all odd numbers (in ascending order).\n",
    "One list for all even numbers (in descending order).\n",
    "Use for loops for the entire process.\n",
    "\n",
    "**Example:**\n",
    "\n",
    "\n",
    "Input: [5, 8, 3, 10, 2, 7, 1, 6]  \n",
    "Output:  \n",
    "Odd: [1, 3, 5, 7]  \n",
    "Even: [10, 8, 6, 2]  \n"
   ]
  },
  {
   "cell_type": "code",
   "execution_count": 6,
   "metadata": {
    "id": "y8dyGGNAf42S"
   },
   "outputs": [
    {
     "name": "stdout",
     "output_type": "stream",
     "text": [
      "Odd: [1, 3, 5, 7]\n",
      "Even: [10, 8, 6, 2]\n"
     ]
    }
   ],
   "source": [
    "\n",
    "def sort_odds_and_evens(numbers):\n",
    "    odd_numbers = sorted([num for num in numbers if num % 2 != 0])\n",
    "    even_numbers = sorted([num for num in numbers if num % 2 == 0], reverse=True)\n",
    "    print(f\"Odd: {odd_numbers}\")\n",
    "    print(f\"Even: {even_numbers}\")\n",
    "\n",
    "# Example usage:\n",
    "sort_odds_and_evens([5, 8, 3, 10, 2, 7, 1, 6])\n"
   ]
  },
  {
   "cell_type": "markdown",
   "metadata": {
    "id": "X_LfOnqskNTe"
   },
   "source": [
    "# **Question No 06**\n",
    "\n",
    "Write a program that uses a for loop to count the frequency of each character in a given string and stores the result in a dictionary.\n",
    "\n",
    "The program should ignore spaces and be case-insensitive.\n",
    "Display the dictionary as the final output.\n",
    "\n",
    "**Example:**\n",
    "\n",
    "Input: \"Programming is fun\"  \n",
    "Output: {'p': 1, 'r': 2, 'o': 1, 'g': 2, 'a': 1, 'm': 2, 'i': 2, 'n': 2, 's': 1, 'f': 1, 'u': 1}\n",
    "\n"
   ]
  },
  {
   "cell_type": "code",
   "execution_count": 8,
   "metadata": {
    "id": "1_-djYt-kW8F"
   },
   "outputs": [
    {
     "name": "stdout",
     "output_type": "stream",
     "text": [
      "{'p': 1, 'r': 2, 'o': 1, 'g': 2, 'a': 1, 'm': 2, 'i': 2, 'n': 2, 's': 1, 'f': 1, 'u': 1}\n"
     ]
    }
   ],
   "source": [
    "\n",
    "\n",
    "def char_frequency(text):\n",
    "    freq = {}\n",
    "    text = text.replace(\" \", \"\").lower()  # Ignore spaces and make it case-insensitive\n",
    "    for char in text:\n",
    "        if char in freq:\n",
    "            freq[char] += 1\n",
    "        else:\n",
    "            freq[char] = 1\n",
    "    print(freq)\n",
    "\n",
    "# Example usage:\n",
    "char_frequency(\"Programming is fun\")\n",
    "\n"
   ]
  },
  {
   "cell_type": "code",
   "execution_count": null,
   "metadata": {},
   "outputs": [],
   "source": []
  }
 ],
 "metadata": {
  "colab": {
   "provenance": []
  },
  "kernelspec": {
   "display_name": "Python 3 (ipykernel)",
   "language": "python",
   "name": "python3"
  },
  "language_info": {
   "codemirror_mode": {
    "name": "ipython",
    "version": 3
   },
   "file_extension": ".py",
   "mimetype": "text/x-python",
   "name": "python",
   "nbconvert_exporter": "python",
   "pygments_lexer": "ipython3",
   "version": "3.12.7"
  }
 },
 "nbformat": 4,
 "nbformat_minor": 4
}
