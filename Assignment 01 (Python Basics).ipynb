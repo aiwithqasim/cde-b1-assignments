{
 "cells": [
  {
   "cell_type": "markdown",
   "metadata": {},
   "source": [
    "# Part -1 Python Basics (Variables)"
   ]
  },
  {
   "cell_type": "markdown",
   "metadata": {},
   "source": [
    "1. Print Your Name with your Father name and Date of birth using suitable escape sequence charactor"
   ]
  },
  {
   "cell_type": "code",
   "execution_count": null,
   "metadata": {},
   "outputs": [
    {
     "name": "stdout",
     "output_type": "stream",
     "text": [
      "Name:\t Abdul Hadi\n",
      "Father's Name:\t Khuram Shezad\n",
      "DOB:\t 29-05-2004\n"
     ]
    }
   ],
   "source": [
    "# Write your code here\n",
    "print(\"Name:\\t Riyyan Siddiqui\")\n",
    "print(\"Father's Name:\\t Humayun Siddiqui\")\n",
    "print(\"DOB:\\t 10-08-2004\")\n",
    "\n"
   ]
  },
  {
   "cell_type": "markdown",
   "metadata": {},
   "source": [
    "2. Write your small bio using variables and print it using print function"
   ]
  },
  {
   "cell_type": "code",
   "execution_count": 3,
   "metadata": {},
   "outputs": [
    {
     "name": "stdout",
     "output_type": "stream",
     "text": [
      "My name is Abdul Hadi. I am 20 year old and I study in NUST\n"
     ]
    }
   ],
   "source": [
    "# Write your code here\n",
    "age = 20\n",
    "name = \"Abdul Hadi\"\n",
    "university = \"NUST\"\n",
    "\n",
    "print(f\"My name is {name}. I am {age} year old and I study in {university}\")"
   ]
  },
  {
   "cell_type": "markdown",
   "metadata": {},
   "source": [
    "3. Write a program in which use all the operators we can use in Python"
   ]
  },
  {
   "cell_type": "code",
   "execution_count": 4,
   "metadata": {},
   "outputs": [
    {
     "name": "stdout",
     "output_type": "stream",
     "text": [
      "i: 0, a:0 , b: 0 , c: 0 , d: 0 , e:0.0\n",
      "i: 1, a:1 , b: 3 , c: 4 , d: 0 , e:2.0\n",
      "i: 2, a:2 , b: 6 , c: 8 , d: 0 , e:4.0\n",
      "i: 3, a:3 , b: 9 , c: 12 , d: 0 , e:6.0\n",
      "i: 4, a:4 , b: 12 , c: 16 , d: 0 , e:8.0\n",
      "i: 5, a:5 , b: 15 , c: 20 , d: 0 , e:10.0\n",
      "i: 6, a:6 , b: 18 , c: 24 , d: 0 , e:12.0\n",
      "i: 7, a:7 , b: 21 , c: 28 , d: 0 , e:14.0\n",
      "i: 8, a:8 , b: 24 , c: 32 , d: 0 , e:16.0\n",
      "i: 9, a:9 , b: 27 , c: 36 , d: 0 , e:18.0\n"
     ]
    }
   ],
   "source": [
    "# Write your code here\n",
    "for i in range (10):\n",
    "    a,b = i,  3*i\n",
    "    c = a+b\n",
    "    d = c%2\n",
    "    e = c/2\n",
    "    print(f\"i: {i}, a:{a} , b: {b} , c: {c} , d: {d} , e:{e}\")\n"
   ]
  },
  {
   "cell_type": "markdown",
   "metadata": {},
   "source": [
    "4. Completes the following steps of small task:\n",
    "    - Mention Marks of English , Islamiat and Maths out of 100 in 3 different variables\n",
    "    - Mention Variable of Total Marks and assign 300 to it\n",
    "    - Calculate Percentage"
   ]
  },
  {
   "cell_type": "code",
   "execution_count": null,
   "metadata": {},
   "outputs": [],
   "source": [
    "# Write your code here\n",
    "e = int(input(\"Enter marks of English\"))\n",
    "i = int(input(\"Enter marks of Islamiyat\"))\n",
    "m = int(input(\"Enter marks of Maths\"))\n",
    "\n",
    "total_marks = 300\n",
    "percentage = ((e + i + m) /total_marks )* 100\n",
    "print(f\"Total percentage: {percentage}\")"
   ]
  },
  {
   "cell_type": "markdown",
   "metadata": {},
   "source": [
    "# Part -2 Python Basics (Conditional Statements)"
   ]
  },
  {
   "cell_type": "markdown",
   "metadata": {},
   "source": [
    "1) A company decided to give bonus of 5% to employee if his/her year of service is more than 5 years.\n",
    "Ask user for their salary and year of service and print the net bonus amount."
   ]
  },
  {
   "cell_type": "code",
   "execution_count": null,
   "metadata": {},
   "outputs": [],
   "source": [
    "#Type your code here\n",
    "salary = float(input(\"Enter your salary\"))\n",
    "years_of_service = int(input(\"Enter your years of service\"))\n",
    "\n",
    "if years_of_service > 5:\n",
    "    salary += salary * 0.05\n",
    "\n",
    "print(f\"Congrats your salary is now increased 5%. Your new salary is: {salary}\")"
   ]
  },
  {
   "cell_type": "markdown",
   "metadata": {},
   "source": [
    "\n",
    "2) Write a program to check whether a person is eligible for voting or not. (accept age from user) if age is greater than 17 eligible otherwise not eligible"
   ]
  },
  {
   "cell_type": "code",
   "execution_count": null,
   "metadata": {},
   "outputs": [],
   "source": [
    "#Type your code here\n",
    "age = int(input(\"Enter your age: \"))\n",
    "\n",
    "if age > 17:\n",
    "    print(\"Eligible\")\n",
    "else:\n",
    "    print(\"Not Eligble\")"
   ]
  },
  {
   "cell_type": "markdown",
   "metadata": {},
   "source": [
    "\n",
    "3) Write a program to check whether a number entered by user is even or odd."
   ]
  },
  {
   "cell_type": "code",
   "execution_count": null,
   "metadata": {},
   "outputs": [],
   "source": [
    "#Type your code here\n",
    "number = int(input(\"Enter number\"))\n",
    "\n",
    "if number % 2 == 0:\n",
    "    print(\"even\")\n",
    "else:\n",
    "    print(\"odd\")"
   ]
  },
  {
   "cell_type": "markdown",
   "metadata": {},
   "source": [
    "4) Write a program to check whether a number is divisible by 7 or not.\n",
    "Show Answer"
   ]
  },
  {
   "cell_type": "code",
   "execution_count": null,
   "metadata": {},
   "outputs": [],
   "source": [
    "#Type your code here\n",
    "number = int(input(\"Enter number\"))\n",
    "\n",
    "if number % 7 == 0:\n",
    "    print(\"Divisible\")\n",
    "else:\n",
    "    print(\"NOt Divisible\")"
   ]
  },
  {
   "cell_type": "markdown",
   "metadata": {},
   "source": [
    "5) Write a program to display \n",
    "\"Hello\" if a number entered by user is a multiple of five , otherwise print \"Bye\"."
   ]
  },
  {
   "cell_type": "code",
   "execution_count": null,
   "metadata": {},
   "outputs": [],
   "source": [
    "#Type your code here\n",
    "number = int(input(\"Enter number\"))\n",
    "\n",
    "if number % 5 == 0:\n",
    "    print(\"Hello\")\n",
    "else:\n",
    "    print(\"Bye\")"
   ]
  },
  {
   "cell_type": "markdown",
   "metadata": {},
   "source": [
    "7) Write a program to display the last digit of a number.\n"
   ]
  },
  {
   "cell_type": "code",
   "execution_count": null,
   "metadata": {},
   "outputs": [],
   "source": [
    "#Type your code here\n",
    "number = int(input(\"enter number: \"))\n",
    "\n",
    "print(f\"last digit is: {number % 10}\")"
   ]
  },
  {
   "cell_type": "markdown",
   "metadata": {},
   "source": [
    "9) Take values of length and breadth of a rectangle from user and print if it is square or rectangle."
   ]
  },
  {
   "cell_type": "code",
   "execution_count": null,
   "metadata": {},
   "outputs": [],
   "source": [
    "#Type your code here \n",
    "len = int(input(\"Enter length (int): \"))\n",
    "bre = int(input(\"Enter breadth (int): \"))\n",
    "\n",
    "if len == bre:\n",
    "    print(\"It's a sqaure\")\n",
    "else:\n",
    "    print(\"It's a rectangle\")"
   ]
  },
  {
   "cell_type": "markdown",
   "metadata": {},
   "source": [
    "10) Take two int values from user and print greatest among them."
   ]
  },
  {
   "cell_type": "code",
   "execution_count": null,
   "metadata": {},
   "outputs": [],
   "source": [
    "# Type your code here\n",
    "a = int(input(\"Enter no1: \"))\n",
    "b = int(input(\"Enter no2: \"))\n",
    "\n",
    "if a > b:\n",
    "    print(f\"Max is: {a}\")\n",
    "else:\n",
    "    print(f\"Max is: {b}\")\n",
    "\n"
   ]
  },
  {
   "cell_type": "markdown",
   "metadata": {},
   "source": [
    "11) A shop will give discount of 10% if the cost of purchased quantity is more than 1000.\n",
    "Ask user for quantity\n",
    "Suppose, one unit will cost 100.\n",
    "Judge and print total cost for user."
   ]
  },
  {
   "cell_type": "code",
   "execution_count": null,
   "metadata": {},
   "outputs": [],
   "source": [
    "#Type your code here\n",
    "\n",
    "quantity = int(input(\"Enter quantity: \"))\n",
    "cost = quantity * 100\n",
    "if cost > 1000:\n",
    "    print(f\"price discounted 10% new price is: {cost * 0.9}\")\n",
    "else:\n",
    "    print(\"NO discount\")\n",
    "\n",
    "    \n"
   ]
  },
  {
   "cell_type": "markdown",
   "metadata": {},
   "source": [
    "12) A school has following rules for grading system:\n",
    "\n",
    "a. Below 25 - F\n",
    "\n",
    "b. 25 to 45 - E\n",
    "\n",
    "c. 45 to 50 - D\n",
    "\n",
    "d. 50 to 60 - C\n",
    "\n",
    "e. 60 to 80 - B\n",
    "\n",
    "f. Above 80 - A\n",
    "\n",
    "Ask user to enter marks and print the corresponding grade."
   ]
  },
  {
   "cell_type": "code",
   "execution_count": null,
   "metadata": {},
   "outputs": [],
   "source": [
    "#Type your code here\n",
    "marks = int(input(\"enter marks\"))\n",
    "\n",
    "if marks > 80:\n",
    "    print(\"A\")\n",
    "elif marks > 60:\n",
    "    print(\"B\")\n",
    "elif marks > 50:\n",
    "    print(\"C\")\n",
    "elif marks > 45:\n",
    "    print(\"D\")\n",
    "elif marks > 25:\n",
    "    print(\"E\")\n",
    "else:\n",
    "    print(\"F\")"
   ]
  },
  {
   "cell_type": "markdown",
   "metadata": {},
   "source": [
    "14)A student will not be allowed to sit in exam if his/her attendence is less than 75%.\n",
    "\n",
    "Take following input from user\n",
    "\n",
    "- Number of classes held\n",
    "\n",
    "- Number of classes attended.\n",
    "\n",
    "And print\n",
    "\n",
    "- percentage of class attended\n",
    "\n",
    "- Is student is allowed to sit in exam or not.\n"
   ]
  },
  {
   "cell_type": "code",
   "execution_count": null,
   "metadata": {},
   "outputs": [],
   "source": [
    "#Type your code here\n",
    "noClasses = int(input(\"Enter no of classes held\"))\n",
    "noAttended = int(input(\"Enter no of classes attended\"))\n",
    "\n",
    "percentage = noAttended/noClasses * 100\n",
    "print(percentage)\n",
    "\n",
    "if percentage > 75:\n",
    "    print(\"You are allowed to sit in exam\")\n",
    "else:\n",
    "    print(\"Not allowed to sit in exam\")"
   ]
  },
  {
   "cell_type": "markdown",
   "metadata": {},
   "source": [
    "15) Modify the above question to allow student to sit if he/she has medical cause. Ask user if he/she has medical cause or not ( 'Y' or 'N' ) and print accordingly."
   ]
  },
  {
   "cell_type": "code",
   "execution_count": null,
   "metadata": {},
   "outputs": [],
   "source": [
    "#Type your code here\n",
    "noClasses = int(input(\"Enter no of classes held\"))\n",
    "noAttended = int(input(\"Enter no of classes attended\"))\n",
    "medicalCause = str(input(\"Any medical cause ? 'Y' or 'N' \"))\n",
    "\n",
    "percentage = noAttended/noClasses * 100\n",
    "print(percentage)\n",
    "\n",
    "if percentage > 75:\n",
    "    print(\"You are allowed to sit in exam\")\n",
    "else:\n",
    "    if medicalCause == 'Y':\n",
    "        print(\"You are allowed to sit\")\n",
    "    else:\n",
    "        print(\"Not allowed to sit in exam\")"
   ]
  },
  {
   "cell_type": "markdown",
   "metadata": {},
   "source": [
    "16) Write a program to check if a year is leap year or not.\n",
    "\n",
    "If a year is divisible by 4 then it is leap year but if the year is century year like 2000, 1900, 2100 then it must be divisible by 400."
   ]
  },
  {
   "cell_type": "code",
   "execution_count": null,
   "metadata": {},
   "outputs": [],
   "source": [
    "#Type your code here\n",
    "year = int(input(\"Enter year\"))\n",
    "\n",
    "if year % 100 == 0:\n",
    "    if year % 400 == 0:\n",
    "        print(\"Leap year\")\n",
    "    else:\n",
    "        print(\"not a leap year\")\n",
    "elif year % 4:\n",
    "    print(\"Leap year\")\n",
    "else:\n",
    "    print(\"Not a leap year\")"
   ]
  },
  {
   "cell_type": "markdown",
   "metadata": {},
   "source": [
    "17) Ask user to enter age, gender ( M or F ), marital status ( Y or N ) and then using following rules print their place of service.\n",
    "\n",
    "if employee is female, then she will work only in urban areas.\n",
    "\n",
    "if employee is a male and age is in between 20 to 40 then he may work in anywhere\n",
    "\n",
    "if employee is male and age is in between 40 t0 60 then he will work in urban areas only.\n",
    "\n",
    "And any other input of age should print \"ERROR\""
   ]
  },
  {
   "cell_type": "code",
   "execution_count": null,
   "metadata": {},
   "outputs": [],
   "source": [
    "#Type your code here\n",
    "age = int(input(\"Enter age: \"))\n",
    "gender = str(input(\"Male 'M', Female 'F'\"))\n",
    "martialStatus = str(input(\"Yes 'Y' No 'N'\"))\n",
    "\n",
    "if gender == 'F':\n",
    "    print(\"Work only in urban areas\")\n",
    "\n",
    "elif gender == 'M' and 20 < age < 40:\n",
    "        print(\"You can work anywhere\")\n",
    "elif gender == 'M' and 40 < age < 60:\n",
    "        print(\"Only work in urban areas\")\n",
    "\n",
    "else:\n",
    "    print(\"Error\")"
   ]
  },
  {
   "cell_type": "markdown",
   "metadata": {},
   "source": [
    "6) Write a program to calculate the electricity bill (accept number of unit from user) according to the following criteria :\n",
    "     Unit                                                     Price  \n",
    "uptp 100 units                                             no charge\n",
    "Next 200 units                                              Rs 5 per unit\n",
    "After 200 units                                             Rs 10 per unit\n",
    "(For example if input unit is 350 than total bill amount is Rs.3500\n",
    "(For example if input unit is 97 than total bill amount is Rs.0\n",
    "(For example if input unit is 150 than total bill amount is Rs.750"
   ]
  },
  {
   "cell_type": "code",
   "execution_count": null,
   "metadata": {},
   "outputs": [],
   "source": [
    "def calculate_electricity_bill(units):\n",
    "    if units <= 100:\n",
    "        return 0  # No charge for up to 100 units\n",
    "    elif units <= 300:\n",
    "        return (units - 100) * 5  # Rs. 5 per unit for units between 101 and 300\n",
    "    else:\n",
    "        return (200 * 5) + (units - 300) * 10  # Rs. 10 per unit for units above 300\n",
    "\n",
    "# Input from user\n",
    "units = int(input(\"Enter the number of units consumed: \"))\n",
    "\n",
    "# Calculate the bill\n",
    "bill = calculate_electricity_bill(units)\n",
    "\n",
    "# Output the total bill amount\n",
    "print(f\"Total electricity bill: Rs. {bill}\")\n"
   ]
  },
  {
   "cell_type": "markdown",
   "metadata": {},
   "source": [
    "13) Take input of age of 3 people by user and determine oldest and youngest among them."
   ]
  },
  {
   "cell_type": "code",
   "execution_count": null,
   "metadata": {},
   "outputs": [],
   "source": [
    "# Input the ages of three people\n",
    "age1 = int(input(\"Enter the age of person 1: \"))\n",
    "age2 = int(input(\"Enter the age of person 2: \"))\n",
    "age3 = int(input(\"Enter the age of person 3: \"))\n",
    "\n",
    "# Find the oldest and youngest\n",
    "oldest = max(age1, age2, age3)\n",
    "youngest = min(age1, age2, age3)\n",
    "\n",
    "# Output the results\n",
    "print(f\"The oldest age is: {oldest}\")\n",
    "print(f\"The youngest age is: {youngest}\")\n"
   ]
  }
 ],
 "metadata": {
  "kernelspec": {
   "display_name": "base",
   "language": "python",
   "name": "python3"
  },
  "language_info": {
   "codemirror_mode": {
    "name": "ipython",
    "version": 3
   },
   "file_extension": ".py",
   "mimetype": "text/x-python",
   "name": "python",
   "nbconvert_exporter": "python",
   "pygments_lexer": "ipython3",
   "version": "3.12.4"
  }
 },
 "nbformat": 4,
 "nbformat_minor": 2
}
