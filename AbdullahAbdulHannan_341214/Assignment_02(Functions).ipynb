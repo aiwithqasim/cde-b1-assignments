{
  "nbformat": 4,
  "nbformat_minor": 0,
  "metadata": {
    "colab": {
      "provenance": []
    },
    "kernelspec": {
      "name": "python3",
      "display_name": "Python 3"
    },
    "language_info": {
      "name": "python"
    }
  },
  "cells": [
    {
      "cell_type": "markdown",
      "source": [
        "\n",
        "# **Question No 01**\n",
        "\n",
        "Write a function called create_word_count that takes a list of strings and returns a dictionary where:\n",
        "\n",
        "Keys are unique words from the list.\n",
        "Values are the count of occurrences of each word.\n",
        "\n",
        "**Exmple:**\n",
        "words = ['apple', 'banana', 'apple', 'cherry', 'banana', 'apple']\n",
        "result = create_word_count(words)\n",
        "print(result)  # {'apple': 3, 'banana': 2, 'cherry': 1}\n",
        "\n"
      ],
      "metadata": {
        "id": "WbWe2auqg3ZE"
      }
    },
    {
      "cell_type": "code",
      "source": [
        "def create_word_count(words):\n",
        "    word_count = {}\n",
        "    for word in words:\n",
        "        if word in word_count:\n",
        "            word_count[word] += 1\n",
        "        else:\n",
        "            word_count[word] = 1\n",
        "    return word_count\n",
        "words = ['apple', 'banana', 'apple', 'cherry', 'banana', 'apple']\n",
        "result = create_word_count(words)\n",
        "print(result)"
      ],
      "metadata": {
        "id": "Y7n-RlA-iywL",
        "colab": {
          "base_uri": "https://localhost:8080/"
        },
        "outputId": "506a832e-0f5c-476e-f6ed-1ff230b04b8c"
      },
      "execution_count": 2,
      "outputs": [
        {
          "output_type": "stream",
          "name": "stdout",
          "text": [
            "{'apple': 3, 'banana': 2, 'cherry': 1}\n"
          ]
        }
      ]
    },
    {
      "cell_type": "markdown",
      "source": [
        "# **Question No 02**\n",
        "\n",
        "Write a function called sort_by_key that takes a list of dictionaries and a key to sort by.\n",
        "\n",
        "The function should return a new list sorted by the given key in ascending order.\n",
        "If the key doesn’t exist in a dictionary, ignore that dictionary.\n",
        "\n",
        "**Exmple:**\n",
        "\n",
        "data = [{'name': 'Alice', 'age': 25}, {'name': 'Bob', 'age': 22}, {'name': 'Charlie', 'age': 30}]\n",
        "sorted_data = sort_by_key(data, 'age')\n",
        "print(sorted_data)  \n",
        "# [{'name': 'Bob', 'age': 22}, {'name': 'Alice', 'age': 25}, {'name': 'Charlie', 'age': 30}]\n",
        "\n"
      ],
      "metadata": {
        "id": "CWDqnzRRg3br"
      }
    },
    {
      "cell_type": "code",
      "source": [
        "def sort_by_key(data, key):\n",
        "    sorted_data = sorted(data, key=lambda x: x.get(key, float('inf')))\n",
        "    return sorted_data\n",
        "data = [{'name': 'Alice', 'age': 25}, {'name': 'Bob', 'age': 22}, {'name': 'Charlie', 'age': 30}]\n",
        "sorted_data = sort_by_key(data, 'age')\n",
        "print(sorted_data)"
      ],
      "metadata": {
        "id": "y_7uTIbbi1fu",
        "colab": {
          "base_uri": "https://localhost:8080/"
        },
        "outputId": "2b92fada-fec8-4ce3-dbbf-bf7e2ed58594"
      },
      "execution_count": 6,
      "outputs": [
        {
          "output_type": "stream",
          "name": "stdout",
          "text": [
            "[{'name': 'Bob', 'age': 22}, {'name': 'Alice', 'age': 25}, {'name': 'Charlie', 'age': 30}]\n"
          ]
        }
      ]
    },
    {
      "cell_type": "markdown",
      "source": [
        "# **Question No 03**\n",
        "\n",
        "Write a function called filter_dict that takes a dictionary and a value threshold as arguments.\n",
        "\n",
        "The function should return a new dictionary containing only the key-value pairs where the value is greater than the threshold.\n",
        "\n",
        "**Exmple:**\n",
        "\n",
        "scores = {'Alice': 85, 'Bob': 90, 'Charlie': 78, 'David': 92}\n",
        "filtered_scores = filter_dict(scores, 80)\n",
        "print(filtered_scores)  # {'Alice': 85, 'Bob': 90, 'David': 92}\n",
        "\n"
      ],
      "metadata": {
        "id": "CzVcAI2jg3ei"
      }
    },
    {
      "cell_type": "code",
      "source": [
        "from re import S\n",
        "def filter_dict(dictionary, threshold):\n",
        "    filtered_dict = {}\n",
        "    for key, value in dictionary.items():\n",
        "        if value > threshold:\n",
        "            filtered_dict[key] = value\n",
        "    return filtered_dict\n",
        "scores = {'Alice': 85, 'Bob': 90, 'Charlie': 78, 'David': 92}\n",
        "filtered_scores = filter_dict(scores, 80)\n",
        "print(filtered_scores)"
      ],
      "metadata": {
        "id": "Y1fBZTKWi2wq",
        "colab": {
          "base_uri": "https://localhost:8080/"
        },
        "outputId": "718272a5-d1dd-4a3e-8748-ed78744c39cf"
      },
      "execution_count": 7,
      "outputs": [
        {
          "output_type": "stream",
          "name": "stdout",
          "text": [
            "{'Alice': 85, 'Bob': 90, 'David': 92}\n"
          ]
        }
      ]
    },
    {
      "cell_type": "markdown",
      "source": [
        "# **Question No 04**\n",
        "\n",
        "Write a function called find_common_keys that takes two dictionaries and returns a list of keys that are common to both.\n",
        "\n",
        "\n",
        "**Exmple:**\n",
        "\n",
        "dict1 = {'a': 1, 'b': 2, 'c': 3}\n",
        "dict2 = {'b': 4, 'c': 5, 'd': 6}\n",
        "common_keys = find_common_keys(dict1, dict2)\n",
        "print(common_keys)  # ['b', 'c']\n"
      ],
      "metadata": {
        "id": "sKZLjKbog3jw"
      }
    },
    {
      "cell_type": "code",
      "source": [
        "def find_common_keys(dict1, dict2):\n",
        "    common_keys = list(set(dict1.keys()) & set(dict2.keys()))\n",
        "    return common_keys\n",
        "dict1 = {'a': 1, 'b': 2, 'c': 3}\n",
        "dict2 = {'b': 4, 'c': 5, 'd': 6}\n",
        "common_keys = find_common_keys(dict1, dict2)\n",
        "print(common_keys)"
      ],
      "metadata": {
        "id": "IRSWbYvfi3cg",
        "colab": {
          "base_uri": "https://localhost:8080/"
        },
        "outputId": "7a9f1e92-44f8-4d23-d222-3953f73261ac"
      },
      "execution_count": 8,
      "outputs": [
        {
          "output_type": "stream",
          "name": "stdout",
          "text": [
            "['c', 'b']\n"
          ]
        }
      ]
    },
    {
      "cell_type": "markdown",
      "source": [
        "# **Question No 5**\n",
        "\n",
        "Write a function called update_grades that takes a list of dictionaries (representing students with their grades) and updates the grade of a student if their name matches the given name.\n",
        "\n",
        "\n",
        "**Exmple:**\n",
        "\n",
        "students = [{'name': 'Alice', 'grade': 85}, {'name': 'Bob', 'grade': 90}]\n",
        "updated_students = update_grades(students, 'Bob', 95)\n",
        "print(updated_students)  \n",
        "# [{'name': 'Alice', 'grade': 85}, {'name': 'Bob', 'grade': 95}]\n",
        "\n"
      ],
      "metadata": {
        "id": "xBNyzbF6i41L"
      }
    },
    {
      "cell_type": "code",
      "source": [
        "def update_grades(students, name, new_grade):\n",
        "    for student in students:\n",
        "        if student['name'] == name:\n",
        "            student['grade'] = new_grade\n",
        "    return students\n",
        "students = [{'name': 'Alice', 'grade': 85}, {'name': 'Bob', 'grade': 90}]\n",
        "updated_students = update_grades(students, 'Bob', 95)\n",
        "print(updated_students)"
      ],
      "metadata": {
        "id": "dM8_HJcPi5wH",
        "colab": {
          "base_uri": "https://localhost:8080/"
        },
        "outputId": "04afe446-b15c-4178-9807-0ed03cad0711"
      },
      "execution_count": 9,
      "outputs": [
        {
          "output_type": "stream",
          "name": "stdout",
          "text": [
            "[{'name': 'Alice', 'grade': 85}, {'name': 'Bob', 'grade': 95}]\n"
          ]
        }
      ]
    },
    {
      "cell_type": "markdown",
      "source": [
        "# **Question No 6**\n",
        "\n",
        "Write a function called merge_lists_to_dict that takes two lists of equal length:\n",
        "\n",
        "The first list contains keys.\n",
        "The second list contains values.\n",
        "The function should return a dictionary created by merging these lists.\n",
        "\n",
        "**Exmple:**\n",
        "keys = ['name', 'age', 'city']\n",
        "values = ['Alice', 25, 'New York']\n",
        "result = merge_lists_to_dict(keys, values)\n",
        "print(result)  # {'name': 'Alice', 'age': 25, 'city': 'New York'}\n",
        "\n"
      ],
      "metadata": {
        "id": "LVPjDOqojosu"
      }
    },
    {
      "cell_type": "code",
      "source": [
        "def merge_lists_to_dict(keys, values):\n",
        "    merged_dict = dict(zip(keys, values))\n",
        "    return merged_dict\n",
        "keys = ['name', 'age', 'city']\n",
        "values = ['Alice', 25, 'New York']\n",
        "result = merge_lists_to_dict(keys, values)\n",
        "print(result)"
      ],
      "metadata": {
        "id": "WXCP48lRjyET",
        "colab": {
          "base_uri": "https://localhost:8080/"
        },
        "outputId": "75eae110-3b30-448c-f133-1b94c9beb2f8"
      },
      "execution_count": 10,
      "outputs": [
        {
          "output_type": "stream",
          "name": "stdout",
          "text": [
            "{'name': 'Alice', 'age': 25, 'city': 'New York'}\n"
          ]
        }
      ]
    }
  ]
}