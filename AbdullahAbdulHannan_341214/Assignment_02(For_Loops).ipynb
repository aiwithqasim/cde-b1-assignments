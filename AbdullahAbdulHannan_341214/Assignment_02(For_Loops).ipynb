{
  "nbformat": 4,
  "nbformat_minor": 0,
  "metadata": {
    "colab": {
      "provenance": []
    },
    "kernelspec": {
      "name": "python3",
      "display_name": "Python 3"
    },
    "language_info": {
      "name": "python"
    }
  },
  "cells": [
    {
      "cell_type": "markdown",
      "source": [
        "\n",
        "\n",
        "# **Question No 01**\n",
        "\n",
        "Use a for loop to count the number of occurrences of the word in the list and return all indices where the word occurs.\n",
        "\n",
        "**Exmple:**\n",
        "\n",
        "Input: ['apple', 'banana', 'apple', 'cherry', 'apple'], Search: 'apple'  \n",
        "Output: 'apple' found 3 times at indices: 0, 2, 4\n",
        "\n"
      ],
      "metadata": {
        "id": "1E5r3wPNed0G"
      }
    },
    {
      "cell_type": "code",
      "source": [
        "fruits=['apple','banana','apple','cherry','apple']\n",
        "count=0\n",
        "index=[]\n",
        "for i in range(len(fruits)):\n",
        "\n",
        "  if fruits[i]=='apple':\n",
        "    print(i)\n",
        "    index.append(i)\n",
        "    count=count+1\n",
        "print(f'apple found {count} times at indices: {index}')"
      ],
      "metadata": {
        "id": "tHrz4YilefTD",
        "colab": {
          "base_uri": "https://localhost:8080/"
        },
        "outputId": "4db394f6-2d0f-42b7-8f2d-06d0968d784c"
      },
      "execution_count": 6,
      "outputs": [
        {
          "output_type": "stream",
          "name": "stdout",
          "text": [
            "0\n",
            "2\n",
            "4\n",
            "apple found 3 times at indices: [0, 2, 4]\n"
          ]
        }
      ]
    },
    {
      "cell_type": "markdown",
      "source": [
        "\n",
        "# **Question No 02**\n",
        "\n",
        "Create a program to find all unique pairs of numbers in a list that add up to a target sum.\n",
        "\n",
        "Use a single list and a for loop (nested if necessary) to iterate through and find pairs without duplicates.\n",
        "Avoid repeating pairs like [3, 5] and [5, 3].\n",
        "\n",
        "**Example:**\n",
        "\n",
        "Input list: [2, 4, 3, 5, 7, 8, 1]  \n",
        "Target sum: 9  \n",
        "Output: [(2, 7), (4, 5), (1, 8)]\n"
      ],
      "metadata": {
        "id": "fN_U0nnCeeAF"
      }
    },
    {
      "cell_type": "code",
      "source": [
        "nums=[2,4,3,5,7,8,1]\n",
        "target=6\n",
        "pairs=[]\n",
        "for i in range(len(nums)):\n",
        "  for j in range(i+1,len(nums)):\n",
        "    if nums[i]+nums[j]==target:\n",
        "      pairs.append((nums[i],nums[j]))\n",
        "print(pairs)"
      ],
      "metadata": {
        "id": "AfsJP7KTef3T",
        "colab": {
          "base_uri": "https://localhost:8080/"
        },
        "outputId": "929ae85e-81e9-418f-9dc4-0df9f421c354"
      },
      "execution_count": 9,
      "outputs": [
        {
          "output_type": "stream",
          "name": "stdout",
          "text": [
            "[(2, 4), (5, 1)]\n"
          ]
        }
      ]
    },
    {
      "cell_type": "markdown",
      "source": [
        "# **Question No 03**\n",
        "\n",
        "Write a program to calculate the cumulative product of elements in a list.\n",
        "\n",
        "Use a single list and update it in place to store the cumulative product at each index.\n",
        "Use only a for loop.\n",
        "\n",
        "**Example:**\n",
        "\n",
        "Input: [2, 3, 4, 5]  \n",
        "Output: [2, 6, 24, 120]  \n"
      ],
      "metadata": {
        "id": "d8ZH6VPNewLh"
      }
    },
    {
      "cell_type": "code",
      "source": [
        "input=[2,3,4,5]\n",
        "for i in range(1,len(input)):\n",
        "  input[i]=input[i]*input[i-1]\n",
        "print(input)"
      ],
      "metadata": {
        "id": "pYPfUitge7nW",
        "colab": {
          "base_uri": "https://localhost:8080/"
        },
        "outputId": "3a92920f-3767-4d57-fc56-68c7728f7129"
      },
      "execution_count": 10,
      "outputs": [
        {
          "output_type": "stream",
          "name": "stdout",
          "text": [
            "[2, 6, 24, 120]\n"
          ]
        }
      ]
    },
    {
      "cell_type": "markdown",
      "source": [
        "# **Question No 04**\n",
        "\n",
        "Write a program to reshape a 1D list into a 2D grid.\n",
        "\n",
        "Accept a list of numbers and the number of rows as input.\n",
        "Use for loops to split the list into sublists, each representing a row.\n",
        "If the list cannot be evenly divided into rows, pad it with None.\n",
        "\n",
        "**Example:**\n",
        "Input: [1, 2, 3, 4, 5, 6, 7], Rows: 3  \n",
        "Output: [[1, 2, 3], [4, 5, 6], [7, None, None]]  \n",
        "\n"
      ],
      "metadata": {
        "id": "jEtwOjpEfAYA"
      }
    },
    {
      "cell_type": "code",
      "source": [
        "input=[1,2,3,4,5,6,7]\n",
        "rows=3\n",
        "output=[]\n",
        "for i in range(rows):\n",
        "  output.append(input[i*len(input)//rows:(i+1)*len(input)//rows])\n",
        "  if i*len(input)//rows!=(i+1)*len(input)//rows:\n",
        "    output[i].append(None)\n",
        "print(output)"
      ],
      "metadata": {
        "id": "tGRxqt0pfRql",
        "colab": {
          "base_uri": "https://localhost:8080/"
        },
        "outputId": "07b26a18-ea9b-4787-a161-903f3ae4accd"
      },
      "execution_count": 11,
      "outputs": [
        {
          "output_type": "stream",
          "name": "stdout",
          "text": [
            "[[1, 2, None], [3, 4, None], [5, 6, 7, None]]\n"
          ]
        }
      ]
    },
    {
      "cell_type": "markdown",
      "source": [
        "# **Question No 05**\n",
        "\n",
        "Write a program to sort a list of numbers into two separate lists:\n",
        "\n",
        "One list for all odd numbers (in ascending order).\n",
        "One list for all even numbers (in descending order).\n",
        "Use for loops for the entire process.\n",
        "\n",
        "**Example:**\n",
        "\n",
        "\n",
        "Input: [5, 8, 3, 10, 2, 7, 1, 6]  \n",
        "Output:  \n",
        "Odd: [1, 3, 5, 7]  \n",
        "Even: [10, 8, 6, 2]  \n"
      ],
      "metadata": {
        "id": "iBPZVHDsfwpm"
      }
    },
    {
      "cell_type": "code",
      "source": [
        "input=[5,8,3,10,2,7,1,6]\n",
        "odd=[]\n",
        "even=[]\n",
        "for i in range(len(input)):\n",
        "  if input[i]%2==0:\n",
        "    even.append(input[i])\n",
        "  else:\n",
        "    odd.append(input[i])\n",
        "even.sort(reverse=True)\n",
        "odd.sort()\n",
        "print(f'Odd: {odd}')\n",
        "print(f'Even: {even}')"
      ],
      "metadata": {
        "id": "y8dyGGNAf42S",
        "colab": {
          "base_uri": "https://localhost:8080/"
        },
        "outputId": "83de588e-ec75-4e78-e136-eafc624f2c92"
      },
      "execution_count": 12,
      "outputs": [
        {
          "output_type": "stream",
          "name": "stdout",
          "text": [
            "Odd: [1, 3, 5, 7]\n",
            "Even: [10, 8, 6, 2]\n"
          ]
        }
      ]
    },
    {
      "cell_type": "markdown",
      "source": [
        "# **Question No 06**\n",
        "\n",
        "Write a program that uses a for loop to count the frequency of each character in a given string and stores the result in a dictionary.\n",
        "\n",
        "The program should ignore spaces and be case-insensitive.\n",
        "Display the dictionary as the final output.\n",
        "\n",
        "**Example:**\n",
        "\n",
        "Input: \"Programming is fun\"  \n",
        "Output: {'p': 1, 'r': 2, 'o': 1, 'g': 2, 'a': 1, 'm': 2, 'i': 2, 'n': 2, 's': 1, 'f': 1, 'u': 1}\n",
        "\n"
      ],
      "metadata": {
        "id": "X_LfOnqskNTe"
      }
    },
    {
      "cell_type": "code",
      "source": [
        "txt=\"Programming is fun\"\n",
        "txt=txt.lower()\n",
        "freq={}\n",
        "for i in range(len(txt)):\n",
        "  if txt[i]==' ':\n",
        "    continue\n",
        "  elif txt[i] in freq:\n",
        "    freq[txt[i]]+=1\n",
        "  else:\n",
        "    freq[txt[i]]=1\n",
        "print(freq)"
      ],
      "metadata": {
        "id": "1_-djYt-kW8F",
        "colab": {
          "base_uri": "https://localhost:8080/"
        },
        "outputId": "69bb72b4-109d-4816-bcbe-aafef2e232b2"
      },
      "execution_count": 13,
      "outputs": [
        {
          "output_type": "stream",
          "name": "stdout",
          "text": [
            "{'p': 1, 'r': 2, 'o': 1, 'g': 2, 'a': 1, 'm': 2, 'i': 2, 'n': 2, 's': 1, 'f': 1, 'u': 1}\n"
          ]
        }
      ]
    }
  ]
}