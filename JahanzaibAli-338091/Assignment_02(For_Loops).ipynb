{
 "cells": [
  {
   "cell_type": "markdown",
   "metadata": {
    "id": "1E5r3wPNed0G"
   },
   "source": [
    "\n",
    "\n",
    "# **Question No 01**\n",
    "\n",
    "Use a for loop to count the number of occurrences of the word in the list and return all indices where the word occurs.\n",
    "\n",
    "**Exmple:**\n",
    "\n",
    "Input: ['apple', 'banana', 'apple', 'cherry', 'apple'], Search: 'apple'  \n",
    "Output: 'apple' found 3 times at indices: 0, 2, 4\n",
    "\n"
   ]
  },
  {
   "cell_type": "code",
   "execution_count": 1,
   "metadata": {
    "id": "tHrz4YilefTD"
   },
   "outputs": [
    {
     "name": "stdout",
     "output_type": "stream",
     "text": [
      "fruits list : ['apple', 'orange', 'banana', 'pear', 'mango']\n",
      "banana fruit found 1 times at index : [2] \n"
     ]
    }
   ],
   "source": [
    "fruits=[]\n",
    "n = int(input(\"Enter the number of elements: \"))\n",
    "for i in range (n):\n",
    "    a=input(\"Enter fruits names: \")\n",
    "    fruits.append(a)\n",
    "count=0    \n",
    "print(f'fruits list : {fruits}')\n",
    "search = input(\"Enter fruit to search:\")\n",
    "index=[]\n",
    "for i in range (len(fruits)):\n",
    "    if fruits[i] == search:\n",
    "        count+=1\n",
    "        index.append(i)\n",
    "    \n",
    "print(f\"{search} fruit found {count} times at index : {index} \")"
   ]
  },
  {
   "cell_type": "markdown",
   "metadata": {
    "id": "fN_U0nnCeeAF"
   },
   "source": [
    "\n",
    "# **Question No 02**\n",
    "\n",
    "Create a program to find all unique pairs of numbers in a list that add up to a target sum.\n",
    "\n",
    "Use a single list and a for loop (nested if necessary) to iterate through and find pairs without duplicates.\n",
    "Avoid repeating pairs like [3, 5] and [5, 3].\n",
    "\n",
    "**Example:**\n",
    "\n",
    "Input list: [2, 4, 3, 5, 7, 8, 1]  \n",
    "Target sum: 9  \n",
    "Output: [(2, 7), (4, 5), (1, 8)]\n"
   ]
  },
  {
   "cell_type": "code",
   "execution_count": 4,
   "metadata": {
    "id": "AfsJP7KTef3T"
   },
   "outputs": [
    {
     "name": "stdout",
     "output_type": "stream",
     "text": [
      "list elements : [2, 3]\n",
      "No Combination\n",
      "No Combination\n",
      "[]\n"
     ]
    }
   ],
   "source": [
    "lists=[]\n",
    "n = int(input(\"Enter the number of list: \"))\n",
    "for i in range (n):\n",
    "    a=int(input(\"Enter elements: \"))\n",
    "    lists.append(a)\n",
    "print(f'list elements : {lists}')\n",
    "sum = int(input(\"Enter sum:\"))\n",
    "res=[]\n",
    "while lists:\n",
    "    num =lists.pop()\n",
    "    diff=sum-num\n",
    "    if diff in lists:\n",
    "        res.append((diff, num))\n",
    "    else:\n",
    "        print(\"No Combination\")\n",
    "res.reverse()\n",
    "print(res)"
   ]
  },
  {
   "cell_type": "markdown",
   "metadata": {
    "id": "d8ZH6VPNewLh"
   },
   "source": [
    "# **Question No 03**\n",
    "\n",
    "Write a program to calculate the cumulative product of elements in a list.\n",
    "\n",
    "Use a single list and update it in place to store the cumulative product at each index.\n",
    "Use only a for loop.\n",
    "\n",
    "**Example:**\n",
    "\n",
    "Input: [2, 3, 4, 5]  \n",
    "Output: [2, 6, 24, 120]  \n"
   ]
  },
  {
   "cell_type": "code",
   "execution_count": 7,
   "metadata": {
    "id": "pYPfUitge7nW"
   },
   "outputs": [
    {
     "name": "stdout",
     "output_type": "stream",
     "text": [
      "list elements : [1]\n",
      "[1]\n"
     ]
    }
   ],
   "source": [
    "lists=[]\n",
    "n = int(input(\"Enter the number of list: \"))\n",
    "for i in range (n):\n",
    "    a=int(input(\"Enter elements: \"))\n",
    "    lists.append(a)\n",
    "print(f'list elements : {lists}')\n",
    "nv=[]\n",
    "j=1\n",
    "for i in lists:\n",
    "    j*=i\n",
    "    nv.append(j)\n",
    "print(nv)"
   ]
  },
  {
   "cell_type": "markdown",
   "metadata": {
    "id": "jEtwOjpEfAYA"
   },
   "source": [
    "# **Question No 04**\n",
    "\n",
    "Write a program to reshape a 1D list into a 2D grid.\n",
    "\n",
    "Accept a list of numbers and the number of rows as input.\n",
    "Use for loops to split the list into sublists, each representing a row.\n",
    "If the list cannot be evenly divided into rows, pad it with None.\n",
    "\n",
    "**Example:**\n",
    "Input: [1, 2, 3, 4, 5, 6, 7], Rows: 3  \n",
    "Output: [[1, 2, 3], [4, 5, 6], [7, None, None]]  \n",
    "\n"
   ]
  },
  {
   "cell_type": "code",
   "execution_count": 8,
   "metadata": {
    "id": "tGRxqt0pfRql"
   },
   "outputs": [
    {
     "name": "stdout",
     "output_type": "stream",
     "text": [
      "list elements : [2, 2]\n",
      "[[2, 2]]\n"
     ]
    }
   ],
   "source": [
    "lists=[]\n",
    "n = int(input(\"Enter the number of list: \"))\n",
    "for i in range (n):\n",
    "    a=int(input(\"Enter elements: \"))\n",
    "    lists.append(a)\n",
    "print(f'list elements : {lists}')\n",
    "rows=int(input(\"Enter row: \"))\n",
    "cols = -(-len(lists) // rows) \n",
    "grid = []\n",
    "for i in range(rows):\n",
    "    start = i * cols\n",
    "    end = start + cols\n",
    "    row = lists[start:end]\n",
    "    while len(row) < cols:\n",
    "        row.append(None)\n",
    "    grid.append(row)\n",
    "print(grid)"
   ]
  },
  {
   "cell_type": "markdown",
   "metadata": {
    "id": "iBPZVHDsfwpm"
   },
   "source": [
    "# **Question No 05**\n",
    "\n",
    "Write a program to sort a list of numbers into two separate lists:\n",
    "\n",
    "One list for all odd numbers (in ascending order).\n",
    "One list for all even numbers (in descending order).\n",
    "Use for loops for the entire process.\n",
    "\n",
    "**Example:**\n",
    "\n",
    "\n",
    "Input: [5, 8, 3, 10, 2, 7, 1, 6]  \n",
    "Output:  \n",
    "Odd: [1, 3, 5, 7]  \n",
    "Even: [10, 8, 6, 2]  \n"
   ]
  },
  {
   "cell_type": "code",
   "execution_count": 9,
   "metadata": {
    "id": "y8dyGGNAf42S"
   },
   "outputs": [
    {
     "name": "stdout",
     "output_type": "stream",
     "text": [
      "list elements : [12, 21, 122, 211]\n",
      "even elements: [12, 122]\n",
      "odd elements: [21, 211]\n"
     ]
    }
   ],
   "source": [
    "lists=[]\n",
    "n = int(input(\"Enter the number of list: \"))\n",
    "for i in range (n):\n",
    "    a=int(input(\"Enter elements: \"))\n",
    "    lists.append(a)\n",
    "print(f'list elements : {lists}')\n",
    "\n",
    "even=[]\n",
    "odd=[]\n",
    "for i in lists:\n",
    "    if (i%2==0):\n",
    "        even.append(i)\n",
    "    else:\n",
    "        odd.append(i)\n",
    "print(f'even elements: {even}')\n",
    "print(f'odd elements: {odd}')"
   ]
  },
  {
   "cell_type": "markdown",
   "metadata": {
    "id": "X_LfOnqskNTe"
   },
   "source": [
    "# **Question No 06**\n",
    "\n",
    "Write a program that uses a for loop to count the frequency of each character in a given string and stores the result in a dictionary.\n",
    "\n",
    "The program should ignore spaces and be case-insensitive.\n",
    "Display the dictionary as the final output.\n",
    "\n",
    "**Example:**\n",
    "\n",
    "Input: \"Programming is fun\"  \n",
    "Output: {'p': 1, 'r': 2, 'o': 1, 'g': 2, 'a': 1, 'm': 2, 'i': 2, 'n': 2, 's': 1, 'f': 1, 'u': 1}\n",
    "\n"
   ]
  },
  {
   "cell_type": "code",
   "execution_count": null,
   "metadata": {
    "id": "1_-djYt-kW8F"
   },
   "outputs": [
    {
     "name": "stdout",
     "output_type": "stream",
     "text": [
      "{'p': 1, 'r': 2, 'o': 1, 'g': 1, 'a': 1, 'm': 1}\n"
     ]
    }
   ],
   "source": [
    "lists=[]\n",
    "freq={}\n",
    "n = input(\"Enter the number of list: \").lower()\n",
    "str=\"Empty String\"\n",
    "for i in n:\n",
    "    if i.isalpha():\n",
    "        lists.append(i)\n",
    "    elif i.isspace():\n",
    "        continue\n",
    "for c in lists:\n",
    "    if c in freq:\n",
    "        freq[c] += 1\n",
    "    else:\n",
    "        freq[c]=1\n",
    "print(freq)"
   ]
  }
 ],
 "metadata": {
  "colab": {
   "provenance": []
  },
  "kernelspec": {
   "display_name": "Python 3",
   "name": "python3"
  },
  "language_info": {
   "codemirror_mode": {
    "name": "ipython",
    "version": 3
   },
   "file_extension": ".py",
   "mimetype": "text/x-python",
   "name": "python",
   "nbconvert_exporter": "python",
   "pygments_lexer": "ipython3",
   "version": "3.13.0"
  }
 },
 "nbformat": 4,
 "nbformat_minor": 0
}
