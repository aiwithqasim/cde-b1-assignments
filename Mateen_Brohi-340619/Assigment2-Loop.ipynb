{
 "cells": [
  {
   "cell_type": "markdown",
   "id": "cc8b686e",
   "metadata": {},
   "source": [
    "## Question No 01\n",
    "Use a for loop to count the number of occurrences of the word in the list and return all indices where the word occurs.\n",
    "\n",
    "Exmple:\n",
    "\n",
    "Input: ['apple', 'banana', 'apple', 'cherry', 'apple'], Search: 'apple'\n",
    "Output: 'apple' found 3 times at indices: 0, 2, 4"
   ]
  },
  {
   "cell_type": "code",
   "execution_count": 1,
   "id": "bc73d3e1",
   "metadata": {},
   "outputs": [
    {
     "name": "stdout",
     "output_type": "stream",
     "text": [
      "'apple' found 3 times at indices: [0, 2, 4]\n"
     ]
    }
   ],
   "source": [
    "def find_word_occurrences(lst, search_word):\n",
    "    indices = [i for i, word in enumerate(lst) if word == search_word]\n",
    "    count = len(indices)\n",
    "    return f\"'{search_word}' found {count} times at indices: {indices}\"\n",
    "\n",
    "# Example usage\n",
    "words = ['apple', 'banana', 'apple', 'cherry', 'apple']\n",
    "search = 'apple'\n",
    "output = find_word_occurrences(words, search)\n",
    "print(output)\n"
   ]
  },
  {
   "cell_type": "markdown",
   "id": "cd11dc55",
   "metadata": {},
   "source": [
    "## Question No 02\n",
    "Create a program to find all unique pairs of numbers in a list that add up to a target sum.\n",
    "\n",
    "Use a single list and a for loop (nested if necessary) to iterate through and find pairs without duplicates. Avoid repeating pairs like [3, 5] and [5, 3].\n",
    "\n",
    "Example:\n",
    "\n",
    "Input list: [2, 4, 3, 5, 7, 8, 1]\n",
    "Target sum: 9\n",
    "Output: [(2, 7), (4, 5), (1, 8)]"
   ]
  },
  {
   "cell_type": "code",
   "execution_count": 2,
   "id": "8c111180",
   "metadata": {},
   "outputs": [
    {
     "name": "stdout",
     "output_type": "stream",
     "text": [
      "[(2, 7), (4, 5), (8, 1)]\n"
     ]
    }
   ],
   "source": [
    "def find_unique_pairs(lst, target_sum):\n",
    "    pairs = []\n",
    "    seen = set()\n",
    "    for i in range(len(lst)):\n",
    "        for j in range(i + 1, len(lst)):\n",
    "            if lst[i] + lst[j] == target_sum and (lst[j], lst[i]) not in seen:\n",
    "                pairs.append((lst[i], lst[j]))\n",
    "                seen.add((lst[i], lst[j]))\n",
    "    return pairs\n",
    "\n",
    "# Example usage\n",
    "numbers = [2, 4, 3, 5, 7, 8, 1]\n",
    "target = 9\n",
    "output = find_unique_pairs(numbers, target)\n",
    "print(output)\n"
   ]
  },
  {
   "cell_type": "markdown",
   "id": "73b1117b",
   "metadata": {},
   "source": [
    "## Question No 03\n",
    "Write a program to calculate the cumulative product of elements in a list.\n",
    "\n",
    "Use a single list and update it in place to store the cumulative product at each index. Use only a for loop.\n",
    "\n",
    "Example:\n",
    "\n",
    "Input: [2, 3, 4, 5]\n",
    "Output: [2, 6, 24, 120]"
   ]
  },
  {
   "cell_type": "code",
   "execution_count": 3,
   "id": "8d4c23c1",
   "metadata": {},
   "outputs": [
    {
     "name": "stdout",
     "output_type": "stream",
     "text": [
      "[2, 6, 24, 120]\n"
     ]
    }
   ],
   "source": [
    "def cumulative_product(lst):\n",
    "    for i in range(1, len(lst)):\n",
    "        lst[i] *= lst[i - 1]\n",
    "    return lst\n",
    "\n",
    "# Example usage\n",
    "numbers = [2, 3, 4, 5]\n",
    "output = cumulative_product(numbers)\n",
    "print(output)\n"
   ]
  },
  {
   "cell_type": "markdown",
   "id": "82362f8d",
   "metadata": {},
   "source": [
    "## Question No 04\n",
    "Write a program to reshape a 1D list into a 2D grid.\n",
    "\n",
    "Accept a list of numbers and the number of rows as input. Use for loops to split the list into sublists, each representing a row. If the list cannot be evenly divided into rows, pad it with None.\n",
    "\n",
    "Example: Input: [1, 2, 3, 4, 5, 6, 7], Rows: 3\n",
    "Output: [[1, 2, 3], [4, 5, 6], [7, None, None]]"
   ]
  },
  {
   "cell_type": "code",
   "execution_count": 4,
   "id": "a2f4006a",
   "metadata": {},
   "outputs": [
    {
     "name": "stdout",
     "output_type": "stream",
     "text": [
      "[[1, 2, 3], [4, 5, 6], [7, None, None]]\n"
     ]
    }
   ],
   "source": [
    "def reshape_list(lst, rows):\n",
    "    cols = -(-len(lst) // rows)  # Ceiling division to determine the number of columns\n",
    "    grid = []\n",
    "    for i in range(rows):\n",
    "        start = i * cols\n",
    "        end = start + cols\n",
    "        row = lst[start:end]\n",
    "        if len(row) < cols:\n",
    "            row.extend([None] * (cols - len(row)))\n",
    "        grid.append(row)\n",
    "    return grid\n",
    "\n",
    "# Example usage\n",
    "numbers = [1, 2, 3, 4, 5, 6, 7]\n",
    "rows = 3\n",
    "output = reshape_list(numbers, rows)\n",
    "print(output)\n"
   ]
  },
  {
   "cell_type": "markdown",
   "id": "60edc071",
   "metadata": {},
   "source": [
    "## Question No 05\n",
    "Write a program to sort a list of numbers into two separate lists:\n",
    "\n",
    "One list for all odd numbers (in ascending order). One list for all even numbers (in descending order). Use for loops for the entire process.\n",
    "\n",
    "Example:\n",
    "\n",
    "Input: [5, 8, 3, 10, 2, 7, 1, 6]\n",
    "Output:\n",
    "Odd: [1, 3, 5, 7]\n",
    "Even: [10, 8, 6, 2]"
   ]
  },
  {
   "cell_type": "code",
   "execution_count": 5,
   "id": "7edae811",
   "metadata": {},
   "outputs": [
    {
     "name": "stdout",
     "output_type": "stream",
     "text": [
      "Odd: [1, 3, 5, 7]\n",
      "Even: [10, 8, 6, 2]\n"
     ]
    }
   ],
   "source": [
    "def sort_odd_even(lst):\n",
    "    odds = sorted([x for x in lst if x % 2 != 0])\n",
    "    evens = sorted([x for x in lst if x % 2 == 0], reverse=True)\n",
    "    return {'Odd': odds, 'Even': evens}\n",
    "\n",
    "# Example usage\n",
    "numbers = [5, 8, 3, 10, 2, 7, 1, 6]\n",
    "output = sort_odd_even(numbers)\n",
    "print(f\"Odd: {output['Odd']}\")\n",
    "print(f\"Even: {output['Even']}\")\n"
   ]
  },
  {
   "cell_type": "markdown",
   "id": "7e1dbdaa",
   "metadata": {},
   "source": [
    "## Question No 06\n",
    "Write a program that uses a for loop to count the frequency of each character in a given string and stores the result in a dictionary.\n",
    "\n",
    "The program should ignore spaces and be case-insensitive. Display the dictionary as the final output.\n",
    "\n",
    "Example:\n",
    "\n",
    "Input: \"Programming is fun\"\n",
    "Output: {'p': 1, 'r': 2, 'o': 1, 'g': 2, 'a': 1, 'm': 2, 'i': 2, 'n': 2, 's': 1, 'f': 1, 'u': 1}"
   ]
  },
  {
   "cell_type": "code",
   "execution_count": 6,
   "id": "f5b60d72",
   "metadata": {},
   "outputs": [
    {
     "name": "stdout",
     "output_type": "stream",
     "text": [
      "{'p': 1, 'r': 2, 'o': 1, 'g': 2, 'a': 1, 'm': 2, 'i': 2, 'n': 2, 's': 1, 'f': 1, 'u': 1}\n"
     ]
    }
   ],
   "source": [
    "def character_frequency(s):\n",
    "    freq = {}\n",
    "    for char in s.lower():\n",
    "        if char != ' ':  # Ignore spaces\n",
    "            freq[char] = freq.get(char, 0) + 1\n",
    "    return freq\n",
    "\n",
    "# Example usage\n",
    "text = \"Programming is fun\"\n",
    "output = character_frequency(text)\n",
    "print(output)\n"
   ]
  }
 ],
 "metadata": {
  "kernelspec": {
   "display_name": "Python 3",
   "language": "python",
   "name": "python3"
  },
  "language_info": {
   "codemirror_mode": {
    "name": "ipython",
    "version": 3
   },
   "file_extension": ".py",
   "mimetype": "text/x-python",
   "name": "python",
   "nbconvert_exporter": "python",
   "pygments_lexer": "ipython3",
   "version": "3.12.2"
  }
 },
 "nbformat": 4,
 "nbformat_minor": 5
}
