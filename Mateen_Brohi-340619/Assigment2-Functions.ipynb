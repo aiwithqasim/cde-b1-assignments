{
 "cells": [
  {
   "cell_type": "markdown",
   "id": "8bfb78f0",
   "metadata": {},
   "source": []
  },
  {
   "cell_type": "markdown",
   "id": "b162f2b4",
   "metadata": {},
   "source": [
    "## Question No 01\n",
    "Write a function called create_word_count that takes a list of strings and returns a dictionary where:\n",
    "\n",
    "Keys are unique words from the list. Values are the count of occurrences of each word.\n",
    "\n",
    "Exmple: words = ['apple', 'banana', 'apple', 'cherry', 'banana', 'apple'] result = create_word_count(words) print(result) # {'apple': 3, 'banana': 2, 'cherry': 1}"
   ]
  },
  {
   "cell_type": "code",
   "execution_count": 1,
   "id": "631cfa43",
   "metadata": {},
   "outputs": [
    {
     "name": "stdout",
     "output_type": "stream",
     "text": [
      "'apple' found 3 times at indices: [0, 2, 4]\n"
     ]
    }
   ],
   "source": [
    "def count_occurrences(lst, search_word):\n",
    "    indices = []\n",
    "    count = 0\n",
    "    for i, word in enumerate(lst):\n",
    "        if word == search_word:\n",
    "            count += 1\n",
    "            indices.append(i)\n",
    "    print(f\"'{search_word}' found {count} times at indices: {indices}\")\n",
    "\n",
    "# Example\n",
    "count_occurrences(['apple', 'banana', 'apple', 'cherry', 'apple'], 'apple')"
   ]
  },
  {
   "cell_type": "markdown",
   "id": "416fa25a",
   "metadata": {},
   "source": [
    "## Question No 02\n",
    "\n",
    "Write a function called sort_by_key that takes a list of dictionaries and a key to sort by.\n",
    "\n",
    "The function should return a new list sorted by the given key in ascending order. If the key doesn’t exist in a dictionary, ignore that dictionary.\n",
    "\n",
    "Exmple:\n",
    "\n",
    "data = [{'name': 'Alice', 'age': 25}, {'name': 'Bob', 'age': 22}, {'name': 'Charlie', 'age': 30}] sorted_data = sort_by_key(data, 'age') print(sorted_data)\n",
    "\n",
    "[{'name': 'Bob', 'age': 22}, {'name': 'Alice', 'age': 25}, {'name': 'Charlie', 'age': 30}]"
   ]
  },
  {
   "cell_type": "code",
   "execution_count": 4,
   "id": "4a4bc6f5",
   "metadata": {},
   "outputs": [
    {
     "name": "stdout",
     "output_type": "stream",
     "text": [
      "[{'name': 'Bob', 'age': 22}, {'name': 'Alice', 'age': 25}, {'name': 'Charlie', 'age': 30}]\n"
     ]
    }
   ],
   "source": [
    "def sort_by_key(data, key):\n",
    "  filtered_data = [d for d in data if key in d]\n",
    "  sorted_data = sorted(filtered_data, key=lambda x: x[key])\n",
    "    \n",
    "  return sorted_data\n",
    "\n",
    "# Example usage\n",
    "data = [\n",
    "    {'name': 'Alice', 'age': 25},\n",
    "    {'name': 'Bob', 'age': 22},\n",
    "    {'name': 'Charlie', 'age': 30}\n",
    "]\n",
    "\n",
    "sorted_data = sort_by_key(data, 'age')\n",
    "print(sorted_data)\n"
   ]
  },
  {
   "cell_type": "markdown",
   "id": "419b8618",
   "metadata": {},
   "source": [
    "## Question No 03\n",
    "Write a function called filter_dict that takes a dictionary and a value threshold as arguments.\n",
    "\n",
    "The function should return a new dictionary containing only the key-value pairs where the value is greater than the threshold.\n",
    "\n",
    "Exmple:\n",
    "\n",
    "scores = {'Alice': 85, 'Bob': 90, 'Charlie': 78, 'David': 92} filtered_scores = filter_dict(scores, 80) print(filtered_scores) # {'Alice': 85, 'Bob': 90, 'David': 92}"
   ]
  },
  {
   "cell_type": "code",
   "execution_count": 5,
   "id": "d7ea5bd1",
   "metadata": {},
   "outputs": [
    {
     "name": "stdout",
     "output_type": "stream",
     "text": [
      "{'Alice': 85, 'Bob': 90, 'David': 92}\n"
     ]
    }
   ],
   "source": [
    "def filter_dict(data, threshold):\n",
    "    \n",
    "    return {key: value for key, value in data.items() if value > threshold}\n",
    "\n",
    "# Example usage\n",
    "scores = {\n",
    "    'Alice': 85,\n",
    "    'Bob': 90,\n",
    "    'Charlie': 78,\n",
    "    'David': 92\n",
    "}\n",
    "\n",
    "filtered_scores = filter_dict(scores, 80)\n",
    "print(filtered_scores)\n"
   ]
  },
  {
   "cell_type": "markdown",
   "id": "12315681",
   "metadata": {},
   "source": [
    "## Question No 04\n",
    "Write a function called find_common_keys that takes two dictionaries and returns a list of keys that are common to both.\n",
    "\n",
    "Exmple:\n",
    "\n",
    "dict1 = {'a': 1, 'b': 2, 'c': 3} dict2 = {'b': 4, 'c': 5, 'd': 6} common_keys = find_common_keys(dict1, dict2) print(common_keys) # ['b', 'c']"
   ]
  },
  {
   "cell_type": "code",
   "execution_count": 6,
   "id": "f5274d17",
   "metadata": {},
   "outputs": [
    {
     "name": "stdout",
     "output_type": "stream",
     "text": [
      "['b', 'c']\n"
     ]
    }
   ],
   "source": [
    "def find_common_keys(dict1, dict2):\n",
    "    # Return a list of keys that are common to both dictionaries\n",
    "    return [key for key in dict1.keys() if key in dict2]\n",
    "\n",
    "# Example usage\n",
    "dict1 = {'a': 1, 'b': 2, 'c': 3}\n",
    "dict2 = {'b': 4, 'c': 5, 'd': 6}\n",
    "\n",
    "common_keys = find_common_keys(dict1, dict2)\n",
    "print(common_keys)\n"
   ]
  },
  {
   "cell_type": "markdown",
   "id": "202d101d",
   "metadata": {},
   "source": [
    "## Question No 5\n",
    "Write a function called update_grades that takes a list of dictionaries (representing students with their grades) and updates the grade of a student if their name matches the given name.\n",
    "\n",
    "Exmple:\n",
    "\n",
    "students = [{'name': 'Alice', 'grade': 85}, {'name': 'Bob', 'grade': 90}] updated_students = update_grades(students, 'Bob', 95) print(updated_students)"
   ]
  },
  {
   "cell_type": "code",
   "execution_count": 7,
   "id": "f1f48daa",
   "metadata": {},
   "outputs": [
    {
     "name": "stdout",
     "output_type": "stream",
     "text": [
      "[{'name': 'Alice', 'grade': 85}, {'name': 'Bob', 'grade': 95}]\n"
     ]
    }
   ],
   "source": [
    "def update_grades(students, name, new_grade):\n",
    "    \n",
    "    for student in students:\n",
    "        if student.get('name') == name:\n",
    "            student['grade'] = new_grade\n",
    "    return students\n",
    "\n",
    "# Example usage\n",
    "students = [{'name': 'Alice', 'grade': 85}, {'name': 'Bob', 'grade': 90}]\n",
    "updated_students = update_grades(students, 'Bob', 95)\n",
    "print(updated_students)\n"
   ]
  },
  {
   "cell_type": "markdown",
   "id": "86dc2789",
   "metadata": {},
   "source": [
    "## Question No 6\n",
    "Write a function called merge_lists_to_dict that takes two lists of equal length:\n",
    "\n",
    "The first list contains keys. The second list contains values. The function should return a dictionary created by merging these lists.\n",
    "\n",
    "Exmple: keys = ['name', 'age', 'city'] values = ['Alice', 25, 'New York'] result = merge_lists_to_dict(keys, values) print(result) # {'name': 'Alice', 'age': 25, 'city': 'New York'}"
   ]
  },
  {
   "cell_type": "code",
   "execution_count": 9,
   "id": "f878a1ec",
   "metadata": {},
   "outputs": [
    {
     "name": "stdout",
     "output_type": "stream",
     "text": [
      "{'name': 'Alice', 'age': 25, 'city': 'New York'}\n"
     ]
    }
   ],
   "source": [
    "def merge_lists_to_dict(keys, values):\n",
    "\n",
    "    return dict(zip(keys, values))\n",
    "\n",
    "# Example usage\n",
    "keys = ['name', 'age', 'city']\n",
    "values = ['Alice', 25, 'New York']\n",
    "result = merge_lists_to_dict(keys, values)\n",
    "print(result)\n"
   ]
  }
 ],
 "metadata": {
  "kernelspec": {
   "display_name": "Python 3",
   "language": "python",
   "name": "python3"
  },
  "language_info": {
   "codemirror_mode": {
    "name": "ipython",
    "version": 3
   },
   "file_extension": ".py",
   "mimetype": "text/x-python",
   "name": "python",
   "nbconvert_exporter": "python",
   "pygments_lexer": "ipython3",
   "version": "3.12.2"
  }
 },
 "nbformat": 4,
 "nbformat_minor": 5
}
