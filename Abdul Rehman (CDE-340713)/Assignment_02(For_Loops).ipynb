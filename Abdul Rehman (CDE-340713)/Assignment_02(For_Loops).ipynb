{
  "cells": [
    {
      "cell_type": "markdown",
      "metadata": {
        "id": "1E5r3wPNed0G"
      },
      "source": [
        "\n",
        "\n",
        "# **Question No 01**\n",
        "\n",
        "Use a for loop to count the number of occurrences of the word in the list and return all indices where the word occurs.\n",
        "\n",
        "**Exmple:**\n",
        "\n",
        "Input: ['apple', 'banana', 'apple', 'cherry', 'apple'], Search: 'apple'  \n",
        "Output: 'apple' found 3 times at indices: 0, 2, 4\n",
        "\n"
      ]
    },
    {
      "cell_type": "code",
      "execution_count": 1,
      "metadata": {
        "id": "tHrz4YilefTD"
      },
      "outputs": [
        {
          "name": "stdout",
          "output_type": "stream",
          "text": [
            "'apple' found 3 times at indices: 0, 2, 4\n"
          ]
        }
      ],
      "source": [
        "def count_word_occurrences(word_list, search_word):\n",
        "    count = 0\n",
        "    indices = []\n",
        "    \n",
        "    for i in range(len(word_list)):\n",
        "        if word_list[i] == search_word:\n",
        "            count += 1\n",
        "            indices.append(i)\n",
        "    \n",
        "    print(f\"'{search_word}' found {count} times at indices: {', '.join(map(str, indices))}\")\n",
        "\n",
        "input_list = ['apple', 'banana', 'apple', 'cherry', 'apple']\n",
        "search = 'apple'\n",
        "count_word_occurrences(input_list, search)\n"
      ]
    },
    {
      "cell_type": "markdown",
      "metadata": {
        "id": "fN_U0nnCeeAF"
      },
      "source": [
        "\n",
        "# **Question No 02**\n",
        "\n",
        "Create a program to find all unique pairs of numbers in a list that add up to a target sum.\n",
        "\n",
        "Use a single list and a for loop (nested if necessary) to iterate through and find pairs without duplicates.\n",
        "Avoid repeating pairs like [3, 5] and [5, 3].\n",
        "\n",
        "**Example:**\n",
        "\n",
        "Input list: [2, 4, 3, 5, 7, 8, 1]  \n",
        "Target sum: 9  \n",
        "Output: [(2, 7), (4, 5), (1, 8)]\n"
      ]
    },
    {
      "cell_type": "code",
      "execution_count": null,
      "metadata": {
        "id": "AfsJP7KTef3T"
      },
      "outputs": [],
      "source": [
        "def find_unique_pairs(nums, target_sum):\n",
        "    pairs = []\n",
        "    \n",
        "    for i in range(len(nums)):\n",
        "        for j in range(i + 1, len(nums)):  # Start from the next index to avoid duplicates\n",
        "            if nums[i] + nums[j] == target_sum:\n",
        "                pair = (nums[i], nums[j])\n",
        "                if pair not in pairs:  # Ensure no duplicate pairs are added\n",
        "                    pairs.append(pair)\n",
        "    \n",
        "    return pairs\n",
        "\n",
        "input_list = [2, 4, 3, 5, 7, 8, 1]\n",
        "target = 9\n",
        "result = find_unique_pairs(input_list, target)\n",
        "print(result)\n"
      ]
    },
    {
      "cell_type": "markdown",
      "metadata": {
        "id": "d8ZH6VPNewLh"
      },
      "source": [
        "# **Question No 03**\n",
        "\n",
        "Write a program to calculate the cumulative product of elements in a list.\n",
        "\n",
        "Use a single list and update it in place to store the cumulative product at each index.\n",
        "Use only a for loop.\n",
        "\n",
        "**Example:**\n",
        "\n",
        "Input: [2, 3, 4, 5]  \n",
        "Output: [2, 6, 24, 120]  \n"
      ]
    },
    {
      "cell_type": "code",
      "execution_count": 2,
      "metadata": {
        "id": "pYPfUitge7nW"
      },
      "outputs": [
        {
          "name": "stdout",
          "output_type": "stream",
          "text": [
            "[2, 6, 24, 120]\n"
          ]
        }
      ],
      "source": [
        "def cumulative_product(nums):\n",
        "    for i in range(1, len(nums)):  \n",
        "        nums[i] *= nums[i - 1]\n",
        "    return nums\n",
        "\n",
        "input_list = [2, 3, 4, 5]\n",
        "result = cumulative_product(input_list)\n",
        "print(result)\n"
      ]
    },
    {
      "cell_type": "markdown",
      "metadata": {
        "id": "jEtwOjpEfAYA"
      },
      "source": [
        "# **Question No 04**\n",
        "\n",
        "Write a program to reshape a 1D list into a 2D grid.\n",
        "\n",
        "Accept a list of numbers and the number of rows as input.\n",
        "Use for loops to split the list into sublists, each representing a row.\n",
        "If the list cannot be evenly divided into rows, pad it with None.\n",
        "\n",
        "**Example:**\n",
        "Input: [1, 2, 3, 4, 5, 6, 7], Rows: 3  \n",
        "Output: [[1, 2, 3], [4, 5, 6], [7, None, None]]  \n",
        "\n"
      ]
    },
    {
      "cell_type": "code",
      "execution_count": 3,
      "metadata": {
        "id": "tGRxqt0pfRql"
      },
      "outputs": [
        {
          "name": "stdout",
          "output_type": "stream",
          "text": [
            "[[1, 2, 3], [4, 5, 6], [7, None, None]]\n"
          ]
        }
      ],
      "source": [
        "def reshape_list_to_grid(nums, rows):\n",
        "    cols = -(-len(nums) // rows)  # \n",
        "\n",
        "    while len(nums) % rows != 0:\n",
        "        nums.append(None)\n",
        "\n",
        "    grid = []\n",
        "    for i in range(rows):\n",
        "        grid.append(nums[i * cols:(i + 1) * cols])\n",
        "\n",
        "    return grid\n",
        "\n",
        "input_list = [1, 2, 3, 4, 5, 6, 7]\n",
        "rows = 3\n",
        "result = reshape_list_to_grid(input_list, rows)\n",
        "print(result)\n"
      ]
    },
    {
      "cell_type": "markdown",
      "metadata": {
        "id": "iBPZVHDsfwpm"
      },
      "source": [
        "# **Question No 05**\n",
        "\n",
        "Write a program to sort a list of numbers into two separate lists:\n",
        "\n",
        "One list for all odd numbers (in ascending order).\n",
        "One list for all even numbers (in descending order).\n",
        "Use for loops for the entire process.\n",
        "\n",
        "**Example:**\n",
        "\n",
        "\n",
        "Input: [5, 8, 3, 10, 2, 7, 1, 6]  \n",
        "Output:  \n",
        "Odd: [1, 3, 5, 7]  \n",
        "Even: [10, 8, 6, 2]  \n"
      ]
    },
    {
      "cell_type": "code",
      "execution_count": null,
      "metadata": {
        "id": "y8dyGGNAf42S"
      },
      "outputs": [],
      "source": []
    },
    {
      "cell_type": "markdown",
      "metadata": {
        "id": "X_LfOnqskNTe"
      },
      "source": [
        "# **Question No 06**\n",
        "\n",
        "Write a program that uses a for loop to count the frequency of each character in a given string and stores the result in a dictionary.\n",
        "\n",
        "The program should ignore spaces and be case-insensitive.\n",
        "Display the dictionary as the final output.\n",
        "\n",
        "**Example:**\n",
        "\n",
        "Input: \"Programming is fun\"  \n",
        "Output: {'p': 1, 'r': 2, 'o': 1, 'g': 2, 'a': 1, 'm': 2, 'i': 2, 'n': 2, 's': 1, 'f': 1, 'u': 1}\n",
        "\n"
      ]
    },
    {
      "cell_type": "code",
      "execution_count": 5,
      "metadata": {
        "id": "1_-djYt-kW8F"
      },
      "outputs": [
        {
          "name": "stdout",
          "output_type": "stream",
          "text": [
            "Odd: [1, 3, 5, 7]\n",
            "Even: [10, 8, 6, 2]\n"
          ]
        }
      ],
      "source": [
        "def separate_and_sort(nums):\n",
        "    odd_numbers = []\n",
        "    even_numbers = []\n",
        "\n",
        "    for num in nums:\n",
        "        if num % 2 == 0:\n",
        "            even_numbers.append(num)\n",
        "        else:\n",
        "            odd_numbers.append(num)\n",
        "\n",
        "    for i in range(len(odd_numbers)):\n",
        "        for j in range(i + 1, len(odd_numbers)):\n",
        "            if odd_numbers[i] > odd_numbers[j]:\n",
        "                odd_numbers[i], odd_numbers[j] = odd_numbers[j], odd_numbers[i]\n",
        "\n",
        "    for i in range(len(even_numbers)):\n",
        "        for j in range(i + 1, len(even_numbers)):\n",
        "            if even_numbers[i] < even_numbers[j]:\n",
        "                even_numbers[i], even_numbers[j] = even_numbers[j], even_numbers[i]\n",
        "\n",
        "    return odd_numbers, even_numbers\n",
        "\n",
        "input_list = [5, 8, 3, 10, 2, 7, 1, 6]\n",
        "odd, even = separate_and_sort(input_list)\n",
        "print(\"Odd:\", odd)\n",
        "print(\"Even:\", even)\n"
      ]
    },
    {
      "cell_type": "code",
      "execution_count": null,
      "metadata": {},
      "outputs": [],
      "source": []
    }
  ],
  "metadata": {
    "colab": {
      "provenance": []
    },
    "kernelspec": {
      "display_name": "Python 3",
      "name": "python3"
    },
    "language_info": {
      "codemirror_mode": {
        "name": "ipython",
        "version": 3
      },
      "file_extension": ".py",
      "mimetype": "text/x-python",
      "name": "python",
      "nbconvert_exporter": "python",
      "pygments_lexer": "ipython3",
      "version": "3.13.0"
    }
  },
  "nbformat": 4,
  "nbformat_minor": 0
}
