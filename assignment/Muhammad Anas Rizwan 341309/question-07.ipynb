{
 "cells": [
  {
   "cell_type": "markdown",
   "metadata": {},
   "source": [
    "####  \"11) A shop will give discount of 10% if the cost of purchased quantity is more than 1000.\\n\",\n",
    "    \"Ask user for quantity\\n\",\n",
    "    \"Suppose, one unit will cost 100.\\n\",\n",
    "    \"Judge and print total cost for user.\""
   ]
  },
  {
   "cell_type": "code",
   "execution_count": 4,
   "metadata": {},
   "outputs": [
    {
     "name": "stdout",
     "output_type": "stream",
     "text": [
      "Your purchased is not 1000 plus so you got no discount with quantity 1800\n"
     ]
    }
   ],
   "source": [
    "discount = 10/100\n",
    "purchased = int(input(\"Enter your purchased: \"))\n",
    "quantity = int(input(\"Enter your quantity: \"))\n",
    "if(purchased > 1000):\n",
    "  discountPrice = purchased - (discount * purchased) \n",
    "  print(f\"Your purchased is 1000 plus so you got discountPrice with quantity {quantity * discountPrice}\")\n",
    "else:\n",
    "  print(f\"Your purchased is not 1000 plus so you got no discount with quantity {quantity * purchased}\")"
   ]
  },
  {
   "cell_type": "markdown",
   "metadata": {},
   "source": [
    "    \"12) A school has following rules for grading system:\\n\",\n",
    "     \"\\n\",\n",
    "    \"a. Below 25 - F\\n\",\n",
    "    \"\\n\",\n",
    "    \"b. 25 to 45 - E\\n\",\n",
    "    \"\\n\",\n",
    "    \"c. 45 to 50 - D\\n\",\n",
    "    \"\\n\",\n",
    "    \"d. 50 to 60 - C\\n\",\n",
    "    \"\\n\",\n",
    "    \"e. 60 to 80 - B\\n\",\n",
    "    \"\\n\",\n",
    "    \"f. Above 80 - A\\n\",\n",
    "    \"\\n\",\n",
    "    \"Ask user to enter marks and print the corresponding grade.\""
   ]
  },
  {
   "cell_type": "code",
   "execution_count": 5,
   "metadata": {},
   "outputs": [
    {
     "name": "stdout",
     "output_type": "stream",
     "text": [
      "D\n"
     ]
    }
   ],
   "source": [
    "number = int(input(\"Enter your grade\"))\n",
    "grade = ''\n",
    "if(number > 80 and number <=100):\n",
    "  grade = \"A\"\n",
    "elif(number > 60):\n",
    "  grade = \"B\"\n",
    "elif(number >  50):\n",
    "  grade = \"C\"\n",
    "elif(number > 45):\n",
    "  grade = \"D\"\n",
    "elif(number > 25):\n",
    "  grade = \"E\"\n",
    "else:\n",
    "  grade = \"F\"\n",
    "\n",
    "\n",
    "print(grade)"
   ]
  },
  {
   "cell_type": "markdown",
   "metadata": {},
   "source": [
    "#### 14) \"A student will not be allowed to sit in exam if his/her attendence is less than 75%.\\n\",\n",
    "    \"\\n\",\n",
    "    \"Take following input from user\\n\",\n",
    "    \"\\n\",\n",
    "    \"- Number of classes held\\n\",\n",
    "    \"\\n\",\n",
    "    \"- Number of classes attended.\\n\",\n",
    "    \"\\n\",\n",
    "    \"And print\\n\",\n",
    "    \"\\n\",\n",
    "    \"- percentage of class attended\\n\",\n",
    "    \"\\n\",\n",
    "    \"- Is student is allowed to sit in exam or not.\\n\""
   ]
  },
  {
   "cell_type": "code",
   "execution_count": null,
   "metadata": {},
   "outputs": [
    {
     "name": "stdout",
     "output_type": "stream",
     "text": [
      "5\n",
      "76\n",
      "Sit to exam\n"
     ]
    }
   ],
   "source": [
    "noOfClass = int(input(\"Enter number of classes:\"))\n",
    "attendance = int(input(\"Enter your attendance: \"))\n",
    "print(f\"noOfClass: {noOfClass}\")\n",
    "print(f\"attendance: {attendance}\")\n",
    "if(attendance > 75):\n",
    "  print(\"Sit to exam\")\n",
    "else:\n",
    "  print(\"Not sit to exam\")\n"
   ]
  },
  {
   "cell_type": "markdown",
   "metadata": {},
   "source": [
    "#### \"15) Modify the above question to allow student to sit if he/she has medical cause. Ask user if he/she has medical cause or not ( 'Y' or 'N' ) and print accordingly.\""
   ]
  },
  {
   "cell_type": "code",
   "execution_count": null,
   "metadata": {},
   "outputs": [],
   "source": [
    "medical = input(\"Enter (Y)for medical and (N)for no medical:\").upper()\n",
    "if(medical == 'Y'):\n",
    "  print(\"Sit to exam\")\n",
    "else:\n",
    "  print(\"Not sit to exam\")\n"
   ]
  }
 ],
 "metadata": {
  "kernelspec": {
   "display_name": "Python 3",
   "language": "python",
   "name": "python3"
  },
  "language_info": {
   "codemirror_mode": {
    "name": "ipython",
    "version": 3
   },
   "file_extension": ".py",
   "mimetype": "text/x-python",
   "name": "python",
   "nbconvert_exporter": "python",
   "pygments_lexer": "ipython3",
   "version": "3.12.1"
  }
 },
 "nbformat": 4,
 "nbformat_minor": 2
}
