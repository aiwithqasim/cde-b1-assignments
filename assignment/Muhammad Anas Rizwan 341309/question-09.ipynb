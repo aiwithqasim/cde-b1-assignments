{
 "cells": [
  {
   "cell_type": "markdown",
   "metadata": {},
   "source": [
    "####   \"17) Ask user to enter age, gender ( M or F ), marital status ( Y or N ) and then using following rules print their place of service.\\n\",\n",
    "    \"\\n\",\n",
    "    \"if employee is female, then she will work only in urban areas.\\n\",\n",
    "    \"\\n\",\n",
    "    \"if employee is a male and age is in between 20 to 40 then he may work in anywhere\\n\",\n",
    "    \"\\n\",\n",
    "    \"if employee is male and age is in between 40 t0 60 then he will work in urban areas only.\\n\",\n",
    "    \"\\n\",\n",
    "    \"And any other input of age should print \\\"ERROR\\\"\""
   ]
  },
  {
   "cell_type": "code",
   "execution_count": 3,
   "metadata": {},
   "outputs": [
    {
     "name": "stdout",
     "output_type": "stream",
     "text": [
      "Work anywhere\n"
     ]
    }
   ],
   "source": [
    "gender = input(\"Enter your gender: \").lower()\n",
    "maritalStatus = input(\"Enter your marital status: \")\n",
    "if(gender == 'y'):\n",
    "  print(\"Urban area\")\n",
    "elif(gender == 'm'):\n",
    "  age = int(input(\"Enter your age: \"))\n",
    "  if(age >=20 and age <=40):\n",
    "    print(\"Work anywhere\")\n",
    "  elif(age >=40 and age <=60):\n",
    "    print(\"Work in Urban area only\")\n",
    "  else:\n",
    "    print(\"Error\")\n",
    "else:\n",
    "  print(\"Error\")"
   ]
  },
  {
   "cell_type": "markdown",
   "metadata": {},
   "source": [
    "####   \"6) Write a program to calculate the electricity bill (accept number of unit from user) according to the following criteria :\\n\",\n",
    "    \"     Unit                                                     Price  \\n\",\n",
    "    \"uptp 100 units                                             no charge\\n\",\n",
    "    \"Next 200 units                                              Rs 5 per unit\\n\",\n",
    "    \"After 200 units                                             Rs 10 per unit\\n\",\n",
    "    \"(For example if input unit is 350 than total bill amount is Rs.3500\\n\",\n",
    "    \"(For example if input unit is 97 than total bill amount is Rs.0\\n\",\n",
    "    \"(For example if input unit is 150 than total bill amount is Rs.750\""
   ]
  },
  {
   "cell_type": "code",
   "execution_count": 11,
   "metadata": {},
   "outputs": [
    {
     "name": "stdout",
     "output_type": "stream",
     "text": [
      "No Charge\n",
      "0\n"
     ]
    }
   ],
   "source": [
    "unit = int(input(\"Enter your unit: \"))\n",
    "unitPrice = 0\n",
    "if(unit >=0 and unit <=100):\n",
    "  unitPrice= 0\n",
    "  print(\"No Charge\")\n",
    "elif(unit >= 101 and unit <=200):\n",
    "  unitPrice= 5\n",
    "  print(\"Rs 5 per unit\")\n",
    "elif(unit >= 201):\n",
    "  unitPrice= 10\n",
    "  print(\"Rs 10 per unit\")\n",
    "\n",
    "total = unit * unitPrice\n",
    "print(total)\n"
   ]
  }
 ],
 "metadata": {
  "kernelspec": {
   "display_name": "Python 3",
   "language": "python",
   "name": "python3"
  },
  "language_info": {
   "codemirror_mode": {
    "name": "ipython",
    "version": 3
   },
   "file_extension": ".py",
   "mimetype": "text/x-python",
   "name": "python",
   "nbconvert_exporter": "python",
   "pygments_lexer": "ipython3",
   "version": "3.12.1"
  }
 },
 "nbformat": 4,
 "nbformat_minor": 2
}
