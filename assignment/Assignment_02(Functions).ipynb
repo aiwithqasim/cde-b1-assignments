{
 "cells": [
  {
   "cell_type": "code",
   "execution_count": 5,
   "id": "fcb47ef1-7887-43e7-b78c-e4097eed357b",
   "metadata": {},
   "outputs": [
    {
     "name": "stdout",
     "output_type": "stream",
     "text": [
      "Yousuf\n"
     ]
    }
   ],
   "source": [
    "print(\"Yousuf\")"
   ]
  },
  {
   "cell_type": "markdown",
   "id": "0e000792-f062-4374-a6ce-f07abe3f1ef2",
   "metadata": {},
   "source": [
    "#### Question No 01\n",
    "Write a function called create_word_count that takes a list of strings and returns a dictionary where:\n",
    "\n",
    "Keys are unique words from the list. Values are the count of occurrences of each word.\n",
    "\n",
    "Exmple: words = ['apple', 'banana', 'apple', 'cherry', 'banana', 'apple'] result = create_word_count(words) print(result) # {'apple': 3, 'banana': 2, 'cherry': 1}\n",
    "\n"
   ]
  },
  {
   "cell_type": "code",
   "execution_count": 39,
   "id": "508f7812-5f72-4302-bc2e-9c59c48bf1a7",
   "metadata": {},
   "outputs": [
    {
     "name": "stdout",
     "output_type": "stream",
     "text": [
      "{'apple': 3, 'banana': 2, 'cherry': 1}\n"
     ]
    }
   ],
   "source": [
    "def create_word_count(words):\n",
    "    word_count = {}\n",
    "    for word in words:\n",
    "        if word in word_count:\n",
    "            word_count[word] += 1\n",
    "        else:\n",
    "            word_count[word] = 1\n",
    "    return word_count\n",
    "\n",
    "words = ['apple', 'banana', 'apple', 'cherry', 'banana', 'apple']\n",
    "result = create_word_count(words)\n",
    "print(result)  "
   ]
  },
  {
   "cell_type": "markdown",
   "id": "aded4bb7-ca61-49c9-808e-55d5fb8670d5",
   "metadata": {},
   "source": [
    "#### Question No 02\n",
    "Write a function called sort_by_key that takes a list of dictionaries and a key to sort by.\n",
    "\n",
    "The function should return a new list sorted by the given key in ascending order. If the key doesn’t exist in a dictionary, ignore that dictionary.\n",
    "\n",
    "Exmple:\n",
    "\n",
    "data = [{'name': 'Alice', 'age': 25}, {'name': 'Bob', 'age': 22}, {'name': 'Charlie', 'age': 30}] sorted_data = sort_by_key(data, 'age') print(sorted_data)\n",
    "\n"
   ]
  },
  {
   "cell_type": "code",
   "execution_count": 44,
   "id": "45adf243-680c-4203-a4d6-26d19231413f",
   "metadata": {},
   "outputs": [
    {
     "name": "stdout",
     "output_type": "stream",
     "text": [
      "[{'name': 'Bob', 'age': 22}, {'name': 'Alice', 'age': 25}, {'name': 'Charlie', 'age': 30}]\n"
     ]
    }
   ],
   "source": [
    "def sort_by_key(data, key):\n",
    "    valid_data = [item for item in data if key in item]\n",
    "    sorted_data = sorted(valid_data, key=lambda x: x[key])\n",
    "    return sorted_data\n",
    "data = [{'name': 'Alice', 'age': 25}, {'name': 'Bob', 'age': 22}, {'name': 'Charlie', 'age': 30}]\n",
    "sorted_data = sort_by_key(data, 'age')\n",
    "print(sorted_data)\n"
   ]
  },
  {
   "cell_type": "markdown",
   "id": "36be4cff-a233-44dd-a21c-69cbcf9ca088",
   "metadata": {},
   "source": [
    "#### Question No 03\n",
    "Write a function called filter_dict that takes a dictionary and a value threshold as arguments.\n",
    "\n",
    "The function should return a new dictionary containing only the key-value pairs where the value is greater than the threshold.\n",
    "\n",
    "Exmple:\n",
    "\n",
    "scores = {'Alice': 85, 'Bob': 90, 'Charlie': 78, 'David': 92} filtered_scores = filter_dict(scores, 80) print(filtered_scores) # {'Alice': 85, 'Bob': 90, 'David': 92}"
   ]
  },
  {
   "cell_type": "code",
   "execution_count": 49,
   "id": "4b17463a-fe55-49f8-bf0e-5d023949d48e",
   "metadata": {},
   "outputs": [
    {
     "name": "stdout",
     "output_type": "stream",
     "text": [
      "{'Alice': 85, 'Bob': 90, 'David': 92}\n"
     ]
    }
   ],
   "source": [
    "def filter_dict(dictionary, threshold):\n",
    "    filtered_dict = {key: value for key, value in dictionary.items() if value > threshold}\n",
    "    return filtered_dict\n",
    "scores = {'Alice': 85, 'Bob': 90, 'Charlie': 78, 'David': 92}\n",
    "filtered_scores = filter_dict(scores, 80)\n",
    "print(filtered_scores)\n",
    "\n"
   ]
  },
  {
   "cell_type": "markdown",
   "id": "8a838d2a-5ee2-46fb-8b8f-52bccd146484",
   "metadata": {},
   "source": [
    "#### Question No 04\n",
    "Write a function called find_common_keys that takes two dictionaries and returns a list of keys that are common to both.\n",
    "\n",
    "Exmple:\n",
    "\n",
    "dict1 = {'a': 1, 'b': 2, 'c': 3} dict2 = {'b': 4, 'c': 5, 'd': 6} common_keys = find_common_keys(dict1, dict2) print(common_keys) # ['b', 'c']"
   ]
  },
  {
   "cell_type": "code",
   "execution_count": 52,
   "id": "1524ab7d-2190-4f4d-98bb-aa2a3cf98073",
   "metadata": {},
   "outputs": [
    {
     "name": "stdout",
     "output_type": "stream",
     "text": [
      "['b', 'c']\n"
     ]
    }
   ],
   "source": [
    "def find_common_keys(dict1, dict2):\n",
    "    common_keys = list(set(dict1.keys()) & set(dict2.keys()))\n",
    "    return common_keys\n",
    "dict1 = {'a': 1, 'b': 2, 'c': 3}\n",
    "dict2 = {'b': 4, 'c': 5, 'd': 6}\n",
    "common_keys = find_common_keys(dict1, dict2)\n",
    "print(common_keys)\n",
    "\n"
   ]
  },
  {
   "cell_type": "markdown",
   "id": "5d6a8c08-529e-482a-8919-f387f00f8640",
   "metadata": {},
   "source": [
    "#### Question No 5\n",
    "Write a function called update_grades that takes a list of dictionaries (representing students with their grades) and updates the grade of a student if their name matches the given name.\n",
    "\n",
    "Exmple:\n",
    "\n",
    "students = [{'name': 'Alice', 'grade': 85}, {'name': 'Bob', 'grade': 90}] updated_students = update_grades(students, 'Bob', 95) print(updated_students)"
   ]
  },
  {
   "cell_type": "code",
   "execution_count": 55,
   "id": "e71528f5-3eb3-4907-9328-6702fc603843",
   "metadata": {},
   "outputs": [
    {
     "name": "stdout",
     "output_type": "stream",
     "text": [
      "[{'name': 'Alice', 'grade': 85}, {'name': 'Bob', 'grade': 95}]\n"
     ]
    }
   ],
   "source": [
    "def update_grades(students, name, new_grade):\n",
    "    for student in students:\n",
    "        if student['name'] == name:  \n",
    "            student['grade'] = new_grade  \n",
    "    return students\n",
    "students = [{'name': 'Alice', 'grade': 85}, {'name': 'Bob', 'grade': 90}]\n",
    "updated_students = update_grades(students, 'Bob', 95)\n",
    "print(updated_students)\n",
    "\n"
   ]
  },
  {
   "cell_type": "markdown",
   "id": "d94db79d-a0da-4938-a1f7-95e5261c673d",
   "metadata": {},
   "source": [
    "#### Question No 6\n",
    "Write a function called merge_lists_to_dict that takes two lists of equal length:\n",
    "\n",
    "The first list contains keys. The second list contains values. The function should return a dictionary created by merging these lists.\n",
    "\n",
    "Exmple: keys = ['name', 'age', 'city'] values = ['Alice', 25, 'New York'] result = merge_lists_to_dict(keys, values) print(result) # {'name': 'Alice', 'age': 25, 'city': 'New York'}"
   ]
  },
  {
   "cell_type": "code",
   "execution_count": 58,
   "id": "eec6fb5a-89c8-4b1a-a740-c23ac953bec4",
   "metadata": {},
   "outputs": [
    {
     "name": "stdout",
     "output_type": "stream",
     "text": [
      "{'name': 'Alice', 'age': 25, 'city': 'New York'}\n"
     ]
    }
   ],
   "source": [
    "def merge_lists_to_dict(keys, values):\n",
    "    merged_dict = dict(zip(keys, values))\n",
    "    return merged_dict\n",
    "keys = ['name', 'age', 'city']\n",
    "values = ['Alice', 25, 'New York']\n",
    "result = merge_lists_to_dict(keys, values)\n",
    "print(result)\n",
    "\n"
   ]
  },
  {
   "cell_type": "code",
   "execution_count": null,
   "id": "f67b98e0-8825-44f3-84fc-108a6ab46f6c",
   "metadata": {},
   "outputs": [],
   "source": []
  }
 ],
 "metadata": {
  "kernelspec": {
   "display_name": "Python 3 (ipykernel)",
   "language": "python",
   "name": "python3"
  },
  "language_info": {
   "codemirror_mode": {
    "name": "ipython",
    "version": 3
   },
   "file_extension": ".py",
   "mimetype": "text/x-python",
   "name": "python",
   "nbconvert_exporter": "python",
   "pygments_lexer": "ipython3",
   "version": "3.12.7"
  }
 },
 "nbformat": 4,
 "nbformat_minor": 5
}
