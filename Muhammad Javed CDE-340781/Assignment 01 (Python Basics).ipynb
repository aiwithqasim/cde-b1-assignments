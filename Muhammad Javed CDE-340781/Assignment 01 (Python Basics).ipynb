{
 "cells": [
  {
   "cell_type": "markdown",
   "metadata": {},
   "source": [
    "# MUHAMMAD JAVED    CDE-340781"
   ]
  },
  {
   "cell_type": "markdown",
   "metadata": {},
   "source": [
    "# Part -1 Python Basics (Variables)"
   ]
  },
  {
   "cell_type": "code",
   "execution_count": null,
   "metadata": {},
   "outputs": [],
   "source": []
  },
  {
   "cell_type": "markdown",
   "metadata": {},
   "source": [
    "1. Print Your Name with your Father name and Date of birth using suitable escape sequence charactor"
   ]
  },
  {
   "cell_type": "code",
   "execution_count": 1,
   "metadata": {},
   "outputs": [
    {
     "name": "stdout",
     "output_type": "stream",
     "text": [
      "My name is : Muhammad Javed,\n",
      "My Father name is : Mustafa Kamal,\n",
      "My date of birth is :16-03-1966\n"
     ]
    }
   ],
   "source": [
    "# Write your code here\n",
    "print(\"My name is : Muhammad Javed,\\nMy Father name is : Mustafa Kamal,\\nMy date of birth is :16-03-1966\")"
   ]
  },
  {
   "cell_type": "markdown",
   "metadata": {},
   "source": [
    "2. Write your small bio using variables and print it using print function"
   ]
  },
  {
   "cell_type": "code",
   "execution_count": 9,
   "metadata": {},
   "outputs": [
    {
     "name": "stdout",
     "output_type": "stream",
     "text": [
      "My name is: Muhammad Javed\n",
      "My father name is: Mustafa kamal\n",
      "My date of birth is: 16-03-1966\n"
     ]
    }
   ],
   "source": [
    "# Write your code here\n",
    "name=\"Muhammad Javed\"\n",
    "fathername=\"Mustafa kamal\"\n",
    "dateofbirth=\"16-03-1966\"\n",
    "print(\"My name is:\", name)\n",
    "print(\"My father name is:\", fathername)\n",
    "print(\"My date of birth is:\", dateofbirth)\n"
   ]
  },
  {
   "cell_type": "markdown",
   "metadata": {},
   "source": [
    "3. Write a program in which use all the operators we can use in Python"
   ]
  },
  {
   "cell_type": "markdown",
   "metadata": {},
   "source": [
    "## Write your code here\n",
    "### ARITHMETIC OPERATORS\n"
   ]
  },
  {
   "cell_type": "code",
   "execution_count": 12,
   "metadata": {},
   "outputs": [
    {
     "name": "stdout",
     "output_type": "stream",
     "text": [
      "10\n",
      "4\n",
      "21\n",
      "2.3333333333333335\n",
      "1\n",
      "343\n"
     ]
    }
   ],
   "source": [
    "a=7\n",
    "b=3\n",
    "print(a + b)\n",
    "print(a - b)\n",
    "print(a * b)\n",
    "print(a / b)\n",
    "print(a % b)\n",
    "print(a ** b)\n"
   ]
  },
  {
   "cell_type": "markdown",
   "metadata": {},
   "source": [
    "### RELATIONAL/ COMPARISION OPERATOR"
   ]
  },
  {
   "cell_type": "code",
   "execution_count": 13,
   "metadata": {},
   "outputs": [
    {
     "name": "stdout",
     "output_type": "stream",
     "text": [
      "False\n",
      "True\n",
      "True\n",
      "True\n",
      "False\n",
      "False\n"
     ]
    }
   ],
   "source": [
    "a=20\n",
    "b=10\n",
    "\n",
    "print(a == b)\n",
    "print(a != b)\n",
    "print(a >= b)\n",
    "print(a > b)\n",
    "print(a <= b)\n",
    "print(a < b)"
   ]
  },
  {
   "cell_type": "markdown",
   "metadata": {},
   "source": [
    "### ASSIGNMENT OPERATORS"
   ]
  },
  {
   "cell_type": "code",
   "execution_count": 7,
   "metadata": {},
   "outputs": [
    {
     "name": "stdout",
     "output_type": "stream",
     "text": [
      "num= 15\n",
      "num= 5\n",
      "num= 50\n",
      "num= 2.0\n",
      "num= 0\n",
      "num= 100000\n"
     ]
    }
   ],
   "source": [
    "num = 10\n",
    "num += 5\n",
    "print(\"num=\",num)\n",
    "num = 10\n",
    "num -= 5\n",
    "print(\"num=\",num)\n",
    "num = 10\n",
    "num *= 5\n",
    "print(\"num=\",num)\n",
    "num = 10\n",
    "num /= 5\n",
    "print(\"num=\",num)\n",
    "num = 10\n",
    "num %= 5\n",
    "print(\"num=\",num)\n",
    "num = 10\n",
    "num **= 5\n",
    "print(\"num=\",num)"
   ]
  },
  {
   "cell_type": "code",
   "execution_count": null,
   "metadata": {},
   "outputs": [],
   "source": []
  },
  {
   "cell_type": "markdown",
   "metadata": {},
   "source": [
    "### LOGICAL    OPERATORS (not , and , or) BOOLIAN"
   ]
  },
  {
   "cell_type": "code",
   "execution_count": 1,
   "metadata": {},
   "outputs": [
    {
     "name": "stdout",
     "output_type": "stream",
     "text": [
      "True\n",
      "False\n",
      "False\n",
      "and operator: True\n",
      "or operator: True\n",
      "and operator: False\n",
      "or operator: True\n",
      "and operator: False\n",
      "or operator: False\n",
      "and operator: False\n",
      "or operator: True\n"
     ]
    }
   ],
   "source": [
    "a = 50\n",
    "b = 30\n",
    "print(not False)\n",
    "print(not True)\n",
    "print(not (a>b))\n",
    "\n",
    "x = True\n",
    "y = True\n",
    "print(\"and operator:\",x and y)\n",
    "print(\"or operator:\",x or y)\n",
    "\n",
    "x = True\n",
    "y = False\n",
    "print(\"and operator:\",x and y)\n",
    "print(\"or operator:\",x or y)\n",
    "\n",
    "x = False\n",
    "y = False\n",
    "print(\"and operator:\",x and y)\n",
    "print(\"or operator:\",x or y)\n",
    "\n",
    "\n",
    "print(\"and operator:\",(a == b) and (a > b))\n",
    "print(\"or operator:\",(a == b) or (a > b))\n",
    "\n"
   ]
  },
  {
   "cell_type": "code",
   "execution_count": null,
   "metadata": {},
   "outputs": [],
   "source": []
  },
  {
   "cell_type": "markdown",
   "metadata": {},
   "source": [
    "4. Completes the following steps of small task:\n",
    "    - Mention Marks of English , Islamiat and Maths out of 100 in 3 different variables\n",
    "    - Mention Variable of Total Marks and assign 300 to it\n",
    "    - Calculate Percentage"
   ]
  },
  {
   "cell_type": "code",
   "execution_count": 37,
   "metadata": {},
   "outputs": [
    {
     "name": "stdout",
     "output_type": "stream",
     "text": [
      "235\n",
      "Recieved marks: 235\n",
      "Yours Percentage: 78.33333333333333 %\n"
     ]
    }
   ],
   "source": [
    "# Write your code here\n",
    "English = 65\n",
    "Islamiat = 80\n",
    "Maths = 90\n",
    "TotalMarks = 100+100+100\n",
    "RecivedMarks = English + Islamiat + Maths\n",
    "print(RecivedMarks)\n",
    "print(\"Recieved marks:\", English+Islamiat+Maths)\n",
    "#print(\"Percentage:\", (English+Islamiat+Maths/Total marks)*100)\n",
    "\n",
    "print(\"Yours Percentage:\", ((English+Islamiat+Maths)/TotalMarks)*100,\"%\")"
   ]
  },
  {
   "cell_type": "markdown",
   "metadata": {},
   "source": [
    "# Part -2 Python Basics (Conditional Statements)"
   ]
  },
  {
   "cell_type": "markdown",
   "metadata": {},
   "source": [
    "1) A company decided to give bonus of 5% to employee if his/her year of service is more than 5 years.\n",
    "Ask user for their salary and year of service and print the net bonus amount."
   ]
  },
  {
   "cell_type": "code",
   "execution_count": 6,
   "metadata": {},
   "outputs": [
    {
     "name": "stdin",
     "output_type": "stream",
     "text": [
      "Enter your name :  a\n"
     ]
    },
    {
     "name": "stdout",
     "output_type": "stream",
     "text": [
      "a\n"
     ]
    },
    {
     "name": "stdin",
     "output_type": "stream",
     "text": [
      "enter your experience : 5\n"
     ]
    },
    {
     "name": "stdout",
     "output_type": "stream",
     "text": [
      "5\n"
     ]
    },
    {
     "name": "stdin",
     "output_type": "stream",
     "text": [
      "enter your salary: 20000\n"
     ]
    },
    {
     "name": "stdout",
     "output_type": "stream",
     "text": [
      "20000\n",
      "Welcome: 'You are awarded a 5% BONUS' :  1000.0 Rs.\n"
     ]
    }
   ],
   "source": [
    "#Type your code here\n",
    "name=input(\"Enter your name : \")\n",
    "print(name)\n",
    "experience=int(input(\"enter your experience :\"))\n",
    "print(experience)\n",
    "salary=int(input(\"enter your salary:\"))\n",
    "print(salary)\n",
    "Bonus=(salary/100)*5\n",
    "\n",
    "if experience>=5:\n",
    "    print(\"Welcome: 'You are awarded a 5% BONUS' : \", Bonus ,\"Rs.\")\n",
    "else:\n",
    "    print(\"bye\")"
   ]
  },
  {
   "cell_type": "markdown",
   "metadata": {},
   "source": [
    "\n",
    "2) Write a program to check whether a person is eligible for voting or not. (accept age from user) if age is greater than 17 eligible otherwise not eligible"
   ]
  },
  {
   "cell_type": "code",
   "execution_count": 57,
   "metadata": {},
   "outputs": [
    {
     "name": "stdin",
     "output_type": "stream",
     "text": [
      "Enter your name :  ali\n"
     ]
    },
    {
     "name": "stdout",
     "output_type": "stream",
     "text": [
      "ali\n"
     ]
    },
    {
     "name": "stdin",
     "output_type": "stream",
     "text": [
      "enter your Age : 19\n"
     ]
    },
    {
     "name": "stdout",
     "output_type": "stream",
     "text": [
      "19\n",
      "Welcome: 'You are Eligible For Voting'\n"
     ]
    }
   ],
   "source": [
    "#Type your code here\n",
    "name=input(\"Enter your name : \")\n",
    "print(name)\n",
    "Age=int(input(\"enter your Age :\"))\n",
    "print(Age)\n",
    "\n",
    "if Age>17:\n",
    "    print(\"Welcome: 'You are Eligible For Voting'\")\n",
    "else:\n",
    "    print(\"Not Eligible For Voting\")\n"
   ]
  },
  {
   "cell_type": "markdown",
   "metadata": {},
   "source": [
    "\n",
    "3) Write a program to check whether a number entered by user is even or odd."
   ]
  },
  {
   "cell_type": "code",
   "execution_count": 60,
   "metadata": {},
   "outputs": [
    {
     "name": "stdin",
     "output_type": "stream",
     "text": [
      "Enter Your Name :  ali\n"
     ]
    },
    {
     "name": "stdout",
     "output_type": "stream",
     "text": [
      "ali\n"
     ]
    },
    {
     "name": "stdin",
     "output_type": "stream",
     "text": [
      "Enter a Number :  6\n"
     ]
    },
    {
     "name": "stdout",
     "output_type": "stream",
     "text": [
      "6\n",
      "Even\n"
     ]
    }
   ],
   "source": [
    "#Type your code here\n",
    "Name=input(\"Enter Your Name : \")\n",
    "print(Name)\n",
    "Number=int(input(\"Enter a Number : \"))\n",
    "print(Number)\n",
    "\n",
    "if Number % 2 == 0:\n",
    "    print(\"Even\")\n",
    "else:\n",
    "    print(\"Odd\")\n"
   ]
  },
  {
   "cell_type": "markdown",
   "metadata": {},
   "source": [
    "4) Write a program to check whether a number is divisible by 7 or not.\n",
    "Show Answer"
   ]
  },
  {
   "cell_type": "code",
   "execution_count": 62,
   "metadata": {},
   "outputs": [
    {
     "name": "stdin",
     "output_type": "stream",
     "text": [
      "Enter a Number:  7\n"
     ]
    },
    {
     "name": "stdout",
     "output_type": "stream",
     "text": [
      "7\n",
      "Welcome\n"
     ]
    }
   ],
   "source": [
    "#Type your code here\n",
    "Number=int(input(\"Enter a Number: \"))\n",
    "print(Number)\n",
    "\n",
    "if Number % 7 == 0:\n",
    "    print(\"Welcome\")\n",
    "else:\n",
    "    print(\"Bye\")\n",
    "    "
   ]
  },
  {
   "cell_type": "markdown",
   "metadata": {},
   "source": [
    "5) Write a program to display \n",
    "\"Hello\" if a number entered by user is a multiple of five , otherwise print \"Bye\"."
   ]
  },
  {
   "cell_type": "code",
   "execution_count": 63,
   "metadata": {
    "scrolled": true
   },
   "outputs": [
    {
     "name": "stdin",
     "output_type": "stream",
     "text": [
      "Enter a Number:  30\n"
     ]
    },
    {
     "name": "stdout",
     "output_type": "stream",
     "text": [
      "30\n",
      "Hello\n"
     ]
    }
   ],
   "source": [
    "#Type your code here\n",
    "Number=int(input(\"Enter a Number: \"))\n",
    "print(Number)\n",
    "\n",
    "if Number % 5 == 0:\n",
    "    print(\"Hello\")\n",
    "else:\n",
    "    print(\"Bye\")\n"
   ]
  },
  {
   "cell_type": "markdown",
   "metadata": {},
   "source": [
    "7) Write a program to display the last digit of a number.\n"
   ]
  },
  {
   "cell_type": "code",
   "execution_count": 73,
   "metadata": {},
   "outputs": [
    {
     "name": "stdin",
     "output_type": "stream",
     "text": [
      "Enter a Number 3456\n"
     ]
    },
    {
     "name": "stdout",
     "output_type": "stream",
     "text": [
      "3456\n",
      "6\n"
     ]
    }
   ],
   "source": [
    "#Type your code here\n",
    "Number=input(\"Enter a Number\")\n",
    "print(Number)\n",
    "print(Number[-1])"
   ]
  },
  {
   "cell_type": "markdown",
   "metadata": {},
   "source": [
    "9) Take values of length and breadth of a rectangle from user and print if it is square or rectangle."
   ]
  },
  {
   "cell_type": "code",
   "execution_count": 2,
   "metadata": {},
   "outputs": [
    {
     "name": "stdin",
     "output_type": "stream",
     "text": [
      "Enter Length 5\n"
     ]
    },
    {
     "name": "stdout",
     "output_type": "stream",
     "text": [
      "5\n"
     ]
    },
    {
     "name": "stdin",
     "output_type": "stream",
     "text": [
      "Enter Breadth 5\n"
     ]
    },
    {
     "name": "stdout",
     "output_type": "stream",
     "text": [
      "5\n",
      "It is 'Square'\n"
     ]
    }
   ],
   "source": [
    "#Type your code here \n",
    "Length=input(\"Enter Length\")\n",
    "print(Length)\n",
    "Breadth=input(\"Enter Breadth\")\n",
    "print(Breadth)\n",
    "\n",
    "if Length == Breadth:\n",
    "    print(\"It is 'Square'\")\n",
    "else:\n",
    "    print(\"It is 'Rectangle'\")"
   ]
  },
  {
   "cell_type": "markdown",
   "metadata": {},
   "source": [
    "10) Take two int values from user and print greatest among them."
   ]
  },
  {
   "cell_type": "code",
   "execution_count": 1,
   "metadata": {},
   "outputs": [
    {
     "name": "stdin",
     "output_type": "stream",
     "text": [
      "Enter first number: 5\n"
     ]
    },
    {
     "name": "stdout",
     "output_type": "stream",
     "text": [
      "5\n"
     ]
    },
    {
     "name": "stdin",
     "output_type": "stream",
     "text": [
      "Enter first number: 6\n"
     ]
    },
    {
     "name": "stdout",
     "output_type": "stream",
     "text": [
      "6\n",
      "greatest value is : 6\n"
     ]
    }
   ],
   "source": [
    "# Type your code here\n",
    "a=int(input(\"Enter first number:\"))\n",
    "print(a)\n",
    "b=int(input(\"Enter first number:\"))\n",
    "print(b)\n",
    "\n",
    "if a > b:\n",
    "    print(\"greatest value is :\",a)\n",
    "else:\n",
    "    print(\"greatest value is :\",b)"
   ]
  },
  {
   "cell_type": "markdown",
   "metadata": {},
   "source": [
    "11) A shop will give discount of 10% if the cost of purchased quantity is more than 1000.\n",
    "Ask user for quantity\n",
    "Suppose, one unit will cost 100.\n",
    "Judge and print total cost for user."
   ]
  },
  {
   "cell_type": "code",
   "execution_count": 88,
   "metadata": {},
   "outputs": [
    {
     "name": "stdin",
     "output_type": "stream",
     "text": [
      "Please Enter Your Quantity 8\n"
     ]
    },
    {
     "name": "stdout",
     "output_type": "stream",
     "text": [
      "8\n",
      "Total Cost:  800\n",
      "No Discount\n"
     ]
    }
   ],
   "source": [
    "#Type your code here\n",
    "Quantity=int(input(\"Please Enter Your Quantity\"))\n",
    "print(Quantity)\n",
    "Cost=100\n",
    "Total_Cost = Quantity*Cost\n",
    "print(\"Total Cost: \",Total_Cost)\n",
    "\n",
    "if Quantity*Cost > 1000:\n",
    "    print(\"You will get 10% discount\")\n",
    "else:\n",
    "    print(\"No Discount\")"
   ]
  },
  {
   "cell_type": "markdown",
   "metadata": {},
   "source": [
    "12) A school has following rules for grading system:\n",
    "\n",
    "a. Below 25 - F\n",
    "\n",
    "b. 25 to 45 - E\n",
    "\n",
    "c. 45 to 50 - D\n",
    "\n",
    "d. 50 to 60 - C\n",
    "\n",
    "e. 60 to 80 - B\n",
    "\n",
    "f. Above 80 - A\n",
    "\n",
    "Ask user to enter marks and print the corresponding grade."
   ]
  },
  {
   "cell_type": "code",
   "execution_count": 92,
   "metadata": {},
   "outputs": [
    {
     "name": "stdin",
     "output_type": "stream",
     "text": [
      "Enter YOur Marks:  99\n"
     ]
    },
    {
     "name": "stdout",
     "output_type": "stream",
     "text": [
      "99\n",
      "Grade A\n"
     ]
    }
   ],
   "source": [
    "#Type your code here\n",
    "marks=int(input(\"Enter YOur Marks: \"))\n",
    "print(marks)\n",
    "\n",
    "if marks < 25:\n",
    "    print(\"Grade F\")\n",
    "if marks >= 25 and marks <= 45:\n",
    "    print(\"Grade E\")\n",
    "if marks >= 45 and marks <= 50:\n",
    "    print(\"Grade D\")\n",
    "if marks >= 50 and marks <= 60:\n",
    "    print(\"Grade C\")\n",
    "if marks >= 60 and marks <= 80:\n",
    "    print(\"Grade B\")\n",
    "if marks >= 80 and marks <= 100:\n",
    "    print(\"Grade A\")\n",
    "\n"
   ]
  },
  {
   "cell_type": "markdown",
   "metadata": {},
   "source": [
    "14)A student will not be allowed to sit in exam if his/her attendence is less than 75%.\n",
    "\n",
    "Take following input from user\n",
    "\n",
    "- Number of classes held\n",
    "\n",
    "- Number of classes attended.\n",
    "\n",
    "And print\n",
    "\n",
    "- percentage of class attended\n",
    "\n",
    "- Is student is allowed to sit in exam or not.\n"
   ]
  },
  {
   "cell_type": "code",
   "execution_count": 4,
   "metadata": {},
   "outputs": [
    {
     "name": "stdin",
     "output_type": "stream",
     "text": [
      "What is your Number of Total classes Held :  80\n"
     ]
    },
    {
     "name": "stdout",
     "output_type": "stream",
     "text": [
      "80\n"
     ]
    },
    {
     "name": "stdin",
     "output_type": "stream",
     "text": [
      "What is your Number of Total classes Attended :  60\n"
     ]
    },
    {
     "name": "stdout",
     "output_type": "stream",
     "text": [
      "60\n",
      "Percentage of Class Attended :  75.0 %\n",
      "'Allowed to Sit In Exam'\n"
     ]
    }
   ],
   "source": [
    "#Type your code here\n",
    "Total_Classes_Held=int(input(\"What is your Number of Total classes Held : \"))\n",
    "print(Total_Classes_Held)\n",
    "Total_Classes_Attended=int(input(\"What is your Number of Total classes Attended : \"))\n",
    "print(Total_Classes_Attended)\n",
    "\n",
    "Percentage = (Total_Classes_Attended / Total_Classes_Held) * 100\n",
    "print(\"Percentage of Class Attended : \", Percentage , \"%\")\n",
    "\n",
    "if Percentage >= 75:\n",
    "    print(\"'Allowed to Sit In Exam'\")                                                                                                                                                                                                                        \n",
    "else:\n",
    "    print(\"'Not Allowed to Sit In Exam'\")\n"
   ]
  },
  {
   "cell_type": "markdown",
   "metadata": {},
   "source": [
    "15) Modify the above question to allow student to sit if he/she has medical cause. Ask user if he/she has medical cause or not ( 'Y' or 'N' ) and print accordingly."
   ]
  },
  {
   "cell_type": "code",
   "execution_count": 99,
   "metadata": {
    "scrolled": true
   },
   "outputs": [
    {
     "name": "stdin",
     "output_type": "stream",
     "text": [
      "What is your Number of Total classes Held :  80\n"
     ]
    },
    {
     "name": "stdout",
     "output_type": "stream",
     "text": [
      "80\n"
     ]
    },
    {
     "name": "stdin",
     "output_type": "stream",
     "text": [
      "What is your Number of Total classes Attended :  50\n"
     ]
    },
    {
     "name": "stdout",
     "output_type": "stream",
     "text": [
      "50\n",
      "Percentage of Class Attended :  62.5 %\n"
     ]
    },
    {
     "name": "stdin",
     "output_type": "stream",
     "text": [
      "Have you a Medical cause? Write 'Y' for yes or 'N' for no :  Y\n"
     ]
    },
    {
     "name": "stdout",
     "output_type": "stream",
     "text": [
      "Y\n",
      "'Allowed to Sit In Exam'\n"
     ]
    }
   ],
   "source": [
    "##### Type your code here\n",
    "\n",
    "Total_Classes_Held=int(input(\"What is your Number of Total classes Held : \"))\n",
    "print(Total_Classes_Held)\n",
    "Total_Classes_Attended=int(input(\"What is your Number of Total classes Attended : \"))\n",
    "print(Total_Classes_Attended)\n",
    "\n",
    "Percentage = (Total_Classes_Attended / Total_Classes_Held) * 100\n",
    "print(\"Percentage of Class Attended : \", Percentage , \"%\")\n",
    "\n",
    "# if Medical cause is present then student Allowed to Sit in ExaM\n",
    "\n",
    "Medical_Cause=input(\"Have you a Medical cause? Write 'Y' for yes or 'N' for no : \")\n",
    "print(Medical_Cause)\n",
    "\n",
    "if Medical_Cause == \"Y\":\n",
    "     print(\"'Allowed to Sit In Exam'\") \n",
    "\n",
    "elif Percentage >= 75:\n",
    "    print(\"'Allowed to Sit In Exam'\")                                                                                                                                                                                                                        \n",
    "\n",
    "else:\n",
    "     print(\"'Not Allowed to Sit In Exam'\")\n"
   ]
  },
  {
   "cell_type": "code",
   "execution_count": null,
   "metadata": {},
   "outputs": [],
   "source": []
  },
  {
   "cell_type": "markdown",
   "metadata": {},
   "source": [
    "##### 16) Write a program to check if a year is leap year or not.\n",
    "\n",
    "If a year is divisible by 4 then it is leap year but if the year is century year like 2000, 1900, 2100 then it must be divisible by 400."
   ]
  },
  {
   "cell_type": "code",
   "execution_count": 77,
   "metadata": {},
   "outputs": [
    {
     "name": "stdin",
     "output_type": "stream",
     "text": [
      "Enter any Year : 800\n"
     ]
    },
    {
     "name": "stdout",
     "output_type": "stream",
     "text": [
      "year is a 'century year'\n"
     ]
    }
   ],
   "source": [
    "# Type your code here\n",
    "year=int(input(\"Enter any Year :\"))\n",
    "\n",
    "if year % 400 == 0:\n",
    "    print(\"year is a 'century year'\")\n",
    "elif year % 4 == 0:\n",
    "    print(\"year is a 'leap year'\")\n",
    "# if year % 400 == 0:\n",
    "#     print(\"year is a 'century year'\")\n",
    "else:\n",
    "    print(\"Not\")"
   ]
  },
  {
   "cell_type": "markdown",
   "metadata": {},
   "source": [
    "17) Ask user to enter age, gender ( M or F ), marital status ( Y or N ) and then using following rules print their place of service.\n",
    "\n",
    "if employee is female, then she will work only in urban areas.\n",
    "\n",
    "if employee is a male and age is in between 20 to 40 then he may work in anywhere\n",
    "\n",
    "if employee is male and age is in between 40 t0 60 then he will work in urban areas only.\n",
    "\n",
    "And any other input of age should print \"ERROR\""
   ]
  },
  {
   "cell_type": "code",
   "execution_count": null,
   "metadata": {},
   "outputs": [],
   "source": []
  },
  {
   "cell_type": "code",
   "execution_count": 85,
   "metadata": {},
   "outputs": [
    {
     "name": "stdin",
     "output_type": "stream",
     "text": [
      "What is your name : shiza\n",
      "What is your age : 45\n",
      "enter your gender: Please give answer in 'M' or 'F' F\n",
      "enter your marital status: Please give answer in 'Y' or 'N' N\n"
     ]
    },
    {
     "name": "stdout",
     "output_type": "stream",
     "text": [
      "shiza she will work only in urban areas\n"
     ]
    }
   ],
   "source": [
    "#Type your code here\n",
    "name=input(\"What is your name :\")\n",
    "age=int(input(\"What is your age :\"))\n",
    "gender= input(\"enter your gender: Please give answer in 'M' or 'F'\")\n",
    "marital_status=input(\"enter your marital status: Please give answer in 'Y' or 'N'\")\n",
    "\n",
    "if gender == \"F\":\n",
    "    print(name,\"she will work only in urban areas\")\n",
    "elif gender == \"M\" and 20 <= age <=40:\n",
    "    print(name,\"he may work in anywhere\")\n",
    "elif gender == \"M\" and 40 < age <=60:\n",
    "    print(name,\"he will work in urban areas only\")\n",
    "else:\n",
    "    print(\"ERROR\")\n"
   ]
  },
  {
   "cell_type": "code",
   "execution_count": null,
   "metadata": {},
   "outputs": [],
   "source": []
  },
  {
   "cell_type": "markdown",
   "metadata": {},
   "source": [
    "6) Write a program to calculate the electricity bill (accept number of unit from user) according to the following criteria :\n",
    "     Unit                                                     Price  \n",
    "uptp 100 units                                             no charge\n",
    "Next 200 units                                              Rs 5 per unit\n",
    "After 200 units                                             Rs 10 per unit\n",
    "(For example if input unit is 350 than total bill amount is Rs.3500\n",
    "(For example if input unit is 97 than total bill amount is Rs.0\n",
    "(For example if input unit is 150 than total bill amount is Rs.750"
   ]
  },
  {
   "cell_type": "code",
   "execution_count": 100,
   "metadata": {},
   "outputs": [
    {
     "name": "stdin",
     "output_type": "stream",
     "text": [
      "Enter your number of unit consumed 350\n"
     ]
    },
    {
     "name": "stdout",
     "output_type": "stream",
     "text": [
      "Total bill amount is Rs: 3500\n"
     ]
    }
   ],
   "source": [
    "#Type your code here\n",
    "number_of_unit=int(input(\"Enter your number of unit consumed\"))\n",
    "\n",
    "# if number of unit is upto 100 then price is  0\n",
    "# if number of unit is Next 200 then price is  5\n",
    "# if number of unit is After 200 then price is  10\n",
    "\n",
    "#total_bill=number_of_unit * price\n",
    "\n",
    "if number_of_unit>=0 and number_of_unit<=100:\n",
    "    price=0\n",
    "    total_bill=number_of_unit * price\n",
    "    print(\"Total bill amount is Rs:\",total_bill)\n",
    "\n",
    "if number_of_unit>100 and number_of_unit<=200:\n",
    "    price=5\n",
    "    total_bill=number_of_unit * price\n",
    "    print(\"Total bill amount is Rs:\",total_bill)\n",
    "\n",
    "if number_of_unit>200:\n",
    "    price=10\n",
    "    total_bill=number_of_unit * price\n",
    "    print(\"Total bill amount is Rs:\",total_bill)"
   ]
  },
  {
   "cell_type": "code",
   "execution_count": null,
   "metadata": {},
   "outputs": [],
   "source": []
  },
  {
   "cell_type": "markdown",
   "metadata": {},
   "source": [
    "13) Take input of age of 3 people by user and determine oldest and youngest among them."
   ]
  },
  {
   "cell_type": "code",
   "execution_count": 98,
   "metadata": {},
   "outputs": [
    {
     "name": "stdin",
     "output_type": "stream",
     "text": [
      "Enter first people age 45\n",
      "Enter second people age 60\n",
      "Enter third people age 21\n"
     ]
    },
    {
     "name": "stdout",
     "output_type": "stream",
     "text": [
      "60 years age2 is oldest among them\n",
      "21 years age3 is youngest among them\n"
     ]
    }
   ],
   "source": [
    "#Type your code here\n",
    "age1=int(input(\"Enter first people age\"))\n",
    "age2=int(input(\"Enter second people age\"))\n",
    "age3=int(input(\"Enter third people age\"))\n",
    "\n",
    "if age1>age2 and age1>age3:\n",
    "    print(age1,\"years age1 is oldest among them\")\n",
    "elif age2>age3:\n",
    "    print(age2,\"years age2 is oldest among them\")\n",
    "else:\n",
    "    print(age3,\"years age3 is oldest among them\")\n",
    "\n",
    "if age1<age2 and age1<age3:\n",
    "    print(age1,\"years age1 is youngest among them\")\n",
    "elif age2<age3:\n",
    "    print(age2,\"years age2 is youngest among them\")\n",
    "else:\n",
    "    print(age3,\"years age3 is youngest among them\")\n"
   ]
  },
  {
   "cell_type": "code",
   "execution_count": null,
   "metadata": {},
   "outputs": [],
   "source": []
  }
 ],
 "metadata": {
  "kernelspec": {
   "display_name": "Python 3 (ipykernel)",
   "language": "python",
   "name": "python3"
  },
  "language_info": {
   "codemirror_mode": {
    "name": "ipython",
    "version": 3
   },
   "file_extension": ".py",
   "mimetype": "text/x-python",
   "name": "python",
   "nbconvert_exporter": "python",
   "pygments_lexer": "ipython3",
   "version": "3.12.7"
  }
 },
 "nbformat": 4,
 "nbformat_minor": 4
}
