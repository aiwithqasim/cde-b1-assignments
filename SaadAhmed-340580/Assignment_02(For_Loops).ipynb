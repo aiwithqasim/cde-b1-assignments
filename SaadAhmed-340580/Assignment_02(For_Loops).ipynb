{
 "cells": [
  {
   "cell_type": "markdown",
   "metadata": {
    "id": "1E5r3wPNed0G"
   },
   "source": [
    "\n",
    "\n",
    "# **Question No 01**\n",
    "\n",
    "Use a for loop to count the number of occurrences of the word in the list and return all indices where the word occurs.\n",
    "\n",
    "**Exmple:**\n",
    "\n",
    "Input: ['apple', 'banana', 'apple', 'cherry', 'apple'], Search: 'apple'  \n",
    "Output: 'apple' found 3 times at indices: 0, 2, 4\n",
    "\n"
   ]
  },
  {
   "cell_type": "code",
   "execution_count": 1,
   "metadata": {
    "id": "tHrz4YilefTD"
   },
   "outputs": [
    {
     "name": "stdout",
     "output_type": "stream",
     "text": [
      "'apple' found 3 times at indices: 0, 2, 4\n"
     ]
    }
   ],
   "source": [
    "# Input list and the word to search\n",
    "words = ['apple', 'banana', 'apple', 'cherry', 'apple']\n",
    "search_word = 'apple'\n",
    "\n",
    "# Initialize variables\n",
    "count = 0\n",
    "indices = []\n",
    "\n",
    "# Iterate through the list\n",
    "for i in range(len(words)):\n",
    "    if words[i] == search_word:\n",
    "        count += 1\n",
    "        indices.append(i)\n",
    "\n",
    "# Output the result\n",
    "print(f\"'{search_word}' found {count} times at indices: {', '.join(map(str, indices))}\")\n"
   ]
  },
  {
   "cell_type": "markdown",
   "metadata": {
    "id": "fN_U0nnCeeAF"
   },
   "source": [
    "\n",
    "# **Question No 02**\n",
    "\n",
    "Create a program to find all unique pairs of numbers in a list that add up to a target sum.\n",
    "\n",
    "Use a single list and a for loop (nested if necessary) to iterate through and find pairs without duplicates.\n",
    "Avoid repeating pairs like [3, 5] and [5, 3].\n",
    "\n",
    "**Example:**\n",
    "\n",
    "Input list: [2, 4, 3, 5, 7, 8, 1]  \n",
    "Target sum: 9  \n",
    "Output: [(2, 7), (4, 5), (1, 8)]\n"
   ]
  },
  {
   "cell_type": "code",
   "execution_count": 2,
   "metadata": {
    "id": "AfsJP7KTef3T"
   },
   "outputs": [
    {
     "name": "stdout",
     "output_type": "stream",
     "text": [
      "Unique pairs that add up to 9: [(2, 7), (4, 5), (8, 1)]\n"
     ]
    }
   ],
   "source": [
    "# Input list and target sum\n",
    "numbers = [2, 4, 3, 5, 7, 8, 1]\n",
    "target_sum = 9\n",
    "\n",
    "# Initialize a list to store the unique pairs\n",
    "unique_pairs = []\n",
    "\n",
    "# Iterate through the list\n",
    "for i in range(len(numbers)):\n",
    "    for j in range(i + 1, len(numbers)):  # Start from i + 1 to avoid duplicates\n",
    "        if numbers[i] + numbers[j] == target_sum:\n",
    "            unique_pairs.append((numbers[i], numbers[j]))\n",
    "\n",
    "# Output the result\n",
    "print(f\"Unique pairs that add up to {target_sum}: {unique_pairs}\")\n"
   ]
  },
  {
   "cell_type": "markdown",
   "metadata": {
    "id": "d8ZH6VPNewLh"
   },
   "source": [
    "# **Question No 03**\n",
    "\n",
    "Write a program to calculate the cumulative product of elements in a list.\n",
    "\n",
    "Use a single list and update it in place to store the cumulative product at each index.\n",
    "Use only a for loop.\n",
    "\n",
    "**Example:**\n",
    "\n",
    "Input: [2, 3, 4, 5]  \n",
    "Output: [2, 6, 24, 120]  \n"
   ]
  },
  {
   "cell_type": "code",
   "execution_count": 3,
   "metadata": {
    "id": "pYPfUitge7nW"
   },
   "outputs": [
    {
     "name": "stdout",
     "output_type": "stream",
     "text": [
      "Cumulative product: [2, 6, 24, 120]\n"
     ]
    }
   ],
   "source": [
    "# Input list\n",
    "numbers = [2, 3, 4, 5]\n",
    "\n",
    "# Calculate the cumulative product\n",
    "for i in range(1, len(numbers)):\n",
    "    numbers[i] *= numbers[i - 1]  # Update the current element with the product\n",
    "\n",
    "# Output the updated list\n",
    "print(\"Cumulative product:\", numbers)\n"
   ]
  },
  {
   "cell_type": "markdown",
   "metadata": {
    "id": "jEtwOjpEfAYA"
   },
   "source": [
    "# **Question No 04**\n",
    "\n",
    "Write a program to reshape a 1D list into a 2D grid.\n",
    "\n",
    "Accept a list of numbers and the number of rows as input.\n",
    "Use for loops to split the list into sublists, each representing a row.\n",
    "If the list cannot be evenly divided into rows, pad it with None.\n",
    "\n",
    "**Example:**\n",
    "Input: [1, 2, 3, 4, 5, 6, 7], Rows: 3  \n",
    "Output: [[1, 2, 3], [4, 5, 6], [7, None, None]]  \n",
    "\n"
   ]
  },
  {
   "cell_type": "code",
   "execution_count": 4,
   "metadata": {
    "id": "tGRxqt0pfRql"
   },
   "outputs": [
    {
     "name": "stdout",
     "output_type": "stream",
     "text": [
      "Reshaped grid: [[1, 2, 3], [4, 5, 6], [7, None, None]]\n"
     ]
    }
   ],
   "source": [
    "# Input: 1D list and number of rows\n",
    "numbers = [1, 2, 3, 4, 5, 6, 7]\n",
    "rows = 3\n",
    "\n",
    "# Calculate the number of columns\n",
    "columns = -(-len(numbers) // rows)  # Ceiling division\n",
    "\n",
    "# Pad the list with None if necessary\n",
    "while len(numbers) < rows * columns:\n",
    "    numbers.append(None)\n",
    "\n",
    "# Reshape the list into a 2D grid\n",
    "grid = []\n",
    "for i in range(rows):\n",
    "    grid.append(numbers[i * columns:(i + 1) * columns])\n",
    "\n",
    "# Output the 2D grid\n",
    "print(\"Reshaped grid:\", grid)\n"
   ]
  },
  {
   "cell_type": "markdown",
   "metadata": {
    "id": "iBPZVHDsfwpm"
   },
   "source": [
    "# **Question No 05**\n",
    "\n",
    "Write a program to sort a list of numbers into two separate lists:\n",
    "\n",
    "One list for all odd numbers (in ascending order).\n",
    "One list for all even numbers (in descending order).\n",
    "Use for loops for the entire process.\n",
    "\n",
    "**Example:**\n",
    "\n",
    "\n",
    "Input: [5, 8, 3, 10, 2, 7, 1, 6]  \n",
    "Output:  \n",
    "Odd: [1, 3, 5, 7]  \n",
    "Even: [10, 8, 6, 2]  \n"
   ]
  },
  {
   "cell_type": "code",
   "execution_count": 5,
   "metadata": {
    "id": "y8dyGGNAf42S"
   },
   "outputs": [
    {
     "name": "stdout",
     "output_type": "stream",
     "text": [
      "Odd: [1, 3, 5, 7]\n",
      "Even: [10, 8, 6, 2]\n"
     ]
    }
   ],
   "source": [
    "# Input list\n",
    "numbers = [5, 8, 3, 10, 2, 7, 1, 6]\n",
    "\n",
    "# Initialize empty lists for odd and even numbers\n",
    "odd_numbers = []\n",
    "even_numbers = []\n",
    "\n",
    "# Separate the numbers into odd and even lists\n",
    "for number in numbers:\n",
    "    if number % 2 == 0:\n",
    "        even_numbers.append(number)\n",
    "    else:\n",
    "        odd_numbers.append(number)\n",
    "\n",
    "# Sort the odd numbers in ascending order\n",
    "odd_numbers.sort()\n",
    "\n",
    "# Sort the even numbers in descending order\n",
    "even_numbers.sort(reverse=True)\n",
    "\n",
    "# Output the results\n",
    "print(\"Odd:\", odd_numbers)\n",
    "print(\"Even:\", even_numbers)\n"
   ]
  },
  {
   "cell_type": "markdown",
   "metadata": {
    "id": "X_LfOnqskNTe"
   },
   "source": [
    "# **Question No 06**\n",
    "\n",
    "Write a program that uses a for loop to count the frequency of each character in a given string and stores the result in a dictionary.\n",
    "\n",
    "The program should ignore spaces and be case-insensitive.\n",
    "Display the dictionary as the final output.\n",
    "\n",
    "**Example:**\n",
    "\n",
    "Input: \"Programming is fun\"  \n",
    "Output: {'p': 1, 'r': 2, 'o': 1, 'g': 2, 'a': 1, 'm': 2, 'i': 2, 'n': 2, 's': 1, 'f': 1, 'u': 1}\n",
    "\n"
   ]
  },
  {
   "cell_type": "code",
   "execution_count": 6,
   "metadata": {
    "id": "1_-djYt-kW8F"
   },
   "outputs": [
    {
     "name": "stdout",
     "output_type": "stream",
     "text": [
      "Character frequency: {'p': 1, 'r': 2, 'o': 1, 'g': 2, 'a': 1, 'm': 2, 'i': 2, 'n': 2, 's': 1, 'f': 1, 'u': 1}\n"
     ]
    }
   ],
   "source": [
    "# Input string\n",
    "input_string = \"Programming is fun\"\n",
    "\n",
    "# Initialize an empty dictionary for character frequency\n",
    "char_frequency = {}\n",
    "\n",
    "# Process the string: convert to lowercase and remove spaces\n",
    "cleaned_string = input_string.replace(\" \", \"\").lower()\n",
    "\n",
    "# Count the frequency of each character\n",
    "for char in cleaned_string:\n",
    "    if char in char_frequency:\n",
    "        char_frequency[char] += 1\n",
    "    else:\n",
    "        char_frequency[char] = 1\n",
    "\n",
    "# Output the dictionary\n",
    "print(\"Character frequency:\", char_frequency)\n"
   ]
  }
 ],
 "metadata": {
  "colab": {
   "provenance": []
  },
  "kernelspec": {
   "display_name": "Python 3 (ipykernel)",
   "language": "python",
   "name": "python3"
  },
  "language_info": {
   "codemirror_mode": {
    "name": "ipython",
    "version": 3
   },
   "file_extension": ".py",
   "mimetype": "text/x-python",
   "name": "python",
   "nbconvert_exporter": "python",
   "pygments_lexer": "ipython3",
   "version": "3.13.0"
  }
 },
 "nbformat": 4,
 "nbformat_minor": 4
}
