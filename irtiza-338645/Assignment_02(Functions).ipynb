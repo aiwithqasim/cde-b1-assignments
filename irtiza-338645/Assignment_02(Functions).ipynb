{
 "cells": [
  {
   "cell_type": "markdown",
   "metadata": {
    "id": "WbWe2auqg3ZE"
   },
   "source": [
    "\n",
    "# **Question No 01**\n",
    "\n",
    "Write a function called create_word_count that takes a list of strings and returns a dictionary where:\n",
    "\n",
    "Keys are unique words from the list.\n",
    "Values are the count of occurrences of each word.\n",
    "\n",
    "**Exmple:**\n",
    "words = ['apple', 'banana', 'apple', 'cherry', 'banana', 'apple']\n",
    "result = create_word_count(words)\n",
    "print(result)  # {'apple': 3, 'banana': 2, 'cherry': 1}\n",
    "\n"
   ]
  },
  {
   "cell_type": "code",
   "execution_count": 6,
   "metadata": {
    "id": "Y7n-RlA-iywL"
   },
   "outputs": [
    {
     "name": "stdout",
     "output_type": "stream",
     "text": [
      "Enter words separated by spaces:  apple Musambi Grapes Orabge Apple \n"
     ]
    },
    {
     "name": "stdout",
     "output_type": "stream",
     "text": [
      "{'apple': 1, 'Musambi': 1, 'Grapes': 1, 'Orabge': 1, 'Apple': 1}\n"
     ]
    }
   ],
   "source": [
    "def create_word_count(words):\n",
    "    word_count = {}\n",
    "    for word in words:\n",
    "        word_count[word] = word_count.get(word, 0) + 1\n",
    "    return word_count\n",
    "\n",
    "words = list(input(\"Enter words separated by spaces: \").strip().split())\n",
    "result = create_word_count(words)\n",
    "print(result)\n"
   ]
  },
  {
   "cell_type": "markdown",
   "metadata": {
    "id": "CWDqnzRRg3br"
   },
   "source": [
    "# **Question No 02**\n",
    "\n",
    "Write a function called sort_by_key that takes a list of dictionaries and a key to sort by.\n",
    "\n",
    "The function should return a new list sorted by the given key in ascending order.\n",
    "If the key doesn’t exist in a dictionary, ignore that dictionary.\n",
    "\n",
    "**Exmple:**\n",
    "\n",
    "data = [{'name': 'Alice', 'age': 25}, {'name': 'Bob', 'age': 22}, {'name': 'Charlie', 'age': 30}]\n",
    "sorted_data = sort_by_key(data, 'age')\n",
    "print(sorted_data)  \n",
    "# [{'name': 'Bob', 'age': 22}, {'name': 'Alice', 'age': 25}, {'name': 'Charlie', 'age': 30}]\n",
    "\n"
   ]
  },
  {
   "cell_type": "code",
   "execution_count": 1,
   "metadata": {
    "id": "y_7uTIbbi1fu"
   },
   "outputs": [
    {
     "name": "stdin",
     "output_type": "stream",
     "text": [
      "Enter the number of dictionaries:  1\n",
      "Enter a dictionary (e.g., {'key1': 'value1', 'key2': 'value2'}):  ({'Ali': '45'})\n",
      "Enter the key to sort by:  Ali\n"
     ]
    },
    {
     "name": "stdout",
     "output_type": "stream",
     "text": [
      "[{'Ali': '45'}]\n"
     ]
    }
   ],
   "source": [
    "def sort_by_key(dict_list, key):\n",
    "    return sorted(dict_list, key=lambda x: x[key])\n",
    "\n",
    "n = int(input(\"Enter the number of dictionaries: \"))\n",
    "dict_list = []\n",
    "\n",
    "for _ in range(n):\n",
    "    entry = eval(input(\"Enter a dictionary (e.g., {'key1': 'value1', 'key2': 'value2'}): \"))\n",
    "    dict_list.append(entry)\n",
    "\n",
    "key = input(\"Enter the key to sort by: \")\n",
    "result = sort_by_key(dict_list, key)\n",
    "print(result)\n"
   ]
  },
  {
   "cell_type": "markdown",
   "metadata": {
    "id": "CzVcAI2jg3ei"
   },
   "source": [
    "# **Question No 03**\n",
    "\n",
    "Write a function called filter_dict that takes a dictionary and a value threshold as arguments.\n",
    "\n",
    "The function should return a new dictionary containing only the key-value pairs where the value is greater than the threshold.\n",
    "\n",
    "**Exmple:**\n",
    "\n",
    "scores = {'Alice': 85, 'Bob': 90, 'Charlie': 78, 'David': 92}\n",
    "filtered_scores = filter_dict(scores, 80)\n",
    "print(filtered_scores)  # {'Alice': 85, 'Bob': 90, 'David': 92}\n",
    "\n"
   ]
  },
  {
   "cell_type": "code",
   "execution_count": 11,
   "metadata": {
    "id": "Y1fBZTKWi2wq"
   },
   "outputs": [
    {
     "name": "stdout",
     "output_type": "stream",
     "text": [
      "Enter the number of key-value pairs:  1\n",
      "Enter key:  Saliee\n",
      "Enter value:  2\n",
      "Enter the value threshold:  3\n"
     ]
    },
    {
     "name": "stdout",
     "output_type": "stream",
     "text": [
      "{}\n"
     ]
    }
   ],
   "source": [
    "def filter_dict(d, threshold):\n",
    "    return {k: v for k, v in d.items() if v > threshold}\n",
    "\n",
    "n = int(input(\"Enter the number of key-value pairs: \"))\n",
    "data = {}\n",
    "\n",
    "for _ in range(n):\n",
    "    key = input(\"Enter key: \")\n",
    "    value = int(input(\"Enter value: \"))\n",
    "    data[key] = value\n",
    "\n",
    "threshold = int(input(\"Enter the value threshold: \"))\n",
    "result = filter_dict(data, threshold)\n",
    "print(result)\n"
   ]
  },
  {
   "cell_type": "markdown",
   "metadata": {
    "id": "sKZLjKbog3jw"
   },
   "source": [
    "# **Question No 04**\n",
    "\n",
    "Write a function called find_common_keys that takes two dictionaries and returns a list of keys that are common to both.\n",
    "\n",
    "\n",
    "**Exmple:**\n",
    "\n",
    "dict1 = {'a': 1, 'b': 2, 'c': 3}\n",
    "dict2 = {'b': 4, 'c': 5, 'd': 6}\n",
    "common_keys = find_common_keys(dict1, dict2)\n",
    "print(common_keys)  # ['b', 'c']\n"
   ]
  },
  {
   "cell_type": "code",
   "execution_count": null,
   "metadata": {
    "id": "IRSWbYvfi3cg"
   },
   "outputs": [],
   "source": [
    "def find_common_keys(dict1, dict2):\n",
    "    return list(dict1.keys() & dict2.keys())\n",
    "\n",
    "n1 = int(input(\"Enter the number of key-value pairs for the first dictionary: \"))\n",
    "dict1 = {}\n",
    "for _ in range(n1):\n",
    "    key = input(\"Enter key: \")\n",
    "    value = input(\"Enter value: \")\n",
    "    dict1[key] = value\n",
    "\n",
    "n2 = int(input(\"Enter the number of key-value pairs for the second dictionary: \"))\n",
    "dict2 = {}\n",
    "for _ in range(n2):\n",
    "    key = input(\"Enter key: \")\n",
    "    value = input(\"Enter value: \")\n",
    "    dict2[key] = value\n",
    "\n",
    "result = find_common_keys(dict1, dict2)\n",
    "print(result)\n"
   ]
  },
  {
   "cell_type": "markdown",
   "metadata": {
    "id": "xBNyzbF6i41L"
   },
   "source": [
    "# **Question No 5**\n",
    "\n",
    "Write a function called update_grades that takes a list of dictionaries (representing students with their grades) and updates the grade of a student if their name matches the given name.\n",
    "\n",
    "\n",
    "**Exmple:**\n",
    "\n",
    "students = [{'name': 'Alice', 'grade': 85}, {'name': 'Bob', 'grade': 90}]\n",
    "updated_students = update_grades(students, 'Bob', 95)\n",
    "print(updated_students)  \n",
    "# [{'name': 'Alice', 'grade': 85}, {'name': 'Bob', 'grade': 95}]\n",
    "\n"
   ]
  },
  {
   "cell_type": "code",
   "execution_count": 12,
   "metadata": {
    "id": "dM8_HJcPi5wH"
   },
   "outputs": [
    {
     "name": "stdout",
     "output_type": "stream",
     "text": [
      "Enter the number of students:  3\n",
      "Enter student name:  Ali\n",
      "Enter student grade:  A\n",
      "Enter student name:  Saleem\n",
      "Enter student grade:  A\n",
      "Enter student name:  Shariq\n",
      "Enter student grade:  C\n",
      "Enter the name of the student whose grade you want to update:  Ali\n",
      "Enter the new grade:  F\n"
     ]
    },
    {
     "name": "stdout",
     "output_type": "stream",
     "text": [
      "[{'name': 'Ali', 'grade': 'F'}, {'name': 'Saleem', 'grade': 'A'}, {'name': 'Shariq', 'grade': 'C'}]\n"
     ]
    }
   ],
   "source": [
    "def update_grades(students, name, new_grade):\n",
    "    for student in students:\n",
    "        if student['name'] == name:\n",
    "            student['grade'] = new_grade\n",
    "    return students\n",
    "\n",
    "n = int(input(\"Enter the number of students: \"))\n",
    "students = []\n",
    "\n",
    "for _ in range(n):\n",
    "    name = input(\"Enter student name: \")\n",
    "    grade = input(\"Enter student grade: \")\n",
    "    students.append({'name': name, 'grade': grade})\n",
    "\n",
    "name_to_update = input(\"Enter the name of the student whose grade you want to update: \")\n",
    "new_grade = input(\"Enter the new grade: \")\n",
    "\n",
    "result = update_grades(students, name_to_update, new_grade)\n",
    "print(result)\n"
   ]
  },
  {
   "cell_type": "markdown",
   "metadata": {
    "id": "LVPjDOqojosu"
   },
   "source": [
    "# **Question No 6**\n",
    "\n",
    "Write a function called merge_lists_to_dict that takes two lists of equal length:\n",
    "\n",
    "The first list contains keys.\n",
    "The second list contains values.\n",
    "The function should return a dictionary created by merging these lists.\n",
    "\n",
    "**Exmple:**\n",
    "keys = ['name', 'age', 'city']\n",
    "values = ['Alice', 25, 'New York']\n",
    "result = merge_lists_to_dict(keys, values)\n",
    "print(result)  # {'name': 'Alice', 'age': 25, 'city': 'New York'}\n",
    "\n"
   ]
  },
  {
   "cell_type": "code",
   "execution_count": null,
   "metadata": {
    "id": "WXCP48lRjyET"
   },
   "outputs": [],
   "source": [
    "def merge_lists_to_dict(keys, values):\n",
    "    return dict(zip(keys, values))\n",
    "\n",
    "n = int(input(\"Enter the number of elements in the lists: \"))\n",
    "\n",
    "keys = []\n",
    "values = []\n",
    "\n",
    "print(\"Enter keys:\")\n",
    "for _ in range(n):\n",
    "    keys.append(input())\n",
    "\n",
    "print(\"Enter values:\")\n",
    "for _ in range(n):\n",
    "    values.append(input())\n",
    "\n",
    "result = merge_lists_to_dict(keys, values)\n",
    "print(result)\n"
   ]
  }
 ],
 "metadata": {
  "colab": {
   "provenance": []
  },
  "kernelspec": {
   "display_name": "Python 3 (ipykernel)",
   "language": "python",
   "name": "python3"
  },
  "language_info": {
   "codemirror_mode": {
    "name": "ipython",
    "version": 3
   },
   "file_extension": ".py",
   "mimetype": "text/x-python",
   "name": "python",
   "nbconvert_exporter": "python",
   "pygments_lexer": "ipython3",
   "version": "3.13.0"
  }
 },
 "nbformat": 4,
 "nbformat_minor": 4
}
