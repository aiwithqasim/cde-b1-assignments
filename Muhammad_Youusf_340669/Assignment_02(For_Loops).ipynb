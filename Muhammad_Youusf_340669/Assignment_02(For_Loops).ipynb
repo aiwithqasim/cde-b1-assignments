{
 "cells": [
  {
   "cell_type": "markdown",
   "id": "591d884f-3be6-40c2-be23-8bc824670757",
   "metadata": {},
   "source": [
    "#### Question No 01\n",
    "Use a for loop to count the number of occurrences of the word in the list and return all indices where the word occurs.\n",
    "\n",
    "Exmple:\n",
    "\n",
    "Input: ['apple', 'banana', 'apple', 'cherry', 'apple'], Search: 'apple'\n",
    "Output: 'apple' found 3 times at indices: 0, 2, 4"
   ]
  },
  {
   "cell_type": "code",
   "execution_count": 39,
   "id": "2bdf98f9-f47f-4df9-8397-544ddc6e268f",
   "metadata": {},
   "outputs": [
    {
     "name": "stdout",
     "output_type": "stream",
     "text": [
      "'Programming' found 2 times at indices: 1, 4\n"
     ]
    }
   ],
   "source": [
    "list = ['Google','Programming','Data Engineer','Java','Programming']\n",
    "\n",
    "search_word = 'Programming'\n",
    "\n",
    "count = 0\n",
    "indices = []\n",
    "\n",
    "for index,word in enumerate(list):\n",
    "    if word == search_word:\n",
    "        indices.append(index)\n",
    "        count+=1\n",
    "print(f\"'{search_word}' found {count} times at indices: {', '.join(map(str, indices))}\")\n"
   ]
  },
  {
   "cell_type": "markdown",
   "id": "be9ef90c-bd76-4a9c-b0e4-6415dfffedd2",
   "metadata": {},
   "source": [
    "#### Question No 02\n",
    "Create a program to find all unique pairs of numbers in a list that add up to a target sum.\n",
    "\n",
    "Use a single list and a for loop (nested if necessary) to iterate through and find pairs without duplicates. Avoid repeating pairs like [3, 5] and [5, 3].\n",
    "\n",
    "Example:\n",
    "\n",
    "Input list: [2, 4, 3, 5, 7, 8, 1]\n",
    "Target sum: 9\n",
    "Output: [(2, 7), (4, 5), (1, 8)]"
   ]
  },
  {
   "cell_type": "code",
   "execution_count": 46,
   "id": "cedd99f6-6aed-4266-bde5-54360d513e43",
   "metadata": {},
   "outputs": [
    {
     "name": "stdout",
     "output_type": "stream",
     "text": [
      "checking for the first number:1,12\n",
      "checking for the first number:2,12\n",
      "checking for the first number:3,12\n",
      "checking for the first number:4,12\n",
      "checking for the first number:6,12\n",
      "checking for the first number:12,12\n"
     ]
    }
   ],
   "source": [
    "numbers = [1,2,3,4,6,12]\n",
    "target = 12\n",
    "\n",
    "for i in range(len(numbers)):\n",
    "    first_num = numbers[i]\n",
    "\n",
    "    for j in range(i + 1, len(numbers)):\n",
    "        second_num = numbers[j]\n",
    "    print(f\"checking for the first number:{first_num},{second_num}\")\n",
    "        \n",
    "\n",
    "    "
   ]
  },
  {
   "cell_type": "markdown",
   "id": "80ef4e9b-fd7d-4e4e-85e8-8ae3d6151953",
   "metadata": {},
   "source": [
    "#### Question No 03\n",
    "Write a program to calculate the cumulative product of elements in a list.\n",
    "\n",
    "Use a single list and update it in place to store the cumulative product at each index. Use only a for loop.\n",
    "\n",
    "Example:\n",
    "\n",
    "Input: [2, 3, 4, 5]\n",
    "Output: [2, 6, 24, 120]"
   ]
  },
  {
   "cell_type": "code",
   "execution_count": 53,
   "id": "e01b547c-1f5d-4e02-8424-0a0700aaef7d",
   "metadata": {},
   "outputs": [
    {
     "name": "stdout",
     "output_type": "stream",
     "text": [
      "[2, 6, 24, 120]\n"
     ]
    }
   ],
   "source": [
    "numbers = [2,3,4,5]\n",
    "\n",
    "for i in range(1, len(numbers)):\n",
    "    numbers[i] *= numbers[i-1]\n",
    "print(numbers)"
   ]
  },
  {
   "cell_type": "markdown",
   "id": "e41b6b88-c8a6-48f2-989e-7f018fcdb43f",
   "metadata": {},
   "source": [
    "#### Question No 04\n",
    "Write a program to reshape a 1D list into a 2D grid.\n",
    "\n",
    "Accept a list of numbers and the number of rows as input. Use for loops to split the list into sublists, each representing a row. If the list cannot be evenly divided into rows, pad it with None.\n",
    "\n",
    "Example: Input: [1, 2, 3, 4, 5, 6, 7], Rows: 3\n",
    "Output: [[1, 2, 3], [4, 5, 6], [7, None, None]]"
   ]
  },
  {
   "cell_type": "code",
   "execution_count": 63,
   "id": "84025262-9316-461f-929c-a06ffd44458f",
   "metadata": {},
   "outputs": [
    {
     "name": "stdout",
     "output_type": "stream",
     "text": [
      "[[1, 2, 3], [4, 5, 6], [7, None, None]]\n"
     ]
    }
   ],
   "source": [
    "numbers = [1,2,3,4,5,6,7]\n",
    "rows =3\n",
    "cols = (len(numbers) + rows - 1) // rows\n",
    "grid = []\n",
    "for i in range(rows):\n",
    "    row = numbers[i * cols:(i + 1) * cols]\n",
    "    while len(row) < cols:\n",
    "        row.append(None)    \n",
    "    grid.append(row)\n",
    "print(grid)\n",
    "\n"
   ]
  },
  {
   "cell_type": "markdown",
   "id": "33643cb0-95cc-4f2a-b655-862e9bdf2bc6",
   "metadata": {},
   "source": [
    "#### Question No 05\n",
    "Write a program to sort a list of numbers into two separate lists:\n",
    "\n",
    "One list for all odd numbers (in ascending order). One list for all even numbers (in descending order). Use for loops for the entire process.\n",
    "\n",
    "Example:\n",
    "\n",
    "Input: [5, 8, 3, 10, 2, 7, 1, 6]\n",
    "Output:\n",
    "Odd: [1, 3, 5, 7]\n",
    "Even: [10, 8, 6, 2]"
   ]
  },
  {
   "cell_type": "code",
   "execution_count": 77,
   "id": "200bcc9d-b648-4da8-ae39-594a373e4385",
   "metadata": {},
   "outputs": [
    {
     "name": "stdout",
     "output_type": "stream",
     "text": [
      "Odd: [1, 3, 5, 7]\n",
      "Even: [10, 8, 6, 2]\n"
     ]
    }
   ],
   "source": [
    "numbers = [5, 8, 3, 10, 2, 7, 1, 6]\n",
    "odd_numbers = []\n",
    "even_numbers = []\n",
    "\n",
    "for number in numbers:\n",
    "    if number % 2 == 0: \n",
    "        even_numbers.append(number)  \n",
    "    else:\n",
    "        odd_numbers.append(number)  \n",
    "odd_numbers.sort()  \n",
    "even_numbers.sort(reverse=True) \n",
    "print(\"Odd:\", odd_numbers)\n",
    "print(\"Even:\", even_numbers)\n"
   ]
  },
  {
   "cell_type": "markdown",
   "id": "ae38e8f9-2815-434b-8071-93634dbc0d62",
   "metadata": {},
   "source": [
    "#### Question No 06\n",
    "Write a program that uses a for loop to count the frequency of each character in a given string and stores the result in a dictionary.\n",
    "\n",
    "The program should ignore spaces and be case-insensitive. Display the dictionary as the final output.\n",
    "\n",
    "Example:\n",
    "\n",
    "Input: \"Programming is fun\"\n",
    "Output: {'p': 1, 'r': 2, 'o': 1, 'g': 2, 'a': 1, 'm': 2, 'i': 2, 'n': 2, 's': 1, 'f': 1, 'u': 1}"
   ]
  },
  {
   "cell_type": "code",
   "execution_count": 80,
   "id": "dd4702ae-cb78-4429-b10b-f40ab340f0ba",
   "metadata": {},
   "outputs": [
    {
     "name": "stdout",
     "output_type": "stream",
     "text": [
      "{'p': 1, 'r': 2, 'o': 1, 'g': 2, 'a': 1, 'm': 2, 'i': 2, 'n': 2, 's': 1, 'f': 1, 'u': 1}\n"
     ]
    }
   ],
   "source": [
    "def character_frequency(string):\n",
    "    string = string.lower()\n",
    "    frequency = {}\n",
    "    for char in string:\n",
    "        if char != ' ':\n",
    "            if char in frequency:\n",
    "                frequency[char] += 1\n",
    "            else:\n",
    "                frequency[char] = 1\n",
    "    return frequency\n",
    "input_string = \"Programming is fun\"\n",
    "output = character_frequency(input_string)\n",
    "print(output)\n"
   ]
  },
  {
   "cell_type": "code",
   "execution_count": null,
   "id": "43ddf262-dcd6-41c5-968a-03d0acfba170",
   "metadata": {},
   "outputs": [],
   "source": []
  }
 ],
 "metadata": {
  "kernelspec": {
   "display_name": "Python 3 (ipykernel)",
   "language": "python",
   "name": "python3"
  },
  "language_info": {
   "codemirror_mode": {
    "name": "ipython",
    "version": 3
   },
   "file_extension": ".py",
   "mimetype": "text/x-python",
   "name": "python",
   "nbconvert_exporter": "python",
   "pygments_lexer": "ipython3",
   "version": "3.12.7"
  }
 },
 "nbformat": 4,
 "nbformat_minor": 5
}
