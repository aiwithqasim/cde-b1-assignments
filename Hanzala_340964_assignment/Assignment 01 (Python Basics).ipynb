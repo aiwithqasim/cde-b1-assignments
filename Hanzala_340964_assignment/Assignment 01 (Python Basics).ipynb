{
 "cells": [
  {
   "cell_type": "markdown",
   "metadata": {},
   "source": [
    "# Part -1 Python Basics (Variables)"
   ]
  },
  {
   "cell_type": "markdown",
   "metadata": {},
   "source": [
    "1. Print Your Name with your Father name and Date of birth using suitable escape sequence charactor"
   ]
  },
  {
   "cell_type": "code",
   "execution_count": 6,
   "metadata": {},
   "outputs": [
    {
     "name": "stdout",
     "output_type": "stream",
     "text": [
      "Name: Hanzala Ahmed\n",
      "Father's Name: Laique Ahmed\n",
      "Date of Birth: 14-Aug-2003\n"
     ]
    }
   ],
   "source": [
    "print(\"Name: Hanzala Ahmed\\nFather's Name: Laique Ahmed\\nDate of Birth: 14-Aug-2003\")"
   ]
  },
  {
   "cell_type": "markdown",
   "metadata": {},
   "source": [
    "2. Write your small bio using variables and print it using print function"
   ]
  },
  {
   "cell_type": "code",
   "execution_count": 8,
   "metadata": {},
   "outputs": [
    {
     "name": "stdout",
     "output_type": "stream",
     "text": [
      "My name is Hanzala Ahmed. I am 21 years old and work as a Software Engineer. My hobbies include coding, cricket.\n"
     ]
    }
   ],
   "source": [
    "name = \"Hanzala Ahmed\"\n",
    "age = 21\n",
    "profession = \"Software Engineer\"\n",
    "hobbies = \"coding, cricket\"\n",
    "print(f\"My name is {name}. I am {age} years old and work as a {profession}. My hobbies include {hobbies}.\")"
   ]
  },
  {
   "cell_type": "markdown",
   "metadata": {},
   "source": [
    "3. Write a program in which use all the operators we can use in Python"
   ]
  },
  {
   "cell_type": "code",
   "execution_count": 4,
   "metadata": {},
   "outputs": [
    {
     "name": "stdout",
     "output_type": "stream",
     "text": [
      "Arithmetic Operators:\n",
      "a + b = 15\n",
      "a - b = 5\n",
      "a * b = 50\n",
      "a / b = 2.0\n",
      "a % b = 0\n",
      "a ** b = 100000\n",
      "a // b = 2\n",
      "\n",
      "Comparison Operators:\n",
      "a == b: False\n",
      "a != b: True\n",
      "a > b: True\n",
      "a < b: False\n",
      "a >= b: True\n",
      "a <= b: False\n",
      "\n",
      "Logical Operators:\n",
      "x and y: False\n",
      "x or y: True\n",
      "not x: False\n",
      "\n",
      "Bitwise Operators:\n",
      "a & b: 0\n",
      "a | b: 15\n",
      "a ^ b: 15\n",
      "~a: -11\n",
      "a << 1: 20\n",
      "a >> 1: 5\n",
      "\n",
      "Assignment Operators:\n",
      "a += b: 15\n",
      "a -= b: 10\n",
      "a *= b: 50\n",
      "a /= b: 10.0\n",
      "\n",
      "Membership Operators:\n",
      "3 in lst: True\n",
      "6 not in lst: True\n",
      "\n",
      "Identity Operators:\n",
      "a is b: False\n",
      "a is not b: True\n"
     ]
    }
   ],
   "source": [
    "# Arithmetic Operators\n",
    "a = 10\n",
    "b = 5\n",
    "print(\"Arithmetic Operators:\")\n",
    "print(f\"a + b = {a + b}\")\n",
    "print(f\"a - b = {a - b}\")\n",
    "print(f\"a * b = {a * b}\")\n",
    "print(f\"a / b = {a / b}\")\n",
    "print(f\"a % b = {a % b}\")\n",
    "print(f\"a ** b = {a ** b}\")\n",
    "print(f\"a // b = {a // b}\")\n",
    "\n",
    "# Comparison Operators\n",
    "print(\"\\nComparison Operators:\")\n",
    "print(f\"a == b: {a == b}\")\n",
    "print(f\"a != b: {a != b}\")\n",
    "print(f\"a > b: {a > b}\")\n",
    "print(f\"a < b: {a < b}\")\n",
    "print(f\"a >= b: {a >= b}\")\n",
    "print(f\"a <= b: {a <= b}\")\n",
    "\n",
    "# Logical Operators\n",
    "x = True\n",
    "y = False\n",
    "print(\"\\nLogical Operators:\")\n",
    "print(f\"x and y: {x and y}\")\n",
    "print(f\"x or y: {x or y}\")\n",
    "print(f\"not x: {not x}\")\n",
    "\n",
    "# Bitwise Operators\n",
    "print(\"\\nBitwise Operators:\")\n",
    "print(f\"a & b: {a & b}\")\n",
    "print(f\"a | b: {a | b}\")\n",
    "print(f\"a ^ b: {a ^ b}\")\n",
    "print(f\"~a: {~a}\")\n",
    "print(f\"a << 1: {a << 1}\")\n",
    "print(f\"a >> 1: {a >> 1}\")\n",
    "\n",
    "# Assignment Operators\n",
    "print(\"\\nAssignment Operators:\")\n",
    "a += b\n",
    "print(f\"a += b: {a}\")\n",
    "a -= b\n",
    "print(f\"a -= b: {a}\")\n",
    "a *= b\n",
    "print(f\"a *= b: {a}\")\n",
    "a /= b\n",
    "print(f\"a /= b: {a}\")\n",
    "\n",
    "# Membership Operators\n",
    "print(\"\\nMembership Operators:\")\n",
    "lst = [1, 2, 3, 4, 5]\n",
    "print(f\"3 in lst: {3 in lst}\")\n",
    "print(f\"6 not in lst: {6 not in lst}\")\n",
    "\n",
    "# Identity Operators\n",
    "print(\"\\nIdentity Operators:\")\n",
    "print(f\"a is b: {a is b}\")\n",
    "print(f\"a is not b: {a is not b}\")\n"
   ]
  },
  {
   "cell_type": "markdown",
   "metadata": {},
   "source": [
    "4. Completes the following steps of small task:\n",
    "    - Mention Marks of English , Islamiat and Maths out of 100 in 3 different variables\n",
    "    - Mention Variable of Total Marks and assign 300 to it\n",
    "    - Calculate Percentage"
   ]
  },
  {
   "cell_type": "code",
   "execution_count": 2,
   "metadata": {},
   "outputs": [
    {
     "name": "stdout",
     "output_type": "stream",
     "text": [
      "Marks Calculation:\n",
      "English: 85\n",
      "Islamiat: 90\n",
      "Maths: 95\n",
      "Total Obtained Marks: 270\n",
      "Percentage: 90.00%\n"
     ]
    }
   ],
   "source": [
    "english_marks = 85\n",
    "islamiat_marks = 90\n",
    "maths_marks = 95\n",
    "\n",
    "total_marks = 300\n",
    "\n",
    "obtained_marks = english_marks + islamiat_marks + maths_marks\n",
    "percentage = (obtained_marks / total_marks) * 100\n",
    "\n",
    "print(\"Marks Calculation:\")\n",
    "print(f\"English: {english_marks}\")\n",
    "print(f\"Islamiat: {islamiat_marks}\")\n",
    "print(f\"Maths: {maths_marks}\")\n",
    "print(f\"Total Obtained Marks: {obtained_marks}\")\n",
    "print(f\"Percentage: {percentage:.2f}%\")\n"
   ]
  },
  {
   "cell_type": "markdown",
   "metadata": {},
   "source": [
    "# Part -2 Python Basics (Conditional Statements)"
   ]
  },
  {
   "cell_type": "markdown",
   "metadata": {},
   "source": [
    "1) A company decided to give bonus of 5% to employee if his/her year of service is more than 5 years.\n",
    "Ask user for their salary and year of service and print the net bonus amount."
   ]
  },
  {
   "cell_type": "code",
   "execution_count": 12,
   "metadata": {},
   "outputs": [
    {
     "name": "stdin",
     "output_type": "stream",
     "text": [
      "Enter your salary:  15000\n",
      "Enter your years of service:  1\n"
     ]
    },
    {
     "name": "stdout",
     "output_type": "stream",
     "text": [
      "No bonus\n"
     ]
    }
   ],
   "source": [
    "salary = float(input(\"Enter your salary: \"))\n",
    "years_of_service = int(input(\"Enter your years of service: \"))\n",
    "\n",
    "if years_of_service > 5:\n",
    "    bonus = salary * 0.05\n",
    "    print(f\"Net bonus amount: {bonus}\")\n",
    "else:\n",
    "    print(\"No bonus\")"
   ]
  },
  {
   "cell_type": "markdown",
   "metadata": {},
   "source": [
    "\n",
    "2) Write a program to check whether a person is eligible for voting or not. (accept age from user) if age is greater than 17 eligible otherwise not eligible"
   ]
  },
  {
   "cell_type": "code",
   "execution_count": 14,
   "metadata": {},
   "outputs": [
    {
     "name": "stdin",
     "output_type": "stream",
     "text": [
      "Enter your age:  21\n"
     ]
    },
    {
     "name": "stdout",
     "output_type": "stream",
     "text": [
      "You are eligible to vote.\n"
     ]
    }
   ],
   "source": [
    "age = int(input(\"Enter your age: \"))\n",
    "\n",
    "if age > 17:\n",
    "    print(\"You are eligible to vote.\")\n",
    "else:\n",
    "    print(\"You are not eligible to vote.\")\n"
   ]
  },
  {
   "cell_type": "markdown",
   "metadata": {},
   "source": [
    "\n",
    "3) Write a program to check whether a number entered by user is even or odd."
   ]
  },
  {
   "cell_type": "code",
   "execution_count": 16,
   "metadata": {},
   "outputs": [
    {
     "name": "stdin",
     "output_type": "stream",
     "text": [
      "Enter a number:  10\n"
     ]
    },
    {
     "name": "stdout",
     "output_type": "stream",
     "text": [
      "The number is even.\n"
     ]
    }
   ],
   "source": [
    "number = int(input(\"Enter a number: \"))\n",
    "\n",
    "if number % 2 == 0:\n",
    "    print(\"The number is even.\")\n",
    "else:\n",
    "    print(\"The number is odd.\")\n"
   ]
  },
  {
   "cell_type": "markdown",
   "metadata": {},
   "source": [
    "4) Write a program to check whether a number is divisible by 7 or not.\n",
    "Show Answer"
   ]
  },
  {
   "cell_type": "code",
   "execution_count": 18,
   "metadata": {},
   "outputs": [
    {
     "name": "stdin",
     "output_type": "stream",
     "text": [
      "Enter a number:  13\n"
     ]
    },
    {
     "name": "stdout",
     "output_type": "stream",
     "text": [
      "The number is not divisible by 7.\n"
     ]
    }
   ],
   "source": [
    "number = int(input(\"Enter a number: \"))\n",
    "\n",
    "if number % 7 == 0:\n",
    "    print(\"The number is divisible by 7.\")\n",
    "else:\n",
    "    print(\"The number is not divisible by 7.\")\n"
   ]
  },
  {
   "cell_type": "markdown",
   "metadata": {},
   "source": [
    "5) Write a program to display \n",
    "\"Hello\" if a number entered by user is a multiple of five , otherwise print \"Bye\"."
   ]
  },
  {
   "cell_type": "code",
   "execution_count": 20,
   "metadata": {},
   "outputs": [
    {
     "name": "stdin",
     "output_type": "stream",
     "text": [
      "Enter a number:  14\n"
     ]
    },
    {
     "name": "stdout",
     "output_type": "stream",
     "text": [
      "Bye\n"
     ]
    }
   ],
   "source": [
    "number = int(input(\"Enter a number: \"))\n",
    "\n",
    "if number % 5 == 0:\n",
    "    print(\"Hello\")\n",
    "else:\n",
    "    print(\"Bye\")\n"
   ]
  },
  {
   "cell_type": "markdown",
   "metadata": {},
   "source": [
    "7) Write a program to display the last digit of a number.\n"
   ]
  },
  {
   "cell_type": "code",
   "execution_count": 22,
   "metadata": {},
   "outputs": [
    {
     "name": "stdin",
     "output_type": "stream",
     "text": [
      "Enter a number:  19\n"
     ]
    },
    {
     "name": "stdout",
     "output_type": "stream",
     "text": [
      "The last digit of the number is 9.\n"
     ]
    }
   ],
   "source": [
    "number = int(input(\"Enter a number: \"))\n",
    "last_digit = number % 10\n",
    "print(f\"The last digit of the number is {last_digit}.\")\n"
   ]
  },
  {
   "cell_type": "markdown",
   "metadata": {},
   "source": [
    "9) Take values of length and breadth of a rectangle from user and print if it is square or rectangle."
   ]
  },
  {
   "cell_type": "code",
   "execution_count": 24,
   "metadata": {},
   "outputs": [
    {
     "name": "stdin",
     "output_type": "stream",
     "text": [
      "Enter the length:  19\n",
      "Enter the breadth:  20\n"
     ]
    },
    {
     "name": "stdout",
     "output_type": "stream",
     "text": [
      "It is a rectangle.\n"
     ]
    }
   ],
   "source": [
    "length = float(input(\"Enter the length: \"))\n",
    "breadth = float(input(\"Enter the breadth: \"))\n",
    "\n",
    "if length == breadth:\n",
    "    print(\"It is a square.\")\n",
    "else:\n",
    "    print(\"It is a rectangle.\")\n"
   ]
  },
  {
   "cell_type": "markdown",
   "metadata": {},
   "source": [
    "10) Take two int values from user and print greatest among them."
   ]
  },
  {
   "cell_type": "code",
   "execution_count": 26,
   "metadata": {},
   "outputs": [
    {
     "name": "stdin",
     "output_type": "stream",
     "text": [
      "Enter the first number:  20\n",
      "Enter the second number:  40\n"
     ]
    },
    {
     "name": "stdout",
     "output_type": "stream",
     "text": [
      "The greatest number is 40.\n"
     ]
    }
   ],
   "source": [
    "num1 = int(input(\"Enter the first number: \"))\n",
    "num2 = int(input(\"Enter the second number: \"))\n",
    "\n",
    "if num1 > num2:\n",
    "    print(f\"The greatest number is {num1}.\")\n",
    "else:\n",
    "    print(f\"The greatest number is {num2}.\")\n"
   ]
  },
  {
   "cell_type": "markdown",
   "metadata": {},
   "source": [
    "11) A shop will give discount of 10% if the cost of purchased quantity is more than 1000.\n",
    "Ask user for quantity\n",
    "Suppose, one unit will cost 100.\n",
    "Judge and print total cost for user."
   ]
  },
  {
   "cell_type": "code",
   "execution_count": 28,
   "metadata": {},
   "outputs": [
    {
     "name": "stdin",
     "output_type": "stream",
     "text": [
      "Enter the quantity purchased:  2\n"
     ]
    },
    {
     "name": "stdout",
     "output_type": "stream",
     "text": [
      "Total cost after discount (if applicable): 200\n"
     ]
    }
   ],
   "source": [
    "quantity = int(input(\"Enter the quantity purchased: \"))\n",
    "unit_cost = 100\n",
    "total_cost = quantity * unit_cost\n",
    "\n",
    "if total_cost > 1000:\n",
    "    total_cost *= 0.90  # Apply 10% discount\n",
    "\n",
    "print(f\"Total cost after discount (if applicable): {total_cost}\")\n"
   ]
  },
  {
   "cell_type": "markdown",
   "metadata": {},
   "source": [
    "12) A school has following rules for grading system:\n",
    "\n",
    "a. Below 25 - F\n",
    "\n",
    "b. 25 to 45 - E\n",
    "\n",
    "c. 45 to 50 - D\n",
    "\n",
    "d. 50 to 60 - C\n",
    "\n",
    "e. 60 to 80 - B\n",
    "\n",
    "f. Above 80 - A\n",
    "\n",
    "Ask user to enter marks and print the corresponding grade."
   ]
  },
  {
   "cell_type": "code",
   "execution_count": 30,
   "metadata": {},
   "outputs": [
    {
     "name": "stdin",
     "output_type": "stream",
     "text": [
      "Enter your marks:  90\n"
     ]
    },
    {
     "name": "stdout",
     "output_type": "stream",
     "text": [
      "Your grade is A.\n"
     ]
    }
   ],
   "source": [
    "marks = int(input(\"Enter your marks: \"))\n",
    "\n",
    "if marks < 25:\n",
    "    grade = \"F\"\n",
    "elif 25 <= marks < 45:\n",
    "    grade = \"E\"\n",
    "elif 45 <= marks < 50:\n",
    "    grade = \"D\"\n",
    "elif 50 <= marks < 60:\n",
    "    grade = \"C\"\n",
    "elif 60 <= marks < 80:\n",
    "    grade = \"B\"\n",
    "else:\n",
    "    grade = \"A\"\n",
    "\n",
    "print(f\"Your grade is {grade}.\")\n"
   ]
  },
  {
   "cell_type": "markdown",
   "metadata": {},
   "source": [
    "14)A student will not be allowed to sit in exam if his/her attendence is less than 75%.\n",
    "\n",
    "Take following input from user\n",
    "\n",
    "- Number of classes held\n",
    "\n",
    "- Number of classes attended.\n",
    "\n",
    "And print\n",
    "\n",
    "- percentage of class attended\n",
    "\n",
    "- Is student is allowed to sit in exam or not.\n"
   ]
  },
  {
   "cell_type": "code",
   "execution_count": 32,
   "metadata": {},
   "outputs": [
    {
     "name": "stdin",
     "output_type": "stream",
     "text": [
      "Enter the number of classes held:  20\n",
      "Enter the number of classes attended:  17\n"
     ]
    },
    {
     "name": "stdout",
     "output_type": "stream",
     "text": [
      "Attendance percentage: 85.00%\n",
      "You are allowed to sit in the exam.\n"
     ]
    }
   ],
   "source": [
    "classes_held = int(input(\"Enter the number of classes held: \"))\n",
    "classes_attended = int(input(\"Enter the number of classes attended: \"))\n",
    "\n",
    "attendance_percentage = (classes_attended / classes_held) * 100\n",
    "print(f\"Attendance percentage: {attendance_percentage:.2f}%\")\n",
    "\n",
    "if attendance_percentage >= 75:\n",
    "    print(\"You are allowed to sit in the exam.\")\n",
    "else:\n",
    "    print(\"You are not allowed to sit in the exam.\")\n"
   ]
  },
  {
   "cell_type": "markdown",
   "metadata": {},
   "source": [
    "15) Modify the above question to allow student to sit if he/she has medical cause. Ask user if he/she has medical cause or not ( 'Y' or 'N' ) and print accordingly."
   ]
  },
  {
   "cell_type": "code",
   "execution_count": 34,
   "metadata": {},
   "outputs": [
    {
     "name": "stdin",
     "output_type": "stream",
     "text": [
      "Enter the number of classes held:  20\n",
      "Enter the number of classes attended:  17\n",
      "Do you have a medical cause? (Y/N):  y\n"
     ]
    },
    {
     "name": "stdout",
     "output_type": "stream",
     "text": [
      "Attendance percentage: 85.00%\n",
      "You are allowed to sit in the exam.\n"
     ]
    }
   ],
   "source": [
    "classes_held = int(input(\"Enter the number of classes held: \"))\n",
    "classes_attended = int(input(\"Enter the number of classes attended: \"))\n",
    "medical_cause = input(\"Do you have a medical cause? (Y/N): \")\n",
    "\n",
    "attendance_percentage = (classes_attended / classes_held) * 100\n",
    "print(f\"Attendance percentage: {attendance_percentage:.2f}%\")\n",
    "\n",
    "if attendance_percentage >= 75 or medical_cause.upper() == \"Y\":\n",
    "    print(\"You are allowed to sit in the exam.\")\n",
    "else:\n",
    "    print(\"You are not allowed to sit in the exam.\")\n"
   ]
  },
  {
   "cell_type": "markdown",
   "metadata": {},
   "source": [
    "16) Write a program to check if a year is leap year or not.\n",
    "\n",
    "If a year is divisible by 4 then it is leap year but if the year is century year like 2000, 1900, 2100 then it must be divisible by 400."
   ]
  },
  {
   "cell_type": "code",
   "execution_count": 36,
   "metadata": {},
   "outputs": [
    {
     "name": "stdin",
     "output_type": "stream",
     "text": [
      "Enter a year:  2020\n"
     ]
    },
    {
     "name": "stdout",
     "output_type": "stream",
     "text": [
      "2020 is a leap year.\n"
     ]
    }
   ],
   "source": [
    "year = int(input(\"Enter a year: \"))\n",
    "\n",
    "if (year % 4 == 0 and year % 100 != 0) or (year % 400 == 0):\n",
    "    print(f\"{year} is a leap year.\")\n",
    "else:\n",
    "    print(f\"{year} is not a leap year.\")\n"
   ]
  },
  {
   "cell_type": "markdown",
   "metadata": {},
   "source": [
    "17) Ask user to enter age, gender ( M or F ), marital status ( Y or N ) and then using following rules print their place of service.\n",
    "\n",
    "if employee is female, then she will work only in urban areas.\n",
    "\n",
    "if employee is a male and age is in between 20 to 40 then he may work in anywhere\n",
    "\n",
    "if employee is male and age is in between 40 t0 60 then he will work in urban areas only.\n",
    "\n",
    "And any other input of age should print \"ERROR\""
   ]
  },
  {
   "cell_type": "code",
   "execution_count": 38,
   "metadata": {},
   "outputs": [
    {
     "name": "stdin",
     "output_type": "stream",
     "text": [
      "Enter the number of units:  112\n"
     ]
    },
    {
     "name": "stdout",
     "output_type": "stream",
     "text": [
      "Total bill amount is Rs. 60\n"
     ]
    }
   ],
   "source": [
    "units = int(input(\"Enter the number of units: \"))\n",
    "\n",
    "if units <= 100:\n",
    "    bill = 0\n",
    "elif units <= 300:\n",
    "    bill = (units - 100) * 5\n",
    "else:\n",
    "    bill = (200 * 5) + ((units - 300) * 10)\n",
    "\n",
    "print(f\"Total bill amount is Rs. {bill}\")\n"
   ]
  },
  {
   "cell_type": "markdown",
   "metadata": {},
   "source": [
    "6) Write a program to calculate the electricity bill (accept number of unit from user) according to the following criteria :\n",
    "     Unit                                                     Price  \n",
    "uptp 100 units                                             no charge\n",
    "Next 200 units                                              Rs 5 per unit\n",
    "After 200 units                                             Rs 10 per unit\n",
    "(For example if input unit is 350 than total bill amount is Rs.3500\n",
    "(For example if input unit is 97 than total bill amount is Rs.0\n",
    "(For example if input unit is 150 than total bill amount is Rs.750"
   ]
  },
  {
   "cell_type": "markdown",
   "metadata": {},
   "source": [
    "13) Take input of age of 3 people by user and determine oldest and youngest among them."
   ]
  },
  {
   "cell_type": "code",
   "execution_count": 40,
   "metadata": {},
   "outputs": [
    {
     "name": "stdin",
     "output_type": "stream",
     "text": [
      "Enter the age of the first person:  29\n",
      "Enter the age of the second person:  19\n",
      "Enter the age of the third person:  25\n"
     ]
    },
    {
     "name": "stdout",
     "output_type": "stream",
     "text": [
      "The oldest person is 29 years old.\n",
      "The youngest person is 19 years old.\n"
     ]
    }
   ],
   "source": [
    "age1 = int(input(\"Enter the age of the first person: \"))\n",
    "age2 = int(input(\"Enter the age of the second person: \"))\n",
    "age3 = int(input(\"Enter the age of the third person: \"))\n",
    "\n",
    "oldest = max(age1, age2, age3)\n",
    "youngest = min(age1, age2, age3)\n",
    "\n",
    "print(f\"The oldest person is {oldest} years old.\")\n",
    "print(f\"The youngest person is {youngest} years old.\")\n"
   ]
  }
 ],
 "metadata": {
  "kernelspec": {
   "display_name": "Python 3 (ipykernel)",
   "language": "python",
   "name": "python3"
  },
  "language_info": {
   "codemirror_mode": {
    "name": "ipython",
    "version": 3
   },
   "file_extension": ".py",
   "mimetype": "text/x-python",
   "name": "python",
   "nbconvert_exporter": "python",
   "pygments_lexer": "ipython3",
   "version": "3.12.7"
  }
 },
 "nbformat": 4,
 "nbformat_minor": 4
}
