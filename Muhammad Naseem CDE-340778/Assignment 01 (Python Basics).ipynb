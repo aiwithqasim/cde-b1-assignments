{
 "cells": [
  {
   "cell_type": "markdown",
   "metadata": {},
   "source": [
    "# MUHAMMAD NASEEM    CDE-340778"
   ]
  },
  {
   "cell_type": "markdown",
   "metadata": {},
   "source": [
    "# Part -1 Python Basics (Variables)"
   ]
  },
  {
   "cell_type": "code",
   "execution_count": null,
   "metadata": {},
   "outputs": [],
   "source": []
  },
  {
   "cell_type": "markdown",
   "metadata": {},
   "source": [
    "1. Print Your Name with your Father name and Date of birth using suitable escape sequence charactor"
   ]
  },
  {
   "cell_type": "code",
   "execution_count": 1,
   "metadata": {},
   "outputs": [
    {
     "name": "stdout",
     "output_type": "stream",
     "text": [
      "Naseem Kamal \n",
      "s/o Muhammad Mustafa Kamal \n",
      "D.O.B : 15.02.1971\n"
     ]
    }
   ],
   "source": [
    "# Write your code here\n",
    "print(\"Naseem Kamal \\ns/o Muhammad Mustafa Kamal \\nD.O.B : 15.02.1971\")"
   ]
  },
  {
   "cell_type": "markdown",
   "metadata": {},
   "source": [
    "2. Write your small bio using variables and print it using print function"
   ]
  },
  {
   "cell_type": "code",
   "execution_count": 3,
   "metadata": {},
   "outputs": [
    {
     "name": "stdout",
     "output_type": "stream",
     "text": [
      "My name is Naseem Kamal. \n",
      "My father name is Mustafa Kamal. \n",
      "My DOB is 15.02.1971. \n",
      " I am student of Saylani, learning in CDE batch-01.\n"
     ]
    }
   ],
   "source": [
    "# Write your code here\n",
    "name=\"Naseem Kamal.\"\n",
    "fathername=\"Mustafa Kamal.\"\n",
    "dob=\"15.02.1971.\"\n",
    "remarks=\"I am student of Saylani, learning in CDE batch-01.\"\n",
    "print(\"My name is\",name,\"\\nMy father name is\",fathername,\"\\nMy DOB is\",dob,\"\\n\",remarks)\n",
    "#print(fathername)"
   ]
  },
  {
   "cell_type": "markdown",
   "metadata": {},
   "source": [
    "3. Write a program in which use all the operators we can use in Python"
   ]
  },
  {
   "cell_type": "markdown",
   "metadata": {},
   "source": [
    "# Write your code here"
   ]
  },
  {
   "cell_type": "markdown",
   "metadata": {},
   "source": [
    "THERE ARE 4 OPERATORS BY TYPE.\n",
    "## 1.ARITHMETIC OPERATORS  (+,-,*,/,%,**)"
   ]
  },
  {
   "cell_type": "code",
   "execution_count": 41,
   "metadata": {
    "scrolled": true
   },
   "outputs": [
    {
     "name": "stdout",
     "output_type": "stream",
     "text": [
      "7\n",
      "3\n",
      "10\n",
      "2.5\n",
      "1\n",
      "25\n"
     ]
    }
   ],
   "source": [
    "a=5\n",
    "b=2\n",
    "print(a+b)\n",
    "print(a-b)\n",
    "print(a*b)\n",
    "print(a/b)\n",
    "print(a%b)\n",
    "print(a**b)"
   ]
  },
  {
   "cell_type": "markdown",
   "metadata": {},
   "source": [
    "## 2.RELATIONAL/COMPARISON OPERATORS (==,+=,-=,*=,/=,%=,**=)"
   ]
  },
  {
   "cell_type": "code",
   "execution_count": 1,
   "metadata": {},
   "outputs": [
    {
     "name": "stdout",
     "output_type": "stream",
     "text": [
      "False\n",
      "True\n",
      "True\n",
      "False\n",
      "True\n",
      "False\n"
     ]
    }
   ],
   "source": [
    "a=30\n",
    "b=10\n",
    "print(a==b)\n",
    "print(a!=b)\n",
    "print(a>b)\n",
    "print(a<b)\n",
    "print(a>=b)\n",
    "print(a<=b)"
   ]
  },
  {
   "cell_type": "markdown",
   "metadata": {},
   "source": [
    "## 3.ASSIGNMENT OPERATORS (=,+=,-=,*=,/=,%=,**=)"
   ]
  },
  {
   "cell_type": "code",
   "execution_count": 26,
   "metadata": {},
   "outputs": [
    {
     "name": "stdout",
     "output_type": "stream",
     "text": [
      "25\n",
      "15\n",
      "100\n",
      "4.0\n",
      "0\n",
      "3200000\n"
     ]
    }
   ],
   "source": [
    "a=20\n",
    "a+=5\n",
    "print(a)\n",
    "a=20\n",
    "a-=5\n",
    "print(a)\n",
    "a=20\n",
    "a*=5\n",
    "print(a)\n",
    "a=20\n",
    "a/=5\n",
    "print(a)\n",
    "a=20\n",
    "a%=5\n",
    "print(a)\n",
    "a=20\n",
    "a**=5\n",
    "print(a)\n"
   ]
  },
  {
   "cell_type": "markdown",
   "metadata": {},
   "source": [
    "## 4.LOGICAL OPERATORS (not,and, or)"
   ]
  },
  {
   "cell_type": "code",
   "execution_count": 44,
   "metadata": {},
   "outputs": [
    {
     "name": "stdout",
     "output_type": "stream",
     "text": [
      "False\n",
      "True\n",
      "True\n",
      "False\n",
      "False\n",
      "False\n",
      "True\n",
      "True\n",
      "True\n",
      "False\n"
     ]
    }
   ],
   "source": [
    "a=30\n",
    "b=10\n",
    "\n",
    "print(not(a>b))         #False\n",
    "print(not(a<b))         #True\n",
    "\n",
    "print((a>b) and (a!=b)) #True\n",
    "print((a>b) and (a==b)) #False\n",
    "print((a<b) and (a!=b)) #False\n",
    "print((a<b) and (a==b)) #False\n",
    "\n",
    "print((a>b) or (a!=b)) #True\n",
    "print((a<b) or (a!=b)) #Tru\n",
    "print((a>b) or (a==b)) #Tru\n",
    "print((a<b) or (a==b)) #False"
   ]
  },
  {
   "cell_type": "markdown",
   "metadata": {},
   "source": [
    "4. Completes the following steps of small task:\n",
    "    - Mention Marks of English , Islamiat and Maths out of 100 in 3 different variables\n",
    "    - Mention Variable of Total Marks and assign 300 to it\n",
    "    - Calculate Percentage"
   ]
  },
  {
   "cell_type": "code",
   "execution_count": null,
   "metadata": {},
   "outputs": [],
   "source": [
    "# Write your code here"
   ]
  },
  {
   "cell_type": "code",
   "execution_count": 51,
   "metadata": {},
   "outputs": [
    {
     "name": "stdout",
     "output_type": "stream",
     "text": [
      "62.0\n"
     ]
    }
   ],
   "source": [
    "English_marks_obtd=51\n",
    "Islamiat_marks_obtd=70\n",
    "Maths_marks_obtd=65\n",
    "Total_marks=300\n",
    "\n",
    "Marks_obtd=English_marks_obtd+Islamiat_marks_obtd+Maths_marks_obtd\n",
    "Percentage=(Marks_obtd/Total_marks)*100\n",
    "\n",
    "print(Percentage)"
   ]
  },
  {
   "cell_type": "markdown",
   "metadata": {},
   "source": [
    "# Part -2 Python Basics (Conditional Statements)"
   ]
  },
  {
   "cell_type": "markdown",
   "metadata": {},
   "source": [
    "1) A company decided to give bonus of 5% to employee if his/her year of service is more than 5 years.\n",
    "Ask user for their salary and year of service and print the net bonus amount."
   ]
  },
  {
   "cell_type": "code",
   "execution_count": 6,
   "metadata": {},
   "outputs": [],
   "source": [
    "#Type your code here"
   ]
  },
  {
   "cell_type": "code",
   "execution_count": 5,
   "metadata": {},
   "outputs": [
    {
     "name": "stdin",
     "output_type": "stream",
     "text": [
      "Enter your salary : 10000\n",
      "Enter your year of service : 6\n"
     ]
    },
    {
     "name": "stdout",
     "output_type": "stream",
     "text": [
      "Hurrah you are awarded 5% Bonus Rs.: 500.0\n"
     ]
    }
   ],
   "source": [
    "salary=int(input(\"Enter your salary :\"))\n",
    "service_year=int(input(\"Enter your year of service :\"))\n",
    "bonus=(salary*5)/100\n",
    "\n",
    "if service_year > 5:\n",
    "    print(\"Hurrah you are awarded 5% Bonus Rs.:\",bonus)\n",
    "else:\n",
    "    print(\"BYE\")"
   ]
  },
  {
   "cell_type": "markdown",
   "metadata": {},
   "source": [
    "\n",
    "2) Write a program to check whether a person is eligible for voting or not. (accept age from user) if age is greater than 17 eligible otherwise not eligible"
   ]
  },
  {
   "cell_type": "code",
   "execution_count": 7,
   "metadata": {},
   "outputs": [],
   "source": [
    "#Type your code here"
   ]
  },
  {
   "cell_type": "code",
   "execution_count": 6,
   "metadata": {},
   "outputs": [
    {
     "name": "stdin",
     "output_type": "stream",
     "text": [
      "Enter your name : Ali\n",
      "Enter your age : 18\n"
     ]
    },
    {
     "name": "stdout",
     "output_type": "stream",
     "text": [
      "You are eligible to vote\n"
     ]
    }
   ],
   "source": [
    "name=input(\"Enter your name :\")\n",
    "age=int(input(\"Enter your age :\"))\n",
    "\n",
    "if age>17:\n",
    "    print(\"You are eligible to vote\")\n",
    "else:\n",
    "    print(\"You are not eligible\")"
   ]
  },
  {
   "cell_type": "markdown",
   "metadata": {},
   "source": [
    "\n",
    "3) Write a program to check whether a number entered by user is even or odd."
   ]
  },
  {
   "cell_type": "code",
   "execution_count": 8,
   "metadata": {},
   "outputs": [],
   "source": [
    "#Type your code here"
   ]
  },
  {
   "cell_type": "code",
   "execution_count": 8,
   "metadata": {},
   "outputs": [
    {
     "name": "stdin",
     "output_type": "stream",
     "text": [
      "Enter any number : 8\n"
     ]
    },
    {
     "name": "stdout",
     "output_type": "stream",
     "text": [
      "number is even\n"
     ]
    }
   ],
   "source": [
    "number=int(input(\"Enter any number :\"))\n",
    "\n",
    "if number%2==0:\n",
    "    print(\"number is even\")\n",
    "else:\n",
    "    print(\"number is odd\")"
   ]
  },
  {
   "cell_type": "markdown",
   "metadata": {},
   "source": [
    "4) Write a program to check whether a number is divisible by 7 or not.\n",
    "Show Answer"
   ]
  },
  {
   "cell_type": "code",
   "execution_count": 9,
   "metadata": {},
   "outputs": [],
   "source": [
    "#Type your code here"
   ]
  },
  {
   "cell_type": "code",
   "execution_count": 7,
   "metadata": {},
   "outputs": [
    {
     "name": "stdin",
     "output_type": "stream",
     "text": [
      "Enter any number : 14\n"
     ]
    },
    {
     "name": "stdout",
     "output_type": "stream",
     "text": [
      "number is divisible by 7\n"
     ]
    }
   ],
   "source": [
    "number=int(input(\"Enter any number :\"))\n",
    "\n",
    "if number%7==0:\n",
    "    print(\"number is divisible by 7\")\n",
    "else:\n",
    "    print(\"number is not divisible by 7\")"
   ]
  },
  {
   "cell_type": "markdown",
   "metadata": {},
   "source": [
    "5) Write a program to display \n",
    "\"Hello\" if a number entered by user is a multiple of five , otherwise print \"Bye\"."
   ]
  },
  {
   "cell_type": "code",
   "execution_count": 11,
   "metadata": {},
   "outputs": [],
   "source": [
    "#Type your code here"
   ]
  },
  {
   "cell_type": "code",
   "execution_count": 9,
   "metadata": {},
   "outputs": [
    {
     "name": "stdin",
     "output_type": "stream",
     "text": [
      "Enter any number : 15\n"
     ]
    },
    {
     "name": "stdout",
     "output_type": "stream",
     "text": [
      "Hello\n"
     ]
    }
   ],
   "source": [
    "number=int(input(\"Enter any number :\"))\n",
    "\n",
    "if number%5==0:\n",
    "    print(\"Hello\")\n",
    "else:\n",
    "    print(\"Bye\")"
   ]
  },
  {
   "cell_type": "markdown",
   "metadata": {},
   "source": [
    "7) Write a program to display the last digit of a number.\n"
   ]
  },
  {
   "cell_type": "code",
   "execution_count": 12,
   "metadata": {},
   "outputs": [],
   "source": [
    "#Type your code here"
   ]
  },
  {
   "cell_type": "code",
   "execution_count": 12,
   "metadata": {},
   "outputs": [
    {
     "name": "stdout",
     "output_type": "stream",
     "text": [
      "6\n"
     ]
    }
   ],
   "source": [
    "num=\"123456\"\n",
    "\n",
    "print(num[-1])"
   ]
  },
  {
   "cell_type": "markdown",
   "metadata": {},
   "source": [
    "9) Take values of length and breadth of a rectangle from user and print if it is square or rectangle."
   ]
  },
  {
   "cell_type": "code",
   "execution_count": 14,
   "metadata": {},
   "outputs": [],
   "source": [
    "#Type your code here "
   ]
  },
  {
   "cell_type": "code",
   "execution_count": 10,
   "metadata": {},
   "outputs": [
    {
     "name": "stdin",
     "output_type": "stream",
     "text": [
      "enter length : 4\n"
     ]
    },
    {
     "name": "stdout",
     "output_type": "stream",
     "text": [
      "4\n"
     ]
    },
    {
     "name": "stdin",
     "output_type": "stream",
     "text": [
      "enter breadth : 5\n"
     ]
    },
    {
     "name": "stdout",
     "output_type": "stream",
     "text": [
      "5\n",
      "Your entered values are forming a rectangle\n"
     ]
    }
   ],
   "source": [
    "length=int(input(\"enter length :\"))\n",
    "print(length)\n",
    "breadth=int(input(\"enter breadth :\"))\n",
    "print(breadth)\n",
    "\n",
    "if length==breadth:\n",
    "    print(\"Your entered values are forming a square\")\n",
    "else:\n",
    "    print(\"Your entered values are forming a rectangle\")"
   ]
  },
  {
   "cell_type": "markdown",
   "metadata": {},
   "source": [
    "10) Take two int values from user and print greatest among them."
   ]
  },
  {
   "cell_type": "code",
   "execution_count": 15,
   "metadata": {},
   "outputs": [],
   "source": [
    "# Type your code here"
   ]
  },
  {
   "cell_type": "code",
   "execution_count": 11,
   "metadata": {},
   "outputs": [
    {
     "name": "stdin",
     "output_type": "stream",
     "text": [
      "enter first value : 9\n"
     ]
    },
    {
     "name": "stdout",
     "output_type": "stream",
     "text": [
      "9\n"
     ]
    },
    {
     "name": "stdin",
     "output_type": "stream",
     "text": [
      "enter second value : 11\n"
     ]
    },
    {
     "name": "stdout",
     "output_type": "stream",
     "text": [
      "11\n",
      "val2 is greater\n"
     ]
    }
   ],
   "source": [
    "val1=int(input(\"enter first value :\"))\n",
    "print(val1)\n",
    "val2=int(input(\"enter second value :\"))\n",
    "print(val2)\n",
    "\n",
    "if val1>val2:\n",
    "    print(\"val1 is greater\")\n",
    "else:\n",
    "    print(\"val2 is greater\")"
   ]
  },
  {
   "cell_type": "markdown",
   "metadata": {},
   "source": [
    "11) A shop will give discount of 10% if the cost of purchased quantity is more than 1000.\n",
    "Ask user for quantity\n",
    "Suppose, one unit will cost 100.\n",
    "Judge and print total cost for user."
   ]
  },
  {
   "cell_type": "code",
   "execution_count": 16,
   "metadata": {},
   "outputs": [],
   "source": [
    "#Type your code here"
   ]
  },
  {
   "cell_type": "code",
   "execution_count": 3,
   "metadata": {},
   "outputs": [
    {
     "name": "stdin",
     "output_type": "stream",
     "text": [
      "enter your quantity 13\n"
     ]
    },
    {
     "name": "stdout",
     "output_type": "stream",
     "text": [
      "you will get discount 10% Rs. 130.0 \n",
      "Your net cost is Rs: 1170.0\n"
     ]
    }
   ],
   "source": [
    "qty=int(input(\"enter your quantity\"))\n",
    "unit_cost=100\n",
    "total_cost=unit_cost*qty\n",
    "discount=total_cost*0.10\n",
    "net_cost=total_cost-discount\n",
    "if total_cost>1000:\n",
    "    print(\"you will get discount 10% Rs.\",discount,\"\\nYour net cost is Rs:\",net_cost)\n",
    "else:\n",
    "    print(\"Bye\")"
   ]
  },
  {
   "cell_type": "markdown",
   "metadata": {},
   "source": [
    "12) A school has following rules for grading system:\n",
    "\n",
    "a. Below 25 - F\n",
    "\n",
    "b. 25 to 45 - E\n",
    "\n",
    "c. 45 to 50 - D\n",
    "\n",
    "d. 50 to 60 - C\n",
    "\n",
    "e. 60 to 80 - B\n",
    "\n",
    "f. Above 80 - A\n",
    "\n",
    "Ask user to enter marks and print the corresponding grade."
   ]
  },
  {
   "cell_type": "code",
   "execution_count": 30,
   "metadata": {},
   "outputs": [],
   "source": [
    "#Type your code here"
   ]
  },
  {
   "cell_type": "code",
   "execution_count": 6,
   "metadata": {},
   "outputs": [
    {
     "name": "stdin",
     "output_type": "stream",
     "text": [
      "Enter your marks : 80\n"
     ]
    },
    {
     "name": "stdout",
     "output_type": "stream",
     "text": [
      "80\n",
      "your grade is B\n"
     ]
    }
   ],
   "source": [
    "marks=int(input(\"Enter your marks :\"))\n",
    "print(marks)\n",
    "if marks < 25:\n",
    "    print(\"your grade is F\")\n",
    "elif marks >= 25 and marks < 45:\n",
    "    print(\"your grade is E\")\n",
    "elif marks >= 45 and marks < 50:\n",
    "    print(\"your grade is D\")\n",
    "elif marks >= 50 and marks < 60:\n",
    "    print(\"your grade is C\")\n",
    "elif marks >= 60 and marks <= 80:\n",
    "    print(\"your grade is B\")\n",
    "elif marks > 80 and marks <= 100:\n",
    "    print(\"your grade is A\")"
   ]
  },
  {
   "cell_type": "code",
   "execution_count": null,
   "metadata": {},
   "outputs": [],
   "source": []
  },
  {
   "cell_type": "markdown",
   "metadata": {},
   "source": [
    "14)A student will not be allowed to sit in exam if his/her attendence is less than 75%.\n",
    "\n",
    "Take following input from user\n",
    "\n",
    "- Number of classes held\n",
    "\n",
    "- Number of classes attended.\n",
    "\n",
    "And print\n",
    "\n",
    "- percentage of class attended\n",
    "\n",
    "- Is student is allowed to sit in exam or not.\n"
   ]
  },
  {
   "cell_type": "code",
   "execution_count": 19,
   "metadata": {},
   "outputs": [],
   "source": [
    "#Type your code here"
   ]
  },
  {
   "cell_type": "code",
   "execution_count": 6,
   "metadata": {},
   "outputs": [
    {
     "name": "stdin",
     "output_type": "stream",
     "text": [
      "What is your Number of Total classes Held :  50\n"
     ]
    },
    {
     "name": "stdout",
     "output_type": "stream",
     "text": [
      "50\n"
     ]
    },
    {
     "name": "stdin",
     "output_type": "stream",
     "text": [
      "What is your Number of Total classes Attended :  30\n"
     ]
    },
    {
     "name": "stdout",
     "output_type": "stream",
     "text": [
      "30\n",
      "Percentage of Class Attended :  60.0 %\n",
      "'Not Allowed to Sit In Exam'\n"
     ]
    }
   ],
   "source": [
    "Total_Classes_Held=int(input(\"What is your Number of Total classes Held : \"))\n",
    "print(Total_Classes_Held)\n",
    "Total_Classes_Attended=int(input(\"What is your Number of Total classes Attended : \"))\n",
    "print(Total_Classes_Attended)\n",
    "\n",
    "Percentage = (Total_Classes_Attended / Total_Classes_Held) * 100\n",
    "print(\"Percentage of Class Attended : \", Percentage , \"%\")\n",
    "\n",
    "if Percentage >= 75:\n",
    "    print(\"'Allowed to Sit In Exam'\")                                                                                                                                                                                                                        \n",
    "else:\n",
    "    print(\"'Not Allowed to Sit In Exam'\")\n"
   ]
  },
  {
   "cell_type": "code",
   "execution_count": null,
   "metadata": {},
   "outputs": [],
   "source": []
  },
  {
   "cell_type": "markdown",
   "metadata": {},
   "source": [
    "15) Modify the above question to allow student to sit if he/she has medical cause. Ask user if he/she has medical cause or not ( 'Y' or 'N' ) and print accordingly."
   ]
  },
  {
   "cell_type": "code",
   "execution_count": 20,
   "metadata": {},
   "outputs": [],
   "source": [
    "#Type your code here"
   ]
  },
  {
   "cell_type": "code",
   "execution_count": 7,
   "metadata": {},
   "outputs": [
    {
     "name": "stdin",
     "output_type": "stream",
     "text": [
      "What is your Number of Total classes Held :  60\n"
     ]
    },
    {
     "name": "stdout",
     "output_type": "stream",
     "text": [
      "60\n"
     ]
    },
    {
     "name": "stdin",
     "output_type": "stream",
     "text": [
      "What is your Number of Total classes Attended :  30\n"
     ]
    },
    {
     "name": "stdout",
     "output_type": "stream",
     "text": [
      "30\n",
      "Percentage of Class Attended :  50.0 %\n"
     ]
    },
    {
     "name": "stdin",
     "output_type": "stream",
     "text": [
      "Have you a Medical cause? Write 'Y' for yes or 'N' for no :  Y\n"
     ]
    },
    {
     "name": "stdout",
     "output_type": "stream",
     "text": [
      "Y\n",
      "'Allowed to Sit In Exam'\n"
     ]
    }
   ],
   "source": [
    "Total_Classes_Held=int(input(\"What is your Number of Total classes Held : \"))\n",
    "print(Total_Classes_Held)\n",
    "Total_Classes_Attended=int(input(\"What is your Number of Total classes Attended : \"))\n",
    "print(Total_Classes_Attended)\n",
    "\n",
    "Percentage = (Total_Classes_Attended / Total_Classes_Held) * 100\n",
    "print(\"Percentage of Class Attended : \", Percentage , \"%\")\n",
    "\n",
    "# if Medical cause is present then student Allowed to Sit in ExaM\n",
    "\n",
    "Medical_Cause=input(\"Have you a Medical cause? Write 'Y' for yes or 'N' for no : \")\n",
    "print(Medical_Cause)\n",
    "\n",
    "if Medical_Cause == \"Y\":\n",
    "     print(\"'Allowed to Sit In Exam'\") \n",
    "\n",
    "elif Percentage >= 75:\n",
    "    print(\"'Allowed to Sit In Exam'\")                                                                                                                                                                                                                        \n",
    "\n",
    "else:\n",
    "     print(\"'Not Allowed to Sit In Exam'\")\n"
   ]
  },
  {
   "cell_type": "code",
   "execution_count": null,
   "metadata": {},
   "outputs": [],
   "source": []
  },
  {
   "cell_type": "markdown",
   "metadata": {},
   "source": [
    "16) Write a program to check if a year is leap year or not.\n",
    "\n",
    "If a year is divisible by 4 then it is leap year but if the year is century year like 2000, 1900, 2100 then it must be divisible by 400."
   ]
  },
  {
   "cell_type": "code",
   "execution_count": 21,
   "metadata": {},
   "outputs": [],
   "source": [
    "#Type your code here"
   ]
  },
  {
   "cell_type": "code",
   "execution_count": 9,
   "metadata": {},
   "outputs": [
    {
     "name": "stdin",
     "output_type": "stream",
     "text": [
      "Enter any Year : 20\n"
     ]
    },
    {
     "name": "stdout",
     "output_type": "stream",
     "text": [
      "year is a 'leap year'\n"
     ]
    }
   ],
   "source": [
    "year=int(input(\"Enter any Year :\"))\n",
    "\n",
    "if year % 400 == 0:\n",
    "    print(\"year is a 'century year'\")\n",
    "elif year % 4 == 0:\n",
    "    print(\"year is a 'leap year'\")\n",
    "# if year % 400 == 0:\n",
    "#     print(\"year is a 'century year'\")\n",
    "else:\n",
    "    print(\"Not\")"
   ]
  },
  {
   "cell_type": "code",
   "execution_count": null,
   "metadata": {},
   "outputs": [],
   "source": []
  },
  {
   "cell_type": "markdown",
   "metadata": {},
   "source": [
    "17) Ask user to enter age, gender ( M or F ), marital status ( Y or N ) and then using following rules print their place of service.\n",
    "\n",
    "if employee is female, then she will work only in urban areas.\n",
    "\n",
    "if employee is a male and age is in between 20 to 40 then he may work in anywhere\n",
    "\n",
    "if employee is male and age is in between 40 t0 60 then he will work in urban areas only.\n",
    "\n",
    "And any other input of age should print \"ERROR\""
   ]
  },
  {
   "cell_type": "code",
   "execution_count": 22,
   "metadata": {},
   "outputs": [],
   "source": [
    "#Type your code here"
   ]
  },
  {
   "cell_type": "code",
   "execution_count": 12,
   "metadata": {},
   "outputs": [
    {
     "name": "stdin",
     "output_type": "stream",
     "text": [
      "What is your name : ali\n",
      "What is your age : 35\n",
      "enter your gender: Please give answer in 'M' or 'F' M\n",
      "enter your marital status: Please give answer in 'Y' or 'N' N\n"
     ]
    },
    {
     "name": "stdout",
     "output_type": "stream",
     "text": [
      "ali he may work in anywhere\n"
     ]
    }
   ],
   "source": [
    "name=input(\"What is your name :\")\n",
    "age=int(input(\"What is your age :\"))\n",
    "gender= input(\"enter your gender: Please give answer in 'M' or 'F'\")\n",
    "marital_status=input(\"enter your marital status: Please give answer in 'Y' or 'N'\")\n",
    "\n",
    "if gender == \"F\":\n",
    "    print(name,\"she will work only in urban areas\")\n",
    "elif gender == \"M\" and 20 <= age <=40:\n",
    "    print(name,\"he may work in anywhere\")\n",
    "elif gender == \"M\" and 40 < age <=60:\n",
    "    print(name,\"he will work in urban areas only\")\n",
    "else:\n",
    "    print(\"ERROR\")\n"
   ]
  },
  {
   "cell_type": "code",
   "execution_count": null,
   "metadata": {},
   "outputs": [],
   "source": []
  },
  {
   "cell_type": "markdown",
   "metadata": {},
   "source": [
    "6) Write a program to calculate the electricity bill (accept number of unit from user) according to the following criteria :\n",
    "     Unit                                                     Price  \n",
    "uptp 100 units                                             no charge\n",
    "Next 200 units                                              Rs 5 per unit\n",
    "After 200 units                                             Rs 10 per unit\n",
    "(For example if input unit is 350 than total bill amount is Rs.3500\n",
    "(For example if input unit is 97 than total bill amount is Rs.0\n",
    "(For example if input unit is 150 than total bill amount is Rs.750"
   ]
  },
  {
   "cell_type": "code",
   "execution_count": null,
   "metadata": {},
   "outputs": [],
   "source": [
    "#Type your code here"
   ]
  },
  {
   "cell_type": "code",
   "execution_count": 16,
   "metadata": {},
   "outputs": [
    {
     "name": "stdin",
     "output_type": "stream",
     "text": [
      "Enter your number of unit consumed 125\n"
     ]
    },
    {
     "name": "stdout",
     "output_type": "stream",
     "text": [
      "Total bill amount is Rs: 625\n"
     ]
    }
   ],
   "source": [
    "number_of_unit=int(input(\"Enter your number of unit consumed\"))\n",
    "\n",
    "# if number of unit is upto 100 then price is  0\n",
    "# if number of unit is Next 200 then price is  5\n",
    "# if number of unit is After 200 then price is  10\n",
    "\n",
    "#total_bill=number_of_unit * price\n",
    "\n",
    "if number_of_unit>=0 and number_of_unit<=100:\n",
    "    price=0\n",
    "    total_bill=number_of_unit * price\n",
    "    print(\"Total bill amount is Rs:\",total_bill)\n",
    "\n",
    "if number_of_unit>100 and number_of_unit<=200:\n",
    "    price=5\n",
    "    total_bill=number_of_unit * price\n",
    "    print(\"Total bill amount is Rs:\",total_bill)\n",
    "\n",
    "if number_of_unit>200:\n",
    "    price=10\n",
    "    total_bill=number_of_unit * price\n",
    "    print(\"Total bill amount is Rs:\",total_bill)\n"
   ]
  },
  {
   "cell_type": "code",
   "execution_count": null,
   "metadata": {},
   "outputs": [],
   "source": []
  },
  {
   "cell_type": "markdown",
   "metadata": {},
   "source": [
    "13) Take input of age of 3 people by user and determine oldest and youngest among them."
   ]
  },
  {
   "cell_type": "code",
   "execution_count": 18,
   "metadata": {},
   "outputs": [],
   "source": [
    "#Type your code here"
   ]
  },
  {
   "cell_type": "code",
   "execution_count": 17,
   "metadata": {},
   "outputs": [
    {
     "name": "stdin",
     "output_type": "stream",
     "text": [
      "Enter first people age 40\n",
      "Enter second people age 30\n",
      "Enter third people age 20\n"
     ]
    },
    {
     "name": "stdout",
     "output_type": "stream",
     "text": [
      "40 years age1 is oldest among them\n",
      "20 years age3 is youngest among them\n"
     ]
    }
   ],
   "source": [
    "age1=int(input(\"Enter first people age\"))\n",
    "age2=int(input(\"Enter second people age\"))\n",
    "age3=int(input(\"Enter third people age\"))\n",
    "\n",
    "if age1>age2 and age1>age3:\n",
    "    print(age1,\"years age1 is oldest among them\")\n",
    "elif age2>age3:\n",
    "    print(age2,\"years age2 is oldest among them\")\n",
    "else:\n",
    "    print(age3,\"years age3 is oldest among them\")\n",
    "\n",
    "if age1<age2 and age1<age3:\n",
    "    print(age1,\"years age1 is youngest among them\")\n",
    "elif age2<age3:\n",
    "    print(age2,\"years age2 is youngest among them\")\n",
    "else:\n",
    "    print(age3,\"years age3 is youngest among them\")\n"
   ]
  },
  {
   "cell_type": "code",
   "execution_count": null,
   "metadata": {},
   "outputs": [],
   "source": []
  }
 ],
 "metadata": {
  "kernelspec": {
   "display_name": "Python 3 (ipykernel)",
   "language": "python",
   "name": "python3"
  },
  "language_info": {
   "codemirror_mode": {
    "name": "ipython",
    "version": 3
   },
   "file_extension": ".py",
   "mimetype": "text/x-python",
   "name": "python",
   "nbconvert_exporter": "python",
   "pygments_lexer": "ipython3",
   "version": "3.12.7"
  }
 },
 "nbformat": 4,
 "nbformat_minor": 4
}
