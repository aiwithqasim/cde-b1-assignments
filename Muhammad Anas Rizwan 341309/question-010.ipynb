{
 "cells": [
  {
   "cell_type": "markdown",
   "metadata": {},
   "source": [
    "#### \"13) Take input of age of 3 people by user and determine oldest and youngest among them.\"a"
   ]
  },
  {
   "cell_type": "code",
   "execution_count": null,
   "metadata": {},
   "outputs": [
    {
     "name": "stdout",
     "output_type": "stream",
     "text": [
      "age 1 1\n",
      "age 2 2\n",
      "age 3 3\n",
      "old age 3 is 3\n",
      "young age 1 is 1\n"
     ]
    }
   ],
   "source": [
    "age1 = int(input(\"Enter tha age 1\"))\n",
    "age2 = int(input(\"Enter tha age 2\"))\n",
    "age3 = int(input(\"Enter tha age 3\"))\n",
    "\n",
    "print(f\"age 1: {age1}\")\n",
    "print(f\"age 2: {age2}\")\n",
    "print(f\"age 3: {age3}\")\n",
    "\n",
    "\n",
    "if(age1 > age2 and age1 > age3):\n",
    "  print(f\"old age 1 is {age1}\")\n",
    "elif(age2 > age1 and age2 > age3):\n",
    "  print(f\"old age 2 is {age2}\")\n",
    "else:\n",
    "  print(f\"old age 3 is {age3}\")\n",
    "\n",
    "if(age1 < age2 and age1 < age3):\n",
    "  print(f\"young age 1 is {age1}\")\n",
    "elif(age2 < age1 and age2 < age3):\n",
    "  print(f\"young age 2 {age2}\")\n",
    "else:\n",
    "  print(f\"young age 3 is {age3}\")\n"
   ]
  }
 ],
 "metadata": {
  "kernelspec": {
   "display_name": "Python 3",
   "language": "python",
   "name": "python3"
  },
  "language_info": {
   "codemirror_mode": {
    "name": "ipython",
    "version": 3
   },
   "file_extension": ".py",
   "mimetype": "text/x-python",
   "name": "python",
   "nbconvert_exporter": "python",
   "pygments_lexer": "ipython3",
   "version": "3.12.1"
  }
 },
 "nbformat": 4,
 "nbformat_minor": 2
}
