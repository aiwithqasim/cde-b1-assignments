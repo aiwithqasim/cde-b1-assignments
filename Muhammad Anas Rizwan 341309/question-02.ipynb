{
 "cells": [
  {
   "cell_type": "markdown",
   "metadata": {},
   "source": [
    "#### 2. Write your small bio using variables and print it using print function"
   ]
  },
  {
   "cell_type": "code",
   "execution_count": 1,
   "metadata": {},
   "outputs": [
    {
     "name": "stdout",
     "output_type": "stream",
     "text": [
      "Muhammad Anas Rizwan\n",
      "Muhammad Rizwan\n",
      "01-August-2005\n",
      "3.76\n",
      "Cloud Data Engineer\n",
      "3rd Semester\n",
      "Sir syed university\n"
     ]
    }
   ],
   "source": [
    "name = \"Muhammad Anas Rizwan\"\n",
    "fatherName = \"Muhammad Rizwan\"\n",
    "dateOfBirth = \"01-August-2005\"\n",
    "CGPA = \"3.76\"\n",
    "course = \"Cloud Data Engineer\"\n",
    "semester = \"3rd Semester\"\n",
    "university = \"Sir syed university\"\n",
    "\n",
    "print(name)\n",
    "print(fatherName)\n",
    "print(dateOfBirth)\n",
    "print(CGPA)\n",
    "print(course)\n",
    "print(semester)\n",
    "print(university)"
   ]
  }
 ],
 "metadata": {
  "kernelspec": {
   "display_name": "Python 3",
   "language": "python",
   "name": "python3"
  },
  "language_info": {
   "codemirror_mode": {
    "name": "ipython",
    "version": 3
   },
   "file_extension": ".py",
   "mimetype": "text/x-python",
   "name": "python",
   "nbconvert_exporter": "python",
   "pygments_lexer": "ipython3",
   "version": "3.12.1"
  }
 },
 "nbformat": 4,
 "nbformat_minor": 2
}
