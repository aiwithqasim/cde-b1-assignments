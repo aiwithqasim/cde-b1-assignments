{
 "cells": [
  {
   "cell_type": "markdown",
   "metadata": {},
   "source": [
    "####  A company decided to give bonus of 5% to employee if his/her year of service is more than 5 years.,\n",
    "    - Ask user for their salary and year of service and print the net bonus amount."
   ]
  },
  {
   "cell_type": "code",
   "execution_count": 4,
   "metadata": {},
   "outputs": [
    {
     "name": "stdout",
     "output_type": "stream",
     "text": [
      "Sorry! You dont have enough experience\n"
     ]
    }
   ],
   "source": [
    "bonus = 5/100\n",
    "name = input(\"Enter your name: \")\n",
    "salary = int(input(\"Enter Your salary: \"))\n",
    "experience = int(input(\"Enter years of experience: \"))\n",
    "if(experience > 5):\n",
    "  increament = (bonus * salary) + salary\n",
    "  print(f\"Congrats! {name} you got bonus of 5% so your new salary is {increament}\")\n",
    "else:\n",
    "  print(\"Sorry! You dont have enough experience\")"
   ]
  }
 ],
 "metadata": {
  "kernelspec": {
   "display_name": "Python 3",
   "language": "python",
   "name": "python3"
  },
  "language_info": {
   "codemirror_mode": {
    "name": "ipython",
    "version": 3
   },
   "file_extension": ".py",
   "mimetype": "text/x-python",
   "name": "python",
   "nbconvert_exporter": "python",
   "pygments_lexer": "ipython3",
   "version": "3.12.1"
  }
 },
 "nbformat": 4,
 "nbformat_minor": 2
}
